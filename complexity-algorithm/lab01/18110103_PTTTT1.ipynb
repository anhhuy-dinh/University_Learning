{
 "cells": [
  {
   "cell_type": "markdown",
   "metadata": {},
   "source": [
    "## Phân tích thuật toán - Lab 01 - Tuần 5\n",
    "* Full name: Đinh Anh Huy\n",
    "* Student ID: 18110103"
   ]
  },
  {
   "cell_type": "code",
   "execution_count": 1,
   "metadata": {},
   "outputs": [],
   "source": [
    "import numpy as np\n",
    "import pandas as pd\n",
    "import matplotlib.pyplot as plt"
   ]
  },
  {
   "cell_type": "markdown",
   "metadata": {},
   "source": [
    "### Bài 1\n",
    "\n",
    "**1. Viết chương trình để biểu diễn một số thập phân N sang dạng biểu diễn nhị phân có độ phức tạp thuật toán là $O(log_2N)$.**\n",
    "\n",
    "* **Input:** Số thập phân N.\n",
    "* **Output:** Dạng biểu diễn nhị phân của N."
   ]
  },
  {
   "cell_type": "code",
   "execution_count": 2,
   "metadata": {},
   "outputs": [],
   "source": [
    "def decimalToBinary(N):\n",
    "    s = str(N%2)\n",
    "    if N > 1:\n",
    "        return decimalToBinary(N//2) + s \n",
    "    return s"
   ]
  },
  {
   "cell_type": "code",
   "execution_count": 3,
   "metadata": {},
   "outputs": [
    {
     "name": "stdout",
     "output_type": "stream",
     "text": [
      "10 to binary number is 1010\n"
     ]
    }
   ],
   "source": [
    "bin = decimalToBinary(10)\n",
    "print(\"{} to binary number is {}\".format(10, bin))"
   ]
  },
  {
   "cell_type": "markdown",
   "metadata": {},
   "source": [
    "**2. Giả sử các em đã xây dựng thuật toán trên. Hãy viết một chương trình để đếm số phép gán và số phép so sánh mà chương trình trên đã dùng để biểu diễn một số thập phân N.**\n",
    "\n",
    "* **Input:** binary(N), N = 100, 200,..., 1000.\n",
    "* **Output:** *Gan(N)*, *Sosanh(N)*. Vẽ $log_2N$, *Gan(N)*, *Sosanh(N)* trên cùng một đồ thị để so sánh."
   ]
  },
  {
   "cell_type": "code",
   "execution_count": 4,
   "metadata": {},
   "outputs": [],
   "source": [
    "def toBinary(N):\n",
    "    assign = compare = 0\n",
    "    \n",
    "    compare += 1\n",
    "    if N <= 1:\n",
    "        return assign, compare\n",
    "    \n",
    "    s = str(N%2)\n",
    "    assign += 1\n",
    "    while (N != 0):\n",
    "        compare += 1\n",
    "        N = N//2\n",
    "        s = str(N%2) + s\n",
    "        assign += 2\n",
    "    compare += 1\n",
    "    return [assign, compare]"
   ]
  },
  {
   "cell_type": "code",
   "execution_count": 5,
   "metadata": {},
   "outputs": [
    {
     "data": {
      "text/html": [
       "<div>\n",
       "<style scoped>\n",
       "    .dataframe tbody tr th:only-of-type {\n",
       "        vertical-align: middle;\n",
       "    }\n",
       "\n",
       "    .dataframe tbody tr th {\n",
       "        vertical-align: top;\n",
       "    }\n",
       "\n",
       "    .dataframe thead th {\n",
       "        text-align: right;\n",
       "    }\n",
       "</style>\n",
       "<table border=\"1\" class=\"dataframe\">\n",
       "  <thead>\n",
       "    <tr style=\"text-align: right;\">\n",
       "      <th></th>\n",
       "      <th>Assign</th>\n",
       "      <th>Compare</th>\n",
       "    </tr>\n",
       "    <tr>\n",
       "      <th>N</th>\n",
       "      <th></th>\n",
       "      <th></th>\n",
       "    </tr>\n",
       "  </thead>\n",
       "  <tbody>\n",
       "    <tr>\n",
       "      <th>1</th>\n",
       "      <td>0</td>\n",
       "      <td>1</td>\n",
       "    </tr>\n",
       "    <tr>\n",
       "      <th>2</th>\n",
       "      <td>5</td>\n",
       "      <td>4</td>\n",
       "    </tr>\n",
       "    <tr>\n",
       "      <th>3</th>\n",
       "      <td>5</td>\n",
       "      <td>4</td>\n",
       "    </tr>\n",
       "    <tr>\n",
       "      <th>4</th>\n",
       "      <td>7</td>\n",
       "      <td>5</td>\n",
       "    </tr>\n",
       "    <tr>\n",
       "      <th>5</th>\n",
       "      <td>7</td>\n",
       "      <td>5</td>\n",
       "    </tr>\n",
       "    <tr>\n",
       "      <th>...</th>\n",
       "      <td>...</td>\n",
       "      <td>...</td>\n",
       "    </tr>\n",
       "    <tr>\n",
       "      <th>996</th>\n",
       "      <td>21</td>\n",
       "      <td>12</td>\n",
       "    </tr>\n",
       "    <tr>\n",
       "      <th>997</th>\n",
       "      <td>21</td>\n",
       "      <td>12</td>\n",
       "    </tr>\n",
       "    <tr>\n",
       "      <th>998</th>\n",
       "      <td>21</td>\n",
       "      <td>12</td>\n",
       "    </tr>\n",
       "    <tr>\n",
       "      <th>999</th>\n",
       "      <td>21</td>\n",
       "      <td>12</td>\n",
       "    </tr>\n",
       "    <tr>\n",
       "      <th>1000</th>\n",
       "      <td>21</td>\n",
       "      <td>12</td>\n",
       "    </tr>\n",
       "  </tbody>\n",
       "</table>\n",
       "<p>1000 rows × 2 columns</p>\n",
       "</div>"
      ],
      "text/plain": [
       "      Assign  Compare\n",
       "N                    \n",
       "1          0        1\n",
       "2          5        4\n",
       "3          5        4\n",
       "4          7        5\n",
       "5          7        5\n",
       "...      ...      ...\n",
       "996       21       12\n",
       "997       21       12\n",
       "998       21       12\n",
       "999       21       12\n",
       "1000      21       12\n",
       "\n",
       "[1000 rows x 2 columns]"
      ]
     },
     "execution_count": 5,
     "metadata": {},
     "output_type": "execute_result"
    }
   ],
   "source": [
    "X = np.arange(1,1000+1,1)\n",
    "temp = np.array([toBinary(x) for x in X])\n",
    "output = pd.DataFrame(data={\"N\": X, \"Assign\": temp[:,0], \"Compare\": temp[:,1]}).set_index(\"N\")\n",
    "output"
   ]
  },
  {
   "cell_type": "code",
   "execution_count": 6,
   "metadata": {
    "scrolled": true
   },
   "outputs": [
    {
     "data": {
      "image/png": "[encoded data removed]",
      "text/plain": [
       "<Figure size 864x360 with 1 Axes>"
      ]
     },
     "metadata": {
      "needs_background": "light"
     },
     "output_type": "display_data"
    }
   ],
   "source": [
    "fig, ax = plt.subplots(figsize=(12,5))\n",
    "ax.plot(X, np.log2(X))\n",
    "ax.plot(X, temp[:,0])\n",
    "ax.plot(X, temp[:,1])\n",
    "ax.set(xlabel=\"N\")\n",
    "ax.legend([\"O($log_2N$)\", \"assign\", \"compare\"])\n",
    "plt.savefig(\"ex1.jpg\")\n",
    "plt.show()"
   ]
  },
  {
   "cell_type": "markdown",
   "metadata": {},
   "source": [
    "### Bài 2 (Bonus)\n",
    "\n",
    "**Cho một mảng A gồm n số tự nhiên nằm $[1 . . . k]$. Hãy thiết\n",
    "kế thuật toán để kiểm tra xem có bao nhiêu phần tử của A nằm trong $[a, b]$ có độ phức tạp là $O(N + k)$ và chứng minh thuật toán của các em đưa ra có độ phức tạp như trên.**\n",
    "\n",
    "* **Input:** Xét hai trường hợp\n",
    "    * $N = 10, 20,...,10000$ (*k* cố định, $k=100$).\n",
    "    * $k = 10, 20,...$ (*N* cố định, $N=20000$).\n",
    "    \n",
    " Tạo ngẫu nhiên mảng $A$ với $[a,b]$ tương ứng.\n",
    "    \n",
    "* **Output:** Đếm số phép gán, số phép so sánh và so sánh với $O(N+k)$."
   ]
  },
  {
   "cell_type": "code",
   "execution_count": 16,
   "metadata": {},
   "outputs": [],
   "source": [
    "def checkArray(A, N, k, a, b):\n",
    "    assign = compare = 0\n",
    "    \n",
    "    count_eles_in_A = np.zeros(k+1)\n",
    "    count = 0\n",
    "    assign += 2\n",
    "    \n",
    "    for i in range(N):\n",
    "        compare += 1\n",
    "        count_eles_in_A[A[i]] += 1\n",
    "        assign += 1\n",
    "    compare += 1\n",
    "    \n",
    "    for i in range(1,k+1):\n",
    "        compare += 1\n",
    "        if i >= a:\n",
    "            compare += 1\n",
    "            if i <= b:\n",
    "                compare += 1\n",
    "                count += count_eles_in_A[i]\n",
    "                assign += 1\n",
    "    compare += 1\n",
    "    return count, assign, compare"
   ]
  },
  {
   "cell_type": "code",
   "execution_count": 17,
   "metadata": {},
   "outputs": [
    {
     "name": "stdout",
     "output_type": "stream",
     "text": [
      "[13  6  1  4 12  4  8 10  4  6]\n"
     ]
    }
   ],
   "source": [
    "N = 10\n",
    "k = 15\n",
    "a = 3\n",
    "b = 7\n",
    "np.random.seed(0)\n",
    "A = np.random.randint(1,k+1, size=N)\n",
    "print(A)"
   ]
  },
  {
   "cell_type": "code",
   "execution_count": 18,
   "metadata": {},
   "outputs": [
    {
     "name": "stdout",
     "output_type": "stream",
     "text": [
      "Number of values in A in [3, 7]: 5.0\n",
      "17 45\n"
     ]
    }
   ],
   "source": [
    "count, assign, compare = checkArray(A,N,k,a,b)\n",
    "print(\"Number of values in A in [{}, {}]: {}\".format(a, b, count))\n",
    "print(assign, compare)"
   ]
  },
  {
   "cell_type": "code",
   "execution_count": 10,
   "metadata": {},
   "outputs": [],
   "source": [
    "a = 10\n",
    "b = 90"
   ]
  },
  {
   "cell_type": "code",
   "execution_count": 11,
   "metadata": {},
   "outputs": [
    {
     "data": {
      "image/png": "[encoded data removed]",
      "text/plain": [
       "<Figure size 864x360 with 1 Axes>"
      ]
     },
     "metadata": {
      "needs_background": "light"
     },
     "output_type": "display_data"
    }
   ],
   "source": [
    "k = 100\n",
    "N = np.arange(10,1000+1,10)\n",
    "np.random.seed(0)\n",
    "AA = np.array([np.random.randint(1, k+1, size = n) for n in N])\n",
    "temp = np.array([checkArray(A, n, k, a, b) for (A, n) in zip(AA, N)])\n",
    "\n",
    "fig, ax = plt.subplots(figsize=(12,5))\n",
    "ax.plot(N, N)\n",
    "ax.plot(N, temp[:,1])\n",
    "ax.plot(N, temp[:,2])\n",
    "ax.set(xlabel=\"N\")\n",
    "ax.legend([\"O(N)\", \"assign\", \"compare\"])\n",
    "plt.savefig(\"ex2_Fitk.jpg\")\n",
    "plt.show()"
   ]
  },
  {
   "cell_type": "code",
   "execution_count": 12,
   "metadata": {},
   "outputs": [
    {
     "data": {
      "image/png": "[encoded data removed]",
      "text/plain": [
       "<Figure size 864x360 with 1 Axes>"
      ]
     },
     "metadata": {
      "needs_background": "light"
     },
     "output_type": "display_data"
    }
   ],
   "source": [
    "N = 20000\n",
    "K = np.arange(10,1000+1,10)\n",
    "np.random.seed(0)\n",
    "AA = np.array([np.random.randint(1, k+1, size = N) for k in K])\n",
    "temp = np.array([checkArray(A, N, k, a, b) for (A, k) in zip(AA, K)])\n",
    "\n",
    "fig, ax = plt.subplots(figsize=(12,5))\n",
    "ax.plot(K, K)\n",
    "ax.plot(K, temp[:,1])\n",
    "ax.plot(K, temp[:,2])\n",
    "ax.set(xlabel=\"k\")\n",
    "ax.legend([\"O(k)\", \"assign\", \"compare\"])\n",
    "plt.savefig(\"ex2_FitN.jpg\")\n",
    "plt.show()"
   ]
  }
 ],
 "metadata": {
  "kernelspec": {
   "display_name": "Python 3",
   "language": "python",
   "name": "python3"
  },
  "language_info": {
   "codemirror_mode": {
    "name": "ipython",
    "version": 3
   },
   "file_extension": ".py",
   "mimetype": "text/x-python",
   "name": "python",
   "nbconvert_exporter": "python",
   "pygments_lexer": "ipython3",
   "version": "3.7.10"
  }
 },
 "nbformat": 4,
 "nbformat_minor": 4
}
