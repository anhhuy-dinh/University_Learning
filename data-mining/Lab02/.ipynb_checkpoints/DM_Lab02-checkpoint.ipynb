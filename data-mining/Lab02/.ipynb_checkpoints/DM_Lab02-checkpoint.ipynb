{
 "cells": [
  {
   "cell_type": "markdown",
   "metadata": {
    "id": "wIZIkxsn8Hz4"
   },
   "source": [
    "# Data Mining - Lab 02\n",
    "\n",
    "* Full name: Đinh Anh Huy\n",
    "* Student ID: 18110103"
   ]
  },
  {
   "cell_type": "code",
   "execution_count": 1,
   "metadata": {
    "colab": {
     "base_uri": "https://localhost:8080/"
    },
    "id": "bieuMtZT74sU",
    "outputId": "a418526c-99a3-45d4-fd17-1b1aecfa6745"
   },
   "outputs": [
    {
     "name": "stdout",
     "output_type": "stream",
     "text": [
      "Drive already mounted at /content/gdrive; to attempt to forcibly remount, call drive.mount(\"/content/gdrive\", force_remount=True).\n",
      "ln: failed to create symbolic link '/mydrive/My Drive': File exists\n"
     ]
    }
   ],
   "source": [
    "from google.colab import drive\n",
    "drive.mount('/content/gdrive')\n",
    "\n",
    "!ln -s /content/gdrive/My\\ Drive/ /mydrive"
   ]
  },
  {
   "cell_type": "code",
   "execution_count": 2,
   "metadata": {
    "id": "siDZAKww8RME"
   },
   "outputs": [],
   "source": [
    "path = \"/mydrive/Colab Notebooks/Data Mining/Lab02\"\n",
    "import os\n",
    "os.chdir(path)"
   ]
  },
  {
   "cell_type": "code",
   "execution_count": 3,
   "metadata": {
    "id": "x2jEONBJU4KT"
   },
   "outputs": [],
   "source": [
    "import numpy as np\n",
    "import pandas as pd\n",
    "import matplotlib.pyplot as plt\n",
    "import seaborn as sns\n",
    "import warnings\n",
    "warnings.filterwarnings(\"ignore\")\n",
    "\n",
    "pd.set_option(\"max.columns\", 100)\n",
    "pd.set_option(\"max.rows\", 500)\n",
    "\n",
    "import xgboost\n",
    "from sklearn.experimental import enable_iterative_imputer \n",
    "from sklearn.impute import IterativeImputer\n",
    "from sklearn.preprocessing import OrdinalEncoder\n",
    "from sklearn.ensemble import (GradientBoostingRegressor, GradientBoostingClassifier)\n",
    "from sklearn.model_selection import train_test_split"
   ]
  },
  {
   "cell_type": "code",
   "execution_count": 4,
   "metadata": {
    "colab": {
     "base_uri": "https://localhost:8080/",
     "height": 276
    },
    "id": "ORGQdbG1VkJo",
    "outputId": "27c5267e-20ee-4516-f9f8-5a1b03ee5e6d"
   },
   "outputs": [
    {
     "name": "stdout",
     "output_type": "stream",
     "text": [
      ">> Display the first 5 rows of data:\n"
     ]
    },
    {
     "data": {
      "text/html": [
       "\n",
       "  <div id=\"df-e3e5c5e4-5b53-482a-a172-bde90a3b02a4\">\n",
       "    <div class=\"colab-df-container\">\n",
       "      <div>\n",
       "<style scoped>\n",
       "    .dataframe tbody tr th:only-of-type {\n",
       "        vertical-align: middle;\n",
       "    }\n",
       "\n",
       "    .dataframe tbody tr th {\n",
       "        vertical-align: top;\n",
       "    }\n",
       "\n",
       "    .dataframe thead th {\n",
       "        text-align: right;\n",
       "    }\n",
       "</style>\n",
       "<table border=\"1\" class=\"dataframe\">\n",
       "  <thead>\n",
       "    <tr style=\"text-align: right;\">\n",
       "      <th></th>\n",
       "      <th>PassengerId</th>\n",
       "      <th>Survived</th>\n",
       "      <th>Pclass</th>\n",
       "      <th>Name</th>\n",
       "      <th>Sex</th>\n",
       "      <th>Age</th>\n",
       "      <th>SibSp</th>\n",
       "      <th>Parch</th>\n",
       "      <th>Ticket</th>\n",
       "      <th>Fare</th>\n",
       "      <th>Cabin</th>\n",
       "      <th>Embarked</th>\n",
       "    </tr>\n",
       "  </thead>\n",
       "  <tbody>\n",
       "    <tr>\n",
       "      <th>0</th>\n",
       "      <td>1</td>\n",
       "      <td>0</td>\n",
       "      <td>3</td>\n",
       "      <td>Braund, Mr. Owen Harris</td>\n",
       "      <td>male</td>\n",
       "      <td>22.0</td>\n",
       "      <td>1</td>\n",
       "      <td>0</td>\n",
       "      <td>A/5 21171</td>\n",
       "      <td>7.2500</td>\n",
       "      <td>NaN</td>\n",
       "      <td>S</td>\n",
       "    </tr>\n",
       "    <tr>\n",
       "      <th>1</th>\n",
       "      <td>2</td>\n",
       "      <td>1</td>\n",
       "      <td>1</td>\n",
       "      <td>Cumings, Mrs. John Bradley (Florence Briggs Th...</td>\n",
       "      <td>female</td>\n",
       "      <td>38.0</td>\n",
       "      <td>1</td>\n",
       "      <td>0</td>\n",
       "      <td>PC 17599</td>\n",
       "      <td>71.2833</td>\n",
       "      <td>C85</td>\n",
       "      <td>C</td>\n",
       "    </tr>\n",
       "    <tr>\n",
       "      <th>2</th>\n",
       "      <td>3</td>\n",
       "      <td>1</td>\n",
       "      <td>3</td>\n",
       "      <td>Heikkinen, Miss. Laina</td>\n",
       "      <td>female</td>\n",
       "      <td>26.0</td>\n",
       "      <td>0</td>\n",
       "      <td>0</td>\n",
       "      <td>STON/O2. 3101282</td>\n",
       "      <td>7.9250</td>\n",
       "      <td>NaN</td>\n",
       "      <td>S</td>\n",
       "    </tr>\n",
       "    <tr>\n",
       "      <th>3</th>\n",
       "      <td>4</td>\n",
       "      <td>1</td>\n",
       "      <td>1</td>\n",
       "      <td>Futrelle, Mrs. Jacques Heath (Lily May Peel)</td>\n",
       "      <td>female</td>\n",
       "      <td>35.0</td>\n",
       "      <td>1</td>\n",
       "      <td>0</td>\n",
       "      <td>113803</td>\n",
       "      <td>53.1000</td>\n",
       "      <td>C123</td>\n",
       "      <td>S</td>\n",
       "    </tr>\n",
       "    <tr>\n",
       "      <th>4</th>\n",
       "      <td>5</td>\n",
       "      <td>0</td>\n",
       "      <td>3</td>\n",
       "      <td>Allen, Mr. William Henry</td>\n",
       "      <td>male</td>\n",
       "      <td>35.0</td>\n",
       "      <td>0</td>\n",
       "      <td>0</td>\n",
       "      <td>373450</td>\n",
       "      <td>8.0500</td>\n",
       "      <td>NaN</td>\n",
       "      <td>S</td>\n",
       "    </tr>\n",
       "  </tbody>\n",
       "</table>\n",
       "</div>\n",
       "      <button class=\"colab-df-convert\" onclick=\"convertToInteractive('df-e3e5c5e4-5b53-482a-a172-bde90a3b02a4')\"\n",
       "              title=\"Convert this dataframe to an interactive table.\"\n",
       "              style=\"display:none;\">\n",
       "        \n",
       "  <svg xmlns=\"http://www.w3.org/2000/svg\" height=\"24px\"viewBox=\"0 0 24 24\"\n",
       "       width=\"24px\">\n",
       "    <path d=\"M0 0h24v24H0V0z\" fill=\"none\"/>\n",
       "    <path d=\"M18.56 5.44l.94 2.06.94-2.06 2.06-.94-2.06-.94-.94-2.06-.94 2.06-2.06.94zm-11 1L8.5 8.5l.94-2.06 2.06-.94-2.06-.94L8.5 2.5l-.94 2.06-2.06.94zm10 10l.94 2.06.94-2.06 2.06-.94-2.06-.94-.94-2.06-.94 2.06-2.06.94z\"/><path d=\"M17.41 7.96l-1.37-1.37c-.4-.4-.92-.59-1.43-.59-.52 0-1.04.2-1.43.59L10.3 9.45l-7.72 7.72c-.78.78-.78 2.05 0 2.83L4 21.41c.39.39.9.59 1.41.59.51 0 1.02-.2 1.41-.59l7.78-7.78 2.81-2.81c.8-.78.8-2.07 0-2.86zM5.41 20L4 18.59l7.72-7.72 1.47 1.35L5.41 20z\"/>\n",
       "  </svg>\n",
       "      </button>\n",
       "      \n",
       "  <style>\n",
       "    .colab-df-container {\n",
       "      display:flex;\n",
       "      flex-wrap:wrap;\n",
       "      gap: 12px;\n",
       "    }\n",
       "\n",
       "    .colab-df-convert {\n",
       "      background-color: #E8F0FE;\n",
       "      border: none;\n",
       "      border-radius: 50%;\n",
       "      cursor: pointer;\n",
       "      display: none;\n",
       "      fill: #1967D2;\n",
       "      height: 32px;\n",
       "      padding: 0 0 0 0;\n",
       "      width: 32px;\n",
       "    }\n",
       "\n",
       "    .colab-df-convert:hover {\n",
       "      background-color: #E2EBFA;\n",
       "      box-shadow: 0px 1px 2px rgba(60, 64, 67, 0.3), 0px 1px 3px 1px rgba(60, 64, 67, 0.15);\n",
       "      fill: #174EA6;\n",
       "    }\n",
       "\n",
       "    [theme=dark] .colab-df-convert {\n",
       "      background-color: #3B4455;\n",
       "      fill: #D2E3FC;\n",
       "    }\n",
       "\n",
       "    [theme=dark] .colab-df-convert:hover {\n",
       "      background-color: #434B5C;\n",
       "      box-shadow: 0px 1px 3px 1px rgba(0, 0, 0, 0.15);\n",
       "      filter: drop-shadow(0px 1px 2px rgba(0, 0, 0, 0.3));\n",
       "      fill: #FFFFFF;\n",
       "    }\n",
       "  </style>\n",
       "\n",
       "      <script>\n",
       "        const buttonEl =\n",
       "          document.querySelector('#df-e3e5c5e4-5b53-482a-a172-bde90a3b02a4 button.colab-df-convert');\n",
       "        buttonEl.style.display =\n",
       "          google.colab.kernel.accessAllowed ? 'block' : 'none';\n",
       "\n",
       "        async function convertToInteractive(key) {\n",
       "          const element = document.querySelector('#df-e3e5c5e4-5b53-482a-a172-bde90a3b02a4');\n",
       "          const dataTable =\n",
       "            await google.colab.kernel.invokeFunction('convertToInteractive',\n",
       "                                                     [key], {});\n",
       "          if (!dataTable) return;\n",
       "\n",
       "          const docLinkHtml = 'Like what you see? Visit the ' +\n",
       "            '<a target=\"_blank\" href=https://colab.research.google.com/notebooks/data_table.ipynb>data table notebook</a>'\n",
       "            + ' to learn more about interactive tables.';\n",
       "          element.innerHTML = '';\n",
       "          dataTable['output_type'] = 'display_data';\n",
       "          await google.colab.output.renderOutput(dataTable, element);\n",
       "          const docLink = document.createElement('div');\n",
       "          docLink.innerHTML = docLinkHtml;\n",
       "          element.appendChild(docLink);\n",
       "        }\n",
       "      </script>\n",
       "    </div>\n",
       "  </div>\n",
       "  "
      ],
      "text/plain": [
       "   PassengerId  Survived  Pclass  \\\n",
       "0            1         0       3   \n",
       "1            2         1       1   \n",
       "2            3         1       3   \n",
       "3            4         1       1   \n",
       "4            5         0       3   \n",
       "\n",
       "                                                Name     Sex   Age  SibSp  \\\n",
       "0                            Braund, Mr. Owen Harris    male  22.0      1   \n",
       "1  Cumings, Mrs. John Bradley (Florence Briggs Th...  female  38.0      1   \n",
       "2                             Heikkinen, Miss. Laina  female  26.0      0   \n",
       "3       Futrelle, Mrs. Jacques Heath (Lily May Peel)  female  35.0      1   \n",
       "4                           Allen, Mr. William Henry    male  35.0      0   \n",
       "\n",
       "   Parch            Ticket     Fare Cabin Embarked  \n",
       "0      0         A/5 21171   7.2500   NaN        S  \n",
       "1      0          PC 17599  71.2833   C85        C  \n",
       "2      0  STON/O2. 3101282   7.9250   NaN        S  \n",
       "3      0            113803  53.1000  C123        S  \n",
       "4      0            373450   8.0500   NaN        S  "
      ]
     },
     "metadata": {},
     "output_type": "display_data"
    },
    {
     "name": "stdout",
     "output_type": "stream",
     "text": [
      ">> Shape of data:  (891, 12)\n",
      "   * Number of rows:  891\n",
      "   * Number of columns:  12\n"
     ]
    }
   ],
   "source": [
    "# Read data\n",
    "data = pd.read_csv('Dataset/Titanic.csv')\n",
    "\n",
    "print(\">> Display the first 5 rows of data:\")\n",
    "display(data.head())\n",
    "print(\">> Shape of data: \", data.shape)\n",
    "print(\"   * Number of rows: \", data.shape[0])\n",
    "print(\"   * Number of columns: \", data.shape[1])"
   ]
  },
  {
   "cell_type": "markdown",
   "metadata": {
    "id": "-jtZ4gSpV4_a"
   },
   "source": [
    "### Description of Titanic Dataset\n",
    "* **pclass**: A proxy for socio-economic status (SES)\n",
    "  * 1st = Upper\n",
    "  * 2nd = Middle\n",
    "  * 3rd = Lower\n",
    "\n",
    "* **age**: Age is fractional if less than 1. If the age is estimated, is it in the form of xx.5\n",
    "\n",
    "* **sibsp**: The dataset defines family relations in this way...\n",
    "  * Sibling = brother, sister, stepbrother, stepsister\n",
    "  * Spouse = husband, wife (mistresses and fiancés were ignored)\n",
    "\n",
    "* **parch**: The dataset defines family relations in this way...\n",
    "  * Parent = mother, father\n",
    "  * Child = daughter, son, stepdaughter, stepson\n",
    "  * Some children travelled only with a nanny, therefore parch=0 for them.\n"
   ]
  },
  {
   "cell_type": "code",
   "execution_count": 5,
   "metadata": {
    "id": "g65REHF5Vxc3"
   },
   "outputs": [],
   "source": [
    "def find_missing_percent(data , showresult = True):\n",
    "  total = data.isnull().sum().sort_values(ascending=False)\n",
    "  percent = (data.isnull().sum() / data.isnull().count()).sort_values(ascending=False)\n",
    "  miss_df = pd.concat([total, percent], axis=1, keys=['TotalMissingValues', 'PercentOfMissing'])\n",
    "  \n",
    "  miss_df = miss_df[miss_df[\"PercentOfMissing\"] > 0.0]\n",
    "  miss_df = miss_df.reset_index().rename(columns={'index': 'ColumnName'})\n",
    "  if(showresult):\n",
    "    print(\"* Check missing values:\")\n",
    "    print(\">> Shape of data: \", data.shape)\n",
    "    if miss_df.shape[0] == 0:\n",
    "      print(\">> There is no missing value in this data.\")\n",
    "    else:\n",
    "      print(\">> The table of percentage of missing values:\")\n",
    "      display(miss_df)\n",
    "  return miss_df"
   ]
  },
  {
   "cell_type": "markdown",
   "metadata": {
    "id": "1o0ghLmpd10y"
   },
   "source": [
    "### Check missing values and drop the columns that have the percent of missing value > 60%."
   ]
  },
  {
   "cell_type": "code",
   "execution_count": 6,
   "metadata": {
    "colab": {
     "base_uri": "https://localhost:8080/",
     "height": 196
    },
    "id": "u8knvpzvaNRf",
    "outputId": "bcd162d0-0b49-4b25-d0e1-cf49fb7b6b2d"
   },
   "outputs": [
    {
     "name": "stdout",
     "output_type": "stream",
     "text": [
      "* Check missing values:\n",
      ">> Shape of data:  (891, 12)\n",
      ">> The table of percentage of missing values:\n"
     ]
    },
    {
     "data": {
      "text/html": [
       "\n",
       "  <div id=\"df-a3500640-1603-4107-8fbe-8a522e09d790\">\n",
       "    <div class=\"colab-df-container\">\n",
       "      <div>\n",
       "<style scoped>\n",
       "    .dataframe tbody tr th:only-of-type {\n",
       "        vertical-align: middle;\n",
       "    }\n",
       "\n",
       "    .dataframe tbody tr th {\n",
       "        vertical-align: top;\n",
       "    }\n",
       "\n",
       "    .dataframe thead th {\n",
       "        text-align: right;\n",
       "    }\n",
       "</style>\n",
       "<table border=\"1\" class=\"dataframe\">\n",
       "  <thead>\n",
       "    <tr style=\"text-align: right;\">\n",
       "      <th></th>\n",
       "      <th>ColumnName</th>\n",
       "      <th>TotalMissingValues</th>\n",
       "      <th>PercentOfMissing</th>\n",
       "    </tr>\n",
       "  </thead>\n",
       "  <tbody>\n",
       "    <tr>\n",
       "      <th>0</th>\n",
       "      <td>Cabin</td>\n",
       "      <td>687</td>\n",
       "      <td>0.771044</td>\n",
       "    </tr>\n",
       "    <tr>\n",
       "      <th>1</th>\n",
       "      <td>Age</td>\n",
       "      <td>177</td>\n",
       "      <td>0.198653</td>\n",
       "    </tr>\n",
       "    <tr>\n",
       "      <th>2</th>\n",
       "      <td>Embarked</td>\n",
       "      <td>2</td>\n",
       "      <td>0.002245</td>\n",
       "    </tr>\n",
       "  </tbody>\n",
       "</table>\n",
       "</div>\n",
       "      <button class=\"colab-df-convert\" onclick=\"convertToInteractive('df-a3500640-1603-4107-8fbe-8a522e09d790')\"\n",
       "              title=\"Convert this dataframe to an interactive table.\"\n",
       "              style=\"display:none;\">\n",
       "        \n",
       "  <svg xmlns=\"http://www.w3.org/2000/svg\" height=\"24px\"viewBox=\"0 0 24 24\"\n",
       "       width=\"24px\">\n",
       "    <path d=\"M0 0h24v24H0V0z\" fill=\"none\"/>\n",
       "    <path d=\"M18.56 5.44l.94 2.06.94-2.06 2.06-.94-2.06-.94-.94-2.06-.94 2.06-2.06.94zm-11 1L8.5 8.5l.94-2.06 2.06-.94-2.06-.94L8.5 2.5l-.94 2.06-2.06.94zm10 10l.94 2.06.94-2.06 2.06-.94-2.06-.94-.94-2.06-.94 2.06-2.06.94z\"/><path d=\"M17.41 7.96l-1.37-1.37c-.4-.4-.92-.59-1.43-.59-.52 0-1.04.2-1.43.59L10.3 9.45l-7.72 7.72c-.78.78-.78 2.05 0 2.83L4 21.41c.39.39.9.59 1.41.59.51 0 1.02-.2 1.41-.59l7.78-7.78 2.81-2.81c.8-.78.8-2.07 0-2.86zM5.41 20L4 18.59l7.72-7.72 1.47 1.35L5.41 20z\"/>\n",
       "  </svg>\n",
       "      </button>\n",
       "      \n",
       "  <style>\n",
       "    .colab-df-container {\n",
       "      display:flex;\n",
       "      flex-wrap:wrap;\n",
       "      gap: 12px;\n",
       "    }\n",
       "\n",
       "    .colab-df-convert {\n",
       "      background-color: #E8F0FE;\n",
       "      border: none;\n",
       "      border-radius: 50%;\n",
       "      cursor: pointer;\n",
       "      display: none;\n",
       "      fill: #1967D2;\n",
       "      height: 32px;\n",
       "      padding: 0 0 0 0;\n",
       "      width: 32px;\n",
       "    }\n",
       "\n",
       "    .colab-df-convert:hover {\n",
       "      background-color: #E2EBFA;\n",
       "      box-shadow: 0px 1px 2px rgba(60, 64, 67, 0.3), 0px 1px 3px 1px rgba(60, 64, 67, 0.15);\n",
       "      fill: #174EA6;\n",
       "    }\n",
       "\n",
       "    [theme=dark] .colab-df-convert {\n",
       "      background-color: #3B4455;\n",
       "      fill: #D2E3FC;\n",
       "    }\n",
       "\n",
       "    [theme=dark] .colab-df-convert:hover {\n",
       "      background-color: #434B5C;\n",
       "      box-shadow: 0px 1px 3px 1px rgba(0, 0, 0, 0.15);\n",
       "      filter: drop-shadow(0px 1px 2px rgba(0, 0, 0, 0.3));\n",
       "      fill: #FFFFFF;\n",
       "    }\n",
       "  </style>\n",
       "\n",
       "      <script>\n",
       "        const buttonEl =\n",
       "          document.querySelector('#df-a3500640-1603-4107-8fbe-8a522e09d790 button.colab-df-convert');\n",
       "        buttonEl.style.display =\n",
       "          google.colab.kernel.accessAllowed ? 'block' : 'none';\n",
       "\n",
       "        async function convertToInteractive(key) {\n",
       "          const element = document.querySelector('#df-a3500640-1603-4107-8fbe-8a522e09d790');\n",
       "          const dataTable =\n",
       "            await google.colab.kernel.invokeFunction('convertToInteractive',\n",
       "                                                     [key], {});\n",
       "          if (!dataTable) return;\n",
       "\n",
       "          const docLinkHtml = 'Like what you see? Visit the ' +\n",
       "            '<a target=\"_blank\" href=https://colab.research.google.com/notebooks/data_table.ipynb>data table notebook</a>'\n",
       "            + ' to learn more about interactive tables.';\n",
       "          element.innerHTML = '';\n",
       "          dataTable['output_type'] = 'display_data';\n",
       "          await google.colab.output.renderOutput(dataTable, element);\n",
       "          const docLink = document.createElement('div');\n",
       "          docLink.innerHTML = docLinkHtml;\n",
       "          element.appendChild(docLink);\n",
       "        }\n",
       "      </script>\n",
       "    </div>\n",
       "  </div>\n",
       "  "
      ],
      "text/plain": [
       "  ColumnName  TotalMissingValues  PercentOfMissing\n",
       "0      Cabin                 687          0.771044\n",
       "1        Age                 177          0.198653\n",
       "2   Embarked                   2          0.002245"
      ]
     },
     "metadata": {},
     "output_type": "display_data"
    }
   ],
   "source": [
    "miss_df = find_missing_percent(data)"
   ]
  },
  {
   "cell_type": "code",
   "execution_count": 7,
   "metadata": {
    "colab": {
     "base_uri": "https://localhost:8080/",
     "height": 199
    },
    "id": "yRRk_53UaYNi",
    "outputId": "c0e364c5-2944-4fac-a9a3-2fb051087231"
   },
   "outputs": [
    {
     "name": "stdout",
     "output_type": "stream",
     "text": [
      ">> The columns have the percent of missing values greater than 60%: ['Cabin']\n",
      "\n",
      "* Check missing values:\n",
      ">> Shape of data:  (891, 11)\n",
      ">> The table of percentage of missing values:\n"
     ]
    },
    {
     "data": {
      "text/html": [
       "\n",
       "  <div id=\"df-0a0e2f48-098e-4f85-9f5f-820dec536004\">\n",
       "    <div class=\"colab-df-container\">\n",
       "      <div>\n",
       "<style scoped>\n",
       "    .dataframe tbody tr th:only-of-type {\n",
       "        vertical-align: middle;\n",
       "    }\n",
       "\n",
       "    .dataframe tbody tr th {\n",
       "        vertical-align: top;\n",
       "    }\n",
       "\n",
       "    .dataframe thead th {\n",
       "        text-align: right;\n",
       "    }\n",
       "</style>\n",
       "<table border=\"1\" class=\"dataframe\">\n",
       "  <thead>\n",
       "    <tr style=\"text-align: right;\">\n",
       "      <th></th>\n",
       "      <th>ColumnName</th>\n",
       "      <th>TotalMissingValues</th>\n",
       "      <th>PercentOfMissing</th>\n",
       "    </tr>\n",
       "  </thead>\n",
       "  <tbody>\n",
       "    <tr>\n",
       "      <th>0</th>\n",
       "      <td>Age</td>\n",
       "      <td>177</td>\n",
       "      <td>0.198653</td>\n",
       "    </tr>\n",
       "    <tr>\n",
       "      <th>1</th>\n",
       "      <td>Embarked</td>\n",
       "      <td>2</td>\n",
       "      <td>0.002245</td>\n",
       "    </tr>\n",
       "  </tbody>\n",
       "</table>\n",
       "</div>\n",
       "      <button class=\"colab-df-convert\" onclick=\"convertToInteractive('df-0a0e2f48-098e-4f85-9f5f-820dec536004')\"\n",
       "              title=\"Convert this dataframe to an interactive table.\"\n",
       "              style=\"display:none;\">\n",
       "        \n",
       "  <svg xmlns=\"http://www.w3.org/2000/svg\" height=\"24px\"viewBox=\"0 0 24 24\"\n",
       "       width=\"24px\">\n",
       "    <path d=\"M0 0h24v24H0V0z\" fill=\"none\"/>\n",
       "    <path d=\"M18.56 5.44l.94 2.06.94-2.06 2.06-.94-2.06-.94-.94-2.06-.94 2.06-2.06.94zm-11 1L8.5 8.5l.94-2.06 2.06-.94-2.06-.94L8.5 2.5l-.94 2.06-2.06.94zm10 10l.94 2.06.94-2.06 2.06-.94-2.06-.94-.94-2.06-.94 2.06-2.06.94z\"/><path d=\"M17.41 7.96l-1.37-1.37c-.4-.4-.92-.59-1.43-.59-.52 0-1.04.2-1.43.59L10.3 9.45l-7.72 7.72c-.78.78-.78 2.05 0 2.83L4 21.41c.39.39.9.59 1.41.59.51 0 1.02-.2 1.41-.59l7.78-7.78 2.81-2.81c.8-.78.8-2.07 0-2.86zM5.41 20L4 18.59l7.72-7.72 1.47 1.35L5.41 20z\"/>\n",
       "  </svg>\n",
       "      </button>\n",
       "      \n",
       "  <style>\n",
       "    .colab-df-container {\n",
       "      display:flex;\n",
       "      flex-wrap:wrap;\n",
       "      gap: 12px;\n",
       "    }\n",
       "\n",
       "    .colab-df-convert {\n",
       "      background-color: #E8F0FE;\n",
       "      border: none;\n",
       "      border-radius: 50%;\n",
       "      cursor: pointer;\n",
       "      display: none;\n",
       "      fill: #1967D2;\n",
       "      height: 32px;\n",
       "      padding: 0 0 0 0;\n",
       "      width: 32px;\n",
       "    }\n",
       "\n",
       "    .colab-df-convert:hover {\n",
       "      background-color: #E2EBFA;\n",
       "      box-shadow: 0px 1px 2px rgba(60, 64, 67, 0.3), 0px 1px 3px 1px rgba(60, 64, 67, 0.15);\n",
       "      fill: #174EA6;\n",
       "    }\n",
       "\n",
       "    [theme=dark] .colab-df-convert {\n",
       "      background-color: #3B4455;\n",
       "      fill: #D2E3FC;\n",
       "    }\n",
       "\n",
       "    [theme=dark] .colab-df-convert:hover {\n",
       "      background-color: #434B5C;\n",
       "      box-shadow: 0px 1px 3px 1px rgba(0, 0, 0, 0.15);\n",
       "      filter: drop-shadow(0px 1px 2px rgba(0, 0, 0, 0.3));\n",
       "      fill: #FFFFFF;\n",
       "    }\n",
       "  </style>\n",
       "\n",
       "      <script>\n",
       "        const buttonEl =\n",
       "          document.querySelector('#df-0a0e2f48-098e-4f85-9f5f-820dec536004 button.colab-df-convert');\n",
       "        buttonEl.style.display =\n",
       "          google.colab.kernel.accessAllowed ? 'block' : 'none';\n",
       "\n",
       "        async function convertToInteractive(key) {\n",
       "          const element = document.querySelector('#df-0a0e2f48-098e-4f85-9f5f-820dec536004');\n",
       "          const dataTable =\n",
       "            await google.colab.kernel.invokeFunction('convertToInteractive',\n",
       "                                                     [key], {});\n",
       "          if (!dataTable) return;\n",
       "\n",
       "          const docLinkHtml = 'Like what you see? Visit the ' +\n",
       "            '<a target=\"_blank\" href=https://colab.research.google.com/notebooks/data_table.ipynb>data table notebook</a>'\n",
       "            + ' to learn more about interactive tables.';\n",
       "          element.innerHTML = '';\n",
       "          dataTable['output_type'] = 'display_data';\n",
       "          await google.colab.output.renderOutput(dataTable, element);\n",
       "          const docLink = document.createElement('div');\n",
       "          docLink.innerHTML = docLinkHtml;\n",
       "          element.appendChild(docLink);\n",
       "        }\n",
       "      </script>\n",
       "    </div>\n",
       "  </div>\n",
       "  "
      ],
      "text/plain": [
       "  ColumnName  TotalMissingValues  PercentOfMissing\n",
       "0        Age                 177          0.198653\n",
       "1   Embarked                   2          0.002245"
      ]
     },
     "metadata": {},
     "output_type": "display_data"
    }
   ],
   "source": [
    "drop_cols = list(miss_df[miss_df['PercentOfMissing'] > 0.6].ColumnName)\n",
    "print('>> The columns have the percent of missing values greater than 60%: {}\\n'.format(drop_cols))\n",
    "\n",
    "data = data.drop(drop_cols, axis=1)\n",
    "miss_df = find_missing_percent(data)"
   ]
  },
  {
   "cell_type": "markdown",
   "metadata": {
    "id": "7-cJrnFMj2Y_"
   },
   "source": [
    "### Missing Handling\n",
    "\n",
    "1. **Listwise Deletion**"
   ]
  },
  {
   "cell_type": "code",
   "execution_count": 8,
   "metadata": {
    "id": "boZzKrK0ewwN"
   },
   "outputs": [],
   "source": [
    "def listwise_deletion(data):\n",
    "  for col in data.columns:\n",
    "    miss_ind = data[col][data[col].isnull()].index\n",
    "    data = data.drop(miss_ind, axis = 0)\n",
    "  return data"
   ]
  },
  {
   "cell_type": "code",
   "execution_count": 9,
   "metadata": {
    "colab": {
     "base_uri": "https://localhost:8080/"
    },
    "id": "dsE71nrJkFY4",
    "outputId": "61b7b714-1322-4398-ad14-99ac84bf350d"
   },
   "outputs": [
    {
     "name": "stdout",
     "output_type": "stream",
     "text": [
      ">> The shape of original data:  (891, 11)\n",
      "* Check missing values:\n",
      ">> Shape of data:  (712, 11)\n",
      ">> There is no missing value in this data.\n"
     ]
    }
   ],
   "source": [
    "print(\">> The shape of original data: \", data.shape)\n",
    "data_lwd = listwise_deletion(data)\n",
    "miss_df_lwd = find_missing_percent(data_lwd)"
   ]
  },
  {
   "cell_type": "markdown",
   "metadata": {
    "id": "QJgWZiRblZWz"
   },
   "source": [
    "2. **Mean and Mode Imputation**"
   ]
  },
  {
   "cell_type": "code",
   "execution_count": 10,
   "metadata": {
    "id": "s1jvHNCykS0L"
   },
   "outputs": [],
   "source": [
    "def mean_imputation(data_numeric):\n",
    "  for col in data_numeric.columns:\n",
    "    mean = data_numeric[col].mean()\n",
    "    data_numeric[col] = data_numeric[col].fillna(mean)\n",
    "  return data_numeric\n",
    "\n",
    "def mode_imputation(data_categoric):\n",
    "  for col in data_categoric.columns:\n",
    "    mode = data_categoric[col].mode().iloc[0]\n",
    "    data_categoric[col] = data_categoric[col].fillna(mode)\n",
    "  return data_categoric"
   ]
  },
  {
   "cell_type": "code",
   "execution_count": 11,
   "metadata": {
    "colab": {
     "base_uri": "https://localhost:8080/"
    },
    "id": "VZ_KMXOblm2W",
    "outputId": "51796486-4cb6-4b76-9b7a-051c8d6839ea"
   },
   "outputs": [
    {
     "name": "stdout",
     "output_type": "stream",
     "text": [
      ">> Numeric Columns   : ['PassengerId', 'Survived', 'Pclass', 'Age', 'SibSp', 'Parch', 'Fare']\n",
      ">> Categoric Columns : ['Name', 'Sex', 'Ticket', 'Embarked']\n",
      ">> The shape of original data:  (891, 11)\n",
      "* Check missing values:\n",
      ">> Shape of data:  (891, 11)\n",
      ">> There is no missing value in this data.\n"
     ]
    }
   ],
   "source": [
    "numeric_cols = data.select_dtypes(['float','int']).columns\n",
    "categoric_cols = data.select_dtypes('object').columns\n",
    "print(f\">> Numeric Columns   : {list(numeric_cols)}\")\n",
    "print(f\">> Categoric Columns : {list(categoric_cols)}\")\n",
    "\n",
    "data_numeric = data[numeric_cols]\n",
    "data_numeric_mean_imp = mean_imputation(data_numeric)\n",
    "data_categoric = data[categoric_cols]\n",
    "data_categoric_mode_imp = mode_imputation(data_categoric)\n",
    "\n",
    "print(\">> The shape of original data: \", data.shape)\n",
    "data_imputed_value = pd.concat([data_numeric_mean_imp, data_categoric_mode_imp], axis = 1)\n",
    "miss_df_imputed = find_missing_percent(data_imputed_value)"
   ]
  },
  {
   "cell_type": "markdown",
   "metadata": {
    "id": "g3iI_NoJoTS7"
   },
   "source": [
    "3. **XGBoosting for Numerical Features and Mode Imputation for Catagorical Features**"
   ]
  },
  {
   "cell_type": "code",
   "execution_count": 12,
   "metadata": {
    "id": "Fid4ccEwmmtZ"
   },
   "outputs": [],
   "source": [
    "def find_missing_index(data_numeric_xgboost, target_cols):\n",
    "  miss_index_dict = {}\n",
    "  for tcol in target_cols:\n",
    "    index = data_numeric_xgboost[tcol][data_numeric_xgboost[tcol].isnull()].index\n",
    "    miss_index_dict[tcol] = index\n",
    "  return miss_index_dict\n",
    "\n",
    "def xgboost_imputation(data_numeric_xgboost, target_cols, miss_index_dict):\n",
    "  predictors = data_numeric_xgboost.drop(target_cols, axis =1)\n",
    "  for tcol in target_cols:\n",
    "    y = data_numeric_xgboost[tcol]\n",
    "    y = y.fillna(y.mean())\n",
    "    xgb = xgboost.XGBRegressor(objective=\"reg:squarederror\", random_state=42)\n",
    "    xgb.fit(predictors, y)\n",
    "    predictions = pd.Series(xgb.predict(predictors),index= y.index)    \n",
    "    index = miss_index_dict[tcol]\n",
    "    data_numeric_xgboost[tcol].loc[index] = predictions.loc[index]\n",
    "  return data_numeric_xgboost"
   ]
  },
  {
   "cell_type": "code",
   "execution_count": 13,
   "metadata": {
    "colab": {
     "base_uri": "https://localhost:8080/"
    },
    "id": "-_8A2E7rpAhb",
    "outputId": "754b787a-c3e0-4cc2-fbe3-12d0747cd01e"
   },
   "outputs": [
    {
     "name": "stdout",
     "output_type": "stream",
     "text": [
      ">> The numeric columns have missing values: ['Age']\n",
      ">> The shape of original data:  (891, 11)\n",
      "* Check missing values:\n",
      ">> Shape of data:  (891, 11)\n",
      ">> There is no missing value in this data.\n"
     ]
    }
   ],
   "source": [
    "miss_features = miss_df[\"ColumnName\"].values\n",
    "target_cols = [feature for feature in miss_features if feature in numeric_cols]  \n",
    "print(f\">> The numeric columns have missing values: {target_cols}\")\n",
    "\n",
    "data_numeric_xgboost = data[numeric_cols]\n",
    "miss_index_dict = find_missing_index(data_numeric_xgboost, target_cols)\n",
    "data_numeric_xgboost = xgboost_imputation(data_numeric_xgboost, target_cols, miss_index_dict)\n",
    "data_imputed_xgboost = pd.concat([data_numeric_xgboost, data_categoric_mode_imp], axis = 1)\n",
    "\n",
    "print(\">> The shape of original data: \", data.shape)\n",
    "miss_df_xgboost = find_missing_percent(data_imputed_xgboost)"
   ]
  },
  {
   "cell_type": "markdown",
   "metadata": {
    "id": "i5Kh5flgr4Zw"
   },
   "source": [
    "4. **Multiple Imputation by Chained Equations (MICE)**"
   ]
  },
  {
   "cell_type": "code",
   "execution_count": 14,
   "metadata": {
    "id": "D_z5TDAQrqRf"
   },
   "outputs": [],
   "source": [
    "def mice_imputation_numeric(train_numeric):\n",
    "  iter_imp_numeric = IterativeImputer(GradientBoostingRegressor())\n",
    "  imputed_train = iter_imp_numeric.fit_transform(train_numeric)\n",
    "  train_numeric_imp = pd.DataFrame(imputed_train, columns = train_numeric.columns, index= train_numeric.index)\n",
    "  return train_numeric_imp\n",
    "\n",
    "def mice_imputation_categoric(train_categoric, max_iter=5, initial_strategy='most_frequent'):\n",
    "  ordinal_dict={}\n",
    "  for col in train_categoric:\n",
    "    ordinal_dict[col] = OrdinalEncoder()\n",
    "    nn_vals = np.array(train_categoric[col][train_categoric[col].notnull()]).reshape(-1,1)\n",
    "    nn_vals_arr = np.array(ordinal_dict[col].fit_transform(nn_vals)).reshape(-1,)\n",
    "    train_categoric[col].loc[train_categoric[col].notnull()] = nn_vals_arr\n",
    "\n",
    "  iter_imp_categoric = IterativeImputer(GradientBoostingClassifier(), max_iter=max_iter, initial_strategy=initial_strategy)\n",
    "  imputed_train = iter_imp_categoric.fit_transform(train_categoric)\n",
    "  train_categoric_imp = pd.DataFrame(imputed_train, columns=train_categoric.columns, index=train_categoric.index).astype(int)\n",
    "  \n",
    "  for col in train_categoric_imp.columns:\n",
    "    oe = ordinal_dict[col]\n",
    "    train_arr= np.array(train_categoric_imp[col]).reshape(-1,1)\n",
    "    train_categoric_imp[col] = oe.inverse_transform(train_arr)\n",
    "      \n",
    "  return train_categoric_imp"
   ]
  },
  {
   "cell_type": "code",
   "execution_count": 15,
   "metadata": {
    "colab": {
     "base_uri": "https://localhost:8080/"
    },
    "id": "clsuTUcStmRG",
    "outputId": "26a01574-c1cc-4236-9560-82b0ba4f6893"
   },
   "outputs": [
    {
     "name": "stdout",
     "output_type": "stream",
     "text": [
      ">> The shape of original data:  (891, 11)\n",
      "* Check missing values:\n",
      ">> Shape of data:  (891, 11)\n",
      ">> There is no missing value in this data.\n"
     ]
    }
   ],
   "source": [
    "data_numeric_mice  = mice_imputation_numeric(data_numeric)\n",
    "data_categoric_mice = mice_imputation_categoric(data_categoric)\n",
    "\n",
    "data_imputed_mice = pd.concat([data_numeric_mice, data_categoric_mice], axis = 1)\n",
    "\n",
    "print(\">> The shape of original data: \", data.shape)\n",
    "miss_df_mice = find_missing_percent(data_imputed_mice)"
   ]
  },
  {
   "cell_type": "markdown",
   "metadata": {
    "id": "saJrJZy_FDd7"
   },
   "source": [
    "### Data Modelling"
   ]
  },
  {
   "cell_type": "code",
   "execution_count": 16,
   "metadata": {
    "id": "XjlcC-Dyt5Vd"
   },
   "outputs": [],
   "source": [
    "def FeatureEngineering(df1):\n",
    "  import re\n",
    "  df = df1.copy()\n",
    "  df['Title'] = df['Name'].apply(lambda x: re.findall(r\"\\S+\\. \", x)[0].strip()[0:-1])\n",
    "  df['Title'].loc[~df.Title.isin(['Mr', 'Mrs', 'Miss', 'Master'])] = 'Others'\n",
    "  df['Is_child'] = np.select([df['Title'].str.lower() == 'master'], ['Y'], 'N')\n",
    "  df['Nb_Fmly_Mem'] = df['SibSp'].fillna(0) + df['Parch'].fillna(0)\n",
    "  df = df.drop(['PassengerId', 'Ticket', 'Name'], axis= 1)\n",
    "  return df"
   ]
  },
  {
   "cell_type": "code",
   "execution_count": 49,
   "metadata": {
    "id": "ndaRy-nA5-Uo"
   },
   "outputs": [],
   "source": [
    "def LabelEncoder(df):\n",
    "  data = df.copy()\n",
    "  from sklearn.preprocessing import LabelEncoder\n",
    "  label = LabelEncoder()\n",
    "  data_colums = data.dtypes.pipe(lambda X: X[X=='object']).index\n",
    "  for col in data_colums:\n",
    "      data[col] = label.fit_transform(data[col])\n",
    "  return data"
   ]
  },
  {
   "cell_type": "code",
   "execution_count": 18,
   "metadata": {
    "id": "dlnAl6w3RGBs"
   },
   "outputs": [],
   "source": [
    "def DataSplitTrainTest(data_modelling, test_size=0.3, random_state=0):\n",
    "    train = data_modelling.copy()\n",
    "    y = train['Survived']\n",
    "    X = train.drop('Survived', axis=1)\n",
    "    X_train, X_test, y_train, y_test = train_test_split(X, y, test_size=test_size, random_state=random_state)\n",
    "    print(\">> Shape of Train Data :\", X_train.shape)\n",
    "    print(\">> Shape of Test Data  :\", X_test.shape)\n",
    "    return X_train, X_test, y_train, y_test"
   ]
  },
  {
   "cell_type": "code",
   "execution_count": 28,
   "metadata": {
    "id": "m75MMhrE9rcV"
   },
   "outputs": [],
   "source": [
    "from sklearn.linear_model import LogisticRegression\n",
    "from sklearn.ensemble import AdaBoostClassifier\n",
    "from sklearn.ensemble import RandomForestClassifier\n",
    "from xgboost import XGBClassifier\n",
    "from sklearn.linear_model import Lasso, LassoCV, Ridge, RidgeCV\n",
    "from sklearn import metrics"
   ]
  },
  {
   "cell_type": "code",
   "execution_count": 47,
   "metadata": {
    "id": "ACmWhkNKQIx8"
   },
   "outputs": [],
   "source": [
    "def XGBoostModel(X_train, y_train, X_test, y_test):\n",
    "    abc = XGBClassifier(base_score=0.5, eval_metric='logloss', \n",
    "              learning_rate=0.300000012,)\n",
    "    abc = abc.fit(X_train, y_train)\n",
    "    y_pred_abc = abc.predict(X_test)\n",
    "    return metrics.accuracy_score(y_test, y_pred_abc)\n",
    "\n",
    "#Logistic Regression\n",
    "def logistic_regression(X_train,y_train,X_test,y_test):\n",
    "  '''\n",
    "      Purpose: Perform Logistic Regression\n",
    "      Input: X_train,y_train,X_test,y_test - DataFrame\n",
    "      Output: The accuracy score of logistic regression\n",
    "  '''\n",
    "  lr = LogisticRegression(max_iter=2000,random_state=334)\n",
    "  lr = lr.fit(X_train, y_train)\n",
    "  y_pred = lr.predict(X_test)\n",
    "  return metrics.accuracy_score(y_test, y_pred)\n",
    "\n",
    "#Random Forest\n",
    "def random_forest(X_train,y_train,X_test,y_test):\n",
    "  '''\n",
    "      Purpose: Perform Random Forest Classifier\n",
    "      Input: X_train,y_train,X_test,y_test - DataFrame\n",
    "      Output: The accuracy score of Random Forest\n",
    "  '''\n",
    "  rdf=RandomForestClassifier(random_state=334)\n",
    "  rdf.fit(X_train,y_train)\n",
    "  y_pred=rdf.predict(X_test)\n",
    "  return metrics.accuracy_score(y_test,y_pred)\n",
    "\n",
    "def call_function(X_train, y_train, X_test, y_test, model='XGBoost'):\n",
    "  if model == 'XGBoost':\n",
    "    return XGBoostModel(X_train, y_train, X_test, y_test)\n",
    "  elif model == 'Lasso':\n",
    "    return BuildLassoModel(X_train, y_train, X_test, y_test)\n",
    "  elif model == 'Ridge':\n",
    "    return BuildRidgeModel(X_train, y_train, X_test, y_test)\n",
    "  elif model == 'LogisticRegression': \n",
    "    return logistic_regression(X_train, y_train, X_test, y_test)\n",
    "  elif model == 'RandomForest':\n",
    "    return random_forest(X_train, y_train, X_test, y_test)"
   ]
  },
  {
   "cell_type": "code",
   "execution_count": 54,
   "metadata": {
    "colab": {
     "base_uri": "https://localhost:8080/",
     "height": 369
    },
    "id": "yk59LWBzQ9Sd",
    "outputId": "f78ec800-d254-446f-ab0a-7ad7499621d7"
   },
   "outputs": [
    {
     "name": "stdout",
     "output_type": "stream",
     "text": [
      "* Listwise Deletion\n",
      ">> Shape of Train Data : (498, 10)\n",
      ">> Shape of Test Data  : (214, 10)\n",
      "* Mean/Mode Imputation\n",
      ">> Shape of Train Data : (623, 10)\n",
      ">> Shape of Test Data  : (268, 10)\n",
      "* XGBoosting\n",
      ">> Shape of Train Data : (623, 10)\n",
      ">> Shape of Test Data  : (268, 10)\n",
      "* MICE\n",
      ">> Shape of Train Data : (623, 10)\n",
      ">> Shape of Test Data  : (268, 10)\n",
      "* The accuracy table of multiple modelling in different datas which have various missing handling method:\n"
     ]
    },
    {
     "data": {
      "text/html": [
       "\n",
       "  <div id=\"df-c02c3122-b573-4dfa-ae04-944bea4a5b2c\">\n",
       "    <div class=\"colab-df-container\">\n",
       "      <div>\n",
       "<style scoped>\n",
       "    .dataframe tbody tr th:only-of-type {\n",
       "        vertical-align: middle;\n",
       "    }\n",
       "\n",
       "    .dataframe tbody tr th {\n",
       "        vertical-align: top;\n",
       "    }\n",
       "\n",
       "    .dataframe thead th {\n",
       "        text-align: right;\n",
       "    }\n",
       "</style>\n",
       "<table border=\"1\" class=\"dataframe\">\n",
       "  <thead>\n",
       "    <tr style=\"text-align: right;\">\n",
       "      <th></th>\n",
       "      <th>Listwise Deletion</th>\n",
       "      <th>Mean/Mode Imputation</th>\n",
       "      <th>XGBoosting</th>\n",
       "      <th>MICE</th>\n",
       "    </tr>\n",
       "  </thead>\n",
       "  <tbody>\n",
       "    <tr>\n",
       "      <th>XGBoost</th>\n",
       "      <td>0.803738</td>\n",
       "      <td>0.828358</td>\n",
       "      <td>0.843284</td>\n",
       "      <td>0.828358</td>\n",
       "    </tr>\n",
       "    <tr>\n",
       "      <th>LogisticRegression</th>\n",
       "      <td>0.771028</td>\n",
       "      <td>0.809701</td>\n",
       "      <td>0.820896</td>\n",
       "      <td>0.809701</td>\n",
       "    </tr>\n",
       "    <tr>\n",
       "      <th>RandomForest</th>\n",
       "      <td>0.752336</td>\n",
       "      <td>0.809701</td>\n",
       "      <td>0.809701</td>\n",
       "      <td>0.809701</td>\n",
       "    </tr>\n",
       "  </tbody>\n",
       "</table>\n",
       "</div>\n",
       "      <button class=\"colab-df-convert\" onclick=\"convertToInteractive('df-c02c3122-b573-4dfa-ae04-944bea4a5b2c')\"\n",
       "              title=\"Convert this dataframe to an interactive table.\"\n",
       "              style=\"display:none;\">\n",
       "        \n",
       "  <svg xmlns=\"http://www.w3.org/2000/svg\" height=\"24px\"viewBox=\"0 0 24 24\"\n",
       "       width=\"24px\">\n",
       "    <path d=\"M0 0h24v24H0V0z\" fill=\"none\"/>\n",
       "    <path d=\"M18.56 5.44l.94 2.06.94-2.06 2.06-.94-2.06-.94-.94-2.06-.94 2.06-2.06.94zm-11 1L8.5 8.5l.94-2.06 2.06-.94-2.06-.94L8.5 2.5l-.94 2.06-2.06.94zm10 10l.94 2.06.94-2.06 2.06-.94-2.06-.94-.94-2.06-.94 2.06-2.06.94z\"/><path d=\"M17.41 7.96l-1.37-1.37c-.4-.4-.92-.59-1.43-.59-.52 0-1.04.2-1.43.59L10.3 9.45l-7.72 7.72c-.78.78-.78 2.05 0 2.83L4 21.41c.39.39.9.59 1.41.59.51 0 1.02-.2 1.41-.59l7.78-7.78 2.81-2.81c.8-.78.8-2.07 0-2.86zM5.41 20L4 18.59l7.72-7.72 1.47 1.35L5.41 20z\"/>\n",
       "  </svg>\n",
       "      </button>\n",
       "      \n",
       "  <style>\n",
       "    .colab-df-container {\n",
       "      display:flex;\n",
       "      flex-wrap:wrap;\n",
       "      gap: 12px;\n",
       "    }\n",
       "\n",
       "    .colab-df-convert {\n",
       "      background-color: #E8F0FE;\n",
       "      border: none;\n",
       "      border-radius: 50%;\n",
       "      cursor: pointer;\n",
       "      display: none;\n",
       "      fill: #1967D2;\n",
       "      height: 32px;\n",
       "      padding: 0 0 0 0;\n",
       "      width: 32px;\n",
       "    }\n",
       "\n",
       "    .colab-df-convert:hover {\n",
       "      background-color: #E2EBFA;\n",
       "      box-shadow: 0px 1px 2px rgba(60, 64, 67, 0.3), 0px 1px 3px 1px rgba(60, 64, 67, 0.15);\n",
       "      fill: #174EA6;\n",
       "    }\n",
       "\n",
       "    [theme=dark] .colab-df-convert {\n",
       "      background-color: #3B4455;\n",
       "      fill: #D2E3FC;\n",
       "    }\n",
       "\n",
       "    [theme=dark] .colab-df-convert:hover {\n",
       "      background-color: #434B5C;\n",
       "      box-shadow: 0px 1px 3px 1px rgba(0, 0, 0, 0.15);\n",
       "      filter: drop-shadow(0px 1px 2px rgba(0, 0, 0, 0.3));\n",
       "      fill: #FFFFFF;\n",
       "    }\n",
       "  </style>\n",
       "\n",
       "      <script>\n",
       "        const buttonEl =\n",
       "          document.querySelector('#df-c02c3122-b573-4dfa-ae04-944bea4a5b2c button.colab-df-convert');\n",
       "        buttonEl.style.display =\n",
       "          google.colab.kernel.accessAllowed ? 'block' : 'none';\n",
       "\n",
       "        async function convertToInteractive(key) {\n",
       "          const element = document.querySelector('#df-c02c3122-b573-4dfa-ae04-944bea4a5b2c');\n",
       "          const dataTable =\n",
       "            await google.colab.kernel.invokeFunction('convertToInteractive',\n",
       "                                                     [key], {});\n",
       "          if (!dataTable) return;\n",
       "\n",
       "          const docLinkHtml = 'Like what you see? Visit the ' +\n",
       "            '<a target=\"_blank\" href=https://colab.research.google.com/notebooks/data_table.ipynb>data table notebook</a>'\n",
       "            + ' to learn more about interactive tables.';\n",
       "          element.innerHTML = '';\n",
       "          dataTable['output_type'] = 'display_data';\n",
       "          await google.colab.output.renderOutput(dataTable, element);\n",
       "          const docLink = document.createElement('div');\n",
       "          docLink.innerHTML = docLinkHtml;\n",
       "          element.appendChild(docLink);\n",
       "        }\n",
       "      </script>\n",
       "    </div>\n",
       "  </div>\n",
       "  "
      ],
      "text/plain": [
       "                    Listwise Deletion  Mean/Mode Imputation  XGBoosting  \\\n",
       "XGBoost                      0.803738              0.828358    0.843284   \n",
       "LogisticRegression           0.771028              0.809701    0.820896   \n",
       "RandomForest                 0.752336              0.809701    0.809701   \n",
       "\n",
       "                        MICE  \n",
       "XGBoost             0.828358  \n",
       "LogisticRegression  0.809701  \n",
       "RandomForest        0.809701  "
      ]
     },
     "metadata": {},
     "output_type": "display_data"
    }
   ],
   "source": [
    "datasets = {'Listwise Deletion': data_lwd, 'Mean/Mode Imputation': data_imputed_value, 'XGBoosting': data_imputed_xgboost, 'MICE': data_imputed_mice}\n",
    "algs = ['XGBoost', 'LogisticRegression', 'RandomForest']\n",
    "accs = {}\n",
    "for key, data in datasets.items():\n",
    "  print(f\"* {key}\")\n",
    "  df1 = FeatureEngineering(data)\n",
    "  df = LabelEncoder(df1)\n",
    "  X_train, X_test, y_train, y_test = DataSplitTrainTest(df)\n",
    "  # acc = XGBoostModel(X_train, y_train, X_test, y_test)\n",
    "  accs[key] = []\n",
    "  for alg in algs:\n",
    "    acc = call_function(X_train, y_train, X_test, y_test, model=alg)\n",
    "    accs[key].append(acc)\n",
    "\n",
    "print(\"* The accuracy table of multiple modelling in different datas which have various missing handling method:\")\n",
    "accs = pd.DataFrame(accs, index=algs)\n",
    "display(accs)"
   ]
  },
  {
   "cell_type": "markdown",
   "metadata": {
    "id": "eZqj1RkoEmxl"
   },
   "source": [
    "**Comment:** \n",
    "* Từ bảng kết quả trên, ta thấy rằng phương pháp sử dụng SGBoosting cho Numerical Features kết hợp Mode Iputation cho Categorical Features cho ra accuracy cao nhất trong 4 phương pháp Missing Handle ở cả 3 mô hình máy học.\n",
    "\n",
    "* Phương pháp Listwise Deletion cho ra kết quả kém nhất, thấp hơn phương pháp XGBoosting đến 5% accuracy.\n",
    "\n",
    "* 2 phương pháp còn lại cho ra kết quả tương tự nhau."
   ]
  }
 ],
 "metadata": {
  "accelerator": "GPU",
  "colab": {
   "collapsed_sections": [],
   "name": "DM - Lab02.ipynb",
   "provenance": []
  },
  "kernelspec": {
   "display_name": "Python 3 (ipykernel)",
   "language": "python",
   "name": "python3"
  },
  "language_info": {
   "codemirror_mode": {
    "name": "ipython",
    "version": 3
   },
   "file_extension": ".py",
   "mimetype": "text/x-python",
   "name": "python",
   "nbconvert_exporter": "python",
   "pygments_lexer": "ipython3",
   "version": "3.9.7"
  }
 },
 "nbformat": 4,
 "nbformat_minor": 1
}
