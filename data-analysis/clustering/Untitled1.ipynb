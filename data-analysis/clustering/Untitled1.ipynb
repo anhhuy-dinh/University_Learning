{
 "cells": [
  {
   "cell_type": "code",
   "execution_count": 4,
   "metadata": {},
   "outputs": [],
   "source": [
    "import numpy as np \n",
    "import pandas as pd\n",
    "import math\n",
    "from scipy.spatial.distance import cdist # Tính khoảng cách giữa các cặp điểm trong 2 tập hợp một cách hiệu quả\n",
    "import random\n",
    "from sklearn.model_selection import train_test_split\n",
    "import matplotlib.pyplot as plt\n",
    "%matplotlib inline\n",
    "rnd = np.random.RandomState(3)"
   ]
  },
  {
   "cell_type": "code",
   "execution_count": 5,
   "metadata": {},
   "outputs": [],
   "source": [
    "np.random.seed(18) # Cố định dữ liệu random sau mỗi lần chạy là giống nhau\n",
    "# Danh sách các tâm cụm đồng thời là kỳ vọng để tạo mẫu\n",
    "means = [[2, 2], [8, 3], [3, 6]]\n",
    "# Ma trận hiệp phương sai cấp 2\n",
    "cov = [[1, 0], [0, 1]]\n",
    "# Số lượng điểm mẫu cho mỗi cụm\n",
    "N = 200\n",
    "# Tạo mẫu ngẫu nhiên 500 điểm cho mỗi cụm theo phân phối chuẩn có kỳ vọng (means) và ma trận hiệp phương sai (cov)\n",
    "X0 = np.random.multivariate_normal(means[0], cov, N)\n",
    "X1 = np.random.multivariate_normal(means[1], cov, N)\n",
    "X2 = np.random.multivariate_normal(means[2], cov, N)\n",
    "# Nối X0, X1, X2 thành một bộ dữ liệu lớn\n",
    "X_np = np.concatenate((X0, X1, X2), axis = 0)\n",
    "K = 3 # 3 cụm\n",
    "# Tạo vector cột làm nhãn cho dữ liệu ở trên\n",
    "y_np = np.asarray([0]*N + [1]*N + [2]*N).T"
   ]
  },
  {
   "cell_type": "code",
   "execution_count": 10,
   "metadata": {},
   "outputs": [
    {
     "name": "stdout",
     "output_type": "stream",
     "text": [
      "[[0.         2.04096839 1.60837219 ... 1.47832342 3.6075551  1.81208583]\n",
      " [2.04096839 0.         0.74017703 ... 3.37923776 5.49683515 3.83622532]\n",
      " [1.60837219 0.74017703 0.         ... 2.77544696 4.85224941 3.30575491]\n",
      " ...\n",
      " [1.47832342 3.37923776 2.77544696 ... 0.         2.13930635 0.71160911]\n",
      " [3.6075551  5.49683515 4.85224941 ... 2.13930635 0.         1.94793324]\n",
      " [1.81208583 3.83622532 3.30575491 ... 0.71160911 1.94793324 0.        ]]\n",
      "(600, 600)\n",
      "2.040968392070233\n"
     ]
    }
   ],
   "source": [
    "dist = cdist(X_np, X_np)\n",
    "print(dist)\n",
    "print(dist.shape)\n",
    "# print(np.argmin(dist))\n",
    "print(dist[1,0])\n",
    "# print(np.arange(X_np.shape[0]))"
   ]
  },
  {
   "cell_type": "code",
   "execution_count": 11,
   "metadata": {},
   "outputs": [],
   "source": [
    "def get_min_distance(dist):\n",
    "    min_val = dist[1,0]\n",
    "    row_index = 1\n",
    "    col_index = 0\n",
    "    for i in range(2, dist.shape[0]):\n",
    "        for j in range(i):\n",
    "            if dist[i,j] < min_val:\n",
    "                min_val = dist[i,j]\n",
    "                row_index = i\n",
    "                col_index = j\n",
    "    return min_val, (row_index, col_index)"
   ]
  },
  {
   "cell_type": "code",
   "execution_count": null,
   "metadata": {},
   "outputs": [],
   "source": [
    "def single_linkage()"
   ]
  },
  {
   "cell_type": "code",
   "execution_count": null,
   "metadata": {},
   "outputs": [],
   "source": [
    "def hierarchical_clustering(data, linkage, no_of_cluster):\n",
    "    # tính ma trận khoảng cách của tất cả các mẫu trong data\n",
    "    dist = cdist(data, data)\n",
    "    # gán mỗi điểm dữ liệu như một cụm đơn\n",
    "    labels = [np.arange(data.shape[0])]\n",
    "    \n",
    "    \n",
    "    \n",
    "        "
   ]
  },
  {
   "cell_type": "code",
   "execution_count": 17,
   "metadata": {},
   "outputs": [
    {
     "name": "stdout",
     "output_type": "stream",
     "text": [
      "True\n"
     ]
    }
   ],
   "source": [
    "d = {}\n",
    "d[0] = [(10, 5)]\n",
    "d[1] = (11,2)\n",
    "print(2 not in d)"
   ]
  },
  {
   "cell_type": "code",
   "execution_count": null,
   "metadata": {},
   "outputs": [],
   "source": []
  }
 ],
 "metadata": {
  "kernelspec": {
   "display_name": "Python 3",
   "language": "python",
   "name": "python3"
  },
  "language_info": {
   "codemirror_mode": {
    "name": "ipython",
    "version": 3
   },
   "file_extension": ".py",
   "mimetype": "text/x-python",
   "name": "python",
   "nbconvert_exporter": "python",
   "pygments_lexer": "ipython3",
   "version": "3.8.3"
  }
 },
 "nbformat": 4,
 "nbformat_minor": 4
}
