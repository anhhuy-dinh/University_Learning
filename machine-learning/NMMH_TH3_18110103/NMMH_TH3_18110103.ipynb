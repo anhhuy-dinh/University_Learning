{
  "nbformat": 4,
  "nbformat_minor": 0,
  "metadata": {
    "colab": {
      "name": "NMMH_TH3_18110103.ipynb",
      "provenance": [],
      "collapsed_sections": []
    },
    "kernelspec": {
      "name": "python3",
      "display_name": "Python 3"
    },
    "language_info": {
      "name": "python"
    }
  },
  "cells": [
    {
      "cell_type": "markdown",
      "metadata": {
        "id": "OEEvdhTT3FmV"
      },
      "source": [
        "## Machine Learning - Lab 03 - Logistic Regression \n",
        "* Full name: Đinh Anh Huy\n",
        "* Student ID: 18110103"
      ]
    },
    {
      "cell_type": "code",
      "metadata": {
        "id": "zTEcbx-b0uVF"
      },
      "source": [
        "import numpy as np\n",
        "import pandas as pd\n",
        "import seaborn as sns\n",
        "import matplotlib.pyplot as plt\n",
        "from sklearn.model_selection import train_test_split\n",
        "from sklearn.linear_model import LogisticRegression\n",
        "from sklearn.metrics import accuracy_score"
      ],
      "execution_count": 1,
      "outputs": []
    },
    {
      "cell_type": "code",
      "metadata": {
        "id": "dTtlTPEq3ObO"
      },
      "source": [
        "def sigmoid(x):\n",
        "  return 1/(1+np.exp((-1)*x))\n",
        "\n",
        "def softmax(x):\n",
        "  return np.exp(x) / np.sum(np.exp(x),axis=1).reshape(-1,1)\n",
        "\n",
        "class Logistic_Regression:\n",
        "  def __init__(self, learning_rate=0.01, max_iters=1000, random_state=0, batch_size=None, activation_function = None):\n",
        "    self.W = None\n",
        "    self.batch_size = batch_size\n",
        "    self.random_state = random_state\n",
        "    self.lr = learning_rate\n",
        "    self.max_iters = max_iters\n",
        "    self.loss_values = []\n",
        "    self.weights = []\n",
        "    self.function = activation_function\n",
        "\n",
        "  def init_W(self, X, y):\n",
        "    np.random.seed(self.random_state)\n",
        "    no_labels = np.unique(y).size\n",
        "    if no_labels <= 2:\n",
        "      self.W = np.random.randn(X.shape[1]+1, 1)\n",
        "    else:\n",
        "      self.W = np.random.randn(X.shape[1]+1, no_labels)\n",
        "  \n",
        "  def init_function(self, y):\n",
        "    if self.function == None: \n",
        "      if np.unique(y).size == 2:\n",
        "        self.function = \"sigmoid\"\n",
        "      else:\n",
        "        self.function = \"softmax\"\n",
        "\n",
        "  def gradient(self, X, y, prediction):\n",
        "    if self.function == \"sigmoid\":\n",
        "      return np.mean((prediction - y)*X, axis=0).reshape(-1,1)\n",
        "    else:\n",
        "      a = prediction - y\n",
        "      gradient = np.zeros([X.shape[1],y.shape[1]])\n",
        "      for i in range(y.shape[1]):\n",
        "        gradient[:,i:i+1] = np.mean(a[:,i:i+1]*X, axis=0).reshape(-1,1)\n",
        "      return gradient\n",
        "\n",
        "  def updateWeights(self, theta_old, gradient, learning_rate):\n",
        "    return theta_old - learning_rate*gradient\n",
        "\n",
        "  def computeLoss(self, X, y, prediction):\n",
        "    if self.function == \"sigmoid\":\n",
        "      return -np.mean((y*np.log(prediction) + (1-y)*np.log(1-prediction)), axis=0)\n",
        "    else:\n",
        "      for i in range(y.shape[1]):\n",
        "        error = (-1*y) * np.log(prediction)\n",
        "        error = np.sum(np.mean(error, axis=0))\n",
        "      return error\n",
        "\n",
        "  def prediction(self, X):\n",
        "    Z = X.dot(self.W)\n",
        "    if self.function == \"sigmoid\":\n",
        "      return sigmoid(Z)\n",
        "    return softmax(Z)\n",
        "\n",
        "  def BGD(self, X, y):\n",
        "    for epoch in range(self.max_iters):\n",
        "      pred = self.prediction(X)\n",
        "      grad = self.gradient(X, y, pred)\n",
        "      self.W = self.updateWeights(self.W, grad, self.lr)\n",
        "\n",
        "      self.weights.append(self.W)\n",
        "      self.loss_values.append(self.computeLoss(X, y, pred))\n",
        "\n",
        "  def SGD(self, X, y):\n",
        "    for epoch in range(self.max_iters//X.shape[0]):\n",
        "      rd_id = np.random.permutation(X.shape[0])\n",
        "      for i in rd_id:\n",
        "        X_batch = X[j,:].reshape(1,-1)\n",
        "        y_batch = y[j,:].reshape(1,-1)\n",
        "        pred = self.prediction(X_batch)\n",
        "        grad = self.gradient(X_batch, y_batch, pred)\n",
        "        self.W = self.updateWeights(self.W, grad, self.lr)\n",
        "      self.weights.append(self.W)\n",
        "      self.loss_values.append(self.computeLoss(X, y, self.prediction(X)))        \n",
        "  \n",
        "  def Mini_BGD(self, X, y, batch_size):\n",
        "    first_X = X.copy()\n",
        "    first_y = y.copy()\n",
        "    for epoch in range(self.max_iters//(X.shape[0]//self.batch_size + 1)):\n",
        "      indices = np.random.permutation(X.shape[0])\n",
        "      first_X = first_X[indices]\n",
        "      first_y = first_y[indices]\n",
        "\n",
        "      temp = batch_size\n",
        "      for j in range(0, X.shape[0], batch_size):    \n",
        "        X_batch = first_X[j:temp, :]\n",
        "        y_batch = first_y[j:temp,:]\n",
        "        pred = self.prediction(X_batch)\n",
        "        grad = self.gradient(X_batch, y_batch, pred)\n",
        "        self.W = self.updateWeights(self.W, grad, self.lr)\n",
        "\n",
        "        temp = temp + batch_size if X.shape[0]-temp >= batch_size else X.shape[0]\n",
        "      self.weights.append(self.W)\n",
        "      self.loss_values.append(self.computeLoss(X, y, self.prediction(X)))\n",
        "    \n",
        "  def fit(self, X, y):\n",
        "    self.loss_values.clear()\n",
        "    self.weights.clear()\n",
        "    self.init_W(X, y)\n",
        "    self.init_function(y)\n",
        "\n",
        "    X1 = np.concatenate([np.ones([X.shape[0],1]), X], axis=1)\n",
        "    if self.function == \"softmax\":\n",
        "      y = onehot_encoder(y)\n",
        "    else:\n",
        "      y = y.reshape(-1, 1)\n",
        "    \n",
        "\n",
        "    if (self.batch_size == None) or (self.batch_size == X.shape[0]):\n",
        "      self.BGD(X1, y)\n",
        "    elif (self.batch_size > 1) and (self.batch_size < X.shape[0]):\n",
        "      self.Mini_BGD(X1, y, self.batch_size)\n",
        "    elif self.batch_size == 1:\n",
        "      self.SGD(X1, y)\n",
        "    else:\n",
        "      raise Exception(\"Batch size is impossible.\")\n",
        "\n",
        "  def predict(self, X):\n",
        "    X1 = np.concatenate([np.ones([X.shape[0],1]), X], axis=1)\n",
        "    Z = X1.dot(self.W)\n",
        "    if self.function == \"sigmoid\":\n",
        "      prediction = sigmoid(Z)\n",
        "      return np.where(prediction>0.5,1,0).reshape(1,-1)\n",
        "    else:\n",
        "      prediction = softmax(Z)\n",
        "      return np.argmax(prediction,axis=1)\n",
        "      \n",
        "\n",
        "  def coef_(self):\n",
        "    return self.W[1:,:]\n",
        "\n",
        "  def intercept_(self):\n",
        "    return self.W[1,:]\n",
        "\n",
        "  def score(self, X, y):\n",
        "    if self.function == \"sigmoid\":\n",
        "      y = y.reshape(1,-1).T\n",
        "    return np.mean(y==self.predict(X).T)"
      ],
      "execution_count": 2,
      "outputs": []
    },
    {
      "cell_type": "code",
      "metadata": {
        "id": "pwIGBOPLq_Pi"
      },
      "source": [
        "def scaler(X_train, X_test):\n",
        "  max = np.max(X_train,axis=0)\n",
        "  min = np.min(X_train,axis=0)\n",
        "\n",
        "  X_train = (X_train-min)/(max-min)\n",
        "  X_test = (X_test-min)/(max-min)\n",
        "  return X_train, X_test\n",
        "\n",
        "def onehot_encoder(y):\n",
        "  y_onehot = np.zeros( (y.size, y.max() + 1), dtype=int)\n",
        "  y_onehot[np.arange(y.size), y.reshape(-1)] = 1\n",
        "  return y_onehot"
      ],
      "execution_count": 3,
      "outputs": []
    },
    {
      "cell_type": "markdown",
      "metadata": {
        "id": "sfqCfZxBlH8X"
      },
      "source": [
        "### Bài tập 1. Hãy xây dựng mô hình logistic regression bằng tất cả các features trong file heart, so sánh với thư viện sklearn."
      ]
    },
    {
      "cell_type": "code",
      "metadata": {
        "colab": {
          "base_uri": "https://localhost:8080/",
          "height": 343
        },
        "id": "-bwfGfQIk7UY",
        "outputId": "77700d22-8fc4-473b-9579-2458d9c8b9bb"
      },
      "source": [
        "# Load data\n",
        "data = pd.read_csv(\"https://raw.githubusercontent.com/huynhthanh98/ML/master/lab-03/heart.csv\")\n",
        "data.head(10)"
      ],
      "execution_count": 4,
      "outputs": [
        {
          "output_type": "execute_result",
          "data": {
            "text/html": [
              "<div>\n",
              "<style scoped>\n",
              "    .dataframe tbody tr th:only-of-type {\n",
              "        vertical-align: middle;\n",
              "    }\n",
              "\n",
              "    .dataframe tbody tr th {\n",
              "        vertical-align: top;\n",
              "    }\n",
              "\n",
              "    .dataframe thead th {\n",
              "        text-align: right;\n",
              "    }\n",
              "</style>\n",
              "<table border=\"1\" class=\"dataframe\">\n",
              "  <thead>\n",
              "    <tr style=\"text-align: right;\">\n",
              "      <th></th>\n",
              "      <th>age</th>\n",
              "      <th>sex</th>\n",
              "      <th>cp</th>\n",
              "      <th>trestbps</th>\n",
              "      <th>chol</th>\n",
              "      <th>fbs</th>\n",
              "      <th>restecg</th>\n",
              "      <th>thalach</th>\n",
              "      <th>exang</th>\n",
              "      <th>oldpeak</th>\n",
              "      <th>slope</th>\n",
              "      <th>ca</th>\n",
              "      <th>thal</th>\n",
              "      <th>target</th>\n",
              "    </tr>\n",
              "  </thead>\n",
              "  <tbody>\n",
              "    <tr>\n",
              "      <th>0</th>\n",
              "      <td>63</td>\n",
              "      <td>1</td>\n",
              "      <td>3</td>\n",
              "      <td>145</td>\n",
              "      <td>233</td>\n",
              "      <td>1</td>\n",
              "      <td>0</td>\n",
              "      <td>150</td>\n",
              "      <td>0</td>\n",
              "      <td>2.3</td>\n",
              "      <td>0</td>\n",
              "      <td>0</td>\n",
              "      <td>1</td>\n",
              "      <td>1</td>\n",
              "    </tr>\n",
              "    <tr>\n",
              "      <th>1</th>\n",
              "      <td>37</td>\n",
              "      <td>1</td>\n",
              "      <td>2</td>\n",
              "      <td>130</td>\n",
              "      <td>250</td>\n",
              "      <td>0</td>\n",
              "      <td>1</td>\n",
              "      <td>187</td>\n",
              "      <td>0</td>\n",
              "      <td>3.5</td>\n",
              "      <td>0</td>\n",
              "      <td>0</td>\n",
              "      <td>2</td>\n",
              "      <td>1</td>\n",
              "    </tr>\n",
              "    <tr>\n",
              "      <th>2</th>\n",
              "      <td>41</td>\n",
              "      <td>0</td>\n",
              "      <td>1</td>\n",
              "      <td>130</td>\n",
              "      <td>204</td>\n",
              "      <td>0</td>\n",
              "      <td>0</td>\n",
              "      <td>172</td>\n",
              "      <td>0</td>\n",
              "      <td>1.4</td>\n",
              "      <td>2</td>\n",
              "      <td>0</td>\n",
              "      <td>2</td>\n",
              "      <td>1</td>\n",
              "    </tr>\n",
              "    <tr>\n",
              "      <th>3</th>\n",
              "      <td>56</td>\n",
              "      <td>1</td>\n",
              "      <td>1</td>\n",
              "      <td>120</td>\n",
              "      <td>236</td>\n",
              "      <td>0</td>\n",
              "      <td>1</td>\n",
              "      <td>178</td>\n",
              "      <td>0</td>\n",
              "      <td>0.8</td>\n",
              "      <td>2</td>\n",
              "      <td>0</td>\n",
              "      <td>2</td>\n",
              "      <td>1</td>\n",
              "    </tr>\n",
              "    <tr>\n",
              "      <th>4</th>\n",
              "      <td>57</td>\n",
              "      <td>0</td>\n",
              "      <td>0</td>\n",
              "      <td>120</td>\n",
              "      <td>354</td>\n",
              "      <td>0</td>\n",
              "      <td>1</td>\n",
              "      <td>163</td>\n",
              "      <td>1</td>\n",
              "      <td>0.6</td>\n",
              "      <td>2</td>\n",
              "      <td>0</td>\n",
              "      <td>2</td>\n",
              "      <td>1</td>\n",
              "    </tr>\n",
              "    <tr>\n",
              "      <th>5</th>\n",
              "      <td>57</td>\n",
              "      <td>1</td>\n",
              "      <td>0</td>\n",
              "      <td>140</td>\n",
              "      <td>192</td>\n",
              "      <td>0</td>\n",
              "      <td>1</td>\n",
              "      <td>148</td>\n",
              "      <td>0</td>\n",
              "      <td>0.4</td>\n",
              "      <td>1</td>\n",
              "      <td>0</td>\n",
              "      <td>1</td>\n",
              "      <td>1</td>\n",
              "    </tr>\n",
              "    <tr>\n",
              "      <th>6</th>\n",
              "      <td>56</td>\n",
              "      <td>0</td>\n",
              "      <td>1</td>\n",
              "      <td>140</td>\n",
              "      <td>294</td>\n",
              "      <td>0</td>\n",
              "      <td>0</td>\n",
              "      <td>153</td>\n",
              "      <td>0</td>\n",
              "      <td>1.3</td>\n",
              "      <td>1</td>\n",
              "      <td>0</td>\n",
              "      <td>2</td>\n",
              "      <td>1</td>\n",
              "    </tr>\n",
              "    <tr>\n",
              "      <th>7</th>\n",
              "      <td>44</td>\n",
              "      <td>1</td>\n",
              "      <td>1</td>\n",
              "      <td>120</td>\n",
              "      <td>263</td>\n",
              "      <td>0</td>\n",
              "      <td>1</td>\n",
              "      <td>173</td>\n",
              "      <td>0</td>\n",
              "      <td>0.0</td>\n",
              "      <td>2</td>\n",
              "      <td>0</td>\n",
              "      <td>3</td>\n",
              "      <td>1</td>\n",
              "    </tr>\n",
              "    <tr>\n",
              "      <th>8</th>\n",
              "      <td>52</td>\n",
              "      <td>1</td>\n",
              "      <td>2</td>\n",
              "      <td>172</td>\n",
              "      <td>199</td>\n",
              "      <td>1</td>\n",
              "      <td>1</td>\n",
              "      <td>162</td>\n",
              "      <td>0</td>\n",
              "      <td>0.5</td>\n",
              "      <td>2</td>\n",
              "      <td>0</td>\n",
              "      <td>3</td>\n",
              "      <td>1</td>\n",
              "    </tr>\n",
              "    <tr>\n",
              "      <th>9</th>\n",
              "      <td>57</td>\n",
              "      <td>1</td>\n",
              "      <td>2</td>\n",
              "      <td>150</td>\n",
              "      <td>168</td>\n",
              "      <td>0</td>\n",
              "      <td>1</td>\n",
              "      <td>174</td>\n",
              "      <td>0</td>\n",
              "      <td>1.6</td>\n",
              "      <td>2</td>\n",
              "      <td>0</td>\n",
              "      <td>2</td>\n",
              "      <td>1</td>\n",
              "    </tr>\n",
              "  </tbody>\n",
              "</table>\n",
              "</div>"
            ],
            "text/plain": [
              "   age  sex  cp  trestbps  chol  fbs  ...  exang  oldpeak  slope  ca  thal  target\n",
              "0   63    1   3       145   233    1  ...      0      2.3      0   0     1       1\n",
              "1   37    1   2       130   250    0  ...      0      3.5      0   0     2       1\n",
              "2   41    0   1       130   204    0  ...      0      1.4      2   0     2       1\n",
              "3   56    1   1       120   236    0  ...      0      0.8      2   0     2       1\n",
              "4   57    0   0       120   354    0  ...      1      0.6      2   0     2       1\n",
              "5   57    1   0       140   192    0  ...      0      0.4      1   0     1       1\n",
              "6   56    0   1       140   294    0  ...      0      1.3      1   0     2       1\n",
              "7   44    1   1       120   263    0  ...      0      0.0      2   0     3       1\n",
              "8   52    1   2       172   199    1  ...      0      0.5      2   0     3       1\n",
              "9   57    1   2       150   168    0  ...      0      1.6      2   0     2       1\n",
              "\n",
              "[10 rows x 14 columns]"
            ]
          },
          "metadata": {
            "tags": []
          },
          "execution_count": 4
        }
      ]
    },
    {
      "cell_type": "code",
      "metadata": {
        "id": "hTagCWN-m_qj"
      },
      "source": [
        "# Split data, 33% for test and 67% for train\n",
        "X = data.drop(['target'], axis=1)\n",
        "y = data['target']\n",
        "X_train, X_test, y_train, y_test = train_test_split(X.values, y.values, test_size=0.33, random_state=42)\n",
        "\n",
        "# Scale data using min-max method\n",
        "X_train, X_test = scaler(X_train, X_test)"
      ],
      "execution_count": 5,
      "outputs": []
    },
    {
      "cell_type": "code",
      "metadata": {
        "colab": {
          "base_uri": "https://localhost:8080/"
        },
        "id": "5bZs66Y1nNzY",
        "outputId": "3a99182e-510d-49c7-801a-b0e18e3c937c"
      },
      "source": [
        "lr = Logistic_Regression(learning_rate=0.1, max_iters=30000, random_state=10)\n",
        "lr.fit(X_train, y_train)\n",
        "for i in range(0, len(lr.loss_values), 1000):\n",
        "  print(\"Loss at iter {}: {}\".format(i, lr.loss_values[i]))\n",
        "print(\"\\n\", \"-\"*40, \"\\n\")\n",
        "print(\">> Final loss: \", lr.loss_values[-1])\n",
        "print(\">> Final W: \\n\", lr.W)"
      ],
      "execution_count": 6,
      "outputs": [
        {
          "output_type": "stream",
          "text": [
            "Loss at iter 0: [0.99859025]\n",
            "Loss at iter 1000: [0.34206429]\n",
            "Loss at iter 2000: [0.32313667]\n",
            "Loss at iter 3000: [0.31577836]\n",
            "Loss at iter 4000: [0.31207608]\n",
            "Loss at iter 5000: [0.31000355]\n",
            "Loss at iter 6000: [0.30877428]\n",
            "Loss at iter 7000: [0.30801748]\n",
            "Loss at iter 8000: [0.30753881]\n",
            "Loss at iter 9000: [0.30722959]\n",
            "Loss at iter 10000: [0.3070263]\n",
            "Loss at iter 11000: [0.30689058]\n",
            "Loss at iter 12000: [0.30679871]\n",
            "Loss at iter 13000: [0.30673572]\n",
            "Loss at iter 14000: [0.306692]\n",
            "Loss at iter 15000: [0.30666127]\n",
            "Loss at iter 16000: [0.30663943]\n",
            "Loss at iter 17000: [0.30662371]\n",
            "Loss at iter 18000: [0.30661226]\n",
            "Loss at iter 19000: [0.30660382]\n",
            "Loss at iter 20000: [0.30659753]\n",
            "Loss at iter 21000: [0.30659278]\n",
            "Loss at iter 22000: [0.30658917]\n",
            "Loss at iter 23000: [0.30658638]\n",
            "Loss at iter 24000: [0.30658421]\n",
            "Loss at iter 25000: [0.30658251]\n",
            "Loss at iter 26000: [0.30658116]\n",
            "Loss at iter 27000: [0.30658008]\n",
            "Loss at iter 28000: [0.30657922]\n",
            "Loss at iter 29000: [0.30657852]\n",
            "\n",
            " ---------------------------------------- \n",
            "\n",
            ">> Final loss:  [0.30657795]\n",
            ">> Final W: \n",
            " [[ 2.19167282]\n",
            " [ 1.00994856]\n",
            " [-1.45316221]\n",
            " [ 3.00421922]\n",
            " [-0.96587053]\n",
            " [-0.82193036]\n",
            " [ 0.32264186]\n",
            " [ 1.31644471]\n",
            " [ 1.92340993]\n",
            " [-1.16824963]\n",
            " [-2.52225591]\n",
            " [ 2.12561531]\n",
            " [-5.00528297]\n",
            " [-4.28452415]]\n"
          ],
          "name": "stdout"
        }
      ]
    },
    {
      "cell_type": "code",
      "metadata": {
        "colab": {
          "base_uri": "https://localhost:8080/",
          "height": 295
        },
        "id": "byQlAlH0oyYD",
        "outputId": "f8abbc6b-b2b0-426f-bffe-f0a758a321e6"
      },
      "source": [
        "# Plot loss versus interations\n",
        "fig, ax = plt.subplots()\n",
        "\n",
        "ax.plot(lr.loss_values)\n",
        "ax.set_title('Loss versus iterations')\n",
        "ax.set(xlabel='iterations', ylabel='loss')\n",
        "\n",
        "plt.show()"
      ],
      "execution_count": 7,
      "outputs": [
        {
          "output_type": "display_data",
          "data": {
            "image/png": "[encoded data removed]",
            "text/plain": [
              "<Figure size 432x288 with 1 Axes>"
            ]
          },
          "metadata": {
            "tags": [],
            "needs_background": "light"
          }
        }
      ]
    },
    {
      "cell_type": "code",
      "metadata": {
        "colab": {
          "base_uri": "https://localhost:8080/"
        },
        "id": "80JktnBPYYwF",
        "outputId": "78cbf952-4ec4-4cf0-e8d9-67afc07079cf"
      },
      "source": [
        "print(\">> Original label: \\n\", y_test)\n",
        "y_pred = lr.predict(X_test)\n",
        "print(\"\\n>> Predicted label: \\n\", y_pred.flatten())\n",
        "print(\"\\n>> Score: \", lr.score(X_test, y_test))"
      ],
      "execution_count": 8,
      "outputs": [
        {
          "output_type": "stream",
          "text": [
            ">> Original label: \n",
            " [0 0 1 0 1 1 1 0 0 1 1 1 1 0 1 1 1 0 0 0 1 0 0 1 1 0 0 1 0 1 1 0 0 1 1 0 1\n",
            " 1 1 1 1 1 1 1 1 0 0 1 0 0 0 0 1 1 0 0 0 1 0 0 0 1 0 0 1 0 1 1 1 0 1 1 0 1\n",
            " 0 1 0 0 0 1 1 0 1 1 1 0 0 1 1 1 1 1 1 1 1 1 1 1 1 0]\n",
            "\n",
            ">> Predicted label: \n",
            " [0 1 1 0 1 1 1 0 0 0 1 0 1 0 1 1 1 0 0 0 1 0 0 1 1 1 1 1 0 1 0 0 0 0 1 0 1\n",
            " 1 1 1 0 1 1 1 1 0 1 1 0 0 0 0 1 1 0 0 0 1 0 0 0 1 0 1 1 0 1 1 1 1 1 1 1 1\n",
            " 0 1 1 1 0 0 0 0 1 1 1 0 0 1 1 0 1 1 1 1 1 0 1 0 1 0]\n",
            "\n",
            ">> Score:  0.81\n"
          ],
          "name": "stdout"
        }
      ]
    },
    {
      "cell_type": "code",
      "metadata": {
        "colab": {
          "base_uri": "https://localhost:8080/"
        },
        "id": "JXNiSmw1MUQW",
        "outputId": "cec56388-40f5-48d0-cb79-ffdf1c1a997b"
      },
      "source": [
        "print(\">> Accuracy score: \", accuracy_score(y_test, y_pred.flatten()))"
      ],
      "execution_count": 9,
      "outputs": [
        {
          "output_type": "stream",
          "text": [
            ">> Accuracy score:  0.81\n"
          ],
          "name": "stdout"
        }
      ]
    },
    {
      "cell_type": "markdown",
      "metadata": {
        "id": "35R_63EapJDF"
      },
      "source": [
        "**Kết quả bài toán Logistic Regression với bộ dữ liệu *Heart* chạy bằng thư viện scikit-learn**"
      ]
    },
    {
      "cell_type": "code",
      "metadata": {
        "colab": {
          "base_uri": "https://localhost:8080/"
        },
        "id": "fRjSP4T40ZFn",
        "outputId": "5e3cad99-577d-4fe6-a3ab-1e5e4f425c9a"
      },
      "source": [
        "lr_sklearn = LogisticRegression(random_state=10)\n",
        "lr_sklearn.fit(X_train, y_train)\n",
        "\n",
        "y_pred_sklearn = lr_sklearn.predict(X_test)\n",
        "score_sklearn = lr_sklearn.score(X_test, y_test)\n",
        "\n",
        "print(\">> Original label: \\n\", y_test)\n",
        "print(\"\\n>> Predicted label: \\n\", y_pred_sklearn.flatten())\n",
        "print(\"\\n>> Score: \", score_sklearn)"
      ],
      "execution_count": 10,
      "outputs": [
        {
          "output_type": "stream",
          "text": [
            ">> Original label: \n",
            " [0 0 1 0 1 1 1 0 0 1 1 1 1 0 1 1 1 0 0 0 1 0 0 1 1 0 0 1 0 1 1 0 0 1 1 0 1\n",
            " 1 1 1 1 1 1 1 1 0 0 1 0 0 0 0 1 1 0 0 0 1 0 0 0 1 0 0 1 0 1 1 1 0 1 1 0 1\n",
            " 0 1 0 0 0 1 1 0 1 1 1 0 0 1 1 1 1 1 1 1 1 1 1 1 1 0]\n",
            "\n",
            ">> Predicted label: \n",
            " [0 1 1 0 1 1 1 0 0 0 1 0 1 0 1 1 1 0 0 0 1 0 0 1 1 1 1 0 0 1 0 0 0 0 1 0 1\n",
            " 1 1 1 0 1 1 1 1 0 1 1 0 0 0 0 1 1 0 0 0 1 0 0 0 1 0 1 1 0 1 1 1 1 1 1 0 1\n",
            " 0 1 1 1 0 0 0 0 1 1 1 0 0 1 1 0 1 1 1 1 1 0 1 0 1 0]\n",
            "\n",
            ">> Score:  0.81\n"
          ],
          "name": "stdout"
        }
      ]
    },
    {
      "cell_type": "code",
      "metadata": {
        "colab": {
          "base_uri": "https://localhost:8080/"
        },
        "id": "rCYj3AQKLi66",
        "outputId": "9a06d9d8-d51d-4b06-9873-52d3060225d3"
      },
      "source": [
        "print(\">> Accuracy score: \", accuracy_score(y_test, y_pred_sklearn))"
      ],
      "execution_count": 11,
      "outputs": [
        {
          "output_type": "stream",
          "text": [
            ">> Accuracy score:  0.81\n"
          ],
          "name": "stdout"
        }
      ]
    },
    {
      "cell_type": "markdown",
      "metadata": {
        "id": "2miKilgK5-Kg"
      },
      "source": [
        "### Bài tập 2. Hãy xây dựng mô hình softmax regression trên bộ Iris (nên Normalize data), so sánh với thư viện sklearn."
      ]
    },
    {
      "cell_type": "code",
      "metadata": {
        "id": "oFNlJb7D6Sm8"
      },
      "source": [
        "from sklearn.datasets import load_iris\n",
        "\n",
        "iris_data = load_iris()\n",
        "X = iris_data.data\n",
        "y = iris_data.target\n",
        "\n",
        "X_train2, X_test2, y_train2, y_test2 = train_test_split(X, y, test_size=0.33, random_state=57)\n",
        "X_train2, X_test2 = scaler(X_train2, X_test2)\n",
        "\n",
        "y_test_enc = onehot_encoder(y_test2)"
      ],
      "execution_count": 12,
      "outputs": []
    },
    {
      "cell_type": "code",
      "metadata": {
        "colab": {
          "base_uri": "https://localhost:8080/"
        },
        "id": "apURiLHMpqQV",
        "outputId": "345cd69c-fa6d-47f1-ace0-bf7c895ae617"
      },
      "source": [
        "lr2 = Logistic_Regression(learning_rate=0.01, max_iters=50000, random_state=0)\n",
        "lr2.fit(X_train2, y_train2)\n",
        "for i in range(0, len(lr2.loss_values), 2000):\n",
        "  print(\"Loss at iter {}: {}\".format(i, lr2.loss_values[i]))\n",
        "print(\"\\n\", \"-\"*40, \"\\n\")\n",
        "print(\">> Final loss: \", lr2.loss_values[-1])\n",
        "print(\">> Final W: \\n\", lr2.W)"
      ],
      "execution_count": 13,
      "outputs": [
        {
          "output_type": "stream",
          "text": [
            "Loss at iter 0: 1.9360183233931814\n",
            "Loss at iter 2000: 0.6313735604835801\n",
            "Loss at iter 4000: 0.5058452273146778\n",
            "Loss at iter 6000: 0.43961337025442104\n",
            "Loss at iter 8000: 0.3965167423272834\n",
            "Loss at iter 10000: 0.3653566373455009\n",
            "Loss at iter 12000: 0.341316064203433\n",
            "Loss at iter 14000: 0.3219258931905534\n",
            "Loss at iter 16000: 0.30577505777449804\n",
            "Loss at iter 18000: 0.29199347744864257\n",
            "Loss at iter 20000: 0.28001285438184487\n",
            "Loss at iter 22000: 0.2694445511483064\n",
            "Loss at iter 24000: 0.2600125240292316\n",
            "Loss at iter 26000: 0.25151432985447264\n",
            "Loss at iter 28000: 0.24379737828480139\n",
            "Loss at iter 30000: 0.23674389576466337\n",
            "Loss at iter 32000: 0.23026108332878803\n",
            "Loss at iter 34000: 0.22427448491044266\n",
            "Loss at iter 36000: 0.218723403289788\n",
            "Loss at iter 38000: 0.2135576584238891\n",
            "Loss at iter 40000: 0.20873524756489212\n",
            "Loss at iter 42000: 0.20422062459711524\n",
            "Loss at iter 44000: 0.1999834130698303\n",
            "Loss at iter 46000: 0.1959974285174081\n",
            "Loss at iter 48000: 0.19223992502560122\n",
            "\n",
            " ---------------------------------------- \n",
            "\n",
            ">> Final loss:  0.18869273222986915\n",
            ">> Final W: \n",
            " [[ 4.29673801  3.71487887 -4.86866935]\n",
            " [-0.49836716  1.93737415  1.69216632]\n",
            " [ 5.03214051 -1.78656939 -2.55005875]\n",
            " [-5.26186926  1.25865496  6.01212988]\n",
            " [-4.75749222 -1.33559133  7.41965953]]\n"
          ],
          "name": "stdout"
        }
      ]
    },
    {
      "cell_type": "code",
      "metadata": {
        "colab": {
          "base_uri": "https://localhost:8080/",
          "height": 295
        },
        "id": "zlkm9eF6GbEL",
        "outputId": "edee46f9-a3c3-41c2-8bda-3fe3ec9d9a38"
      },
      "source": [
        "fig, ax = plt.subplots()\n",
        "\n",
        "ax.plot(lr2.loss_values)\n",
        "ax.set_title('Loss versus iterations')\n",
        "ax.set(xlabel='iterations', ylabel='loss')\n",
        "\n",
        "plt.show()"
      ],
      "execution_count": 14,
      "outputs": [
        {
          "output_type": "display_data",
          "data": {
            "image/png": "[encoded data removed]",
            "text/plain": [
              "<Figure size 432x288 with 1 Axes>"
            ]
          },
          "metadata": {
            "tags": [],
            "needs_background": "light"
          }
        }
      ]
    },
    {
      "cell_type": "code",
      "metadata": {
        "colab": {
          "base_uri": "https://localhost:8080/"
        },
        "id": "tR5OPChWS6Jq",
        "outputId": "fa497bcb-777e-4c42-f2a3-320e6c929ca2"
      },
      "source": [
        "print(\">> Original label: \\n\", y_test2)\n",
        "y_pred2 = lr2.predict(X_test2)\n",
        "print(\"\\n>> Predicted label: \\n\", y_pred2)\n",
        "print(\"\\n>> Score: \", lr2.score(X_test2, y_test2))"
      ],
      "execution_count": 15,
      "outputs": [
        {
          "output_type": "stream",
          "text": [
            ">> Original label: \n",
            " [2 2 1 1 0 1 0 2 1 0 1 0 0 0 1 2 1 0 0 2 2 0 2 2 2 0 2 2 2 2 0 2 0 0 1 2 0\n",
            " 1 1 2 1 0 2 0 0 0 1 0 2 2]\n",
            "\n",
            ">> Predicted label: \n",
            " [2 1 1 1 0 1 0 2 1 0 1 0 0 0 1 2 1 0 0 2 2 0 2 2 2 0 2 2 2 2 0 2 0 0 1 2 0\n",
            " 1 1 2 1 0 2 0 0 0 1 0 2 2]\n",
            "\n",
            ">> Score:  0.98\n"
          ],
          "name": "stdout"
        }
      ]
    },
    {
      "cell_type": "code",
      "metadata": {
        "colab": {
          "base_uri": "https://localhost:8080/"
        },
        "id": "2guitpc_Nwjp",
        "outputId": "2708ed51-a9cb-4972-b6cf-525d2d5f75fc"
      },
      "source": [
        "print(\">> Accuracy score: \", accuracy_score(y_test2, y_pred2.flatten()))"
      ],
      "execution_count": 16,
      "outputs": [
        {
          "output_type": "stream",
          "text": [
            ">> Accuracy score:  0.98\n"
          ],
          "name": "stdout"
        }
      ]
    },
    {
      "cell_type": "markdown",
      "metadata": {
        "id": "2QBi9Wwap7Fy"
      },
      "source": [
        "**Kết quả bài toán Logistic Regression với bộ dữ liệu *Iris* chạy bằng thư viện scikit-learn**"
      ]
    },
    {
      "cell_type": "code",
      "metadata": {
        "colab": {
          "base_uri": "https://localhost:8080/"
        },
        "id": "RCVEX-XxaqKg",
        "outputId": "cb0bb3e1-cddb-4a4d-f441-5da17e7b4844"
      },
      "source": [
        "lr2_sklearn = LogisticRegression()\n",
        "lr2_sklearn.fit(X_train2, y_train2)\n",
        "\n",
        "y_pred2_sklearn = lr2_sklearn.predict(X_test2)\n",
        "score2_sklearn = lr2_sklearn.score(X_test2, y_test2)\n",
        "\n",
        "print(\">> Original label: \\n\", y_test2)\n",
        "print(\"\\n>> Predicted label: \\n\", y_pred2_sklearn)\n",
        "print(\"\\n>> Score: \", score2_sklearn)"
      ],
      "execution_count": 17,
      "outputs": [
        {
          "output_type": "stream",
          "text": [
            ">> Original label: \n",
            " [2 2 1 1 0 1 0 2 1 0 1 0 0 0 1 2 1 0 0 2 2 0 2 2 2 0 2 2 2 2 0 2 0 0 1 2 0\n",
            " 1 1 2 1 0 2 0 0 0 1 0 2 2]\n",
            "\n",
            ">> Predicted label: \n",
            " [2 1 1 1 0 1 0 2 1 0 1 0 0 0 1 2 1 0 0 2 2 0 2 2 2 0 2 2 2 2 0 2 0 0 1 2 0\n",
            " 1 1 2 1 0 2 0 0 0 1 0 2 2]\n",
            "\n",
            ">> Score:  0.98\n"
          ],
          "name": "stdout"
        }
      ]
    },
    {
      "cell_type": "code",
      "metadata": {
        "colab": {
          "base_uri": "https://localhost:8080/"
        },
        "id": "KQQ-MD9kOaU9",
        "outputId": "a6426e78-39e6-4b08-8e80-a4202be62a54"
      },
      "source": [
        "print(\">> Accuracy score: \", accuracy_score(y_test2, y_pred2_sklearn))"
      ],
      "execution_count": 18,
      "outputs": [
        {
          "output_type": "stream",
          "text": [
            ">> Accuracy score:  0.98\n"
          ],
          "name": "stdout"
        }
      ]
    }
  ]
}