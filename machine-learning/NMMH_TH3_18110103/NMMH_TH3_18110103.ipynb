{
  "nbformat": 4,
  "nbformat_minor": 0,
  "metadata": {
    "colab": {
      "name": "NMMH_TH3_18110103.ipynb",
      "provenance": [],
      "collapsed_sections": []
    },
    "kernelspec": {
      "name": "python3",
      "display_name": "Python 3"
    },
    "language_info": {
      "name": "python"
    }
  },
  "cells": [
    {
      "cell_type": "markdown",
      "metadata": {
        "id": "OEEvdhTT3FmV"
      },
      "source": [
        "## Machine Learning - Lab 03 - Logistic Regression \n",
        "* Full name: Đinh Anh Huy\n",
        "* Student ID: 18110103"
      ]
    },
    {
      "cell_type": "code",
      "metadata": {
        "id": "zTEcbx-b0uVF"
      },
      "source": [
        "import numpy as np\n",
        "import pandas as pd\n",
        "import seaborn as sns\n",
        "import matplotlib.pyplot as plt\n",
        "from sklearn.model_selection import train_test_split\n",
        "from sklearn.linear_model import LogisticRegression"
      ],
      "execution_count": 1,
      "outputs": []
    },
    {
      "cell_type": "code",
      "metadata": {
        "id": "dTtlTPEq3ObO"
      },
      "source": [
        "def sigmoid(x):\n",
        "  return 1/(1+np.exp((-1)*x))\n",
        "\n",
        "def softmax(x):\n",
        "  return np.exp(x) / np.sum(np.exp(x),axis=1).reshape(-1,1)\n",
        "\n",
        "class Logistic_Regression:\n",
        "  def __init__(self, learning_rate=0.01, max_iters=1000, random_state=0, batch_size=None, activation_function = None):\n",
        "    self.W = None\n",
        "    self.batch_size = batch_size\n",
        "    self.random_state = random_state\n",
        "    self.lr = learning_rate\n",
        "    self.max_iters = max_iters\n",
        "    self.loss_values = []\n",
        "    self.weights = []\n",
        "    self.function = activation_function\n",
        "\n",
        "  def init_W(self, X, y):\n",
        "    np.random.seed(self.random_state)\n",
        "    no_labels = np.unique(y).size\n",
        "    if no_labels <= 2:\n",
        "      self.W = np.random.randn(X.shape[1]+1, 1)\n",
        "    else:\n",
        "      self.W = np.random.randn(X.shape[1]+1, no_labels)\n",
        "  \n",
        "  def init_function(self, y):\n",
        "    if self.function == None: \n",
        "      if np.unique(y).size == 2:\n",
        "        self.function = \"sigmoid\"\n",
        "      else:\n",
        "        self.function = \"softmax\"\n",
        "\n",
        "  def gradient(self, X, y, prediction):\n",
        "    if self.function == \"sigmoid\":\n",
        "      return np.mean((prediction - y)*X, axis=0).reshape(-1,1)\n",
        "    else:\n",
        "      a = prediction - y\n",
        "      gradient = np.zeros([X.shape[1],y.shape[1]])\n",
        "      for i in range(y.shape[1]):\n",
        "        gradient[:,i:i+1] = np.mean(a[:,i:i+1]*X, axis=0).reshape(-1,1)\n",
        "      return gradient\n",
        "\n",
        "  def updateWeights(self, theta_old, gradient, learning_rate):\n",
        "    return theta_old - learning_rate*gradient\n",
        "\n",
        "  def computeLoss(self, X, y, prediction):\n",
        "    if self.function == \"sigmoid\":\n",
        "      return -np.mean((y*np.log(prediction) + (1-y)*np.log(1-prediction)), axis=0)\n",
        "    else:\n",
        "      for i in range(y.shape[1]):\n",
        "        error = (-1*y) * np.log(prediction)\n",
        "        error = np.sum(np.mean(error, axis=0))\n",
        "      return error\n",
        "\n",
        "  def prediction(self, X):\n",
        "    Z = X.dot(self.W)\n",
        "    if self.function == \"sigmoid\":\n",
        "      return sigmoid(Z)\n",
        "    return softmax(Z)\n",
        "\n",
        "  def BGD(self, X, y):\n",
        "    for epoch in range(self.max_iters):\n",
        "      pred = self.prediction(X)\n",
        "      grad = self.gradient(X, y, pred)\n",
        "      self.W = self.updateWeights(self.W, grad, self.lr)\n",
        "\n",
        "      self.weights.append(self.W)\n",
        "      self.loss_values.append(self.computeLoss(X, y, pred))\n",
        "\n",
        "  def SGD(self, X, y):\n",
        "    for epoch in range(self.max_iters//X.shape[0]):\n",
        "      rd_id = np.random.permutation(X.shape[0])\n",
        "      for i in rd_id:\n",
        "        X_batch = X[j,:].reshape(1,-1)\n",
        "        y_batch = y[j,:].reshape(1,-1)\n",
        "        pred = self.prediction(X_batch)\n",
        "        grad = self.gradient(X_batch, y_batch, pred)\n",
        "        self.W = self.updateWeights(self.W, grad, self.lr)\n",
        "      self.weights.append(self.W)\n",
        "      self.loss_values.append(self.computeLoss(X, y, self.prediction(X)))        \n",
        "  \n",
        "  def Mini_BGD(self, X, y, batch_size):\n",
        "    first_X = X.copy()\n",
        "    first_y = y.copy()\n",
        "    for epoch in range(self.max_iters//(X.shape[0]//self.batch_size + 1)):\n",
        "      indices = np.random.permutation(X.shape[0])\n",
        "      first_X = first_X[indices]\n",
        "      first_y = first_y[indices]\n",
        "\n",
        "      temp = batch_size\n",
        "      for j in range(0, X.shape[0], batch_size):    \n",
        "        X_batch = first_X[j:temp, :]\n",
        "        y_batch = first_y[j:temp,:]\n",
        "        pred = self.prediction(X_batch)\n",
        "        grad = self.gradient(X_batch, y_batch, pred)\n",
        "        self.W = self.updateWeights(self.W, grad, self.lr)\n",
        "\n",
        "        temp = temp + batch_size if X.shape[0]-temp >= batch_size else X.shape[0]\n",
        "      self.weights.append(self.W)\n",
        "      self.loss_values.append(self.computeLoss(X, y, self.prediction(X)))\n",
        "    \n",
        "  def fit(self, X, y):\n",
        "    self.loss_values.clear()\n",
        "    self.weights.clear()\n",
        "    self.init_W(X, y)\n",
        "    self.init_function(y)\n",
        "\n",
        "    X1 = np.concatenate([np.ones([X.shape[0],1]), X], axis=1)\n",
        "    if self.function == \"softmax\":\n",
        "      y = onehot_encoder(y)\n",
        "    else:\n",
        "      y = y.reshape(-1, 1)\n",
        "    \n",
        "\n",
        "    if (self.batch_size == None) or (self.batch_size == X.shape[0]):\n",
        "      self.BGD(X1, y)\n",
        "    elif (self.batch_size > 1) and (self.batch_size < X.shape[0]):\n",
        "      self.Mini_BGD(X1, y, self.batch_size)\n",
        "    elif self.batch_size == 1:\n",
        "      self.SGD(X1, y)\n",
        "    else:\n",
        "      raise Exception(\"Batch size is impossible.\")\n",
        "\n",
        "  def predict(self, X):\n",
        "    X1 = np.concatenate([np.ones([X.shape[0],1]), X], axis=1)\n",
        "    Z = X1.dot(self.W)\n",
        "    if self.function == \"sigmoid\":\n",
        "      prediction = sigmoid(Z)\n",
        "      return np.where(prediction>0.5,1,0).reshape(1,-1)\n",
        "    else:\n",
        "      prediction = softmax(Z)\n",
        "      return np.argmax(prediction,axis=1)\n",
        "      \n",
        "\n",
        "  def coef_(self):\n",
        "    return self.W[1:,:]\n",
        "\n",
        "  def intercept_(self):\n",
        "    return self.W[1,:]\n",
        "\n",
        "  def score(self, X, y):\n",
        "    if self.function == \"sigmoid\":\n",
        "      y = y.reshape(1,-1).T\n",
        "    return np.mean(y==self.predict(X).T)"
      ],
      "execution_count": 2,
      "outputs": []
    },
    {
      "cell_type": "code",
      "metadata": {
        "id": "pwIGBOPLq_Pi"
      },
      "source": [
        "def scaler(X_train, X_test):\n",
        "  max = np.max(X_train,axis=0)\n",
        "  min = np.min(X_train,axis=0)\n",
        "\n",
        "  X_train = (X_train-min)/(max-min)\n",
        "  X_test = (X_test-min)/(max-min)\n",
        "  return X_train, X_test\n",
        "\n",
        "def onehot_encoder(y):\n",
        "  y_onehot = np.zeros( (y.size, y.max() + 1), dtype=int)\n",
        "  y_onehot[np.arange(y.size), y.reshape(-1)] = 1\n",
        "  return y_onehot"
      ],
      "execution_count": 3,
      "outputs": []
    },
    {
      "cell_type": "markdown",
      "metadata": {
        "id": "sfqCfZxBlH8X"
      },
      "source": [
        "### Bài tập 1. Hãy xây dựng mô hình logistic regression bằng tất cả các features trong file heart, so sánh với thư viện sklearn."
      ]
    },
    {
      "cell_type": "code",
      "metadata": {
        "colab": {
          "base_uri": "https://localhost:8080/",
          "height": 343
        },
        "id": "-bwfGfQIk7UY",
        "outputId": "e45e4986-ebfc-4320-8236-40de45585c6e"
      },
      "source": [
        "# Load data\n",
        "data = pd.read_csv(\"https://raw.githubusercontent.com/huynhthanh98/ML/master/lab-03/heart.csv\")\n",
        "data.head(10)"
      ],
      "execution_count": 4,
      "outputs": [
        {
          "output_type": "execute_result",
          "data": {
            "text/html": [
              "<div>\n",
              "<style scoped>\n",
              "    .dataframe tbody tr th:only-of-type {\n",
              "        vertical-align: middle;\n",
              "    }\n",
              "\n",
              "    .dataframe tbody tr th {\n",
              "        vertical-align: top;\n",
              "    }\n",
              "\n",
              "    .dataframe thead th {\n",
              "        text-align: right;\n",
              "    }\n",
              "</style>\n",
              "<table border=\"1\" class=\"dataframe\">\n",
              "  <thead>\n",
              "    <tr style=\"text-align: right;\">\n",
              "      <th></th>\n",
              "      <th>age</th>\n",
              "      <th>sex</th>\n",
              "      <th>cp</th>\n",
              "      <th>trestbps</th>\n",
              "      <th>chol</th>\n",
              "      <th>fbs</th>\n",
              "      <th>restecg</th>\n",
              "      <th>thalach</th>\n",
              "      <th>exang</th>\n",
              "      <th>oldpeak</th>\n",
              "      <th>slope</th>\n",
              "      <th>ca</th>\n",
              "      <th>thal</th>\n",
              "      <th>target</th>\n",
              "    </tr>\n",
              "  </thead>\n",
              "  <tbody>\n",
              "    <tr>\n",
              "      <th>0</th>\n",
              "      <td>63</td>\n",
              "      <td>1</td>\n",
              "      <td>3</td>\n",
              "      <td>145</td>\n",
              "      <td>233</td>\n",
              "      <td>1</td>\n",
              "      <td>0</td>\n",
              "      <td>150</td>\n",
              "      <td>0</td>\n",
              "      <td>2.3</td>\n",
              "      <td>0</td>\n",
              "      <td>0</td>\n",
              "      <td>1</td>\n",
              "      <td>1</td>\n",
              "    </tr>\n",
              "    <tr>\n",
              "      <th>1</th>\n",
              "      <td>37</td>\n",
              "      <td>1</td>\n",
              "      <td>2</td>\n",
              "      <td>130</td>\n",
              "      <td>250</td>\n",
              "      <td>0</td>\n",
              "      <td>1</td>\n",
              "      <td>187</td>\n",
              "      <td>0</td>\n",
              "      <td>3.5</td>\n",
              "      <td>0</td>\n",
              "      <td>0</td>\n",
              "      <td>2</td>\n",
              "      <td>1</td>\n",
              "    </tr>\n",
              "    <tr>\n",
              "      <th>2</th>\n",
              "      <td>41</td>\n",
              "      <td>0</td>\n",
              "      <td>1</td>\n",
              "      <td>130</td>\n",
              "      <td>204</td>\n",
              "      <td>0</td>\n",
              "      <td>0</td>\n",
              "      <td>172</td>\n",
              "      <td>0</td>\n",
              "      <td>1.4</td>\n",
              "      <td>2</td>\n",
              "      <td>0</td>\n",
              "      <td>2</td>\n",
              "      <td>1</td>\n",
              "    </tr>\n",
              "    <tr>\n",
              "      <th>3</th>\n",
              "      <td>56</td>\n",
              "      <td>1</td>\n",
              "      <td>1</td>\n",
              "      <td>120</td>\n",
              "      <td>236</td>\n",
              "      <td>0</td>\n",
              "      <td>1</td>\n",
              "      <td>178</td>\n",
              "      <td>0</td>\n",
              "      <td>0.8</td>\n",
              "      <td>2</td>\n",
              "      <td>0</td>\n",
              "      <td>2</td>\n",
              "      <td>1</td>\n",
              "    </tr>\n",
              "    <tr>\n",
              "      <th>4</th>\n",
              "      <td>57</td>\n",
              "      <td>0</td>\n",
              "      <td>0</td>\n",
              "      <td>120</td>\n",
              "      <td>354</td>\n",
              "      <td>0</td>\n",
              "      <td>1</td>\n",
              "      <td>163</td>\n",
              "      <td>1</td>\n",
              "      <td>0.6</td>\n",
              "      <td>2</td>\n",
              "      <td>0</td>\n",
              "      <td>2</td>\n",
              "      <td>1</td>\n",
              "    </tr>\n",
              "    <tr>\n",
              "      <th>5</th>\n",
              "      <td>57</td>\n",
              "      <td>1</td>\n",
              "      <td>0</td>\n",
              "      <td>140</td>\n",
              "      <td>192</td>\n",
              "      <td>0</td>\n",
              "      <td>1</td>\n",
              "      <td>148</td>\n",
              "      <td>0</td>\n",
              "      <td>0.4</td>\n",
              "      <td>1</td>\n",
              "      <td>0</td>\n",
              "      <td>1</td>\n",
              "      <td>1</td>\n",
              "    </tr>\n",
              "    <tr>\n",
              "      <th>6</th>\n",
              "      <td>56</td>\n",
              "      <td>0</td>\n",
              "      <td>1</td>\n",
              "      <td>140</td>\n",
              "      <td>294</td>\n",
              "      <td>0</td>\n",
              "      <td>0</td>\n",
              "      <td>153</td>\n",
              "      <td>0</td>\n",
              "      <td>1.3</td>\n",
              "      <td>1</td>\n",
              "      <td>0</td>\n",
              "      <td>2</td>\n",
              "      <td>1</td>\n",
              "    </tr>\n",
              "    <tr>\n",
              "      <th>7</th>\n",
              "      <td>44</td>\n",
              "      <td>1</td>\n",
              "      <td>1</td>\n",
              "      <td>120</td>\n",
              "      <td>263</td>\n",
              "      <td>0</td>\n",
              "      <td>1</td>\n",
              "      <td>173</td>\n",
              "      <td>0</td>\n",
              "      <td>0.0</td>\n",
              "      <td>2</td>\n",
              "      <td>0</td>\n",
              "      <td>3</td>\n",
              "      <td>1</td>\n",
              "    </tr>\n",
              "    <tr>\n",
              "      <th>8</th>\n",
              "      <td>52</td>\n",
              "      <td>1</td>\n",
              "      <td>2</td>\n",
              "      <td>172</td>\n",
              "      <td>199</td>\n",
              "      <td>1</td>\n",
              "      <td>1</td>\n",
              "      <td>162</td>\n",
              "      <td>0</td>\n",
              "      <td>0.5</td>\n",
              "      <td>2</td>\n",
              "      <td>0</td>\n",
              "      <td>3</td>\n",
              "      <td>1</td>\n",
              "    </tr>\n",
              "    <tr>\n",
              "      <th>9</th>\n",
              "      <td>57</td>\n",
              "      <td>1</td>\n",
              "      <td>2</td>\n",
              "      <td>150</td>\n",
              "      <td>168</td>\n",
              "      <td>0</td>\n",
              "      <td>1</td>\n",
              "      <td>174</td>\n",
              "      <td>0</td>\n",
              "      <td>1.6</td>\n",
              "      <td>2</td>\n",
              "      <td>0</td>\n",
              "      <td>2</td>\n",
              "      <td>1</td>\n",
              "    </tr>\n",
              "  </tbody>\n",
              "</table>\n",
              "</div>"
            ],
            "text/plain": [
              "   age  sex  cp  trestbps  chol  fbs  ...  exang  oldpeak  slope  ca  thal  target\n",
              "0   63    1   3       145   233    1  ...      0      2.3      0   0     1       1\n",
              "1   37    1   2       130   250    0  ...      0      3.5      0   0     2       1\n",
              "2   41    0   1       130   204    0  ...      0      1.4      2   0     2       1\n",
              "3   56    1   1       120   236    0  ...      0      0.8      2   0     2       1\n",
              "4   57    0   0       120   354    0  ...      1      0.6      2   0     2       1\n",
              "5   57    1   0       140   192    0  ...      0      0.4      1   0     1       1\n",
              "6   56    0   1       140   294    0  ...      0      1.3      1   0     2       1\n",
              "7   44    1   1       120   263    0  ...      0      0.0      2   0     3       1\n",
              "8   52    1   2       172   199    1  ...      0      0.5      2   0     3       1\n",
              "9   57    1   2       150   168    0  ...      0      1.6      2   0     2       1\n",
              "\n",
              "[10 rows x 14 columns]"
            ]
          },
          "metadata": {
            "tags": []
          },
          "execution_count": 4
        }
      ]
    },
    {
      "cell_type": "code",
      "metadata": {
        "id": "hTagCWN-m_qj"
      },
      "source": [
        "# Split data, 33% for test and 67% for train\n",
        "X = data.drop(['target'], axis=1)\n",
        "y = data['target']\n",
        "X_train, X_test, y_train, y_test = train_test_split(X.values, y.values, test_size=0.33, random_state=42)\n",
        "\n",
        "# Scale data using min-max method\n",
        "X_train, X_test = scaler(X_train, X_test)"
      ],
      "execution_count": 5,
      "outputs": []
    },
    {
      "cell_type": "code",
      "metadata": {
        "colab": {
          "base_uri": "https://localhost:8080/"
        },
        "id": "5bZs66Y1nNzY",
        "outputId": "4be6d943-e11b-4629-882b-61b2b47bbf6f"
      },
      "source": [
        "lr_bgd = Logistic_Regression(learning_rate=0.1, max_iters=30000, random_state=10)\n",
        "lr_bgd.fit(X_train, y_train)\n",
        "for i in range(0, len(lr_bgd.loss_values), 1000):\n",
        "  print(\"Loss at iter {}: {}\".format(i, lr_bgd.loss_values[i]))\n",
        "print(\"\\n\", \"-\"*40, \"\\n\")\n",
        "print(\">> Final loss: \", lr_bgd.loss_values[-1])\n",
        "print(\">> Final W: \\n\", lr_bgd.W)"
      ],
      "execution_count": 6,
      "outputs": [
        {
          "output_type": "stream",
          "text": [
            "Loss at iter 0: [0.99859025]\n",
            "Loss at iter 1000: [0.34206429]\n",
            "Loss at iter 2000: [0.32313667]\n",
            "Loss at iter 3000: [0.31577836]\n",
            "Loss at iter 4000: [0.31207608]\n",
            "Loss at iter 5000: [0.31000355]\n",
            "Loss at iter 6000: [0.30877428]\n",
            "Loss at iter 7000: [0.30801748]\n",
            "Loss at iter 8000: [0.30753881]\n",
            "Loss at iter 9000: [0.30722959]\n",
            "Loss at iter 10000: [0.3070263]\n",
            "Loss at iter 11000: [0.30689058]\n",
            "Loss at iter 12000: [0.30679871]\n",
            "Loss at iter 13000: [0.30673572]\n",
            "Loss at iter 14000: [0.306692]\n",
            "Loss at iter 15000: [0.30666127]\n",
            "Loss at iter 16000: [0.30663943]\n",
            "Loss at iter 17000: [0.30662371]\n",
            "Loss at iter 18000: [0.30661226]\n",
            "Loss at iter 19000: [0.30660382]\n",
            "Loss at iter 20000: [0.30659753]\n",
            "Loss at iter 21000: [0.30659278]\n",
            "Loss at iter 22000: [0.30658917]\n",
            "Loss at iter 23000: [0.30658638]\n",
            "Loss at iter 24000: [0.30658421]\n",
            "Loss at iter 25000: [0.30658251]\n",
            "Loss at iter 26000: [0.30658116]\n",
            "Loss at iter 27000: [0.30658008]\n",
            "Loss at iter 28000: [0.30657922]\n",
            "Loss at iter 29000: [0.30657852]\n",
            "\n",
            " ---------------------------------------- \n",
            "\n",
            ">> Final loss:  [0.30657795]\n",
            ">> Final W: \n",
            " [[ 2.19167282]\n",
            " [ 1.00994856]\n",
            " [-1.45316221]\n",
            " [ 3.00421922]\n",
            " [-0.96587053]\n",
            " [-0.82193036]\n",
            " [ 0.32264186]\n",
            " [ 1.31644471]\n",
            " [ 1.92340993]\n",
            " [-1.16824963]\n",
            " [-2.52225591]\n",
            " [ 2.12561531]\n",
            " [-5.00528297]\n",
            " [-4.28452415]]\n"
          ],
          "name": "stdout"
        }
      ]
    },
    {
      "cell_type": "code",
      "metadata": {
        "colab": {
          "base_uri": "https://localhost:8080/",
          "height": 295
        },
        "id": "byQlAlH0oyYD",
        "outputId": "4c329f63-558f-422a-9dc4-b24221459054"
      },
      "source": [
        "# Plot loss versus interations\n",
        "fig, ax = plt.subplots()\n",
        "\n",
        "ax.plot(lr_bgd.loss_values)\n",
        "ax.set_title('Loss versus iterations')\n",
        "ax.set(xlabel='iterations', ylabel='loss')\n",
        "\n",
        "plt.show()"
      ],
      "execution_count": 7,
      "outputs": [
        {
          "output_type": "display_data",
          "data": {
            "image/png": "[encoded data removed]",
            "text/plain": [
              "<Figure size 432x288 with 1 Axes>"
            ]
          },
          "metadata": {
            "tags": [],
            "needs_background": "light"
          }
        }
      ]
    },
    {
      "cell_type": "code",
      "metadata": {
        "colab": {
          "base_uri": "https://localhost:8080/"
        },
        "id": "80JktnBPYYwF",
        "outputId": "8fbfe10d-d055-49b7-d07b-a3a51614385e"
      },
      "source": [
        "print(\">> Original label: \\n\", y_test)\n",
        "y_pred = lr_bgd.predict(X_test)\n",
        "print(\"\\n>> Predicted label: \\n\", y_pred)\n",
        "print(\"\\n>> Score: \", lr_bgd.score(X_test, y_test))"
      ],
      "execution_count": 8,
      "outputs": [
        {
          "output_type": "stream",
          "text": [
            ">> Original label: \n",
            " [0 0 1 0 1 1 1 0 0 1 1 1 1 0 1 1 1 0 0 0 1 0 0 1 1 0 0 1 0 1 1 0 0 1 1 0 1\n",
            " 1 1 1 1 1 1 1 1 0 0 1 0 0 0 0 1 1 0 0 0 1 0 0 0 1 0 0 1 0 1 1 1 0 1 1 0 1\n",
            " 0 1 0 0 0 1 1 0 1 1 1 0 0 1 1 1 1 1 1 1 1 1 1 1 1 0]\n",
            "\n",
            ">> Predicted label: \n",
            " [[0 1 1 0 1 1 1 0 0 0 1 0 1 0 1 1 1 0 0 0 1 0 0 1 1 1 1 1 0 1 0 0 0 0 1 0\n",
            "  1 1 1 1 0 1 1 1 1 0 1 1 0 0 0 0 1 1 0 0 0 1 0 0 0 1 0 1 1 0 1 1 1 1 1 1\n",
            "  1 1 0 1 1 1 0 0 0 0 1 1 1 0 0 1 1 0 1 1 1 1 1 0 1 0 1 0]]\n",
            "\n",
            ">> Score:  0.81\n"
          ],
          "name": "stdout"
        }
      ]
    },
    {
      "cell_type": "markdown",
      "metadata": {
        "id": "35R_63EapJDF"
      },
      "source": [
        "**Kết quả bài toán Logistic Regression với bộ dữ liệu *Heart* chạy bằng thư viện scikit-learn**"
      ]
    },
    {
      "cell_type": "code",
      "metadata": {
        "colab": {
          "base_uri": "https://localhost:8080/"
        },
        "id": "fRjSP4T40ZFn",
        "outputId": "07ccb78c-421b-47f4-cbdf-1dd91382be7b"
      },
      "source": [
        "lr = LogisticRegression(random_state=10)\n",
        "lr.fit(X_train, y_train)\n",
        "\n",
        "y_pred = lr.predict(X_test)\n",
        "score = lr.score(X_test, y_test)\n",
        "\n",
        "print(\">> Original label: \\n\", y_test)\n",
        "print(\"\\n>> Predicted label: \\n\", y_pred)\n",
        "print(\"\\n>> Score: \", score)"
      ],
      "execution_count": 9,
      "outputs": [
        {
          "output_type": "stream",
          "text": [
            ">> Original label: \n",
            " [0 0 1 0 1 1 1 0 0 1 1 1 1 0 1 1 1 0 0 0 1 0 0 1 1 0 0 1 0 1 1 0 0 1 1 0 1\n",
            " 1 1 1 1 1 1 1 1 0 0 1 0 0 0 0 1 1 0 0 0 1 0 0 0 1 0 0 1 0 1 1 1 0 1 1 0 1\n",
            " 0 1 0 0 0 1 1 0 1 1 1 0 0 1 1 1 1 1 1 1 1 1 1 1 1 0]\n",
            "\n",
            ">> Predicted label: \n",
            " [0 1 1 0 1 1 1 0 0 0 1 0 1 0 1 1 1 0 0 0 1 0 0 1 1 1 1 0 0 1 0 0 0 0 1 0 1\n",
            " 1 1 1 0 1 1 1 1 0 1 1 0 0 0 0 1 1 0 0 0 1 0 0 0 1 0 1 1 0 1 1 1 1 1 1 0 1\n",
            " 0 1 1 1 0 0 0 0 1 1 1 0 0 1 1 0 1 1 1 1 1 0 1 0 1 0]\n",
            "\n",
            ">> Score:  0.81\n"
          ],
          "name": "stdout"
        }
      ]
    },
    {
      "cell_type": "markdown",
      "metadata": {
        "id": "2miKilgK5-Kg"
      },
      "source": [
        "### Bài tập 2. Hãy xây dựng mô hình softmax regression trên bộ Iris (nên Normalize data), so sánh với thư viện sklearn."
      ]
    },
    {
      "cell_type": "code",
      "metadata": {
        "id": "oFNlJb7D6Sm8"
      },
      "source": [
        "from sklearn.datasets import load_iris\n",
        "\n",
        "iris_data = load_iris()\n",
        "X = iris_data.data\n",
        "y = iris_data.target\n",
        "\n",
        "X_train, X_test, y_train, y_test = train_test_split(X, y, test_size=0.33, random_state=42)\n",
        "X_train, X_test = scaler(X_train, X_test)\n",
        "\n",
        "y_test_enc = onehot_encoder(y_test)\n"
      ],
      "execution_count": 10,
      "outputs": []
    },
    {
      "cell_type": "code",
      "metadata": {
        "colab": {
          "base_uri": "https://localhost:8080/"
        },
        "id": "apURiLHMpqQV",
        "outputId": "5fe0747a-370e-4766-9d59-2be9d68cde6b"
      },
      "source": [
        "lr_bgd = Logistic_Regression(learning_rate=0.01, max_iters=200000, random_state=10)\n",
        "lr_bgd.fit(X_train, y_train)\n",
        "for i in range(0, len(lr_bgd.loss_values), 2000):\n",
        "  print(\"Loss at iter {}: {}\".format(i, lr_bgd.loss_values[i]))\n",
        "print(\"\\n\", \"-\"*40, \"\\n\")\n",
        "print(\">> Final loss: \", lr_bgd.loss_values[-1])\n",
        "print(\">> Final W: \\n\", lr_bgd.W)"
      ],
      "execution_count": 11,
      "outputs": [
        {
          "output_type": "stream",
          "text": [
            "Loss at iter 0: 1.4556966295110803\n",
            "Loss at iter 2000: 0.5347940280234592\n",
            "Loss at iter 4000: 0.45120846702235773\n",
            "Loss at iter 6000: 0.4023456612588975\n",
            "Loss at iter 8000: 0.3687728826088267\n",
            "Loss at iter 10000: 0.34356418857827625\n",
            "Loss at iter 12000: 0.3235391508439497\n",
            "Loss at iter 14000: 0.3070039834842857\n",
            "Loss at iter 16000: 0.2929636069989429\n",
            "Loss at iter 18000: 0.28079025624021947\n",
            "Loss at iter 20000: 0.27006547004337517\n",
            "Loss at iter 22000: 0.26049764345426313\n",
            "Loss at iter 24000: 0.2518759565630183\n",
            "Loss at iter 26000: 0.2440431897708213\n",
            "Loss at iter 28000: 0.23687894857665817\n",
            "Loss at iter 30000: 0.23028891292098014\n",
            "Loss at iter 32000: 0.22419771914379316\n",
            "Loss at iter 34000: 0.21854411057224526\n",
            "Loss at iter 36000: 0.2132775489207243\n",
            "Loss at iter 38000: 0.20835579210003435\n",
            "Loss at iter 40000: 0.2037431269815665\n",
            "Loss at iter 42000: 0.1994090558074353\n",
            "Loss at iter 44000: 0.1953273030932805\n",
            "Loss at iter 46000: 0.19147505309159485\n",
            "Loss at iter 48000: 0.18783235590606315\n",
            "Loss at iter 50000: 0.18438165888545335\n",
            "Loss at iter 52000: 0.18110743241724175\n",
            "Loss at iter 54000: 0.17799586780238483\n",
            "Loss at iter 56000: 0.17503463085296644\n",
            "Loss at iter 58000: 0.17221265906494904\n",
            "Loss at iter 60000: 0.1695199932335535\n",
            "Loss at iter 62000: 0.16694763656587736\n",
            "Loss at iter 64000: 0.16448743595099913\n",
            "Loss at iter 66000: 0.16213198124002434\n",
            "Loss at iter 68000: 0.15987451928334584\n",
            "Loss at iter 70000: 0.15770888015089474\n",
            "Loss at iter 72000: 0.15562941348060888\n",
            "Loss at iter 74000: 0.1536309333017507\n",
            "Loss at iter 76000: 0.15170866999255211\n",
            "Loss at iter 78000: 0.14985822827757633\n",
            "Loss at iter 80000: 0.1480755503649669\n",
            "Loss at iter 82000: 0.1463568834792256\n",
            "Loss at iter 84000: 0.14469875117011546\n",
            "Loss at iter 86000: 0.14309792787941633\n",
            "Loss at iter 88000: 0.14155141632959056\n",
            "Loss at iter 90000: 0.14005642736590712\n",
            "Loss at iter 92000: 0.13861036193914675\n",
            "Loss at iter 94000: 0.1372107949620812\n",
            "Loss at iter 96000: 0.13585546081126246\n",
            "Loss at iter 98000: 0.1345422402777447\n",
            "Loss at iter 100000: 0.13326914879733825\n",
            "Loss at iter 102000: 0.13203432581375624\n",
            "Loss at iter 104000: 0.13083602514732168\n",
            "Loss at iter 106000: 0.12967260625831273\n",
            "Loss at iter 108000: 0.12854252630805887\n",
            "Loss at iter 110000: 0.1274443329329117\n",
            "Loss at iter 112000: 0.12637665765655184\n",
            "Loss at iter 114000: 0.12533820987500488\n",
            "Loss at iter 116000: 0.12432777135644808\n",
            "Loss at iter 118000: 0.12334419120458398\n",
            "Loss at iter 120000: 0.12238638124016746\n",
            "Loss at iter 122000: 0.12145331176035296\n",
            "Loss at iter 124000: 0.12054400763996569\n",
            "Loss at iter 126000: 0.11965754474268131\n",
            "Loss at iter 128000: 0.11879304661352094\n",
            "Loss at iter 130000: 0.11794968142706808\n",
            "Loss at iter 132000: 0.11712665916846657\n",
            "Loss at iter 134000: 0.1163232290266006\n",
            "Loss at iter 136000: 0.1155386769809336\n",
            "Loss at iter 138000: 0.11477232356532036\n",
            "Loss at iter 140000: 0.11402352179374126\n",
            "Loss at iter 142000: 0.11329165523436513\n",
            "Loss at iter 144000: 0.11257613621964535\n",
            "Loss at iter 146000: 0.11187640418130936\n",
            "Loss at iter 148000: 0.111191924100139\n",
            "Loss at iter 150000: 0.11052218506137262\n",
            "Loss at iter 152000: 0.10986669890738618\n",
            "Loss at iter 154000: 0.1092249989800605\n",
            "Loss at iter 156000: 0.10859663894592067\n",
            "Loss at iter 158000: 0.10798119169773057\n",
            "Loss at iter 160000: 0.10737824832677975\n",
            "Loss at iter 162000: 0.10678741716059054\n",
            "Loss at iter 164000: 0.10620832286122034\n",
            "Loss at iter 166000: 0.10564060557973824\n",
            "Loss at iter 168000: 0.10508392016282242\n",
            "Loss at iter 170000: 0.10453793540775383\n",
            "Loss at iter 172000: 0.1040023333623886\n",
            "Loss at iter 174000: 0.10347680866696196\n",
            "Loss at iter 176000: 0.1029610679348279\n",
            "Loss at iter 178000: 0.10245482916946827\n",
            "Loss at iter 180000: 0.10195782121530536\n",
            "Loss at iter 182000: 0.10146978324005464\n",
            "Loss at iter 184000: 0.10099046424651305\n",
            "Loss at iter 186000: 0.10051962261184857\n",
            "Loss at iter 188000: 0.10005702565259281\n",
            "Loss at iter 190000: 0.09960244921367709\n",
            "Loss at iter 192000: 0.09915567727997483\n",
            "Loss at iter 194000: 0.09871650160891773\n",
            "Loss at iter 196000: 0.09828472138286573\n",
            "Loss at iter 198000: 0.09786014287999838\n",
            "\n",
            " ---------------------------------------- \n",
            "\n",
            ">> Final loss:  0.09744278622193912\n",
            ">> Final W: \n",
            " [[  6.23630774   4.38762457 -10.12246713]\n",
            " [ -3.30976168   2.24377814   0.95885009]\n",
            " [  6.74014935  -0.88360805  -5.47818975]\n",
            " [ -8.42483765  -0.49326194  10.37956294]\n",
            " [ -8.46300758  -3.08026283  11.83510895]]\n"
          ],
          "name": "stdout"
        }
      ]
    },
    {
      "cell_type": "code",
      "metadata": {
        "colab": {
          "base_uri": "https://localhost:8080/",
          "height": 295
        },
        "id": "zlkm9eF6GbEL",
        "outputId": "587edbc3-b836-46a9-83e2-a93ab83c6373"
      },
      "source": [
        "fig, ax = plt.subplots()\n",
        "\n",
        "ax.plot(lr_bgd.loss_values)\n",
        "ax.set_title('Loss versus iterations')\n",
        "ax.set(xlabel='iterations', ylabel='loss')\n",
        "\n",
        "plt.show()"
      ],
      "execution_count": 12,
      "outputs": [
        {
          "output_type": "display_data",
          "data": {
            "image/png": "[encoded data removed]",
            "text/plain": [
              "<Figure size 432x288 with 1 Axes>"
            ]
          },
          "metadata": {
            "tags": [],
            "needs_background": "light"
          }
        }
      ]
    },
    {
      "cell_type": "code",
      "metadata": {
        "colab": {
          "base_uri": "https://localhost:8080/"
        },
        "id": "tR5OPChWS6Jq",
        "outputId": "fe9fb8fc-08d6-46e1-ff92-af7cb8b1de57"
      },
      "source": [
        "print(\">> Original label: \\n\", y_test)\n",
        "y_pred = lr_bgd.predict(X_test)\n",
        "print(\"\\n>> Predicted label: \\n\", y_pred)\n",
        "print(\"\\n>> Score: \", lr_bgd.score(X_test, y_test))"
      ],
      "execution_count": 13,
      "outputs": [
        {
          "output_type": "stream",
          "text": [
            ">> Original label: \n",
            " [1 0 2 1 1 0 1 2 1 1 2 0 0 0 0 1 2 1 1 2 0 2 0 2 2 2 2 2 0 0 0 0 1 0 0 2 1\n",
            " 0 0 0 2 1 1 0 0 1 2 2 1 2]\n",
            "\n",
            ">> Predicted label: \n",
            " [1 0 2 1 1 0 1 2 1 1 2 0 0 0 0 1 2 1 1 2 0 2 0 2 2 2 2 2 0 0 0 0 1 0 0 2 1\n",
            " 0 0 0 2 1 1 0 0 1 1 2 1 2]\n",
            "\n",
            ">> Score:  0.98\n"
          ],
          "name": "stdout"
        }
      ]
    },
    {
      "cell_type": "markdown",
      "metadata": {
        "id": "2QBi9Wwap7Fy"
      },
      "source": [
        "**Kết quả bài toán Logistic Regression với bộ dữ liệu *Iris* chạy bằng thư viện scikit-learn**"
      ]
    },
    {
      "cell_type": "code",
      "metadata": {
        "colab": {
          "base_uri": "https://localhost:8080/"
        },
        "id": "RCVEX-XxaqKg",
        "outputId": "12c86e71-471f-464e-fe94-05e3884ee571"
      },
      "source": [
        "lr = LogisticRegression(random_state=10)\n",
        "lr.fit(X_train, y_train)\n",
        "\n",
        "y_pred = lr.predict(X_test)\n",
        "score = lr.score(X_test, y_test)\n",
        "\n",
        "print(\">> Original label: \\n\", y_test)\n",
        "print(\"\\n>> Predicted label: \\n\", y_pred)\n",
        "print(\"\\n>> Score: \", score)"
      ],
      "execution_count": 14,
      "outputs": [
        {
          "output_type": "stream",
          "text": [
            ">> Original label: \n",
            " [1 0 2 1 1 0 1 2 1 1 2 0 0 0 0 1 2 1 1 2 0 2 0 2 2 2 2 2 0 0 0 0 1 0 0 2 1\n",
            " 0 0 0 2 1 1 0 0 1 2 2 1 2]\n",
            "\n",
            ">> Predicted label: \n",
            " [1 0 2 1 1 0 1 2 1 1 2 0 0 0 0 2 2 1 1 2 0 2 0 2 2 2 2 2 0 0 0 0 1 0 0 2 2\n",
            " 0 0 0 2 2 2 0 0 1 1 2 1 2]\n",
            "\n",
            ">> Score:  0.9\n"
          ],
          "name": "stdout"
        }
      ]
    }
  ]
}