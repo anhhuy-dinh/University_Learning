{
 "cells": [
  {
   "cell_type": "markdown",
   "metadata": {},
   "source": [
    "## Machine Learning - Lab 01\n",
    "* Full name: Đinh Anh Huy\n",
    "* Student ID: 18110103"
   ]
  },
  {
   "cell_type": "code",
   "execution_count": 1,
   "metadata": {},
   "outputs": [],
   "source": [
    "# Import library\n",
    "import numpy as np \n",
    "import matplotlib.pyplot as plt \n",
    "import random\n",
    "import pandas as pd\n",
    "from sklearn import datasets"
   ]
  },
  {
   "cell_type": "markdown",
   "metadata": {},
   "source": [
    "### 1. Hãy dùng bộ dữ liệu dibetes để thiết lập mô hình Linear Regresion."
   ]
  },
  {
   "cell_type": "code",
   "execution_count": 2,
   "metadata": {},
   "outputs": [
    {
     "name": "stdout",
     "output_type": "stream",
     "text": [
      ">> Shape of diabetes data except label:  (442, 10)\n",
      ">> Shape of training data: (440, 10) and testing data: (2, 10)  \n"
     ]
    }
   ],
   "source": [
    "# Read data\n",
    "diabetes_X, diabetes_y = datasets.load_diabetes(return_X_y=True)\n",
    "print(\">> Shape of diabetes data except label: \", diabetes_X.shape)\n",
    "\n",
    "# Split data: 2 for testing and the other for training\n",
    "diabetes_X_train, diabetes_y_train = diabetes_X[:-2], diabetes_y[:-2].reshape(1,-1).T\n",
    "diabetes_X_test, diabetes_y_test = diabetes_X[-2:], diabetes_y[-2:].reshape(1,-1).T\n",
    "print(\">> Shape of training data: {} and testing data: {}  \".format(diabetes_X_train.shape, diabetes_X_test.shape))"
   ]
  },
  {
   "cell_type": "code",
   "execution_count": 3,
   "metadata": {},
   "outputs": [],
   "source": [
    "def linear_regression_model(X_train, y_train, X_test, y_test):\n",
    "    # Add 1 into X_train\n",
    "    one_train = np.ones((X_train.shape[0], 1))\n",
    "    Xbar = np.concatenate((one_train, X_train), axis = 1)\n",
    "\n",
    "    # Calculate W\n",
    "    A = np.dot(Xbar.T, Xbar)\n",
    "    b = np.dot(Xbar.T, y_train)\n",
    "    W = np.dot(np.linalg.pinv(A), b)\n",
    "    \n",
    "    # Add 1 into X_test\n",
    "    one_test = np.ones((X_test.shape[0], 1))\n",
    "    Xbar = np.concatenate((one_test, X_test), axis = 1)\n",
    "    \n",
    "    # Calculate y_predict\n",
    "    y_predict = np.dot(Xbar, W)\n",
    "    \n",
    "    return W, y_predict"
   ]
  },
  {
   "cell_type": "code",
   "execution_count": 4,
   "metadata": {},
   "outputs": [
    {
     "name": "stdout",
     "output_type": "stream",
     "text": [
      "W = \n",
      " [[ 152.10620412]\n",
      " [  -9.38654069]\n",
      " [-239.50541995]\n",
      " [ 519.71747928]\n",
      " [ 324.62241148]\n",
      " [-788.75647584]\n",
      " [ 474.10341796]\n",
      " [  98.46801188]\n",
      " [ 175.8004285 ]\n",
      " [ 749.38200399]\n",
      " [  67.88567794]]\n",
      ">> Shape of W:  (11, 1)\n"
     ]
    }
   ],
   "source": [
    "W, y_predict = linear_regression_model(diabetes_X_train, diabetes_y_train, diabetes_X_test, diabetes_y_test)\n",
    "print(\"W = \\n\", W)\n",
    "print(\">> Shape of W: \", W.shape)"
   ]
  },
  {
   "cell_type": "markdown",
   "metadata": {},
   "source": [
    "### 2. Hãy tìm target values của *diabetes_X_test* rồi so sánh với target values trong *diabetes_y_test*."
   ]
  },
  {
   "cell_type": "code",
   "execution_count": 5,
   "metadata": {},
   "outputs": [
    {
     "name": "stdout",
     "output_type": "stream",
     "text": [
      "\n",
      ">> Predicted target values on testing set: \n",
      " [[211.74929866]\n",
      " [ 53.19292183]]\n",
      "\n",
      ">> Target values on testing set: \n",
      " [[220.]\n",
      " [ 57.]]\n",
      "\n",
      ">> Mean squared error of model:  41.283958422940856\n"
     ]
    }
   ],
   "source": [
    "MSE = np.square(np.subtract(diabetes_y_test, y_predict)).mean()\n",
    "\n",
    "print(\"\\n>> Predicted target values on testing set: \\n\", y_predict)\n",
    "print(\"\\n>> Target values on testing set: \\n\", diabetes_y_test)\n",
    "print(\"\\n>> Mean squared error of model: \", MSE)"
   ]
  },
  {
   "cell_type": "markdown",
   "metadata": {},
   "source": [
    "### 3. Tìm hiểu sklearn và làm lại yêu cầu câu 2."
   ]
  },
  {
   "cell_type": "code",
   "execution_count": 6,
   "metadata": {},
   "outputs": [
    {
     "name": "stdout",
     "output_type": "stream",
     "text": [
      ">> Matrix W except bias: \n",
      " [[  -9.38654069 -239.50541995  519.71747928  324.62241148 -788.75647584\n",
      "   474.10341796   98.46801188  175.8004285   749.38200399   67.88567794]]\n",
      "\n",
      ">> Bias:  [152.10620412]\n"
     ]
    }
   ],
   "source": [
    "from sklearn.linear_model import LinearRegression\n",
    "\n",
    "lr = LinearRegression()\n",
    "lr.fit(diabetes_X_train, diabetes_y_train)\n",
    "\n",
    "print(\">> Matrix W except bias: \\n\", lr.coef_)\n",
    "print(\"\\n>> Bias: \", lr.intercept_)"
   ]
  },
  {
   "cell_type": "code",
   "execution_count": 7,
   "metadata": {},
   "outputs": [
    {
     "name": "stdout",
     "output_type": "stream",
     "text": [
      ">> Predicted target values on testing set: \n",
      " [[211.74929866]\n",
      " [ 53.19292183]]\n",
      "\n",
      ">> Mean squared error of model:  41.283958422945254\n"
     ]
    }
   ],
   "source": [
    "y_pred = lr.predict(diabetes_X_test)\n",
    "print(\">> Predicted target values on testing set: \\n\", y_pred)\n",
    "\n",
    "from sklearn.metrics import mean_squared_error\n",
    "\n",
    "# Calculation of Mean Squared Error (MSE)\n",
    "MSE = mean_squared_error(diabetes_y_test, y_pred)\n",
    "print(\"\\n>> Mean squared error of model: \", MSE)"
   ]
  }
 ],
 "metadata": {
  "kernelspec": {
   "display_name": "Python 3",
   "language": "python",
   "name": "python3"
  },
  "language_info": {
   "codemirror_mode": {
    "name": "ipython",
    "version": 3
   },
   "file_extension": ".py",
   "mimetype": "text/x-python",
   "name": "python",
   "nbconvert_exporter": "python",
   "pygments_lexer": "ipython3",
   "version": "3.8.3"
  }
 },
 "nbformat": 4,
 "nbformat_minor": 4
}
