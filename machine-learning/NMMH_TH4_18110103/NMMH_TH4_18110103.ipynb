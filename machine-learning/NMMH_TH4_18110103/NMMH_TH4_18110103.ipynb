{
  "nbformat": 4,
  "nbformat_minor": 0,
  "metadata": {
    "colab": {
      "name": "NMMH_TH4_18110103.ipynb",
      "provenance": [],
      "collapsed_sections": []
    },
    "kernelspec": {
      "name": "python3",
      "display_name": "Python 3"
    },
    "language_info": {
      "name": "python"
    }
  },
  "cells": [
    {
      "cell_type": "markdown",
      "metadata": {
        "id": "KRIka6ehEvdX"
      },
      "source": [
        "## Machine Learning - Lab 04 - Naive Bayes Classification\n",
        "* Full name: Đinh Anh Huy\n",
        "* Student ID: 18110103"
      ]
    },
    {
      "cell_type": "code",
      "metadata": {
        "id": "qV6t_Zkr8RFt"
      },
      "source": [
        "import numpy as np\n",
        "import pandas as pd\n",
        "from sklearn.model_selection import train_test_split\n",
        "from sklearn.naive_bayes import GaussianNB, CategoricalNB\n",
        "from sklearn.preprocessing import LabelEncoder"
      ],
      "execution_count": null,
      "outputs": []
    },
    {
      "cell_type": "code",
      "metadata": {
        "id": "dTd4580yaLG2"
      },
      "source": [
        "def label_encoder(data):\n",
        "  label = LabelEncoder()\n",
        "  data_columns = data.dtypes.pipe(lambda X: X[X=='object']).index\n",
        "  for col in data_columns:\n",
        "      data[col] = label.fit_transform(data[col])\n",
        "  return data\n",
        "\n",
        "def classify_feature(X):\n",
        "  cate_feats = X.dtypes.pipe(lambda X: X[X=='object']).index\n",
        "  columns = list(X.columns)\n",
        "  cat_features = []\n",
        "  num_features = []\n",
        "  for i in range(X.shape[1]):\n",
        "    if columns[i] in cate_feats:\n",
        "      cat_features.append(i)\n",
        "    else:\n",
        "      num_features.append(i)\n",
        "  return cat_features, num_features\n",
        "\n",
        "def preprocessing(X, y, encoder=True):\n",
        "  X1 = X.copy()\n",
        "  y1 = y.copy()\n",
        "  if any(X1.isna().sum()) != 0:\n",
        "    rows_with_nan = [index for index, row in X1.iterrows() if row.isnull().any()]\n",
        "    X1 = X1.dropna()\n",
        "    y1 = y1.drop(index = rows_with_nan)\n",
        "  if encoder:\n",
        "    X1 = label_encoder(X1)\n",
        "  return X1, y1"
      ],
      "execution_count": null,
      "outputs": []
    },
    {
      "cell_type": "markdown",
      "metadata": {
        "id": "bl2s125UpOud"
      },
      "source": [
        "### Bài tập 1. Dùng các features: *Sex*, *Pclass*, và *Embarked* để xây dựng thuật toán *Naive Bayes Categorical*."
      ]
    },
    {
      "cell_type": "code",
      "metadata": {
        "id": "2WpSlXwzmJ1O"
      },
      "source": [
        "class Categorical_NB:\n",
        "  def __init__(self, alpha = 1):\n",
        "    self.class_priors = []\n",
        "    self.likelihoods = {}\n",
        "    # self.pred_priors = {}\n",
        "\n",
        "    self.train_size = int\n",
        "    self.num_feats = int\n",
        "    self.alpha = alpha\n",
        "\n",
        "  def _calc_class_prior(self, y):\n",
        "\n",
        "    \"\"\" P(c) - Prior Class Probability \"\"\"\n",
        "\n",
        "    for outcome in np.unique(y):\n",
        "      self.class_priors.append(sum(y == outcome) / self.train_size)\n",
        "\n",
        "  def _calc_likelihood(self, X, y):\n",
        "\n",
        "    \"\"\" P(x|c) - Likelihood \"\"\"\n",
        "\n",
        "    for feat in range(self.num_feats):\n",
        "      feature_col = X[:,feat]\n",
        "      for outcome in np.unique(y):\n",
        "        outcome_count = sum(y == outcome)\n",
        "        uniq, count = np.unique(feature_col[y == outcome], return_counts=True)\n",
        "        feat_likelihood = {a: b for a,b in zip(uniq, count)}\n",
        "\n",
        "        for feat_val, count in feat_likelihood.items():\n",
        "          self.likelihoods[feat][str(feat_val)+'_'+str(outcome)] = count / outcome_count\n",
        "\n",
        "  def get_likelihood(self, X):\n",
        "    likelihoods = {}\n",
        "    for outcome in range(len(self.class_priors)):  \n",
        "      temp = []\n",
        "      for query in X:\n",
        "        \n",
        "        likelihood = 1\n",
        "\n",
        "        for feat, feat_val in zip(range(self.num_feats), query):\n",
        "          likelihood *= self.likelihoods[feat][str(feat_val)+'_'+str(outcome)]\n",
        "        temp.append(likelihood)\n",
        "      likelihoods[outcome] = temp\n",
        "    return likelihoods\n",
        "\n",
        "  def fit(self, X, y):\n",
        "    if type(X) is not np.ndarray:\n",
        "      X = X.toarray()\n",
        "\n",
        "    self.train_size, self.num_feats = X.shape\n",
        "\n",
        "    for feature in range(self.num_feats):\n",
        "      self.likelihoods[feature] = {}\n",
        "\n",
        "      for feat_val in np.unique(X[:,feature]):\n",
        "        for outcome in np.unique(y):\n",
        "          self.likelihoods[feature].update({str(feat_val)+'_'+str(outcome): 0})\n",
        "          \n",
        "\n",
        "    self._calc_class_prior(y)\n",
        "    self._calc_likelihood(X,y)\n",
        "\n",
        "  def predict(self, X):\n",
        "\n",
        "    \"\"\" Calculates Posterior probability P(c|x) \"\"\"\n",
        "\n",
        "    results = []\n",
        "    if type(X) is not np.ndarray:\n",
        "      X = X.toarray()\n",
        "\n",
        "    likelihoods = self.get_likelihood(X)\n",
        "\n",
        "    for idx, query in enumerate(X):\n",
        "      probs_outcome = {}\n",
        "      for outcome in range(len(self.class_priors)):\n",
        "        prior = self.class_priors[outcome]\n",
        "        \n",
        "        posterior = (likelihoods[outcome][idx] * prior)\n",
        "\n",
        "        probs_outcome[outcome] = posterior\n",
        "    \n",
        "      result = max(probs_outcome, key = lambda x: probs_outcome[x])\n",
        "      results.append(result)\n",
        "\n",
        "    return np.array(results)\n",
        "\n",
        "  def score(self, X, y):\n",
        "    return np.mean(y==self.predict(X).T)"
      ],
      "execution_count": null,
      "outputs": []
    },
    {
      "cell_type": "code",
      "metadata": {
        "colab": {
          "base_uri": "https://localhost:8080/",
          "height": 195
        },
        "id": "n0xvIFfNGdMH",
        "outputId": "6cfb3fd5-7ec0-4c39-d4d3-1daf26eea00f"
      },
      "source": [
        "data=pd.read_csv('https://raw.githubusercontent.com/huynhthanh98/ML/master/lab-04/train.csv')\n",
        "data.head()"
      ],
      "execution_count": null,
      "outputs": [
        {
          "output_type": "execute_result",
          "data": {
            "text/html": [
              "<div>\n",
              "<style scoped>\n",
              "    .dataframe tbody tr th:only-of-type {\n",
              "        vertical-align: middle;\n",
              "    }\n",
              "\n",
              "    .dataframe tbody tr th {\n",
              "        vertical-align: top;\n",
              "    }\n",
              "\n",
              "    .dataframe thead th {\n",
              "        text-align: right;\n",
              "    }\n",
              "</style>\n",
              "<table border=\"1\" class=\"dataframe\">\n",
              "  <thead>\n",
              "    <tr style=\"text-align: right;\">\n",
              "      <th></th>\n",
              "      <th>PassengerId</th>\n",
              "      <th>Survived</th>\n",
              "      <th>Pclass</th>\n",
              "      <th>Name</th>\n",
              "      <th>Sex</th>\n",
              "      <th>Age</th>\n",
              "      <th>SibSp</th>\n",
              "      <th>Parch</th>\n",
              "      <th>Ticket</th>\n",
              "      <th>Fare</th>\n",
              "      <th>Cabin</th>\n",
              "      <th>Embarked</th>\n",
              "    </tr>\n",
              "  </thead>\n",
              "  <tbody>\n",
              "    <tr>\n",
              "      <th>0</th>\n",
              "      <td>1</td>\n",
              "      <td>0</td>\n",
              "      <td>3</td>\n",
              "      <td>Braund, Mr. Owen Harris</td>\n",
              "      <td>male</td>\n",
              "      <td>22.0</td>\n",
              "      <td>1</td>\n",
              "      <td>0</td>\n",
              "      <td>A/5 21171</td>\n",
              "      <td>7.2500</td>\n",
              "      <td>NaN</td>\n",
              "      <td>S</td>\n",
              "    </tr>\n",
              "    <tr>\n",
              "      <th>1</th>\n",
              "      <td>2</td>\n",
              "      <td>1</td>\n",
              "      <td>1</td>\n",
              "      <td>Cumings, Mrs. John Bradley (Florence Briggs Th...</td>\n",
              "      <td>female</td>\n",
              "      <td>38.0</td>\n",
              "      <td>1</td>\n",
              "      <td>0</td>\n",
              "      <td>PC 17599</td>\n",
              "      <td>71.2833</td>\n",
              "      <td>C85</td>\n",
              "      <td>C</td>\n",
              "    </tr>\n",
              "    <tr>\n",
              "      <th>2</th>\n",
              "      <td>3</td>\n",
              "      <td>1</td>\n",
              "      <td>3</td>\n",
              "      <td>Heikkinen, Miss. Laina</td>\n",
              "      <td>female</td>\n",
              "      <td>26.0</td>\n",
              "      <td>0</td>\n",
              "      <td>0</td>\n",
              "      <td>STON/O2. 3101282</td>\n",
              "      <td>7.9250</td>\n",
              "      <td>NaN</td>\n",
              "      <td>S</td>\n",
              "    </tr>\n",
              "    <tr>\n",
              "      <th>3</th>\n",
              "      <td>4</td>\n",
              "      <td>1</td>\n",
              "      <td>1</td>\n",
              "      <td>Futrelle, Mrs. Jacques Heath (Lily May Peel)</td>\n",
              "      <td>female</td>\n",
              "      <td>35.0</td>\n",
              "      <td>1</td>\n",
              "      <td>0</td>\n",
              "      <td>113803</td>\n",
              "      <td>53.1000</td>\n",
              "      <td>C123</td>\n",
              "      <td>S</td>\n",
              "    </tr>\n",
              "    <tr>\n",
              "      <th>4</th>\n",
              "      <td>5</td>\n",
              "      <td>0</td>\n",
              "      <td>3</td>\n",
              "      <td>Allen, Mr. William Henry</td>\n",
              "      <td>male</td>\n",
              "      <td>35.0</td>\n",
              "      <td>0</td>\n",
              "      <td>0</td>\n",
              "      <td>373450</td>\n",
              "      <td>8.0500</td>\n",
              "      <td>NaN</td>\n",
              "      <td>S</td>\n",
              "    </tr>\n",
              "  </tbody>\n",
              "</table>\n",
              "</div>"
            ],
            "text/plain": [
              "   PassengerId  Survived  Pclass  ...     Fare Cabin  Embarked\n",
              "0            1         0       3  ...   7.2500   NaN         S\n",
              "1            2         1       1  ...  71.2833   C85         C\n",
              "2            3         1       3  ...   7.9250   NaN         S\n",
              "3            4         1       1  ...  53.1000  C123         S\n",
              "4            5         0       3  ...   8.0500   NaN         S\n",
              "\n",
              "[5 rows x 12 columns]"
            ]
          },
          "metadata": {
            "tags": []
          },
          "execution_count": 4
        }
      ]
    },
    {
      "cell_type": "code",
      "metadata": {
        "id": "DRrOARy8LbzN",
        "colab": {
          "base_uri": "https://localhost:8080/"
        },
        "outputId": "c66115f6-abf8-4956-fa15-cc8b4f844e6c"
      },
      "source": [
        "X = data[[\"Sex\", \"Pclass\", \"Embarked\"]]\n",
        "y = data[\"Survived\"]\n",
        "print('>> Shape of X before preprocessing : ', X.shape)\n",
        "X, y = preprocessing(X,y)\n",
        "print('>> Shape of X after preprocessing : ', X.shape)\n",
        "\n",
        "X_train, X_test, y_train, y_test = train_test_split(X.values, y.values, test_size=0.2, random_state=42)"
      ],
      "execution_count": null,
      "outputs": [
        {
          "output_type": "stream",
          "text": [
            ">> Shape of X before preprocessing :  (891, 3)\n",
            ">> Shape of X after preprocessing :  (889, 3)\n"
          ],
          "name": "stdout"
        }
      ]
    },
    {
      "cell_type": "code",
      "metadata": {
        "colab": {
          "base_uri": "https://localhost:8080/"
        },
        "id": "oO4tHSxX0e2u",
        "outputId": "9b27596e-3a42-4046-c08f-d50f7ff7b0d7"
      },
      "source": [
        "cate_nb = Categorical_NB()\n",
        "cate_nb.fit(X_train, y_train)\n",
        "y_pred = cate_nb.predict(X_test)\n",
        "print('>> Accuracy score : ', cate_nb.score(X_test, y_test))\n",
        "print('>> Predicted label : \\n', cate_nb.predict(X_test))"
      ],
      "execution_count": null,
      "outputs": [
        {
          "output_type": "stream",
          "text": [
            ">> Accuracy score :  0.7808988764044944\n",
            ">> Predicted label : \n",
            " [0 1 1 0 1 0 0 0 1 1 0 1 0 0 0 0 1 0 0 0 1 1 0 1 0 1 0 1 0 0 0 1 0 1 0 0 1\n",
            " 1 0 0 0 1 0 0 0 1 1 0 0 1 1 1 0 0 1 1 1 0 0 0 1 1 1 0 1 0 0 0 1 1 0 1 1 0\n",
            " 1 1 0 0 1 0 1 1 1 1 0 0 0 0 0 0 0 1 0 0 0 1 0 0 0 0 0 1 1 0 0 0 1 1 0 0 0\n",
            " 1 0 1 0 0 0 0 1 0 0 1 0 0 1 1 1 1 1 0 1 0 0 0 1 1 0 1 1 1 1 0 1 1 1 0 0 1\n",
            " 0 1 0 1 0 0 0 1 0 0 0 1 0 1 0 0 1 1 1 0 0 1 1 1 1 0 1 1 1 1]\n"
          ],
          "name": "stdout"
        }
      ]
    },
    {
      "cell_type": "markdown",
      "metadata": {
        "id": "P6I0rUpYo2Rg"
      },
      "source": [
        "**Kết quả chạy bằng thư viện scikit-learn**"
      ]
    },
    {
      "cell_type": "code",
      "metadata": {
        "colab": {
          "base_uri": "https://localhost:8080/"
        },
        "id": "028eeEoNQzDS",
        "outputId": "9dc2be60-a9b3-4cc7-8de3-afaa8a0054ec"
      },
      "source": [
        "from sklearn.naive_bayes import CategoricalNB\n",
        "\n",
        "catenb_skl = CategoricalNB().fit(X_train, y_train)\n",
        "\n",
        "print('>> Accuracy score : ', catenb_skl.score(X_test,y_test))\n",
        "print('>> Predicted label : \\n', catenb_skl.predict(X_test))"
      ],
      "execution_count": null,
      "outputs": [
        {
          "output_type": "stream",
          "text": [
            ">> Accuracy score :  0.7808988764044944\n",
            ">> Predicted label : \n",
            " [0 1 1 0 1 0 0 0 1 1 0 1 0 0 0 0 1 0 0 0 1 1 0 1 0 1 0 1 0 0 0 1 0 1 0 0 1\n",
            " 1 0 0 0 1 0 0 0 1 1 0 0 1 1 1 0 0 1 1 1 0 0 0 1 1 1 0 1 0 0 0 1 1 0 1 1 0\n",
            " 1 1 0 0 1 0 1 1 1 1 0 0 0 0 0 0 0 1 0 0 0 1 0 0 0 0 0 1 1 0 0 0 1 1 0 0 0\n",
            " 1 0 1 0 0 0 0 1 0 0 1 0 0 1 1 1 1 1 0 1 0 0 0 1 1 0 1 1 1 1 0 1 1 1 0 0 1\n",
            " 0 1 0 1 0 0 0 1 0 0 0 1 0 1 0 0 1 1 1 0 0 1 1 1 1 0 1 1 1 1]\n"
          ],
          "name": "stdout"
        }
      ]
    },
    {
      "cell_type": "markdown",
      "metadata": {
        "id": "eQP5V0izoU1-"
      },
      "source": [
        "### Bài tập 2. Dùng các features: *SibSp*, *Parch* và *Fare* để xây dựng thuật toán *Naive Bayes Gaussian* (Không cần normalize)."
      ]
    },
    {
      "cell_type": "code",
      "metadata": {
        "id": "2FznV4PJt9qd"
      },
      "source": [
        "class Gaussian_NB:\n",
        "  def __init__(self, alpha = 1):\n",
        "    self.class_priors = []\n",
        "    self.likelihoods = {}\n",
        "\n",
        "    self.train_size = int\n",
        "    self.num_feats = int\n",
        "    self.alpha = alpha\n",
        "\n",
        "  def _calc_class_prior(self, y):\n",
        "\n",
        "    \"\"\" P(c) - Prior Class Probability \"\"\"\n",
        "\n",
        "    for outcome in np.unique(y):\n",
        "      self.class_priors.append(sum(y == outcome) / self.train_size)\n",
        "\n",
        "  def _calc_likelihood(self, X, y):\n",
        "\n",
        "    \"\"\" P(x|c) - Likelihood \"\"\"\n",
        "\n",
        "    for feat in range(self.num_feats):\n",
        "      feature_col = X[:,feat]\n",
        "      for outcome in np.unique(y):\n",
        "        self.likelihoods[feat][outcome]['mean'] = feature_col[y == outcome].mean()\n",
        "        self.likelihoods[feat][outcome]['variance'] = feature_col[y == outcome].var()\n",
        "\n",
        "  def get_likelihood(self, X):\n",
        "    likelihoods = {}\n",
        "    for outcome in range(len(self.class_priors)):\n",
        "      temp = []\n",
        "      for query in X:\n",
        "        likelihood = 1\n",
        "\n",
        "        for feat, feat_val in zip(range(self.num_feats), query):\n",
        "          mean = self.likelihoods[feat][outcome]['mean']\n",
        "          var = self.likelihoods[feat][outcome]['variance']\n",
        "\n",
        "          likelihood *= (1/np.sqrt(2*np.pi*var)) * np.exp(-(feat_val - mean)**2 / (2*var))\n",
        "        temp.append(likelihood)\n",
        "      likelihoods[outcome] = temp\n",
        "    return likelihoods\n",
        "\n",
        "  def fit(self, X, y):\n",
        "    if type(X) is not np.ndarray:\n",
        "      X = X.toarray()\n",
        "\n",
        "    self.train_size, self.num_feats = X.shape\n",
        "\n",
        "    for feature in range(self.num_feats):\n",
        "      self.likelihoods[feature] = {}\n",
        "\n",
        "      for outcome in np.unique(y):\n",
        "        self.likelihoods[feature].update({outcome: {}})\n",
        "\n",
        "    self._calc_class_prior(y)\n",
        "    self._calc_likelihood(X,y)\n",
        "\n",
        "  def predict(self, X):\n",
        "\n",
        "    \"\"\" Calculates Posterior probability P(c|x) \"\"\"\n",
        "\n",
        "    if type(X) is not np.ndarray:\n",
        "      X = X.toarray()   \n",
        "\n",
        "    likelihoods = self.get_likelihood(X)\n",
        "    results = []\n",
        "    for idx, _ in enumerate(X):\n",
        "      probs_outcome = {}\n",
        "\n",
        "      for outcome in range(len(self.class_priors)):\n",
        "        prior = self.class_priors[outcome]\n",
        "        posterior_numerator = (likelihoods[outcome][idx] * prior)\n",
        "        probs_outcome[outcome] = posterior_numerator\n",
        "\n",
        "      result = max(probs_outcome, key = lambda x: probs_outcome[x])\n",
        "      results.append(result)\n",
        "\n",
        "    return np.array(results)\n",
        "          \n",
        "  def score(self, X, y):\n",
        "    return np.mean(y==self.predict(X).T)\n"
      ],
      "execution_count": null,
      "outputs": []
    },
    {
      "cell_type": "code",
      "metadata": {
        "colab": {
          "base_uri": "https://localhost:8080/"
        },
        "id": "j4puGwJMmK-3",
        "outputId": "e4245547-1179-4bb8-aed7-4d54af350be7"
      },
      "source": [
        "X = data[[\"SibSp\", \"Parch\", \"Fare\"]]\n",
        "y = data[\"Survived\"]\n",
        "print('>> Shape of X before preprocessing : ', X.shape)\n",
        "X, y = preprocessing(X,y, encoder=False)\n",
        "print('>> Shape of X after preprocessing : ', X.shape)\n",
        "\n",
        "X_train, X_test, y_train, y_test = train_test_split(X.values, y.values, test_size=0.2, random_state=42)"
      ],
      "execution_count": null,
      "outputs": [
        {
          "output_type": "stream",
          "text": [
            ">> Shape of X before preprocessing :  (891, 3)\n",
            ">> Shape of X after preprocessing :  (891, 3)\n"
          ],
          "name": "stdout"
        }
      ]
    },
    {
      "cell_type": "code",
      "metadata": {
        "colab": {
          "base_uri": "https://localhost:8080/"
        },
        "id": "Rin66KDj2VCW",
        "outputId": "32a2f527-cc25-497f-e1c7-2c1e74a986a9"
      },
      "source": [
        "gauss_nb = Gaussian_NB()\n",
        "gauss_nb.fit(X_train, y_train)\n",
        "y_pred = gauss_nb.predict(X_test)\n",
        "print('>> Accuracy score : ', gauss_nb.score(X_test, y_test))\n",
        "print('>> Predicted label : \\n', gauss_nb.predict(X_test))"
      ],
      "execution_count": null,
      "outputs": [
        {
          "output_type": "stream",
          "text": [
            ">> Accuracy score :  0.659217877094972\n",
            ">> Predicted label : \n",
            " [0 0 0 0 0 1 0 0 0 0 0 0 0 0 0 0 0 0 0 0 0 0 0 0 0 0 0 0 0 0 0 0 0 0 0 0 0\n",
            " 0 0 0 0 0 0 0 0 0 0 0 0 1 0 1 0 1 0 1 0 1 0 0 0 0 0 0 0 0 1 0 0 1 0 1 0 1\n",
            " 0 0 0 0 0 0 0 0 1 0 0 0 1 0 0 0 0 0 0 0 0 0 0 0 0 0 0 0 1 0 0 0 0 0 0 0 0\n",
            " 0 1 0 1 0 0 0 0 0 0 1 1 0 0 0 0 1 0 0 0 0 0 0 0 0 1 0 0 0 0 0 0 0 0 0 0 0\n",
            " 1 0 0 0 0 0 0 0 0 0 0 0 0 0 0 1 0 1 0 0 0 0 1 0 0 0 0 0 0 0 0]\n"
          ],
          "name": "stdout"
        }
      ]
    },
    {
      "cell_type": "markdown",
      "metadata": {
        "id": "9jg7f_LvoCCE"
      },
      "source": [
        "**Kết quả chạy bằng thư viện scikit-learn**"
      ]
    },
    {
      "cell_type": "code",
      "metadata": {
        "colab": {
          "base_uri": "https://localhost:8080/"
        },
        "id": "wRT4UnxI2Zrf",
        "outputId": "b2f666eb-39d6-4cc6-c2de-2c455b795fea"
      },
      "source": [
        "from sklearn.naive_bayes import GaussianNB\n",
        "\n",
        "gaussnb_skl = GaussianNB().fit(X_train, y_train)\n",
        "\n",
        "print('>> Accuracy score : ', gaussnb_skl.score(X_test,y_test))\n",
        "print('>> Predicted label : \\n', gaussnb_skl.predict(X_test))"
      ],
      "execution_count": null,
      "outputs": [
        {
          "output_type": "stream",
          "text": [
            ">> Accuracy score :  0.659217877094972\n",
            ">> Predicted label : \n",
            " [0 0 0 0 0 1 0 0 0 0 0 0 0 0 0 0 0 0 0 0 0 0 0 0 0 0 0 0 0 0 0 0 0 0 0 0 0\n",
            " 0 0 0 0 0 0 0 0 0 0 0 0 1 0 1 0 1 0 1 0 1 0 0 0 0 0 0 0 0 1 0 0 1 0 1 0 1\n",
            " 0 0 0 0 0 0 0 0 1 0 0 0 1 0 0 0 0 0 0 0 0 0 0 0 0 0 0 0 1 0 0 0 0 0 0 0 0\n",
            " 0 1 0 1 0 0 0 0 0 0 1 1 0 0 0 0 1 0 0 0 0 0 0 0 0 1 0 0 0 0 0 0 0 0 0 0 0\n",
            " 1 0 0 0 0 0 0 0 0 0 0 0 0 0 0 1 0 1 0 0 0 0 1 0 0 0 0 0 0 0 0]\n"
          ],
          "name": "stdout"
        }
      ]
    },
    {
      "cell_type": "markdown",
      "metadata": {
        "id": "KVa5QeXknnur"
      },
      "source": [
        "### Bài tập 3. Từ bộ dữ liệu liên minh hãy xây dựng thuật toán *Naive Bayes* bằng cách dùng tất cả features (mix cả *Categorical* và *Gaussian*. Lưu ý: Không cần chia tập train, test. Dự đoán thẳng trên tập train)"
      ]
    },
    {
      "cell_type": "code",
      "metadata": {
        "id": "jR4maBr79qil"
      },
      "source": [
        "class Mixed_NB:\n",
        "  def __init__(self, categorical_features, numerical_features):\n",
        "    self.cate_features = categorical_features\n",
        "    self.num_features = numerical_features\n",
        "    self.class_priors = []\n",
        "    self.train_size = int\n",
        "    self.cate_model = None\n",
        "    self.num_model = None\n",
        "\n",
        "\n",
        "  def _calc_class_prior(self, y):\n",
        "\n",
        "    \"\"\" P(c) - Prior Class Probability \"\"\"\n",
        "\n",
        "    for outcome in np.unique(y):\n",
        "      self.class_priors.append(sum(y == outcome) / self.train_size)\n",
        "\n",
        "\n",
        "  def fit(self, X, y):\n",
        "    if type(X) is not np.ndarray:\n",
        "      X = X.toarray() \n",
        "    \n",
        "    self.train_size, _ = X.shape\n",
        "\n",
        "    cate_X = X[:, self.cate_features]\n",
        "    num_X = X[:, self.num_features]\n",
        "\n",
        "    self._calc_class_prior(y)\n",
        "\n",
        "    self.cate_model = Categorical_NB()\n",
        "    self.cate_model.fit(cate_X, y)\n",
        "    \n",
        "    self.num_model = Gaussian_NB()\n",
        "    self.num_model.fit(num_X, y)\n",
        "\n",
        "  def predict(self, X):\n",
        "\n",
        "    \"\"\" Calculates Posterior probability P(c|x) \"\"\"\n",
        "\n",
        "    if type(X) is not np.ndarray:\n",
        "      X = X.toarray()\n",
        "    cate_X = X[:, self.cate_features]\n",
        "    num_X = X[:, self.num_features]\n",
        "\n",
        "    likelihoods_num = self.num_model.get_likelihood(num_X)\n",
        "    likelihoods_cate = self.cate_model.get_likelihood(cate_X)\n",
        "\n",
        "    results = []\n",
        "\n",
        "    for idx, _ in enumerate(X):\n",
        "      probs_outcome = {}\n",
        "      for outcome in range(len(self.class_priors)):\n",
        "        prior = self.class_priors[outcome]\n",
        "        likelihood = likelihoods_num[outcome][idx] * likelihoods_cate[outcome][idx]\n",
        "        posterior = (likelihood * prior)\n",
        "        probs_outcome[outcome] = posterior\n",
        "    \n",
        "      result = max(probs_outcome, key = lambda x: probs_outcome[x])\n",
        "      results.append(result)\n",
        "\n",
        "    return np.array(results)\n",
        "\n",
        "  def score(self, X, y):\n",
        "    return np.mean(y==self.predict(X).T)\n"
      ],
      "execution_count": null,
      "outputs": []
    },
    {
      "cell_type": "code",
      "metadata": {
        "colab": {
          "base_uri": "https://localhost:8080/",
          "height": 195
        },
        "id": "OjiEuz6_203E",
        "outputId": "802849f7-320f-4307-848e-5a210faa9e85"
      },
      "source": [
        "df = pd.read_csv(\"https://raw.githubusercontent.com/dinhvietcuong1996/Lab-MachineLearningCourse/master/Lab04/lienminh.csv\")\n",
        "df.head()"
      ],
      "execution_count": null,
      "outputs": [
        {
          "output_type": "execute_result",
          "data": {
            "text/html": [
              "<div>\n",
              "<style scoped>\n",
              "    .dataframe tbody tr th:only-of-type {\n",
              "        vertical-align: middle;\n",
              "    }\n",
              "\n",
              "    .dataframe tbody tr th {\n",
              "        vertical-align: top;\n",
              "    }\n",
              "\n",
              "    .dataframe thead th {\n",
              "        text-align: right;\n",
              "    }\n",
              "</style>\n",
              "<table border=\"1\" class=\"dataframe\">\n",
              "  <thead>\n",
              "    <tr style=\"text-align: right;\">\n",
              "      <th></th>\n",
              "      <th>killsDiff</th>\n",
              "      <th>minionsKilledDiff</th>\n",
              "      <th>wardPlacedDiff</th>\n",
              "      <th>firstBlood</th>\n",
              "      <th>heralds</th>\n",
              "      <th>dragons</th>\n",
              "      <th>teamWins</th>\n",
              "    </tr>\n",
              "  </thead>\n",
              "  <tbody>\n",
              "    <tr>\n",
              "      <th>0</th>\n",
              "      <td>3</td>\n",
              "      <td>-2</td>\n",
              "      <td>13</td>\n",
              "      <td>blue</td>\n",
              "      <td>none</td>\n",
              "      <td>none</td>\n",
              "      <td>red</td>\n",
              "    </tr>\n",
              "    <tr>\n",
              "      <th>1</th>\n",
              "      <td>0</td>\n",
              "      <td>-66</td>\n",
              "      <td>0</td>\n",
              "      <td>red</td>\n",
              "      <td>red</td>\n",
              "      <td>red</td>\n",
              "      <td>red</td>\n",
              "    </tr>\n",
              "    <tr>\n",
              "      <th>2</th>\n",
              "      <td>-4</td>\n",
              "      <td>-17</td>\n",
              "      <td>0</td>\n",
              "      <td>red</td>\n",
              "      <td>none</td>\n",
              "      <td>blue</td>\n",
              "      <td>red</td>\n",
              "    </tr>\n",
              "    <tr>\n",
              "      <th>3</th>\n",
              "      <td>-1</td>\n",
              "      <td>-34</td>\n",
              "      <td>28</td>\n",
              "      <td>red</td>\n",
              "      <td>blue</td>\n",
              "      <td>none</td>\n",
              "      <td>red</td>\n",
              "    </tr>\n",
              "    <tr>\n",
              "      <th>4</th>\n",
              "      <td>0</td>\n",
              "      <td>-15</td>\n",
              "      <td>58</td>\n",
              "      <td>red</td>\n",
              "      <td>none</td>\n",
              "      <td>red</td>\n",
              "      <td>red</td>\n",
              "    </tr>\n",
              "  </tbody>\n",
              "</table>\n",
              "</div>"
            ],
            "text/plain": [
              "   killsDiff  minionsKilledDiff  wardPlacedDiff  ... heralds dragons teamWins\n",
              "0          3                 -2              13  ...    none    none      red\n",
              "1          0                -66               0  ...     red     red      red\n",
              "2         -4                -17               0  ...    none    blue      red\n",
              "3         -1                -34              28  ...    blue    none      red\n",
              "4          0                -15              58  ...    none     red      red\n",
              "\n",
              "[5 rows x 7 columns]"
            ]
          },
          "metadata": {
            "tags": []
          },
          "execution_count": 13
        }
      ]
    },
    {
      "cell_type": "code",
      "metadata": {
        "colab": {
          "base_uri": "https://localhost:8080/"
        },
        "id": "o_hUKwK8bzkE",
        "outputId": "201fdb28-0573-48ea-df72-88d8515b26ce"
      },
      "source": [
        "# Get label\n",
        "X = df.drop(['teamWins'], axis=1)\n",
        "y = df['teamWins']\n",
        " \n",
        "# Classify numerical and categorical features\n",
        "cate_cols, num_cols = classify_feature(X)\n",
        " \n",
        "# Preprocessing data\n",
        "print('>> Shape of X before preprocessing : ', X.shape)\n",
        "X, y = preprocessing(X,y)\n",
        "print('>> Shape of X after preprocessing : ', X.shape)\n",
        "X = X.to_numpy()\n",
        "y = LabelEncoder().fit_transform(y)"
      ],
      "execution_count": null,
      "outputs": [
        {
          "output_type": "stream",
          "text": [
            ">> Shape of X before preprocessing :  (9879, 6)\n",
            ">> Shape of X after preprocessing :  (9879, 6)\n"
          ],
          "name": "stdout"
        }
      ]
    },
    {
      "cell_type": "code",
      "metadata": {
        "colab": {
          "base_uri": "https://localhost:8080/"
        },
        "id": "ODTNxVS3H_pB",
        "outputId": "8fc5135b-e748-4835-f717-846b4d63cb8e"
      },
      "source": [
        "mixed_nb = Mixed_NB(categorical_features = cate_cols, numerical_features = num_cols)\n",
        "mixed_nb.fit(X, y)\n",
        "y_pred = mixed_nb.predict(X)\n",
        "print('>> Accuracy score : ', mixed_nb.score(X, y))\n",
        "print('>> Predicted label : ', mixed_nb.predict(X))"
      ],
      "execution_count": null,
      "outputs": [
        {
          "output_type": "stream",
          "text": [
            ">> Accuracy score :  0.7116104868913857\n",
            ">> Predicted label :  [0 1 1 ... 1 1 0]\n"
          ],
          "name": "stdout"
        }
      ]
    }
  ]
}