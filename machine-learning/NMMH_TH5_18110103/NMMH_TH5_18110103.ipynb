{
  "nbformat": 4,
  "nbformat_minor": 0,
  "metadata": {
    "colab": {
      "name": "NMMH_TH5_18110103.ipynb",
      "provenance": []
    },
    "kernelspec": {
      "name": "python3",
      "display_name": "Python 3"
    },
    "language_info": {
      "name": "python"
    }
  },
  "cells": [
    {
      "cell_type": "markdown",
      "metadata": {
        "id": "erPBiZA4ODH_"
      },
      "source": [
        "## Machine Learning - Lab 05 - K-means Clustering\n",
        "\n",
        "* Full name: Đinh Anh Huy\n",
        "* Student ID: 18110103"
      ]
    },
    {
      "cell_type": "code",
      "metadata": {
        "id": "9iYDd1raNNnZ"
      },
      "source": [
        "import numpy as np \n",
        "import pandas as pd\n",
        "import random\n",
        "import matplotlib.pyplot as plt\n",
        "from scipy.spatial.distance import cdist\n",
        "from sklearn.model_selection import train_test_split\n",
        "from sklearn.preprocessing import LabelEncoder\n",
        "from sklearn.cluster import KMeans"
      ],
      "execution_count": 1,
      "outputs": []
    },
    {
      "cell_type": "code",
      "metadata": {
        "id": "zT3FlTe4Ozqy"
      },
      "source": [
        "class K_Means:\n",
        "  def __init__(self, n_clusters=3, random_state=0):\n",
        "    self.n_clusters = n_clusters\n",
        "    self.rnd = np.random.RandomState(random_state)\n",
        "    self.list_centroids = []\n",
        "    self.list_labels = []\n",
        "    self.inertia_ = None\n",
        "    self.cluster_centers_ = None\n",
        "    self.labels_ = None\n",
        "    self.n_iter_ = None\n",
        "\n",
        "  def _calc_wcv(self, X, centroids):\n",
        "    differences = cdist(X, centroids)\n",
        "    return np.sum(np.min(differences, axis=1)**2)\n",
        "\n",
        "  def _calc_distribution(self, X, centroids):\n",
        "    differences = cdist(X, centroids)\n",
        "    wcv = self._calc_wcv(X, centroids)\n",
        "    return np.min(differences**2, axis=1)/wcv\n",
        "\n",
        "  def _get_centroid(self, X, distribution):\n",
        "    return X[self.rnd.choice(range(len(distribution)), 1, p=distribution), :]\n",
        "  \n",
        "  def _init_centroids(self, X):\n",
        "    centroids = X[self.rnd.choice(X.shape[0],1),:]\n",
        "    while centroids.shape[0] < self.n_clusters :  \n",
        "      p = self._calc_distribution(X, centroids)\n",
        "      centroids = np.r_[centroids, self._get_centroid(X, p)]\n",
        "    self.list_centroids.append(centroids)\n",
        "\n",
        "  def _assign_label(self, X, centroids):\n",
        "    differences = cdist(X, centroids)\n",
        "    return np.argmin(differences, axis=1)\n",
        "\n",
        "  def _has_converged(self, old_centroids, new_centroids):\n",
        "    return (set([tuple(c) for c in old_centroids]) == set([tuple(c_new) for c_new in new_centroids]))\n",
        "\n",
        "  def _update_centroids(self, X, labels):\n",
        "    centroids = np.zeros((self.n_clusters, X.shape[1]))\n",
        "    for k in range(self.n_clusters):\n",
        "      Xk = X[labels == k, :]\n",
        "      centroids[k,:] = np.mean(Xk, axis = 0)\n",
        "    return centroids    \n",
        "\n",
        "  def fit(self, X):\n",
        "    if type(X) is not np.ndarray:\n",
        "      X = X.toarray()\n",
        "\n",
        "    self._init_centroids(X)\n",
        "    iter = 0\n",
        "    while True:\n",
        "      self.list_labels.append(self._assign_label(X, self.list_centroids[-1]))\n",
        "      new_centroids = self._update_centroids(X, self.list_labels[-1])\n",
        "      if self._has_converged(self.list_centroids[-1], new_centroids):\n",
        "        break\n",
        "      self.list_centroids.append(new_centroids)\n",
        "      iter += 1\n",
        "    self.inertia_ = self._calc_wcv(X, self.list_centroids[-1])\n",
        "    self.n_iter_ = iter\n",
        "    self.labels_ = self.list_labels[-1]\n",
        "  \n",
        "  def predict(self, X):\n",
        "    return self._assign_label(X, self.list_centroids[-1])"
      ],
      "execution_count": 2,
      "outputs": []
    },
    {
      "cell_type": "markdown",
      "metadata": {
        "id": "r_2DFh1EFaGl"
      },
      "source": [
        "### Bài tập 1. Hãy dùng thuật toán K-mean để chọn ra số cụm thích hợp dựa trên tập training, và dự đoán label của các quan sát trên tập testing của bộ dữ liệu bên dưới."
      ]
    },
    {
      "cell_type": "code",
      "metadata": {
        "colab": {
          "base_uri": "https://localhost:8080/",
          "height": 195
        },
        "id": "e5skf3yVtkno",
        "outputId": "aaef54f2-bbbb-4221-8ef0-1bd67789b6c4"
      },
      "source": [
        "data = pd.read_csv('https://raw.githubusercontent.com/huynhthanh98/ML/master/lab-05/data.csv')\n",
        "data.head()"
      ],
      "execution_count": 3,
      "outputs": [
        {
          "output_type": "execute_result",
          "data": {
            "text/html": [
              "<div>\n",
              "<style scoped>\n",
              "    .dataframe tbody tr th:only-of-type {\n",
              "        vertical-align: middle;\n",
              "    }\n",
              "\n",
              "    .dataframe tbody tr th {\n",
              "        vertical-align: top;\n",
              "    }\n",
              "\n",
              "    .dataframe thead th {\n",
              "        text-align: right;\n",
              "    }\n",
              "</style>\n",
              "<table border=\"1\" class=\"dataframe\">\n",
              "  <thead>\n",
              "    <tr style=\"text-align: right;\">\n",
              "      <th></th>\n",
              "      <th>CustomerID</th>\n",
              "      <th>Genre</th>\n",
              "      <th>Age</th>\n",
              "      <th>Annual Income (k$)</th>\n",
              "      <th>Spending Score (1-100)</th>\n",
              "    </tr>\n",
              "  </thead>\n",
              "  <tbody>\n",
              "    <tr>\n",
              "      <th>0</th>\n",
              "      <td>1</td>\n",
              "      <td>Male</td>\n",
              "      <td>19</td>\n",
              "      <td>15</td>\n",
              "      <td>39</td>\n",
              "    </tr>\n",
              "    <tr>\n",
              "      <th>1</th>\n",
              "      <td>2</td>\n",
              "      <td>Male</td>\n",
              "      <td>21</td>\n",
              "      <td>15</td>\n",
              "      <td>81</td>\n",
              "    </tr>\n",
              "    <tr>\n",
              "      <th>2</th>\n",
              "      <td>3</td>\n",
              "      <td>Female</td>\n",
              "      <td>20</td>\n",
              "      <td>16</td>\n",
              "      <td>6</td>\n",
              "    </tr>\n",
              "    <tr>\n",
              "      <th>3</th>\n",
              "      <td>4</td>\n",
              "      <td>Female</td>\n",
              "      <td>23</td>\n",
              "      <td>16</td>\n",
              "      <td>77</td>\n",
              "    </tr>\n",
              "    <tr>\n",
              "      <th>4</th>\n",
              "      <td>5</td>\n",
              "      <td>Female</td>\n",
              "      <td>31</td>\n",
              "      <td>17</td>\n",
              "      <td>40</td>\n",
              "    </tr>\n",
              "  </tbody>\n",
              "</table>\n",
              "</div>"
            ],
            "text/plain": [
              "   CustomerID   Genre  Age  Annual Income (k$)  Spending Score (1-100)\n",
              "0           1    Male   19                  15                      39\n",
              "1           2    Male   21                  15                      81\n",
              "2           3  Female   20                  16                       6\n",
              "3           4  Female   23                  16                      77\n",
              "4           5  Female   31                  17                      40"
            ]
          },
          "metadata": {
            "tags": []
          },
          "execution_count": 3
        }
      ]
    },
    {
      "cell_type": "code",
      "metadata": {
        "colab": {
          "base_uri": "https://localhost:8080/"
        },
        "id": "zYmJjqRXt1cG",
        "outputId": "9917c6f4-b963-4c66-e7e9-6f88ca1725e8"
      },
      "source": [
        "data.isnull().sum()"
      ],
      "execution_count": 4,
      "outputs": [
        {
          "output_type": "execute_result",
          "data": {
            "text/plain": [
              "CustomerID                0\n",
              "Genre                     0\n",
              "Age                       0\n",
              "Annual Income (k$)        0\n",
              "Spending Score (1-100)    0\n",
              "dtype: int64"
            ]
          },
          "metadata": {
            "tags": []
          },
          "execution_count": 4
        }
      ]
    },
    {
      "cell_type": "code",
      "metadata": {
        "colab": {
          "base_uri": "https://localhost:8080/"
        },
        "id": "0Tjb09WQt3TD",
        "outputId": "3c4646dc-81c0-412f-a3a2-6659755554f5"
      },
      "source": [
        "print('>> Shape of data before dropping duplicate: ', data.shape)\n",
        "data.drop_duplicates(inplace=True)\n",
        "print('>> Shape of data after dropping duplicate: ', data.shape)"
      ],
      "execution_count": 5,
      "outputs": [
        {
          "output_type": "stream",
          "text": [
            ">> Shape of data before dropping duplicate:  (200, 5)\n",
            ">> Shape of data after dropping duplicate:  (200, 5)\n"
          ],
          "name": "stdout"
        }
      ]
    },
    {
      "cell_type": "code",
      "metadata": {
        "colab": {
          "base_uri": "https://localhost:8080/"
        },
        "id": "_DofhnoGt7x7",
        "outputId": "517002e0-e524-497c-cca2-aae1a199651c"
      },
      "source": [
        "X = data.iloc[:, [2, 3]].values\n",
        "\n",
        "X_train, X_test = train_test_split(X, test_size=0.33, random_state=42)\n",
        "print('>> Shape of training set: ', X_train.shape)\n",
        "print('>> Shape of testing set: ', X_test.shape)"
      ],
      "execution_count": 6,
      "outputs": [
        {
          "output_type": "stream",
          "text": [
            ">> Shape of training set:  (134, 2)\n",
            ">> Shape of testing set:  (66, 2)\n"
          ],
          "name": "stdout"
        }
      ]
    },
    {
      "cell_type": "code",
      "metadata": {
        "id": "7mxThnAByBIy"
      },
      "source": [
        "def elbow_plot(X, max_n_cluster, random_state):\n",
        "  fig, ax = plt.subplots(figsize = (10,5))\n",
        "  WSSs = []\n",
        "  for i in range(1, max_n_cluster+1):\n",
        "      model = K_Means(n_clusters=i, random_state=random_state)\n",
        "      model.fit(X)\n",
        "      wcv = model.inertia_\n",
        "      WSSs.append(wcv)\n",
        "  ax.plot(range(1, max_n_cluster+1), WSSs, marker='o')\n",
        "  ax.set_xlabel('Number of clusters')\n",
        "  ax.set_ylabel('Total Within Sum of Square')\n",
        "  plt.show()"
      ],
      "execution_count": 7,
      "outputs": []
    },
    {
      "cell_type": "code",
      "metadata": {
        "colab": {
          "base_uri": "https://localhost:8080/",
          "height": 334
        },
        "id": "Bfhh2JhsuJiG",
        "outputId": "9f93527b-3468-4f91-eb21-2a12b45111fc"
      },
      "source": [
        "elbow_plot(X_train, 10, 42)"
      ],
      "execution_count": 8,
      "outputs": [
        {
          "output_type": "display_data",
          "data": {
            "image/png": "[encoded data removed]",
            "text/plain": [
              "<Figure size 720x360 with 1 Axes>"
            ]
          },
          "metadata": {
            "tags": [],
            "needs_background": "light"
          }
        }
      ]
    },
    {
      "cell_type": "markdown",
      "metadata": {
        "id": "TcjzmYeXJMDg"
      },
      "source": [
        "Từ đồ thị trên, ta chọn $K = 4$ là số cụm thích hợp."
      ]
    },
    {
      "cell_type": "code",
      "metadata": {
        "colab": {
          "base_uri": "https://localhost:8080/"
        },
        "id": "q9OMPpk8vAfK",
        "outputId": "0ce263c1-1c45-485f-ca17-a02208b04fb7"
      },
      "source": [
        "model = K_Means(n_clusters=4, random_state=42)\n",
        "model.fit(X_train)\n",
        "print('>> Total Within Sum of Square: ', model.inertia_)\n",
        "label_pred = model.predict(X_test)\n",
        "print('>> Predicted labels: \\n', label_pred)"
      ],
      "execution_count": 9,
      "outputs": [
        {
          "output_type": "stream",
          "text": [
            ">> Total Within Sum of Square:  24957.086886944147\n",
            ">> Predicted labels: \n",
            " [2 1 3 2 3 2 1 2 0 1 3 0 2 2 0 2 3 2 3 1 2 1 2 2 1 3 2 3 2 2 1 1 3 2 2 3 2\n",
            " 2 2 3 3 0 1 3 2 0 1 1 2 3 2 2 1 2 3 3 2 3 2 3 2 2 1 3 1 3]\n"
          ],
          "name": "stdout"
        }
      ]
    },
    {
      "cell_type": "markdown",
      "metadata": {
        "id": "PgrHerC3KF3E"
      },
      "source": [
        "### Bài tập 2. Vẽ hình các cụm trên tập testing"
      ]
    },
    {
      "cell_type": "code",
      "metadata": {
        "id": "IeRZFrUe-X2j"
      },
      "source": [
        "def display_clustering(X, labels, colors, ncol_legend=2, figsize=(10,5)):\n",
        "  fig, ax = plt.subplots(figsize=figsize)\n",
        "  label = np.unique(labels)\n",
        "  for i, c in zip(label, colors):\n",
        "      ax.scatter(X[labels == i][:, 0], X[labels == i][:, 1], marker='o', color=c, label = 'cluster_' + str(i))\n",
        "  plt.legend(ncol=ncol_legend)\n",
        "  plt.show()"
      ],
      "execution_count": 10,
      "outputs": []
    },
    {
      "cell_type": "code",
      "metadata": {
        "colab": {
          "base_uri": "https://localhost:8080/",
          "height": 320
        },
        "id": "VQBZSp8VvREa",
        "outputId": "71ed07e6-77cc-4a82-8e41-08ed35a94ec1"
      },
      "source": [
        "colors = ['red', 'green', 'blue', 'gold']\n",
        "display_clustering(X_test, label_pred, colors=colors)"
      ],
      "execution_count": 11,
      "outputs": [
        {
          "output_type": "display_data",
          "data": {
            "image/png": "[encoded data removed]",
            "text/plain": [
              "<Figure size 720x360 with 1 Axes>"
            ]
          },
          "metadata": {
            "tags": [],
            "needs_background": "light"
          }
        }
      ]
    },
    {
      "cell_type": "markdown",
      "metadata": {
        "id": "BJxsMbnvLJs2"
      },
      "source": [
        "### Kết quả chạy bằng thư viện scikit-learn"
      ]
    },
    {
      "cell_type": "code",
      "metadata": {
        "colab": {
          "base_uri": "https://localhost:8080/"
        },
        "id": "b3fcaL5z2Vt1",
        "outputId": "15617282-1a24-4a12-c8fd-3e67ede5d4f5"
      },
      "source": [
        "model_skl = KMeans(n_clusters=4, random_state=42)\n",
        "model_skl.fit(X_train)\n",
        "print('>> Total Within Sum of Square: ', model_skl.inertia_)\n",
        "\n",
        "label_pred_skl = model_skl.predict(X_test)\n",
        "print('>> Predicted labels: \\n', label_pred_skl)"
      ],
      "execution_count": 12,
      "outputs": [
        {
          "output_type": "stream",
          "text": [
            ">> Total Within Sum of Square:  24957.08688694415\n",
            ">> Predicted labels: \n",
            " [1 2 0 1 0 1 2 1 3 2 0 3 1 1 3 1 0 1 0 2 1 2 1 1 2 0 1 0 1 1 2 2 0 1 1 0 1\n",
            " 1 1 0 0 3 2 0 1 3 2 2 1 0 1 1 2 1 0 0 1 0 1 0 1 1 2 0 2 0]\n"
          ],
          "name": "stdout"
        }
      ]
    },
    {
      "cell_type": "code",
      "metadata": {
        "colab": {
          "base_uri": "https://localhost:8080/",
          "height": 320
        },
        "id": "mH9TtdXS_g35",
        "outputId": "8b77df78-9fcc-4452-c623-7b076006aec1"
      },
      "source": [
        "display_clustering(X_test, label_pred_skl, colors=colors)"
      ],
      "execution_count": 13,
      "outputs": [
        {
          "output_type": "display_data",
          "data": {
            "image/png": "[encoded data removed]",
            "text/plain": [
              "<Figure size 720x360 with 1 Axes>"
            ]
          },
          "metadata": {
            "tags": [],
            "needs_background": "light"
          }
        }
      ]
    }
  ]
}