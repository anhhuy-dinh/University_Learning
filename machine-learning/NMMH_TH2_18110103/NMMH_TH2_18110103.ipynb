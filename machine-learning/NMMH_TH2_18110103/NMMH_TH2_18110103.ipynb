{
 "cells": [
  {
   "cell_type": "markdown",
   "metadata": {
    "id": "Mdk3LwgrmN5H"
   },
   "source": [
    "## Machine Learning - Lab 02 - Logistic Regression \n",
    "* Full name: Đinh Anh Huy\n",
    "* Student ID: 18110103"
   ]
  },
  {
   "cell_type": "code",
   "execution_count": 1,
   "metadata": {
    "id": "D4ZGRTHB8w4N"
   },
   "outputs": [],
   "source": [
    "import numpy as np\n",
    "import pandas as pd\n",
    "import seaborn as sns\n",
    "import matplotlib.pyplot as plt\n",
    "from sklearn.model_selection import train_test_split\n",
    "from sklearn.linear_model import LinearRegression"
   ]
  },
  {
   "cell_type": "code",
   "execution_count": 2,
   "metadata": {
    "id": "SiCRgJ3983V8"
   },
   "outputs": [],
   "source": [
    "class Linear_Regression:\n",
    "  def __init__(self, learning_rate=0.01, max_iters=1000, random_state=0, batch_size=None):\n",
    "    self.W = None\n",
    "    self.batch_size = batch_size\n",
    "    self.random_state = random_state\n",
    "    self.lr = learning_rate\n",
    "    self.max_iters = max_iters\n",
    "    self.loss_values = []\n",
    "    self.weights = []\n",
    "\n",
    "  def init_W(self, X):\n",
    "    np.random.seed(self.random_state)\n",
    "    self.W = np.random.randn(X.shape[1]+1,1)\n",
    "\n",
    "  def BGD(self, X, y):\n",
    "    for i in range(self.max_iters):\n",
    "      prediction = np.matmul(X,self.W)\n",
    "      loss = prediction - y\n",
    "      gradient = np.matmul(X.T, loss)\n",
    "      self.W = self.W - self.lr*(1/X.shape[0])*gradient\n",
    "      self.weights.append(self.W)\n",
    "      self.loss_values.append(0.5*np.mean(np.square(loss)))\n",
    "\n",
    "  def SGD(self, X, y):\n",
    "    for i in range(self.max_iters//X.shape[0]):\n",
    "      rd_id = np.random.permutation(X.shape[0])\n",
    "      for j in rd_id:\n",
    "        X_1 = X[j,:].reshape(1,-1)\n",
    "        prediction = np.matmul(X_1,self.W)\n",
    "        error = prediction - y[j,:].reshape(1,-1)\n",
    "        gradient = np.matmul(X_1.T, error)\n",
    "        self.W = self.W - self.lr*gradient\n",
    "      self.weights.append(self.W)  \n",
    "      self.loss_values.append(0.5*np.mean(np.square(np.matmul(X, self.W) - y)))\n",
    "\n",
    "  def Mini_BGD(self, X, y, batch_size):\n",
    "    first_X = X.copy()\n",
    "    first_y = y.copy()\n",
    "    for i in range(self.max_iters//(X.shape[0]//self.batch_size + 1)):\n",
    "      indices = np.random.permutation(X.shape[0])\n",
    "      first_X = first_X[indices]\n",
    "      first_y = first_y[indices]\n",
    "\n",
    "      temp = batch_size\n",
    "      # no_batchs = 0\n",
    "      for j in range(0, X.shape[0], batch_size):\n",
    "        # no_batchs += 1\n",
    "        X_1 = first_X[j:temp, :]\n",
    "        prediction = np.matmul(X_1,self.W)\n",
    "        loss = prediction - first_y[j:temp,:]\n",
    "        gradient = np.matmul(X_1.T,loss)\n",
    "        self.W = self.W - self.lr*(1/X_1.shape[0])*gradient\n",
    "\n",
    "        temp = temp + batch_size if X.shape[0]-temp >= batch_size else X.shape[0]\n",
    "\n",
    "      self.weights.append(self.W)\n",
    "      self.loss_values.append(0.5*np.mean(np.square(np.matmul(X,self.W)-y)))\n",
    "    \n",
    "  def fit(self, X, y):\n",
    "    self.loss_values.clear()\n",
    "    self.init_W(X)\n",
    "    X1 = np.concatenate([np.ones([X.shape[0],1]), X], axis=1)\n",
    "\n",
    "    if (self.batch_size == None) or (self.batch_size == X.shape[0]):\n",
    "      self.BGD(X1, y)\n",
    "    elif (self.batch_size > 1) and (self.batch_size < X.shape[0]):\n",
    "      self.Mini_BGD(X1, y, self.batch_size)\n",
    "    elif self.batch_size == 1:\n",
    "      self.SGD(X1, y)\n",
    "    else:\n",
    "      raise Exception(\"Batch size is impossible.\")\n",
    "\n",
    "  def get_W(self):\n",
    "    return self.W\n",
    "\n",
    "  def predict(self, X):\n",
    "    X1 = np.concatenate([np.ones([X.shape[0],1]), X], axis=1)\n",
    "    return np.matmul(X1, self.W)\n",
    "\n",
    "  def coef_(self):\n",
    "    return self.W[1:,:]\n",
    "\n",
    "  def intercept_(self):\n",
    "    return self.W[1,:]\n",
    "\n",
    "  def score(self):\n",
    "    return self.loss_values[-1]\n"
   ]
  },
  {
   "cell_type": "code",
   "execution_count": 3,
   "metadata": {
    "colab": {
     "base_uri": "https://localhost:8080/",
     "height": 343
    },
    "id": "1NNaqYa18w4U",
    "outputId": "b9ce1a27-6f67-485d-8f5e-f64cf18b3bf0",
    "scrolled": false
   },
   "outputs": [
    {
     "data": {
      "text/html": [
       "<div>\n",
       "<style scoped>\n",
       "    .dataframe tbody tr th:only-of-type {\n",
       "        vertical-align: middle;\n",
       "    }\n",
       "\n",
       "    .dataframe tbody tr th {\n",
       "        vertical-align: top;\n",
       "    }\n",
       "\n",
       "    .dataframe thead th {\n",
       "        text-align: right;\n",
       "    }\n",
       "</style>\n",
       "<table border=\"1\" class=\"dataframe\">\n",
       "  <thead>\n",
       "    <tr style=\"text-align: right;\">\n",
       "      <th></th>\n",
       "      <th>Species</th>\n",
       "      <th>Weight</th>\n",
       "      <th>Length1</th>\n",
       "      <th>Length2</th>\n",
       "      <th>Length3</th>\n",
       "      <th>Height</th>\n",
       "      <th>Width</th>\n",
       "    </tr>\n",
       "  </thead>\n",
       "  <tbody>\n",
       "    <tr>\n",
       "      <th>0</th>\n",
       "      <td>Bream</td>\n",
       "      <td>242.0</td>\n",
       "      <td>23.2</td>\n",
       "      <td>25.4</td>\n",
       "      <td>30.0</td>\n",
       "      <td>11.5200</td>\n",
       "      <td>4.0200</td>\n",
       "    </tr>\n",
       "    <tr>\n",
       "      <th>1</th>\n",
       "      <td>Bream</td>\n",
       "      <td>290.0</td>\n",
       "      <td>24.0</td>\n",
       "      <td>26.3</td>\n",
       "      <td>31.2</td>\n",
       "      <td>12.4800</td>\n",
       "      <td>4.3056</td>\n",
       "    </tr>\n",
       "    <tr>\n",
       "      <th>2</th>\n",
       "      <td>Bream</td>\n",
       "      <td>340.0</td>\n",
       "      <td>23.9</td>\n",
       "      <td>26.5</td>\n",
       "      <td>31.1</td>\n",
       "      <td>12.3778</td>\n",
       "      <td>4.6961</td>\n",
       "    </tr>\n",
       "    <tr>\n",
       "      <th>3</th>\n",
       "      <td>Bream</td>\n",
       "      <td>363.0</td>\n",
       "      <td>26.3</td>\n",
       "      <td>29.0</td>\n",
       "      <td>33.5</td>\n",
       "      <td>12.7300</td>\n",
       "      <td>4.4555</td>\n",
       "    </tr>\n",
       "    <tr>\n",
       "      <th>4</th>\n",
       "      <td>Bream</td>\n",
       "      <td>430.0</td>\n",
       "      <td>26.5</td>\n",
       "      <td>29.0</td>\n",
       "      <td>34.0</td>\n",
       "      <td>12.4440</td>\n",
       "      <td>5.1340</td>\n",
       "    </tr>\n",
       "    <tr>\n",
       "      <th>5</th>\n",
       "      <td>Bream</td>\n",
       "      <td>450.0</td>\n",
       "      <td>26.8</td>\n",
       "      <td>29.7</td>\n",
       "      <td>34.7</td>\n",
       "      <td>13.6024</td>\n",
       "      <td>4.9274</td>\n",
       "    </tr>\n",
       "    <tr>\n",
       "      <th>6</th>\n",
       "      <td>Bream</td>\n",
       "      <td>500.0</td>\n",
       "      <td>26.8</td>\n",
       "      <td>29.7</td>\n",
       "      <td>34.5</td>\n",
       "      <td>14.1795</td>\n",
       "      <td>5.2785</td>\n",
       "    </tr>\n",
       "    <tr>\n",
       "      <th>7</th>\n",
       "      <td>Bream</td>\n",
       "      <td>390.0</td>\n",
       "      <td>27.6</td>\n",
       "      <td>30.0</td>\n",
       "      <td>35.0</td>\n",
       "      <td>12.6700</td>\n",
       "      <td>4.6900</td>\n",
       "    </tr>\n",
       "    <tr>\n",
       "      <th>8</th>\n",
       "      <td>Bream</td>\n",
       "      <td>450.0</td>\n",
       "      <td>27.6</td>\n",
       "      <td>30.0</td>\n",
       "      <td>35.1</td>\n",
       "      <td>14.0049</td>\n",
       "      <td>4.8438</td>\n",
       "    </tr>\n",
       "    <tr>\n",
       "      <th>9</th>\n",
       "      <td>Bream</td>\n",
       "      <td>500.0</td>\n",
       "      <td>28.5</td>\n",
       "      <td>30.7</td>\n",
       "      <td>36.2</td>\n",
       "      <td>14.2266</td>\n",
       "      <td>4.9594</td>\n",
       "    </tr>\n",
       "  </tbody>\n",
       "</table>\n",
       "</div>"
      ],
      "text/plain": [
       "  Species  Weight  Length1  Length2  Length3   Height   Width\n",
       "0   Bream   242.0     23.2     25.4     30.0  11.5200  4.0200\n",
       "1   Bream   290.0     24.0     26.3     31.2  12.4800  4.3056\n",
       "2   Bream   340.0     23.9     26.5     31.1  12.3778  4.6961\n",
       "3   Bream   363.0     26.3     29.0     33.5  12.7300  4.4555\n",
       "4   Bream   430.0     26.5     29.0     34.0  12.4440  5.1340\n",
       "5   Bream   450.0     26.8     29.7     34.7  13.6024  4.9274\n",
       "6   Bream   500.0     26.8     29.7     34.5  14.1795  5.2785\n",
       "7   Bream   390.0     27.6     30.0     35.0  12.6700  4.6900\n",
       "8   Bream   450.0     27.6     30.0     35.1  14.0049  4.8438\n",
       "9   Bream   500.0     28.5     30.7     36.2  14.2266  4.9594"
      ]
     },
     "execution_count": 3,
     "metadata": {
      "tags": []
     },
     "output_type": "execute_result"
    }
   ],
   "source": [
    "data=pd.read_csv(\"https://raw.githubusercontent.com/huynhthanh98/ML/master/lab-02/Fish.csv\")\n",
    "data.head(10)"
   ]
  },
  {
   "cell_type": "markdown",
   "metadata": {
    "id": "bTgvMxzmqhby"
   },
   "source": [
    "### Bài tập 1. Dùng 2 thuật toán Gradient Descent còn lại để tìm bộ Weight theo *Heigh* trong data fish."
   ]
  },
  {
   "cell_type": "code",
   "execution_count": 4,
   "metadata": {
    "id": "3MYQRrmd8w4V"
   },
   "outputs": [],
   "source": [
    "X1_train, X1_test, y_train, y_test = train_test_split(data.loc[:,[\"Height\"]].values, data.loc[:,\"Weight\"].values, test_size=0.2,random_state=1)\n",
    "y_train = y_train.reshape(-1,1)"
   ]
  },
  {
   "cell_type": "code",
   "execution_count": 5,
   "metadata": {
    "colab": {
     "base_uri": "https://localhost:8080/",
     "height": 296
    },
    "id": "BbHt5dSO8w4V",
    "outputId": "41f3a612-e0ea-4010-f2e3-496593e4d9fc"
   },
   "outputs": [
    {
     "data": {
      "text/plain": [
       "<matplotlib.axes._subplots.AxesSubplot at 0x7f211c898f10>"
      ]
     },
     "execution_count": 5,
     "metadata": {
      "tags": []
     },
     "output_type": "execute_result"
    },
    {
     "data": {
      "image/png": "[encoded data removed]",
      "text/plain": [
       "<Figure size 432x288 with 1 Axes>"
      ]
     },
     "metadata": {
      "needs_background": "light",
      "tags": []
     },
     "output_type": "display_data"
    }
   ],
   "source": [
    "sns.scatterplot(x=\"Height\",y=\"Weight\",data=data)"
   ]
  },
  {
   "cell_type": "markdown",
   "metadata": {
    "id": "StQpr00Tq52S"
   },
   "source": [
    "#### Batch Gradient Descent"
   ]
  },
  {
   "cell_type": "code",
   "execution_count": 6,
   "metadata": {
    "colab": {
     "base_uri": "https://localhost:8080/"
    },
    "id": "vFDGh5CcEuGp",
    "outputId": "29e8d6fc-898b-425f-f458-409c2e685b91"
   },
   "outputs": [
    {
     "name": "stdout",
     "output_type": "stream",
     "text": [
      "Loss at iter 0: 143629.41496723678\n",
      "Loss at iter 1000: 30852.78316027092\n",
      "Loss at iter 2000: 30806.287932573283\n",
      "Loss at iter 3000: 30804.937752534483\n",
      "Loss at iter 4000: 30804.898544507603\n",
      "\n",
      " ---------------------------------------- \n",
      "\n",
      ">> Final loss:  30804.89740606212\n",
      ">> Final W: \n",
      " [[-130.00451345]\n",
      " [  59.42718046]]\n"
     ]
    }
   ],
   "source": [
    "lr_bgd = Linear_Regression(learning_rate=0.01, max_iters=5000)\n",
    "lr_bgd.fit(X1_train, y_train)\n",
    "for i in range(0, len(lr_bgd.loss_values), 1000):\n",
    "  print(\"Loss at iter {}: {}\".format(i, lr_bgd.loss_values[i]))\n",
    "print(\"\\n\", \"-\"*40, \"\\n\")\n",
    "print(\">> Final loss: \", lr_bgd.loss_values[-1])\n",
    "print(\">> Final W: \\n\", lr_bgd.W)"
   ]
  },
  {
   "cell_type": "code",
   "execution_count": 7,
   "metadata": {
    "colab": {
     "base_uri": "https://localhost:8080/",
     "height": 350
    },
    "id": "gKfblgC2YQuH",
    "outputId": "1aa9e067-800f-43e8-8b4a-45ca82437f06"
   },
   "outputs": [
    {
     "data": {
      "image/png": "[encoded data removed]",
      "text/plain": [
       "<Figure size 864x360 with 2 Axes>"
      ]
     },
     "metadata": {
      "needs_background": "light",
      "tags": []
     },
     "output_type": "display_data"
    }
   ],
   "source": [
    "fig, ax = plt.subplots(1,2, figsize=(12,5))\n",
    "\n",
    "ax[0].plot(lr_bgd.loss_values)\n",
    "ax[0].set_title('Loss versus iterations')\n",
    "ax[0].set(xlabel='iterations', ylabel='loss')\n",
    "\n",
    "ax[1] = sns.scatterplot(x=\"Height\", y=\"Weight\", data=data)\n",
    "ax[1] = sns.lineplot(x=data.loc[:,\"Height\"].values, y=lr_bgd.predict(data[['Height']]).reshape(-1,))\n",
    "ax[1].set_title('Plot the regression line')\n",
    "\n",
    "plt.show()"
   ]
  },
  {
   "cell_type": "markdown",
   "metadata": {
    "id": "6AAHj9vAq_Bx"
   },
   "source": [
    "### Stochastic Gradient Descent"
   ]
  },
  {
   "cell_type": "code",
   "execution_count": 8,
   "metadata": {
    "colab": {
     "base_uri": "https://localhost:8080/"
    },
    "id": "n62oeBBYY8VW",
    "outputId": "2747e2b8-2d2c-4fad-d235-1bface048912"
   },
   "outputs": [
    {
     "name": "stdout",
     "output_type": "stream",
     "text": [
      "Loss at iter 0: 48462.08453738211\n",
      "Loss at iter 1000: 30859.313577196408\n",
      "Loss at iter 2000: 30810.562392453307\n",
      "Loss at iter 3000: 30818.413253952494\n",
      "Loss at iter 4000: 30834.170396913873\n",
      "Loss at iter 5000: 30807.09930476146\n",
      "Loss at iter 6000: 30816.914514820164\n",
      "Loss at iter 7000: 30823.279997203277\n",
      "Loss at iter 8000: 30805.671445248867\n",
      "Loss at iter 9000: 30804.958571819374\n",
      "Loss at iter 10000: 30808.096965476663\n",
      "Loss at iter 11000: 30828.62550916856\n",
      "Loss at iter 12000: 30806.894593637593\n",
      "Loss at iter 13000: 30813.687337580333\n",
      "Loss at iter 14000: 30814.97593333757\n",
      "\n",
      " ---------------------------------------- \n",
      "\n",
      ">> Final loss:  30804.90300552718\n",
      ">> Final W: \n",
      " [[-129.77306661]\n",
      " [  59.40685107]]\n"
     ]
    }
   ],
   "source": [
    "lr_sgd = Linear_Regression(learning_rate=0.0000761, max_iters=1905000, batch_size=1)\n",
    "lr_sgd.fit(X1_train, y_train)\n",
    "for i in range(0, len(lr_sgd.loss_values), 1000):\n",
    "  print(\"Loss at iter {}: {}\".format(i, lr_sgd.loss_values[i]))\n",
    "print(\"\\n\", \"-\"*40, \"\\n\")\n",
    "print(\">> Final loss: \", lr_sgd.loss_values[-1])\n",
    "print(\">> Final W: \\n\", lr_sgd.W)"
   ]
  },
  {
   "cell_type": "code",
   "execution_count": 9,
   "metadata": {
    "colab": {
     "base_uri": "https://localhost:8080/",
     "height": 350
    },
    "id": "WuRyS0UYY8TE",
    "outputId": "cf7b5981-deb8-41a2-9c87-a08538d1acdf"
   },
   "outputs": [
    {
     "data": {
      "image/png": "[encoded data removed]",
      "text/plain": [
       "<Figure size 864x360 with 2 Axes>"
      ]
     },
     "metadata": {
      "needs_background": "light",
      "tags": []
     },
     "output_type": "display_data"
    }
   ],
   "source": [
    "fig, ax = plt.subplots(1,2, figsize=(12,5))\n",
    "\n",
    "ax[0].plot(lr_sgd.loss_values)\n",
    "ax[0].set_title('Loss versus iterations')\n",
    "ax[0].set(xlabel='iterations', ylabel='loss')\n",
    "\n",
    "ax[1] = sns.scatterplot(x=\"Height\", y=\"Weight\", data=data)\n",
    "ax[1] = sns.lineplot(x=data.loc[:,\"Height\"].values, y=lr_sgd.predict(data[['Height']]).reshape(-1,))\n",
    "ax[1].set_title('Plot the regression line')\n",
    "\n",
    "plt.show()"
   ]
  },
  {
   "cell_type": "markdown",
   "metadata": {
    "id": "EE6VlNswrBvu"
   },
   "source": [
    "### Mini-Batch Gradient Descent"
   ]
  },
  {
   "cell_type": "code",
   "execution_count": 10,
   "metadata": {
    "colab": {
     "base_uri": "https://localhost:8080/"
    },
    "id": "FHWTF1VeY8P7",
    "outputId": "27a985b4-2e34-4855-a1cc-2c20dbd3d214"
   },
   "outputs": [
    {
     "name": "stdout",
     "output_type": "stream",
     "text": [
      "Loss at iter 0: 92296.3033711599\n",
      "Loss at iter 1000: 31378.897843301253\n",
      "Loss at iter 2000: 31011.839010964177\n",
      "Loss at iter 3000: 30895.414433453545\n",
      "Loss at iter 4000: 30843.719103789237\n",
      "Loss at iter 5000: 30814.440955637325\n",
      "Loss at iter 6000: 30808.365953770455\n",
      "Loss at iter 7000: 30847.4957362893\n",
      "Loss at iter 8000: 30806.824056685888\n",
      "Loss at iter 9000: 30809.274001912094\n",
      "Loss at iter 10000: 30805.30201468106\n",
      "Loss at iter 11000: 30804.943529120646\n",
      "Loss at iter 12000: 30804.91495176974\n",
      "Loss at iter 13000: 30811.68956828631\n",
      "Loss at iter 14000: 30805.455309700566\n",
      "\n",
      " ---------------------------------------- \n",
      "\n",
      ">> Final loss:  30804.898660196588\n",
      ">> Final W:  [[-129.95231874]\n",
      " [  59.42652647]]\n"
     ]
    }
   ],
   "source": [
    "lr_mini = Linear_Regression(learning_rate=0.001, max_iters=45000, batch_size=51)\n",
    "lr_mini.fit(X1_train, y_train)\n",
    "for i in range(0, len(lr_mini.loss_values), 1000):\n",
    "  print(\"Loss at iter {}: {}\".format(i, lr_mini.loss_values[i]))\n",
    "print(\"\\n\", \"-\"*40, \"\\n\")\n",
    "print(\">> Final loss: \", lr_mini.loss_values[-1])\n",
    "print(\">> Final W: \", lr_mini.W)"
   ]
  },
  {
   "cell_type": "code",
   "execution_count": 11,
   "metadata": {
    "colab": {
     "base_uri": "https://localhost:8080/",
     "height": 350
    },
    "id": "dSJZbrn2Y8NI",
    "outputId": "e32bf04d-01ec-47fd-a5a8-de144318d2e7"
   },
   "outputs": [
    {
     "data": {
      "image/png": "[encoded data removed]",
      "text/plain": [
       "<Figure size 864x360 with 2 Axes>"
      ]
     },
     "metadata": {
      "needs_background": "light",
      "tags": []
     },
     "output_type": "display_data"
    }
   ],
   "source": [
    "fig, ax = plt.subplots(1,2, figsize=(12,5))\n",
    "\n",
    "ax[0].plot(lr_mini.loss_values)\n",
    "ax[0].set_title('Loss versus iterations')\n",
    "ax[0].set(xlabel='iterations', ylabel='loss')\n",
    "\n",
    "ax[1] = sns.scatterplot(x=\"Height\", y=\"Weight\", data=data)\n",
    "ax[1] = sns.lineplot(x=data.loc[:,\"Height\"].values, y=lr_mini.predict(data[['Height']]).reshape(-1,))\n",
    "ax[1].set_title('Plot the regression line')\n",
    "\n",
    "plt.show()"
   ]
  },
  {
   "cell_type": "markdown",
   "metadata": {
    "id": "0MJq8jMRNFN7"
   },
   "source": [
    "#### Kết quả của bài toán Linear Regression với data fish chạy bằng thư viện scikit-learn."
   ]
  },
  {
   "cell_type": "code",
   "execution_count": 12,
   "metadata": {
    "colab": {
     "base_uri": "https://localhost:8080/"
    },
    "id": "pjMMofq8ND42",
    "outputId": "81c1efeb-fc36-4c20-ddf4-3d10b7968883"
   },
   "outputs": [
    {
     "name": "stdout",
     "output_type": "stream",
     "text": [
      ">> Matrix W except bias: \n",
      " [[59.42895267]]\n",
      "\n",
      ">> Bias:  [-130.02405987]\n",
      "\n",
      ">> Loss value of model:  28228.21519710936\n"
     ]
    }
   ],
   "source": [
    "lr = LinearRegression()\n",
    "lr.fit(X1_train, y_train)\n",
    "\n",
    "print(\">> Matrix W except bias: \\n\", lr.coef_)\n",
    "print(\"\\n>> Bias: \", lr.intercept_)\n",
    "\n",
    "y_pred = lr.predict(X1_test)\n",
    "\n",
    "from sklearn.metrics import mean_squared_error\n",
    "\n",
    "# Calculation of Mean Squared Error (MSE)\n",
    "MSE = mean_squared_error(y_test, y_pred)\n",
    "print(\"\\n>> Loss value of model: \", MSE*0.5)"
   ]
  },
  {
   "cell_type": "markdown",
   "metadata": {
    "id": "LCeiIDqerE5j"
   },
   "source": [
    "## Bài tập 2. Dùng 3 thuật toán Gradient Descent đã học để tìm bộ Weight theo *Height* và *Width* trong data fish."
   ]
  },
  {
   "cell_type": "code",
   "execution_count": 13,
   "metadata": {
    "id": "h2XTmj8BY8Ey"
   },
   "outputs": [],
   "source": [
    "X2_train, X2_test, y_train, y_test = train_test_split(data.loc[:,[\"Height\", \"Width\"]].values, data.loc[:,\"Weight\"].values, test_size=0.2,random_state=1)\n",
    "y_train = y_train.reshape(-1,1)"
   ]
  },
  {
   "cell_type": "code",
   "execution_count": 14,
   "metadata": {
    "colab": {
     "base_uri": "https://localhost:8080/",
     "height": 248
    },
    "id": "yBaAsui-UiMB",
    "outputId": "4f2b001e-41ab-43b0-b22d-3cf1dc3b02c6"
   },
   "outputs": [
    {
     "data": {
      "image/png": "[encoded data removed]",
      "text/plain": [
       "<Figure size 432x288 with 1 Axes>"
      ]
     },
     "metadata": {
      "needs_background": "light",
      "tags": []
     },
     "output_type": "display_data"
    }
   ],
   "source": [
    "fig = plt.figure()\n",
    "ax = fig.add_subplot(projection='3d')\n",
    "ax.scatter(data['Height'], data['Width'], data['Weight'])\n",
    "plt.show()"
   ]
  },
  {
   "cell_type": "code",
   "execution_count": 15,
   "metadata": {
    "id": "QRTTN0fmnMHJ"
   },
   "outputs": [],
   "source": [
    "learning_rate = 0.01\n",
    "max_iters = 127000"
   ]
  },
  {
   "cell_type": "markdown",
   "metadata": {
    "id": "uxwVpSgCrnhi"
   },
   "source": [
    "#### Batch Gradient Descent"
   ]
  },
  {
   "cell_type": "code",
   "execution_count": 16,
   "metadata": {
    "colab": {
     "base_uri": "https://localhost:8080/"
    },
    "id": "K7vNkXX2Y8BP",
    "outputId": "d43bf910-b862-46bf-c257-66db926d658c"
   },
   "outputs": [
    {
     "name": "stdout",
     "output_type": "stream",
     "text": [
      "Loss at iter 0: 141342.73193109303\n",
      "Loss at iter 1000: 13213.782398405527\n",
      "Loss at iter 2000: 12277.119091226865\n",
      "Loss at iter 3000: 12198.713544446102\n",
      "Loss at iter 4000: 12192.150428629615\n",
      "Loss at iter 5000: 12191.601047992795\n",
      "Loss at iter 6000: 12191.555060828689\n",
      "Loss at iter 7000: 12191.551211367821\n",
      "Loss at iter 8000: 12191.550889139886\n",
      "Loss at iter 9000: 12191.550862167058\n",
      "Loss at iter 10000: 12191.550859909235\n",
      "Loss at iter 11000: 12191.55085972024\n",
      "Loss at iter 12000: 12191.55085970442\n",
      "Loss at iter 13000: 12191.550859703093\n",
      "Loss at iter 14000: 12191.550859702984\n",
      "Loss at iter 15000: 12191.550859702973\n",
      "Loss at iter 16000: 12191.550859702975\n",
      "Loss at iter 17000: 12191.550859702977\n",
      "Loss at iter 18000: 12191.550859702973\n",
      "Loss at iter 19000: 12191.550859702971\n",
      "Loss at iter 20000: 12191.550859702975\n",
      "Loss at iter 21000: 12191.550859702977\n",
      "Loss at iter 22000: 12191.550859702973\n",
      "Loss at iter 23000: 12191.550859702973\n",
      "Loss at iter 24000: 12191.550859702971\n",
      "Loss at iter 25000: 12191.550859702975\n",
      "Loss at iter 26000: 12191.550859702975\n",
      "Loss at iter 27000: 12191.550859702975\n",
      "Loss at iter 28000: 12191.550859702975\n",
      "Loss at iter 29000: 12191.550859702975\n",
      "Loss at iter 30000: 12191.550859702975\n",
      "Loss at iter 31000: 12191.550859702975\n",
      "Loss at iter 32000: 12191.550859702975\n",
      "Loss at iter 33000: 12191.550859702975\n",
      "Loss at iter 34000: 12191.550859702975\n",
      "Loss at iter 35000: 12191.550859702975\n",
      "Loss at iter 36000: 12191.550859702975\n",
      "Loss at iter 37000: 12191.550859702975\n",
      "Loss at iter 38000: 12191.550859702975\n",
      "Loss at iter 39000: 12191.550859702975\n",
      "Loss at iter 40000: 12191.550859702975\n",
      "Loss at iter 41000: 12191.550859702975\n",
      "Loss at iter 42000: 12191.550859702975\n",
      "Loss at iter 43000: 12191.550859702975\n",
      "Loss at iter 44000: 12191.550859702975\n",
      "Loss at iter 45000: 12191.550859702975\n",
      "Loss at iter 46000: 12191.550859702975\n",
      "Loss at iter 47000: 12191.550859702975\n",
      "Loss at iter 48000: 12191.550859702975\n",
      "Loss at iter 49000: 12191.550859702975\n",
      "Loss at iter 50000: 12191.550859702975\n",
      "Loss at iter 51000: 12191.550859702975\n",
      "Loss at iter 52000: 12191.550859702975\n",
      "Loss at iter 53000: 12191.550859702975\n",
      "Loss at iter 54000: 12191.550859702975\n",
      "Loss at iter 55000: 12191.550859702975\n",
      "Loss at iter 56000: 12191.550859702975\n",
      "Loss at iter 57000: 12191.550859702975\n",
      "Loss at iter 58000: 12191.550859702975\n",
      "Loss at iter 59000: 12191.550859702975\n",
      "Loss at iter 60000: 12191.550859702975\n",
      "Loss at iter 61000: 12191.550859702975\n",
      "Loss at iter 62000: 12191.550859702975\n",
      "Loss at iter 63000: 12191.550859702975\n",
      "Loss at iter 64000: 12191.550859702975\n",
      "Loss at iter 65000: 12191.550859702975\n",
      "Loss at iter 66000: 12191.550859702975\n",
      "Loss at iter 67000: 12191.550859702975\n",
      "Loss at iter 68000: 12191.550859702975\n",
      "Loss at iter 69000: 12191.550859702975\n",
      "Loss at iter 70000: 12191.550859702975\n",
      "Loss at iter 71000: 12191.550859702975\n",
      "Loss at iter 72000: 12191.550859702975\n",
      "Loss at iter 73000: 12191.550859702975\n",
      "Loss at iter 74000: 12191.550859702975\n",
      "Loss at iter 75000: 12191.550859702975\n",
      "Loss at iter 76000: 12191.550859702975\n",
      "Loss at iter 77000: 12191.550859702975\n",
      "Loss at iter 78000: 12191.550859702975\n",
      "Loss at iter 79000: 12191.550859702975\n",
      "Loss at iter 80000: 12191.550859702975\n",
      "Loss at iter 81000: 12191.550859702975\n",
      "Loss at iter 82000: 12191.550859702975\n",
      "Loss at iter 83000: 12191.550859702975\n",
      "Loss at iter 84000: 12191.550859702975\n",
      "Loss at iter 85000: 12191.550859702975\n",
      "Loss at iter 86000: 12191.550859702975\n",
      "Loss at iter 87000: 12191.550859702975\n",
      "Loss at iter 88000: 12191.550859702975\n",
      "Loss at iter 89000: 12191.550859702975\n",
      "Loss at iter 90000: 12191.550859702975\n",
      "Loss at iter 91000: 12191.550859702975\n",
      "Loss at iter 92000: 12191.550859702975\n",
      "Loss at iter 93000: 12191.550859702975\n",
      "Loss at iter 94000: 12191.550859702975\n",
      "Loss at iter 95000: 12191.550859702975\n",
      "Loss at iter 96000: 12191.550859702975\n",
      "Loss at iter 97000: 12191.550859702975\n",
      "Loss at iter 98000: 12191.550859702975\n",
      "Loss at iter 99000: 12191.550859702975\n",
      "Loss at iter 100000: 12191.550859702975\n",
      "Loss at iter 101000: 12191.550859702975\n",
      "Loss at iter 102000: 12191.550859702975\n",
      "Loss at iter 103000: 12191.550859702975\n",
      "Loss at iter 104000: 12191.550859702975\n",
      "Loss at iter 105000: 12191.550859702975\n",
      "Loss at iter 106000: 12191.550859702975\n",
      "Loss at iter 107000: 12191.550859702975\n",
      "Loss at iter 108000: 12191.550859702975\n",
      "Loss at iter 109000: 12191.550859702975\n",
      "Loss at iter 110000: 12191.550859702975\n",
      "Loss at iter 111000: 12191.550859702975\n",
      "Loss at iter 112000: 12191.550859702975\n",
      "Loss at iter 113000: 12191.550859702975\n",
      "Loss at iter 114000: 12191.550859702975\n",
      "Loss at iter 115000: 12191.550859702975\n",
      "Loss at iter 116000: 12191.550859702975\n",
      "Loss at iter 117000: 12191.550859702975\n",
      "Loss at iter 118000: 12191.550859702975\n",
      "Loss at iter 119000: 12191.550859702975\n",
      "Loss at iter 120000: 12191.550859702975\n",
      "Loss at iter 121000: 12191.550859702975\n",
      "Loss at iter 122000: 12191.550859702975\n",
      "Loss at iter 123000: 12191.550859702975\n",
      "Loss at iter 124000: 12191.550859702975\n",
      "Loss at iter 125000: 12191.550859702975\n",
      "Loss at iter 126000: 12191.550859702975\n",
      "\n",
      " ---------------------------------------- \n",
      "\n",
      ">> Final loss:  12191.550859702975\n",
      ">> Final W: \n",
      " [[-415.4812046 ]\n",
      " [   1.63051922]\n",
      " [ 181.33412414]]\n"
     ]
    }
   ],
   "source": [
    "lr_bgd = Linear_Regression(learning_rate=learning_rate, max_iters=max_iters)\n",
    "lr_bgd.fit(X2_train, y_train)\n",
    "for i in range(0, len(lr_bgd.loss_values), 1000):\n",
    "  print(\"Loss at iter {}: {}\".format(i, lr_bgd.loss_values[i]))\n",
    "print(\"\\n\", \"-\"*40, \"\\n\")\n",
    "print(\">> Final loss: \", lr_bgd.loss_values[-1])\n",
    "print(\">> Final W: \\n\", lr_bgd.W)"
   ]
  },
  {
   "cell_type": "code",
   "execution_count": 17,
   "metadata": {
    "colab": {
     "base_uri": "https://localhost:8080/",
     "height": 295
    },
    "id": "gxTpTiXnY793",
    "outputId": "7354e979-23a5-4a87-9e0e-e4be99d04347"
   },
   "outputs": [
    {
     "data": {
      "image/png": "[encoded data removed]",
      "text/plain": [
       "<Figure size 432x288 with 1 Axes>"
      ]
     },
     "metadata": {
      "needs_background": "light",
      "tags": []
     },
     "output_type": "display_data"
    }
   ],
   "source": [
    "fig, ax = plt.subplots()\n",
    "\n",
    "ax.plot(lr_bgd.loss_values)\n",
    "ax.set_title('Loss versus iterations')\n",
    "ax.set(xlabel='iterations', ylabel='loss')\n",
    "\n",
    "plt.show()"
   ]
  },
  {
   "cell_type": "markdown",
   "metadata": {
    "id": "ZpV1UOqGsczs"
   },
   "source": [
    "#### Stochastic Gradient Descent"
   ]
  },
  {
   "cell_type": "code",
   "execution_count": 18,
   "metadata": {
    "colab": {
     "base_uri": "https://localhost:8080/"
    },
    "id": "XFRbycMBY72C",
    "outputId": "b360b718-f32f-4de1-874f-ad0086ffb586"
   },
   "outputs": [
    {
     "name": "stdout",
     "output_type": "stream",
     "text": [
      "Loss at iter 0: 22443.70472077978\n",
      "\n",
      " ---------------------------------------- \n",
      "\n",
      ">> Final loss:  25693.843496116184\n",
      ">> Final W: \n",
      " [[-371.72868457]\n",
      " [  14.22725771]\n",
      " [ 180.79292337]]\n"
     ]
    }
   ],
   "source": [
    "lr_sgd = Linear_Regression(learning_rate=learning_rate, max_iters=max_iters, batch_size=1)\n",
    "lr_sgd.fit(X2_train, y_train)\n",
    "for i in range(0, len(lr_sgd.loss_values), 1000):\n",
    "  print(\"Loss at iter {}: {}\".format(i, lr_sgd.loss_values[i]))\n",
    "print(\"\\n\", \"-\"*40, \"\\n\")\n",
    "print(\">> Final loss: \", lr_sgd.loss_values[-1])\n",
    "print(\">> Final W: \\n\", lr_sgd.W)"
   ]
  },
  {
   "cell_type": "code",
   "execution_count": 19,
   "metadata": {
    "colab": {
     "base_uri": "https://localhost:8080/",
     "height": 295
    },
    "id": "-4vb7hSGsoKJ",
    "outputId": "575e59ae-f12e-4201-d25c-d425e593cd0d"
   },
   "outputs": [
    {
     "data": {
      "image/png": "[encoded data removed]",
      "text/plain": [
       "<Figure size 432x288 with 1 Axes>"
      ]
     },
     "metadata": {
      "needs_background": "light",
      "tags": []
     },
     "output_type": "display_data"
    }
   ],
   "source": [
    "fig, ax = plt.subplots()\n",
    "\n",
    "ax.plot(lr_sgd.loss_values)\n",
    "ax.set_title('Loss versus iterations')\n",
    "ax.set(xlabel='iterations', ylabel='loss')\n",
    "\n",
    "plt.show()"
   ]
  },
  {
   "cell_type": "markdown",
   "metadata": {
    "id": "34myP9XGurN2"
   },
   "source": [
    "#### Mini-Batch Gradient Descent"
   ]
  },
  {
   "cell_type": "code",
   "execution_count": 20,
   "metadata": {
    "colab": {
     "base_uri": "https://localhost:8080/"
    },
    "id": "QcgCGcDWsoEc",
    "outputId": "4ce71d94-2840-4d6f-a5e5-e88b6eb20a77"
   },
   "outputs": [
    {
     "name": "stdout",
     "output_type": "stream",
     "text": [
      "Loss at iter 0: 32510.67148351419\n",
      "Loss at iter 1000: 14035.012481953225\n",
      "Loss at iter 2000: 13204.746490680996\n",
      "Loss at iter 3000: 12313.505437450942\n",
      "Loss at iter 4000: 12450.45945852812\n",
      "Loss at iter 5000: 12656.914648726082\n",
      "Loss at iter 6000: 12305.536236598422\n",
      "Loss at iter 7000: 12323.895836550046\n",
      "Loss at iter 8000: 12442.38106055008\n",
      "Loss at iter 9000: 12198.564485784887\n",
      "Loss at iter 10000: 12194.21656641432\n",
      "Loss at iter 11000: 12379.237210214778\n",
      "Loss at iter 12000: 12283.84547902514\n",
      "Loss at iter 13000: 12587.12053586658\n",
      "Loss at iter 14000: 12331.989912139647\n",
      "Loss at iter 15000: 12515.83589825645\n",
      "Loss at iter 16000: 12374.129362770207\n",
      "Loss at iter 17000: 12198.11470104707\n",
      "Loss at iter 18000: 12925.661395282565\n",
      "Loss at iter 19000: 12378.5548097226\n",
      "Loss at iter 20000: 12294.131417468221\n",
      "Loss at iter 21000: 12626.594432012793\n",
      "Loss at iter 22000: 12929.94561037944\n",
      "Loss at iter 23000: 12192.922043587052\n",
      "Loss at iter 24000: 12228.4890290832\n",
      "Loss at iter 25000: 12220.450041982678\n",
      "Loss at iter 26000: 13822.120603827747\n",
      "Loss at iter 27000: 12713.79349796788\n",
      "Loss at iter 28000: 13682.469310004384\n",
      "Loss at iter 29000: 12320.927146688147\n",
      "Loss at iter 30000: 15299.656276686783\n",
      "Loss at iter 31000: 12210.859311774428\n",
      "\n",
      " ---------------------------------------- \n",
      "\n",
      ">> Final loss:  12719.93735392504\n",
      ">> Final W: \n",
      " [[-416.49740171]\n",
      " [  -1.04670338]\n",
      " [ 180.30911485]]\n"
     ]
    }
   ],
   "source": [
    "lr_mini = Linear_Regression(learning_rate=learning_rate, max_iters=max_iters, batch_size=32)\n",
    "lr_mini.fit(X2_train, y_train)\n",
    "for i in range(0, len(lr_mini.loss_values), 1000):\n",
    "  print(\"Loss at iter {}: {}\".format(i, lr_mini.loss_values[i]))\n",
    "print(\"\\n\", \"-\"*40, \"\\n\")\n",
    "print(\">> Final loss: \", lr_mini.loss_values[-1])\n",
    "print(\">> Final W: \\n\", lr_mini.W)"
   ]
  },
  {
   "cell_type": "code",
   "execution_count": 21,
   "metadata": {
    "colab": {
     "base_uri": "https://localhost:8080/",
     "height": 295
    },
    "id": "WvnSEflDsn9P",
    "outputId": "e9f345fb-200a-4197-c8d9-74c107e1b4bb"
   },
   "outputs": [
    {
     "data": {
      "image/png": "[encoded data removed]",
      "text/plain": [
       "<Figure size 432x288 with 1 Axes>"
      ]
     },
     "metadata": {
      "needs_background": "light",
      "tags": []
     },
     "output_type": "display_data"
    }
   ],
   "source": [
    "fig, ax = plt.subplots()\n",
    "\n",
    "ax.plot(lr_mini.loss_values)\n",
    "ax.set_title('Loss versus iterations')\n",
    "ax.set(xlabel='iterations', ylabel='loss')\n",
    "\n",
    "plt.show()"
   ]
  },
  {
   "cell_type": "markdown",
   "metadata": {
    "id": "S1uZSa0FTIFg"
   },
   "source": [
    "#### Kết quả của bài toán Linear Regression với data fish chạy bằng thư viện scikit-learn."
   ]
  },
  {
   "cell_type": "code",
   "execution_count": 22,
   "metadata": {
    "colab": {
     "base_uri": "https://localhost:8080/"
    },
    "id": "dSfgWXNNIRdP",
    "outputId": "c9b296e9-4424-48fc-c873-e97ec416c97b"
   },
   "outputs": [
    {
     "name": "stdout",
     "output_type": "stream",
     "text": [
      ">> Matrix W except bias: \n",
      " [[  1.63051922 181.33412414]]\n",
      "\n",
      ">> Bias:  [-415.4812046]\n",
      "\n",
      ">> Loss value of model:  19231.487048543\n"
     ]
    }
   ],
   "source": [
    "lr = LinearRegression()\n",
    "lr.fit(X2_train, y_train)\n",
    "\n",
    "print(\">> Matrix W except bias: \\n\", lr.coef_)\n",
    "print(\"\\n>> Bias: \", lr.intercept_)\n",
    "\n",
    "y_pred = lr.predict(X2_test)\n",
    "\n",
    "from sklearn.metrics import mean_squared_error\n",
    "\n",
    "# Calculation of Mean Squared Error (MSE)\n",
    "MSE = mean_squared_error(y_test, y_pred)\n",
    "print(\"\\n>> Loss value of model: \", MSE*0.5)"
   ]
  },
  {
   "cell_type": "markdown",
   "metadata": {
    "id": "Tfb9CL5hULJk"
   },
   "source": [
    "## Bài tập 3. Cho biết Weights tốt nhất cho các mô hình trên (cho câu 2 cả 3 thuật toán)."
   ]
  },
  {
   "cell_type": "code",
   "execution_count": 23,
   "metadata": {
    "colab": {
     "base_uri": "https://localhost:8080/",
     "height": 136
    },
    "id": "CY9Y4wZkTUwZ",
    "outputId": "e405ef8a-bed7-4829-eb9e-dec938875348"
   },
   "outputs": [
    {
     "data": {
      "text/html": [
       "<div>\n",
       "<style scoped>\n",
       "    .dataframe tbody tr th:only-of-type {\n",
       "        vertical-align: middle;\n",
       "    }\n",
       "\n",
       "    .dataframe tbody tr th {\n",
       "        vertical-align: top;\n",
       "    }\n",
       "\n",
       "    .dataframe thead th {\n",
       "        text-align: right;\n",
       "    }\n",
       "</style>\n",
       "<table border=\"1\" class=\"dataframe\">\n",
       "  <thead>\n",
       "    <tr style=\"text-align: right;\">\n",
       "      <th></th>\n",
       "      <th>loss_train_set</th>\n",
       "      <th>loss_test_set</th>\n",
       "    </tr>\n",
       "  </thead>\n",
       "  <tbody>\n",
       "    <tr>\n",
       "      <th>BGD</th>\n",
       "      <td>12191.550860</td>\n",
       "      <td>19231.487049</td>\n",
       "    </tr>\n",
       "    <tr>\n",
       "      <th>SGD</th>\n",
       "      <td>25693.843496</td>\n",
       "      <td>30657.726522</td>\n",
       "    </tr>\n",
       "    <tr>\n",
       "      <th>Mini-BGD</th>\n",
       "      <td>12719.937354</td>\n",
       "      <td>20057.215961</td>\n",
       "    </tr>\n",
       "  </tbody>\n",
       "</table>\n",
       "</div>"
      ],
      "text/plain": [
       "          loss_train_set  loss_test_set\n",
       "BGD         12191.550860   19231.487049\n",
       "SGD         25693.843496   30657.726522\n",
       "Mini-BGD    12719.937354   20057.215961"
      ]
     },
     "execution_count": 23,
     "metadata": {
      "tags": []
     },
     "output_type": "execute_result"
    }
   ],
   "source": [
    "algs = [lr_bgd, lr_sgd, lr_mini]\n",
    "y_preds = np.array([alg.predict(X2_test) for alg in algs])\n",
    "y_test = y_test.reshape(1,-1).T\n",
    "\n",
    "loss = {}\n",
    "loss['loss_train_set'] = [alg.loss_values[-1] for alg in algs]\n",
    "loss['loss_test_set'] = [0.5*np.mean(np.square(y-y_test)) for y in y_preds]\n",
    "loss = pd.DataFrame(loss)\n",
    "loss.index = ['BGD', 'SGD', 'Mini-BGD']\n",
    "loss"
   ]
  },
  {
   "cell_type": "code",
   "execution_count": 24,
   "metadata": {
    "colab": {
     "base_uri": "https://localhost:8080/"
    },
    "id": "lf_h8XpWyQOA",
    "outputId": "f210e64f-486d-43dc-b744-c6960a5702ed"
   },
   "outputs": [
    {
     "name": "stdout",
     "output_type": "stream",
     "text": [
      "The best weights for above model on BGD: \n",
      "[[-415.4812046 ]\n",
      " [   1.63051922]\n",
      " [ 181.33412414]]\n",
      "with loss 19231.48704854324\n"
     ]
    }
   ],
   "source": [
    "best_idx = np.where(loss == loss.min()['loss_test_set'])[0][0]\n",
    "print(\"The best weights for above model on {}: \\n{}\\nwith loss {}\".format(loss.index[best_idx], algs[best_idx].W, loss['loss_test_set'][best_idx]))"
   ]
  }
 ],
 "metadata": {
  "accelerator": "GPU",
  "colab": {
   "collapsed_sections": [],
   "name": "NMMH_TH2_18110103.ipynb",
   "provenance": []
  },
  "kernelspec": {
   "display_name": "Python 3",
   "language": "python",
   "name": "python3"
  },
  "language_info": {
   "codemirror_mode": {
    "name": "ipython",
    "version": 3
   },
   "file_extension": ".py",
   "mimetype": "text/x-python",
   "name": "python",
   "nbconvert_exporter": "python",
   "pygments_lexer": "ipython3",
   "version": "3.7.10"
  }
 },
 "nbformat": 4,
 "nbformat_minor": 1
}
