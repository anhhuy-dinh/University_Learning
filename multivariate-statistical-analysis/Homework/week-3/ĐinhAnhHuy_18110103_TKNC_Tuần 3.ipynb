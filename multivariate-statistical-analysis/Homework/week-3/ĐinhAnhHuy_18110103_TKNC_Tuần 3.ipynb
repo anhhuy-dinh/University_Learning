{
 "cells": [
  {
   "cell_type": "code",
   "execution_count": 1,
   "metadata": {},
   "outputs": [],
   "source": [
    "import numpy as np\n",
    "import pandas as pd\n",
    "import scipy.stats as stats\n",
    "import matplotlib.pyplot as plt"
   ]
  },
  {
   "cell_type": "markdown",
   "metadata": {},
   "source": [
    "### 4.26"
   ]
  },
  {
   "cell_type": "code",
   "execution_count": 2,
   "metadata": {},
   "outputs": [
    {
     "data": {
      "text/html": [
       "<div>\n",
       "<style scoped>\n",
       "    .dataframe tbody tr th:only-of-type {\n",
       "        vertical-align: middle;\n",
       "    }\n",
       "\n",
       "    .dataframe tbody tr th {\n",
       "        vertical-align: top;\n",
       "    }\n",
       "\n",
       "    .dataframe thead th {\n",
       "        text-align: right;\n",
       "    }\n",
       "</style>\n",
       "<table border=\"1\" class=\"dataframe\">\n",
       "  <thead>\n",
       "    <tr style=\"text-align: right;\">\n",
       "      <th></th>\n",
       "      <th>x1</th>\n",
       "      <th>x2</th>\n",
       "    </tr>\n",
       "  </thead>\n",
       "  <tbody>\n",
       "    <tr>\n",
       "      <th>0</th>\n",
       "      <td>1</td>\n",
       "      <td>18.95</td>\n",
       "    </tr>\n",
       "    <tr>\n",
       "      <th>1</th>\n",
       "      <td>2</td>\n",
       "      <td>19.00</td>\n",
       "    </tr>\n",
       "    <tr>\n",
       "      <th>2</th>\n",
       "      <td>3</td>\n",
       "      <td>17.95</td>\n",
       "    </tr>\n",
       "    <tr>\n",
       "      <th>3</th>\n",
       "      <td>3</td>\n",
       "      <td>15.54</td>\n",
       "    </tr>\n",
       "    <tr>\n",
       "      <th>4</th>\n",
       "      <td>4</td>\n",
       "      <td>14.00</td>\n",
       "    </tr>\n",
       "    <tr>\n",
       "      <th>5</th>\n",
       "      <td>5</td>\n",
       "      <td>12.95</td>\n",
       "    </tr>\n",
       "    <tr>\n",
       "      <th>6</th>\n",
       "      <td>6</td>\n",
       "      <td>8.94</td>\n",
       "    </tr>\n",
       "    <tr>\n",
       "      <th>7</th>\n",
       "      <td>8</td>\n",
       "      <td>7.49</td>\n",
       "    </tr>\n",
       "    <tr>\n",
       "      <th>8</th>\n",
       "      <td>9</td>\n",
       "      <td>6.00</td>\n",
       "    </tr>\n",
       "    <tr>\n",
       "      <th>9</th>\n",
       "      <td>11</td>\n",
       "      <td>3.99</td>\n",
       "    </tr>\n",
       "  </tbody>\n",
       "</table>\n",
       "</div>"
      ],
      "text/plain": [
       "   x1     x2\n",
       "0   1  18.95\n",
       "1   2  19.00\n",
       "2   3  17.95\n",
       "3   3  15.54\n",
       "4   4  14.00\n",
       "5   5  12.95\n",
       "6   6   8.94\n",
       "7   8   7.49\n",
       "8   9   6.00\n",
       "9  11   3.99"
      ]
     },
     "execution_count": 2,
     "metadata": {},
     "output_type": "execute_result"
    }
   ],
   "source": [
    "path = 'E4-26.txt'\n",
    "data = pd.read_table(path)\n",
    "n, p = data.shape\n",
    "data"
   ]
  },
  {
   "cell_type": "markdown",
   "metadata": {},
   "source": [
    "**(a) Tính $(\\textbf{x}_j-\\overline{\\textbf{x}})^T\\textbf{S}^{-1}(\\textbf{x}_j-\\overline{\\textbf{x}}), j = 1, 2,..., 10$ trong đó $\\textbf{x}_j=[x_{j1}, x_{j2}]^T$.**"
   ]
  },
  {
   "cell_type": "code",
   "execution_count": 3,
   "metadata": {},
   "outputs": [
    {
     "data": {
      "text/html": [
       "<div>\n",
       "<style scoped>\n",
       "    .dataframe tbody tr th:only-of-type {\n",
       "        vertical-align: middle;\n",
       "    }\n",
       "\n",
       "    .dataframe tbody tr th {\n",
       "        vertical-align: top;\n",
       "    }\n",
       "\n",
       "    .dataframe thead th {\n",
       "        text-align: right;\n",
       "    }\n",
       "</style>\n",
       "<table border=\"1\" class=\"dataframe\">\n",
       "  <thead>\n",
       "    <tr style=\"text-align: right;\">\n",
       "      <th></th>\n",
       "      <th>sq_stat_dist</th>\n",
       "    </tr>\n",
       "  </thead>\n",
       "  <tbody>\n",
       "    <tr>\n",
       "      <th>0</th>\n",
       "      <td>1.875304</td>\n",
       "    </tr>\n",
       "    <tr>\n",
       "      <th>1</th>\n",
       "      <td>2.020326</td>\n",
       "    </tr>\n",
       "    <tr>\n",
       "      <th>2</th>\n",
       "      <td>2.900909</td>\n",
       "    </tr>\n",
       "    <tr>\n",
       "      <th>3</th>\n",
       "      <td>0.735266</td>\n",
       "    </tr>\n",
       "    <tr>\n",
       "      <th>4</th>\n",
       "      <td>0.310519</td>\n",
       "    </tr>\n",
       "    <tr>\n",
       "      <th>5</th>\n",
       "      <td>0.017616</td>\n",
       "    </tr>\n",
       "    <tr>\n",
       "      <th>6</th>\n",
       "      <td>3.732901</td>\n",
       "    </tr>\n",
       "    <tr>\n",
       "      <th>7</th>\n",
       "      <td>0.816540</td>\n",
       "    </tr>\n",
       "    <tr>\n",
       "      <th>8</th>\n",
       "      <td>1.375338</td>\n",
       "    </tr>\n",
       "    <tr>\n",
       "      <th>9</th>\n",
       "      <td>4.215280</td>\n",
       "    </tr>\n",
       "  </tbody>\n",
       "</table>\n",
       "</div>"
      ],
      "text/plain": [
       "   sq_stat_dist\n",
       "0      1.875304\n",
       "1      2.020326\n",
       "2      2.900909\n",
       "3      0.735266\n",
       "4      0.310519\n",
       "5      0.017616\n",
       "6      3.732901\n",
       "7      0.816540\n",
       "8      1.375338\n",
       "9      4.215280"
      ]
     },
     "execution_count": 3,
     "metadata": {},
     "output_type": "execute_result"
    }
   ],
   "source": [
    "# Tính mean và covariance từ dữ liệu\n",
    "x_mean = data.mean()\n",
    "S = np.cov(data.T)\n",
    "\n",
    "# Tính squared statistical distances\n",
    "sq_stat_dists = np.array([np.dot(np.dot(np.transpose(data.iloc[i]-x_mean),np.linalg.inv(S)),data.iloc[i]-x_mean) for i in range(n)])\n",
    "sq_stat_dists_df = pd.DataFrame(sq_stat_dists, columns=['sq_stat_dist'])\n",
    "sq_stat_dists_df"
   ]
  },
  {
   "cell_type": "markdown",
   "metadata": {},
   "source": [
    "**(b) Sử dụng dữ liệu đã tính ở câu (a), xác định tỷ lệ của các quan sát rơi vào trong miền bao xác suất 50% của phân phối chuẩn 2 chiều.**"
   ]
  },
  {
   "cell_type": "code",
   "execution_count": 4,
   "metadata": {
    "scrolled": true
   },
   "outputs": [
    {
     "data": {
      "text/plain": [
       "1.386294361119891"
      ]
     },
     "execution_count": 4,
     "metadata": {},
     "output_type": "execute_result"
    }
   ],
   "source": [
    "chisq = stats.chi2.ppf(0.5, 2)\n",
    "chisq"
   ]
  },
  {
   "cell_type": "code",
   "execution_count": 5,
   "metadata": {},
   "outputs": [
    {
     "name": "stdout",
     "output_type": "stream",
     "text": [
      "Quan trắc thứ 4 có tỷ lệ là 0.7352659348994637\n",
      "Quan trắc thứ 5 có tỷ lệ là 0.3105191714970479\n",
      "Quan trắc thứ 6 có tỷ lệ là 0.017616204787008708\n",
      "Quan trắc thứ 8 có tỷ lệ là 0.8165401401502639\n",
      "Quan trắc thứ 9 có tỷ lệ là 1.3753379462681126\n",
      ">> Có 5 quan trắc thoả yêu cầu.\n"
     ]
    }
   ],
   "source": [
    "no_obs = 0\n",
    "for i in range(len(sq_stat_dists)):\n",
    "    if sq_stat_dists[i] <= chisq:\n",
    "        print(\"Quan trắc thứ {} có tỷ lệ là {}\".format(i+1, sq_stat_dists[i]))\n",
    "        no_obs += 1\n",
    "print(\">> Có {} quan trắc thoả yêu cầu.\".format(no_obs))"
   ]
  },
  {
   "cell_type": "markdown",
   "metadata": {},
   "source": [
    "**(c) Sắp xếp các khoảng cách ở câu (a) và vẽ đồ thị chi-square.**"
   ]
  },
  {
   "cell_type": "code",
   "execution_count": 6,
   "metadata": {},
   "outputs": [
    {
     "data": {
      "text/plain": [
       "array([0.0176162 , 0.31051917, 0.73526593, 0.81654014, 1.37533795,\n",
       "       1.87530448, 2.02032623, 2.9009088 , 3.73290121, 4.21527988])"
      ]
     },
     "execution_count": 6,
     "metadata": {},
     "output_type": "execute_result"
    }
   ],
   "source": [
    "sq_stat_dists_sorted = np.sort(sq_stat_dists)\n",
    "sq_stat_dists_sorted"
   ]
  },
  {
   "cell_type": "code",
   "execution_count": 7,
   "metadata": {},
   "outputs": [
    {
     "data": {
      "text/plain": [
       "array([0.10258659, 0.32503786, 0.57536414, 0.86156583, 1.195674  ,\n",
       "       1.59701539, 2.09964425, 2.77258872, 3.79423997, 5.99146455])"
      ]
     },
     "execution_count": 7,
     "metadata": {},
     "output_type": "execute_result"
    }
   ],
   "source": [
    "chisqs = np.array([stats.chi2.ppf(((i+1)-1/2)/n, 2) for i in range(n)])\n",
    "chisqs"
   ]
  },
  {
   "cell_type": "code",
   "execution_count": 8,
   "metadata": {},
   "outputs": [
    {
     "data": {
      "image/png": "[encoded data removed]",
      "text/plain": [
       "<Figure size 432x288 with 1 Axes>"
      ]
     },
     "metadata": {
      "needs_background": "light"
     },
     "output_type": "display_data"
    }
   ],
   "source": [
    "plt.scatter(x=chisqs, y=sq_stat_dists_sorted, color='blue')\n",
    "plt.title('Chi-Square Plot')\n",
    "plt.xlabel('chi-square quantile')\n",
    "plt.ylabel(\"squared statistical distance\")\n",
    "x = np.array(range(0,7))\n",
    "plt.plot(x,x,'red')\n",
    "plt.show()"
   ]
  },
  {
   "cell_type": "markdown",
   "metadata": {},
   "source": [
    "**(d) Từ kết quả tính được ở câu (b) và (c), dữ liệu trên có xấp xỉ phân phối chuẩn hai chiều không?**\n",
    "\n",
    "* Từ kết quả câu (b), có đúng 50% quan trắc rời vào miền bao xác suất 50% của phân phối chuẩn 2 chiều.\n",
    "* Từ kết quả câu (c), đồ thị chi-square có dạng gần tuyến tính, ngoại trừ một điểm ngoại lai.\n",
    "* Với cỡ mẫu $n=10$ khá nhỏ nên rất khó để bác bỏ giả thuyết dữ liệu trên xấp xỉ phân phối chuẩn 2 chiều.\n",
    "\n",
    "Từ những điều trên, ta có thể kết luận rằng dữ liệu đề bài có xấp xỉ phân phối chuẩn 2 chiều."
   ]
  },
  {
   "cell_type": "markdown",
   "metadata": {},
   "source": [
    "### 4.29."
   ]
  },
  {
   "cell_type": "code",
   "execution_count": 9,
   "metadata": {},
   "outputs": [
    {
     "data": {
      "text/html": [
       "<div>\n",
       "<style scoped>\n",
       "    .dataframe tbody tr th:only-of-type {\n",
       "        vertical-align: middle;\n",
       "    }\n",
       "\n",
       "    .dataframe tbody tr th {\n",
       "        vertical-align: top;\n",
       "    }\n",
       "\n",
       "    .dataframe thead th {\n",
       "        text-align: right;\n",
       "    }\n",
       "</style>\n",
       "<table border=\"1\" class=\"dataframe\">\n",
       "  <thead>\n",
       "    <tr style=\"text-align: right;\">\n",
       "      <th></th>\n",
       "      <th>x5</th>\n",
       "      <th>x6</th>\n",
       "    </tr>\n",
       "  </thead>\n",
       "  <tbody>\n",
       "    <tr>\n",
       "      <th>0</th>\n",
       "      <td>12</td>\n",
       "      <td>8</td>\n",
       "    </tr>\n",
       "    <tr>\n",
       "      <th>1</th>\n",
       "      <td>9</td>\n",
       "      <td>5</td>\n",
       "    </tr>\n",
       "    <tr>\n",
       "      <th>2</th>\n",
       "      <td>5</td>\n",
       "      <td>6</td>\n",
       "    </tr>\n",
       "    <tr>\n",
       "      <th>3</th>\n",
       "      <td>8</td>\n",
       "      <td>15</td>\n",
       "    </tr>\n",
       "    <tr>\n",
       "      <th>4</th>\n",
       "      <td>8</td>\n",
       "      <td>10</td>\n",
       "    </tr>\n",
       "    <tr>\n",
       "      <th>5</th>\n",
       "      <td>12</td>\n",
       "      <td>12</td>\n",
       "    </tr>\n",
       "    <tr>\n",
       "      <th>6</th>\n",
       "      <td>12</td>\n",
       "      <td>15</td>\n",
       "    </tr>\n",
       "    <tr>\n",
       "      <th>7</th>\n",
       "      <td>21</td>\n",
       "      <td>14</td>\n",
       "    </tr>\n",
       "    <tr>\n",
       "      <th>8</th>\n",
       "      <td>11</td>\n",
       "      <td>11</td>\n",
       "    </tr>\n",
       "    <tr>\n",
       "      <th>9</th>\n",
       "      <td>13</td>\n",
       "      <td>9</td>\n",
       "    </tr>\n",
       "  </tbody>\n",
       "</table>\n",
       "</div>"
      ],
      "text/plain": [
       "   x5  x6\n",
       "0  12   8\n",
       "1   9   5\n",
       "2   5   6\n",
       "3   8  15\n",
       "4   8  10\n",
       "5  12  12\n",
       "6  12  15\n",
       "7  21  14\n",
       "8  11  11\n",
       "9  13   9"
      ]
     },
     "execution_count": 9,
     "metadata": {},
     "output_type": "execute_result"
    }
   ],
   "source": [
    "path = 'E4-29.txt'\n",
    "data = pd.read_table(path, delim_whitespace=True, usecols=['x5','x6'])\n",
    "n, p = data.shape\n",
    "data.head(10)"
   ]
  },
  {
   "cell_type": "markdown",
   "metadata": {},
   "source": [
    "**(a) Tính khoảng cách thống kê $(\\textbf{x}_j-\\overline{\\textbf{x}})^T\\textbf{S}^{-1}(\\textbf{x}_j-\\overline{\\textbf{x}}),j=1,2,...,42$ trong đó $\\textbf{x}_j=[x_{j5},x_{j6}]^T$.**"
   ]
  },
  {
   "cell_type": "code",
   "execution_count": 10,
   "metadata": {},
   "outputs": [
    {
     "data": {
      "text/html": [
       "<div>\n",
       "<style scoped>\n",
       "    .dataframe tbody tr th:only-of-type {\n",
       "        vertical-align: middle;\n",
       "    }\n",
       "\n",
       "    .dataframe tbody tr th {\n",
       "        vertical-align: top;\n",
       "    }\n",
       "\n",
       "    .dataframe thead th {\n",
       "        text-align: right;\n",
       "    }\n",
       "</style>\n",
       "<table border=\"1\" class=\"dataframe\">\n",
       "  <thead>\n",
       "    <tr style=\"text-align: right;\">\n",
       "      <th></th>\n",
       "      <th>sq_stat_dist</th>\n",
       "    </tr>\n",
       "  </thead>\n",
       "  <tbody>\n",
       "    <tr>\n",
       "      <th>0</th>\n",
       "      <td>0.460652</td>\n",
       "    </tr>\n",
       "    <tr>\n",
       "      <th>1</th>\n",
       "      <td>0.659221</td>\n",
       "    </tr>\n",
       "    <tr>\n",
       "      <th>2</th>\n",
       "      <td>2.377061</td>\n",
       "    </tr>\n",
       "    <tr>\n",
       "      <th>3</th>\n",
       "      <td>1.628290</td>\n",
       "    </tr>\n",
       "    <tr>\n",
       "      <th>4</th>\n",
       "      <td>0.413536</td>\n",
       "    </tr>\n",
       "    <tr>\n",
       "      <th>5</th>\n",
       "      <td>0.476073</td>\n",
       "    </tr>\n",
       "    <tr>\n",
       "      <th>6</th>\n",
       "      <td>1.184889</td>\n",
       "    </tr>\n",
       "    <tr>\n",
       "      <th>7</th>\n",
       "      <td>10.639179</td>\n",
       "    </tr>\n",
       "    <tr>\n",
       "      <th>8</th>\n",
       "      <td>0.138834</td>\n",
       "    </tr>\n",
       "    <tr>\n",
       "      <th>9</th>\n",
       "      <td>0.816247</td>\n",
       "    </tr>\n",
       "    <tr>\n",
       "      <th>10</th>\n",
       "      <td>1.356630</td>\n",
       "    </tr>\n",
       "    <tr>\n",
       "      <th>11</th>\n",
       "      <td>0.622810</td>\n",
       "    </tr>\n",
       "    <tr>\n",
       "      <th>12</th>\n",
       "      <td>5.649439</td>\n",
       "    </tr>\n",
       "    <tr>\n",
       "      <th>13</th>\n",
       "      <td>0.315950</td>\n",
       "    </tr>\n",
       "    <tr>\n",
       "      <th>14</th>\n",
       "      <td>0.413536</td>\n",
       "    </tr>\n",
       "    <tr>\n",
       "      <th>15</th>\n",
       "      <td>0.122497</td>\n",
       "    </tr>\n",
       "    <tr>\n",
       "      <th>16</th>\n",
       "      <td>0.898798</td>\n",
       "    </tr>\n",
       "    <tr>\n",
       "      <th>17</th>\n",
       "      <td>4.764687</td>\n",
       "    </tr>\n",
       "    <tr>\n",
       "      <th>18</th>\n",
       "      <td>3.008912</td>\n",
       "    </tr>\n",
       "    <tr>\n",
       "      <th>19</th>\n",
       "      <td>0.659221</td>\n",
       "    </tr>\n",
       "    <tr>\n",
       "      <th>20</th>\n",
       "      <td>2.774142</td>\n",
       "    </tr>\n",
       "    <tr>\n",
       "      <th>21</th>\n",
       "      <td>1.036006</td>\n",
       "    </tr>\n",
       "    <tr>\n",
       "      <th>22</th>\n",
       "      <td>0.787415</td>\n",
       "    </tr>\n",
       "    <tr>\n",
       "      <th>23</th>\n",
       "      <td>3.443775</td>\n",
       "    </tr>\n",
       "    <tr>\n",
       "      <th>24</th>\n",
       "      <td>6.148861</td>\n",
       "    </tr>\n",
       "    <tr>\n",
       "      <th>25</th>\n",
       "      <td>1.036006</td>\n",
       "    </tr>\n",
       "    <tr>\n",
       "      <th>26</th>\n",
       "      <td>0.138834</td>\n",
       "    </tr>\n",
       "    <tr>\n",
       "      <th>27</th>\n",
       "      <td>0.885604</td>\n",
       "    </tr>\n",
       "    <tr>\n",
       "      <th>28</th>\n",
       "      <td>0.137972</td>\n",
       "    </tr>\n",
       "    <tr>\n",
       "      <th>29</th>\n",
       "      <td>2.248887</td>\n",
       "    </tr>\n",
       "    <tr>\n",
       "      <th>30</th>\n",
       "      <td>0.190119</td>\n",
       "    </tr>\n",
       "    <tr>\n",
       "      <th>31</th>\n",
       "      <td>0.460652</td>\n",
       "    </tr>\n",
       "    <tr>\n",
       "      <th>32</th>\n",
       "      <td>1.147194</td>\n",
       "    </tr>\n",
       "    <tr>\n",
       "      <th>33</th>\n",
       "      <td>7.085724</td>\n",
       "    </tr>\n",
       "    <tr>\n",
       "      <th>34</th>\n",
       "      <td>1.458423</td>\n",
       "    </tr>\n",
       "    <tr>\n",
       "      <th>35</th>\n",
       "      <td>0.122497</td>\n",
       "    </tr>\n",
       "    <tr>\n",
       "      <th>36</th>\n",
       "      <td>1.898471</td>\n",
       "    </tr>\n",
       "    <tr>\n",
       "      <th>37</th>\n",
       "      <td>2.778260</td>\n",
       "    </tr>\n",
       "    <tr>\n",
       "      <th>38</th>\n",
       "      <td>8.473065</td>\n",
       "    </tr>\n",
       "    <tr>\n",
       "      <th>39</th>\n",
       "      <td>0.637022</td>\n",
       "    </tr>\n",
       "    <tr>\n",
       "      <th>40</th>\n",
       "      <td>0.703249</td>\n",
       "    </tr>\n",
       "    <tr>\n",
       "      <th>41</th>\n",
       "      <td>1.801361</td>\n",
       "    </tr>\n",
       "  </tbody>\n",
       "</table>\n",
       "</div>"
      ],
      "text/plain": [
       "    sq_stat_dist\n",
       "0       0.460652\n",
       "1       0.659221\n",
       "2       2.377061\n",
       "3       1.628290\n",
       "4       0.413536\n",
       "5       0.476073\n",
       "6       1.184889\n",
       "7      10.639179\n",
       "8       0.138834\n",
       "9       0.816247\n",
       "10      1.356630\n",
       "11      0.622810\n",
       "12      5.649439\n",
       "13      0.315950\n",
       "14      0.413536\n",
       "15      0.122497\n",
       "16      0.898798\n",
       "17      4.764687\n",
       "18      3.008912\n",
       "19      0.659221\n",
       "20      2.774142\n",
       "21      1.036006\n",
       "22      0.787415\n",
       "23      3.443775\n",
       "24      6.148861\n",
       "25      1.036006\n",
       "26      0.138834\n",
       "27      0.885604\n",
       "28      0.137972\n",
       "29      2.248887\n",
       "30      0.190119\n",
       "31      0.460652\n",
       "32      1.147194\n",
       "33      7.085724\n",
       "34      1.458423\n",
       "35      0.122497\n",
       "36      1.898471\n",
       "37      2.778260\n",
       "38      8.473065\n",
       "39      0.637022\n",
       "40      0.703249\n",
       "41      1.801361"
      ]
     },
     "execution_count": 10,
     "metadata": {},
     "output_type": "execute_result"
    }
   ],
   "source": [
    "# Tính mean và covariance từ dữ liệu\n",
    "x_mean = data.mean()\n",
    "S = np.cov(data.T)\n",
    "\n",
    "# Tính squared statistical distances\n",
    "sq_stat_dists = np.array([np.dot(np.dot(np.transpose(data.iloc[i]-x_mean),np.linalg.inv(S)),data.iloc[i]-x_mean) for i in range(n)])\n",
    "sq_stat_dists_df = pd.DataFrame(sq_stat_dists, columns=['sq_stat_dist'])\n",
    "sq_stat_dists_df"
   ]
  },
  {
   "cell_type": "markdown",
   "metadata": {},
   "source": [
    "**(b) Xác định tỷ lệ của các quan trắc $\\textbf{x}_j=[x_{j5},x_{j6}]^T,j=1,2,...,42$ rơi vào miền bao xác suất 50% của phân phối chuẩn 2 chiều**"
   ]
  },
  {
   "cell_type": "code",
   "execution_count": 11,
   "metadata": {},
   "outputs": [
    {
     "data": {
      "text/plain": [
       "1.386294361119891"
      ]
     },
     "execution_count": 11,
     "metadata": {},
     "output_type": "execute_result"
    }
   ],
   "source": [
    "chisq = stats.chi2.ppf(0.5, 2)\n",
    "chisq"
   ]
  },
  {
   "cell_type": "code",
   "execution_count": 12,
   "metadata": {},
   "outputs": [
    {
     "name": "stdout",
     "output_type": "stream",
     "text": [
      "Quan trắc thứ 1 có tỷ lệ là 0.4606523552654811\n",
      "Quan trắc thứ 2 có tỷ lệ là 0.6592206345785215\n",
      "Quan trắc thứ 5 có tỷ lệ là 0.4135363565646298\n",
      "Quan trắc thứ 6 có tỷ lệ là 0.47607263026524094\n",
      "Quan trắc thứ 7 có tỷ lệ là 1.1848894611961092\n",
      "Quan trắc thứ 9 có tỷ lệ là 0.13883386298670963\n",
      "Quan trắc thứ 10 có tỷ lệ là 0.81624681520988\n",
      "Quan trắc thứ 11 có tỷ lệ là 1.3566300591687883\n",
      "Quan trắc thứ 12 có tỷ lệ là 0.6228095781062669\n",
      "Quan trắc thứ 14 có tỷ lệ là 0.31594983851212183\n",
      "Quan trắc thứ 15 có tỷ lệ là 0.4135363565646298\n",
      "Quan trắc thứ 16 có tỷ lệ là 0.12249733044955191\n",
      "Quan trắc thứ 17 có tỷ lệ là 0.8987982257829785\n",
      "Quan trắc thứ 20 có tỷ lệ là 0.6592206345785215\n",
      "Quan trắc thứ 22 có tỷ lệ là 1.0360060952350683\n",
      "Quan trắc thứ 23 có tỷ lệ là 0.7874152446997652\n",
      "Quan trắc thứ 26 có tỷ lệ là 1.0360060952350683\n",
      "Quan trắc thứ 27 có tỷ lệ là 0.13883386298670963\n",
      "Quan trắc thứ 28 có tỷ lệ là 0.8856041172444513\n",
      "Quan trắc thứ 29 có tỷ lệ là 0.13797190219226885\n",
      "Quan trắc thứ 31 có tỷ lệ là 0.19011883348272043\n",
      "Quan trắc thứ 32 có tỷ lệ là 0.4606523552654811\n",
      "Quan trắc thứ 33 có tỷ lệ là 1.1471939473982804\n",
      "Quan trắc thứ 36 có tỷ lệ là 0.12249733044955191\n",
      "Quan trắc thứ 40 có tỷ lệ là 0.6370217505752358\n",
      "Quan trắc thứ 41 có tỷ lệ là 0.7032485060236987\n",
      ">> Có 26 quan trắc thoả yêu cầu.\n"
     ]
    }
   ],
   "source": [
    "no_obs = 0\n",
    "for i in range(len(sq_stat_dists)):\n",
    "    if sq_stat_dists[i] <= chisq:\n",
    "        print(\"Quan trắc thứ {} có tỷ lệ là {}\".format(i+1, sq_stat_dists[i]))\n",
    "        no_obs += 1\n",
    "print(\">> Có {} quan trắc thoả yêu cầu.\".format(no_obs))"
   ]
  },
  {
   "cell_type": "markdown",
   "metadata": {},
   "source": [
    "**(c) Vẽ đồ thị chi-square cho các khoảng cách đã được sắp xếp ở câu (a)**"
   ]
  },
  {
   "cell_type": "code",
   "execution_count": 13,
   "metadata": {},
   "outputs": [
    {
     "data": {
      "text/plain": [
       "array([ 0.12249733,  0.12249733,  0.1379719 ,  0.13883386,  0.13883386,\n",
       "        0.19011883,  0.31594984,  0.41353636,  0.41353636,  0.46065236,\n",
       "        0.46065236,  0.47607263,  0.62280958,  0.63702175,  0.65922063,\n",
       "        0.65922063,  0.70324851,  0.78741524,  0.81624682,  0.88560412,\n",
       "        0.89879823,  1.0360061 ,  1.0360061 ,  1.14719395,  1.18488946,\n",
       "        1.35663006,  1.45842288,  1.62829024,  1.80136111,  1.89847083,\n",
       "        2.24888674,  2.37706099,  2.77414155,  2.77825962,  3.00891219,\n",
       "        3.4437748 ,  4.7646873 ,  5.64943915,  6.14886059,  7.08572374,\n",
       "        8.47306491, 10.63917918])"
      ]
     },
     "execution_count": 13,
     "metadata": {},
     "output_type": "execute_result"
    }
   ],
   "source": [
    "sq_stat_dists_sorted = np.sort(sq_stat_dists)\n",
    "sq_stat_dists_sorted"
   ]
  },
  {
   "cell_type": "code",
   "execution_count": 14,
   "metadata": {},
   "outputs": [
    {
     "data": {
      "text/plain": [
       "array([0.02395238, 0.07273529, 0.12273789, 0.17402275, 0.22665737,\n",
       "       0.28071472, 0.33627384, 0.39342059, 0.45224836, 0.51285906,\n",
       "       0.57536414, 0.63988587, 0.70655871, 0.77553106, 0.84696723,\n",
       "       0.92104977, 0.99798233, 1.077993  , 1.16133839, 1.24830862,\n",
       "       1.33923337, 1.43448946, 1.53451031, 1.63979777, 1.75093747,\n",
       "       1.86861847, 1.99365919, 2.12704194, 2.26995987, 2.42388195,\n",
       "       2.59064517, 2.77258872, 2.97275564, 3.19520691, 3.4455332 ,\n",
       "       3.73173488, 4.06584305, 4.46718444, 4.9698133 , 5.64275777,\n",
       "       6.66440902, 8.8616336 ])"
      ]
     },
     "execution_count": 14,
     "metadata": {},
     "output_type": "execute_result"
    }
   ],
   "source": [
    "chisqs = np.array([stats.chi2.ppf(((i+1)-1/2)/n, 2) for i in range(n)])\n",
    "chisqs"
   ]
  },
  {
   "cell_type": "code",
   "execution_count": 15,
   "metadata": {},
   "outputs": [
    {
     "data": {
      "image/png": "[encoded data removed]",
      "text/plain": [
       "<Figure size 432x288 with 1 Axes>"
      ]
     },
     "metadata": {
      "needs_background": "light"
     },
     "output_type": "display_data"
    }
   ],
   "source": [
    "plt.scatter(x=chisqs, y=sq_stat_dists_sorted, color='blue')\n",
    "plt.title('Chi-Square Plot')\n",
    "plt.xlabel('chi-square quantile')\n",
    "plt.ylabel(\"squared statistical distance\")\n",
    "x = np.array(range(0,11))\n",
    "plt.plot(x,x,'red')\n",
    "plt.show()"
   ]
  },
  {
   "cell_type": "markdown",
   "metadata": {},
   "source": [
    "### 4.30"
   ]
  },
  {
   "cell_type": "code",
   "execution_count": 16,
   "metadata": {},
   "outputs": [
    {
     "data": {
      "text/html": [
       "<div>\n",
       "<style scoped>\n",
       "    .dataframe tbody tr th:only-of-type {\n",
       "        vertical-align: middle;\n",
       "    }\n",
       "\n",
       "    .dataframe tbody tr th {\n",
       "        vertical-align: top;\n",
       "    }\n",
       "\n",
       "    .dataframe thead th {\n",
       "        text-align: right;\n",
       "    }\n",
       "</style>\n",
       "<table border=\"1\" class=\"dataframe\">\n",
       "  <thead>\n",
       "    <tr style=\"text-align: right;\">\n",
       "      <th></th>\n",
       "      <th>x1</th>\n",
       "      <th>x2</th>\n",
       "    </tr>\n",
       "  </thead>\n",
       "  <tbody>\n",
       "    <tr>\n",
       "      <th>0</th>\n",
       "      <td>1</td>\n",
       "      <td>18.95</td>\n",
       "    </tr>\n",
       "    <tr>\n",
       "      <th>1</th>\n",
       "      <td>2</td>\n",
       "      <td>19.00</td>\n",
       "    </tr>\n",
       "    <tr>\n",
       "      <th>2</th>\n",
       "      <td>3</td>\n",
       "      <td>17.95</td>\n",
       "    </tr>\n",
       "    <tr>\n",
       "      <th>3</th>\n",
       "      <td>3</td>\n",
       "      <td>15.54</td>\n",
       "    </tr>\n",
       "    <tr>\n",
       "      <th>4</th>\n",
       "      <td>4</td>\n",
       "      <td>14.00</td>\n",
       "    </tr>\n",
       "    <tr>\n",
       "      <th>5</th>\n",
       "      <td>5</td>\n",
       "      <td>12.95</td>\n",
       "    </tr>\n",
       "    <tr>\n",
       "      <th>6</th>\n",
       "      <td>6</td>\n",
       "      <td>8.94</td>\n",
       "    </tr>\n",
       "    <tr>\n",
       "      <th>7</th>\n",
       "      <td>8</td>\n",
       "      <td>7.49</td>\n",
       "    </tr>\n",
       "    <tr>\n",
       "      <th>8</th>\n",
       "      <td>9</td>\n",
       "      <td>6.00</td>\n",
       "    </tr>\n",
       "    <tr>\n",
       "      <th>9</th>\n",
       "      <td>11</td>\n",
       "      <td>3.99</td>\n",
       "    </tr>\n",
       "  </tbody>\n",
       "</table>\n",
       "</div>"
      ],
      "text/plain": [
       "   x1     x2\n",
       "0   1  18.95\n",
       "1   2  19.00\n",
       "2   3  17.95\n",
       "3   3  15.54\n",
       "4   4  14.00\n",
       "5   5  12.95\n",
       "6   6   8.94\n",
       "7   8   7.49\n",
       "8   9   6.00\n",
       "9  11   3.99"
      ]
     },
     "execution_count": 16,
     "metadata": {},
     "output_type": "execute_result"
    }
   ],
   "source": [
    "path = 'E4-26.txt'\n",
    "data = pd.read_table(path)\n",
    "n, p = data.shape\n",
    "data"
   ]
  },
  {
   "cell_type": "markdown",
   "metadata": {},
   "source": [
    "**(a) Xác định power transformation $\\hat{\\lambda}_1$ làm cho $x_1$ xấp xỉ phân phối chuẩn. Xây dựng đồ thị *Q-Q* cho dữ liệu transformed.**"
   ]
  },
  {
   "cell_type": "code",
   "execution_count": 17,
   "metadata": {},
   "outputs": [
    {
     "name": "stdout",
     "output_type": "stream",
     "text": [
      "Giá trị lambda1 là 0.3708905495015787\n"
     ]
    },
    {
     "data": {
      "image/png": "[encoded data removed]",
      "text/plain": [
       "<Figure size 864x792 with 2 Axes>"
      ]
     },
     "metadata": {
      "needs_background": "light"
     },
     "output_type": "display_data"
    }
   ],
   "source": [
    "fig, axs = plt.subplots(2,1, figsize=(12,11))\n",
    "prob = stats.probplot(data['x1'], dist=stats.norm, plot=axs[0])\n",
    "axs[0].set_title('Q-Q Plot for original x1 data')\n",
    "\n",
    "x1_trans, lambda1 = stats.boxcox(data['x1'])\n",
    "prob = stats.probplot(x1_trans, dist=stats.norm, plot=axs[1])\n",
    "axs[1].set_title('Q-Q Plot for transformed x1 data')\n",
    "\n",
    "print(\"Giá trị lambda1 là {}\".format(lambda1))\n",
    "plt.show()"
   ]
  },
  {
   "cell_type": "markdown",
   "metadata": {},
   "source": [
    "**(b) Xác định power transformation $\\hat{\\lambda}_2$ làm cho $x_2$ xấp xỉ phân phối chuẩn. Xây dựng đồ thị *Q-Q* cho dữ liệu transformed.**"
   ]
  },
  {
   "cell_type": "code",
   "execution_count": 18,
   "metadata": {},
   "outputs": [
    {
     "name": "stdout",
     "output_type": "stream",
     "text": [
      "Giá trị lambda2 là 0.936196560184179\n"
     ]
    },
    {
     "data": {
      "image/png": "[encoded data removed]",
      "text/plain": [
       "<Figure size 864x792 with 2 Axes>"
      ]
     },
     "metadata": {
      "needs_background": "light"
     },
     "output_type": "display_data"
    }
   ],
   "source": [
    "fig, axs = plt.subplots(2,1, figsize=(12,11))\n",
    "prob = stats.probplot(data['x2'], dist=stats.norm, plot=axs[0])\n",
    "axs[0].set_title('Q-Q Plot for original x2 data')\n",
    "\n",
    "x2_trans, lambda2 = stats.boxcox(data['x2'])\n",
    "prob = stats.probplot(x2_trans, dist=stats.norm, plot=axs[1])\n",
    "axs[1].set_title('Q-Q Plot for transformed x2 data')\n",
    "\n",
    "print(\"Giá trị lambda2 là {}\".format(lambda2))\n",
    "plt.show()"
   ]
  },
  {
   "cell_type": "markdown",
   "metadata": {},
   "source": [
    "**(c) Xác định power transformation $\\widehat{\\boldsymbol{\\lambda}}=[\\hat{\\lambda}_1, \\hat{\\lambda}_2]^T$ làm cho $[x_1, x_2]$ xấp xỉ phân phối chuẩn. So sánh với các kết quả thu được từ câu (a) và (b).**"
   ]
  },
  {
   "cell_type": "code",
   "execution_count": 19,
   "metadata": {},
   "outputs": [
    {
     "name": "stdout",
     "output_type": "stream",
     "text": [
      "Power transformations lambda = [lambda1, lambda2]^T là :\n",
      " [0.3708905495015787, 0.936196560184179]\n"
     ]
    }
   ],
   "source": [
    "from sklearn.preprocessing import PowerTransformer\n",
    "\n",
    "pt = PowerTransformer(method='box-cox')\n",
    "pt.fit(data)\n",
    "\n",
    "print(\"Power transformations lambda = [lambda1, lambda2]^T là :\\n [{}, {}]\".format(pt.lambdas_[0],pt.lambdas_[1]))"
   ]
  },
  {
   "cell_type": "markdown",
   "metadata": {},
   "source": [
    "Từ kết quả trên cho thấy vectơ $\\hat{\\boldsymbol\\lambda}$ có các giá trị thành phần $\\hat{\\lambda}_1, \\hat{\\lambda}_2$ giống với kết quả tìm được ở câu (a) và (b)."
   ]
  },
  {
   "cell_type": "markdown",
   "metadata": {},
   "source": [
    "### 4.39"
   ]
  },
  {
   "cell_type": "code",
   "execution_count": 20,
   "metadata": {
    "scrolled": true
   },
   "outputs": [
    {
     "data": {
      "text/html": [
       "<div>\n",
       "<style scoped>\n",
       "    .dataframe tbody tr th:only-of-type {\n",
       "        vertical-align: middle;\n",
       "    }\n",
       "\n",
       "    .dataframe tbody tr th {\n",
       "        vertical-align: top;\n",
       "    }\n",
       "\n",
       "    .dataframe thead th {\n",
       "        text-align: right;\n",
       "    }\n",
       "</style>\n",
       "<table border=\"1\" class=\"dataframe\">\n",
       "  <thead>\n",
       "    <tr style=\"text-align: right;\">\n",
       "      <th></th>\n",
       "      <th>Indep</th>\n",
       "      <th>Supp</th>\n",
       "      <th>Benev</th>\n",
       "      <th>Conform</th>\n",
       "      <th>Leader</th>\n",
       "    </tr>\n",
       "  </thead>\n",
       "  <tbody>\n",
       "    <tr>\n",
       "      <th>0</th>\n",
       "      <td>27</td>\n",
       "      <td>13</td>\n",
       "      <td>14</td>\n",
       "      <td>20</td>\n",
       "      <td>11</td>\n",
       "    </tr>\n",
       "    <tr>\n",
       "      <th>1</th>\n",
       "      <td>12</td>\n",
       "      <td>13</td>\n",
       "      <td>24</td>\n",
       "      <td>25</td>\n",
       "      <td>6</td>\n",
       "    </tr>\n",
       "    <tr>\n",
       "      <th>2</th>\n",
       "      <td>14</td>\n",
       "      <td>20</td>\n",
       "      <td>15</td>\n",
       "      <td>16</td>\n",
       "      <td>7</td>\n",
       "    </tr>\n",
       "    <tr>\n",
       "      <th>3</th>\n",
       "      <td>18</td>\n",
       "      <td>20</td>\n",
       "      <td>17</td>\n",
       "      <td>12</td>\n",
       "      <td>6</td>\n",
       "    </tr>\n",
       "    <tr>\n",
       "      <th>4</th>\n",
       "      <td>9</td>\n",
       "      <td>22</td>\n",
       "      <td>22</td>\n",
       "      <td>21</td>\n",
       "      <td>6</td>\n",
       "    </tr>\n",
       "    <tr>\n",
       "      <th>...</th>\n",
       "      <td>...</td>\n",
       "      <td>...</td>\n",
       "      <td>...</td>\n",
       "      <td>...</td>\n",
       "      <td>...</td>\n",
       "    </tr>\n",
       "    <tr>\n",
       "      <th>125</th>\n",
       "      <td>10</td>\n",
       "      <td>11</td>\n",
       "      <td>26</td>\n",
       "      <td>17</td>\n",
       "      <td>10</td>\n",
       "    </tr>\n",
       "    <tr>\n",
       "      <th>126</th>\n",
       "      <td>14</td>\n",
       "      <td>12</td>\n",
       "      <td>14</td>\n",
       "      <td>11</td>\n",
       "      <td>29</td>\n",
       "    </tr>\n",
       "    <tr>\n",
       "      <th>127</th>\n",
       "      <td>19</td>\n",
       "      <td>11</td>\n",
       "      <td>23</td>\n",
       "      <td>18</td>\n",
       "      <td>13</td>\n",
       "    </tr>\n",
       "    <tr>\n",
       "      <th>128</th>\n",
       "      <td>27</td>\n",
       "      <td>19</td>\n",
       "      <td>22</td>\n",
       "      <td>7</td>\n",
       "      <td>9</td>\n",
       "    </tr>\n",
       "    <tr>\n",
       "      <th>129</th>\n",
       "      <td>10</td>\n",
       "      <td>17</td>\n",
       "      <td>22</td>\n",
       "      <td>22</td>\n",
       "      <td>8</td>\n",
       "    </tr>\n",
       "  </tbody>\n",
       "</table>\n",
       "<p>130 rows × 5 columns</p>\n",
       "</div>"
      ],
      "text/plain": [
       "     Indep  Supp  Benev  Conform  Leader\n",
       "0       27    13     14       20      11\n",
       "1       12    13     24       25       6\n",
       "2       14    20     15       16       7\n",
       "3       18    20     17       12       6\n",
       "4        9    22     22       21       6\n",
       "..     ...   ...    ...      ...     ...\n",
       "125     10    11     26       17      10\n",
       "126     14    12     14       11      29\n",
       "127     19    11     23       18      13\n",
       "128     27    19     22        7       9\n",
       "129     10    17     22       22       8\n",
       "\n",
       "[130 rows x 5 columns]"
      ]
     },
     "execution_count": 20,
     "metadata": {},
     "output_type": "execute_result"
    }
   ],
   "source": [
    "path = 'E4-39.txt'\n",
    "data = pd.read_table(path)\n",
    "data = data[['Indep', 'Supp','Benev','Conform','Leader']]\n",
    "n, p = data.shape\n",
    "data"
   ]
  },
  {
   "cell_type": "markdown",
   "metadata": {},
   "source": [
    "**(a) Kiểm tra mỗi biến *independence* (Indep), *support* (Supp), *benevolence* (Benev), *conformity* (Conform) và *leadership* (Leader) có tuân theo phân phối chuẩn không?**\n",
    "\n",
    "Ta xét kiểm định $H_0$: biến thứ $i$ có phân phối chuẩn nhiều chiều. \n",
    "\n",
    "Với mức ý nghĩa $\\alpha = 0.05$ ta sẽ bác bỏ giả thuyết $H_0$ nếu *p-value < 0*."
   ]
  },
  {
   "cell_type": "code",
   "execution_count": 21,
   "metadata": {},
   "outputs": [
    {
     "name": "stdout",
     "output_type": "stream",
     "text": [
      "Indep\t không tuân theo phân phối chuẩn.\n",
      "Supp\t không tuân theo phân phối chuẩn.\n",
      "Benev\t tuân theo phân phối chuẩn.\n",
      "Conform\t tuân theo phân phối chuẩn.\n",
      "Leader\t không tuân theo phân phối chuẩn.\n"
     ]
    }
   ],
   "source": [
    "from scipy.stats import shapiro\n",
    "\n",
    "alpha = 0.05\n",
    "for col in data.columns:\n",
    "    stat, pvalue = shapiro(data[col])\n",
    "    if pvalue < alpha:\n",
    "        # Bác bỏ giả thuyết H0\n",
    "        print(\"{}\\t không tuân theo phân phối chuẩn.\".format(col))\n",
    "    else:\n",
    "        # Không bác bỏ giả thuyết H0\n",
    "        print(\"{}\\t tuân theo phân phối chuẩn.\".format(col))      "
   ]
  },
  {
   "cell_type": "markdown",
   "metadata": {},
   "source": [
    "Như vậy, từ kiểm định trên, ta thấy rằng chỉ có các biến **Benev** và **Conform** là có phân phối chuẩn."
   ]
  },
  {
   "cell_type": "markdown",
   "metadata": {},
   "source": [
    "**(b) Từ 5 cột đã được chọn ở trên thì dữ liệu có tuân theo phân phối chuẩn nhiều chiều không?**"
   ]
  },
  {
   "cell_type": "code",
   "execution_count": 22,
   "metadata": {},
   "outputs": [
    {
     "data": {
      "text/plain": [
       "HZResults(hz=113.70625383991228, pval=0.0, normal=False)"
      ]
     },
     "execution_count": 22,
     "metadata": {},
     "output_type": "execute_result"
    }
   ],
   "source": [
    "import pingouin as pg\n",
    "\n",
    "pg.multivariate_normality(data, alpha=.05)"
   ]
  },
  {
   "cell_type": "markdown",
   "metadata": {},
   "source": [
    "Từ kết quả chạy hàm **multivariate_normality** của thư viện **pingouin**, ta kết luận rằng dữ liệu không tuân theo phân phối chuẩn nhiều chiều."
   ]
  },
  {
   "cell_type": "markdown",
   "metadata": {},
   "source": [
    "**(c) Đối với các biến không tuân theo phân phối chuẩn, xác định chỉ số transformation để làm chúng xấp xỉ về phân phối chuẩn.**"
   ]
  },
  {
   "cell_type": "code",
   "execution_count": 23,
   "metadata": {},
   "outputs": [
    {
     "name": "stdout",
     "output_type": "stream",
     "text": [
      "Chỉ số transformation lambda ở cột Indep là: \n",
      "lambda = 0.5237724084489533\n",
      "\n",
      "Chỉ số transformation lambda ở cột Supp là: \n",
      "lambda = 1.3962614531817246\n",
      "\n",
      "Chỉ số transformation lambda ở cột Leader là: \n",
      "lambda = 0.38154698798959247\n"
     ]
    }
   ],
   "source": [
    "pt = PowerTransformer(method = 'box-cox')\n",
    "\n",
    "# Indep collumn\n",
    "pt.fit(data['Indep'].values.reshape(-1,1))\n",
    "print('Chỉ số transformation lambda ở cột Indep là: \\nlambda = {}\\n'.format(pt.lambdas_[0]))\n",
    "\n",
    "# Supp collumn\n",
    "pt.fit(data['Supp'].values.reshape(-1,1))\n",
    "print('Chỉ số transformation lambda ở cột Supp là: \\nlambda = {}\\n'.format(pt.lambdas_[0]))\n",
    "\n",
    "# Leader collumn\n",
    "pt.fit(data['Leader'].values.reshape(-1,1))\n",
    "print('Chỉ số transformation lambda ở cột Leader là: \\nlambda = {}'.format(pt.lambdas_[0]))"
   ]
  }
 ],
 "metadata": {
  "kernelspec": {
   "display_name": "Python 3",
   "language": "python",
   "name": "python3"
  },
  "language_info": {
   "codemirror_mode": {
    "name": "ipython",
    "version": 3
   },
   "file_extension": ".py",
   "mimetype": "text/x-python",
   "name": "python",
   "nbconvert_exporter": "python",
   "pygments_lexer": "ipython3",
   "version": "3.8.3"
  }
 },
 "nbformat": 4,
 "nbformat_minor": 4
}
