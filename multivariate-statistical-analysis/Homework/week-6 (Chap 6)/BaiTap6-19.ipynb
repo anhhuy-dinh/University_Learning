{
 "cells": [
  {
   "cell_type": "code",
   "execution_count": 1,
   "metadata": {},
   "outputs": [],
   "source": [
    "import numpy as np\n",
    "import pandas as pd\n",
    "from scipy.stats import f as Fisher, chi2 as ChiSquare\n",
    "from math import floor"
   ]
  },
  {
   "cell_type": "code",
   "execution_count": 2,
   "metadata": {},
   "outputs": [],
   "source": [
    "def boxTest_CovarianceMatrices(populations, significant_level = 0.01):\n",
    "    g, p = len(populations), populations[0].shape[1]\n",
    "    covariances = []\n",
    "    population_sizes = []\n",
    "    S_pooled = 0\n",
    "    denominator_Spool = 0\n",
    "    \n",
    "    for population in populations:\n",
    "        covariance = np.cov(population, rowvar = False, ddof = 1)\n",
    "        pop_size = population.shape[0]\n",
    "        covariances.append(covariance)\n",
    "        population_sizes.append(pop_size)\n",
    "        S_pooled += (pop_size - 1) * covariance\n",
    "        denominator_Spool += (pop_size - 1)\n",
    "    \n",
    "    S_pooled = 1/denominator_Spool * S_pooled\n",
    "    M = 0\n",
    "    det_S_pooled = np.linalg.det(S_pooled)\n",
    "    \n",
    "    for S, size in zip(covariances, population_sizes):\n",
    "        det_S = np.linalg.det(S)\n",
    "        M += ((size - 1)*np.log(det_S_pooled) - (size - 1) * np.log(det_S))\n",
    "    population_sizes = np.array(population_sizes)\n",
    "    u = (\n",
    "        np.sum(1/(population_sizes - 1)) - 1/(np.sum(population_sizes - 1))\n",
    "    ) * (2*p**2 + 3*p -1)/(6 * (p + 1) * (g - 1))\n",
    "    C = (1- u)*M\n",
    "    v = floor(1/2*p*(p + 1)*(g - 1))\n",
    "    critical_value = ChiSquare.ppf(1 - significant_level, df = v)\n",
    "    \n",
    "    print(f'>> Statistic = {C}')\n",
    "    print(f'>> Chi Square degree of freedom = {v}')\n",
    "    print(f'>> Critical value = {critical_value}')\n",
    "    \n",
    "    if C > critical_value:\n",
    "        print('>> Conclusion : Reject H_0')\n",
    "    else:\n",
    "        print('>> conclusion : Accept H_0')"
   ]
  },
  {
   "cell_type": "code",
   "execution_count": 3,
   "metadata": {},
   "outputs": [],
   "source": [
    "def meanVec(X):\n",
    "    number_samples = X.shape[0]\n",
    "    vec_one = np.ones((number_samples, 1))\n",
    "    return 1/number_samples * X.T.dot(vec_one)\n",
    "\n",
    "def covarianceMat(X):\n",
    "    number_samples = X.shape[0]\n",
    "    vec_one = np.ones((number_samples, 1))\n",
    "    I = np.eye(number_samples)\n",
    "    return 1/(number_samples - 1) * X.T.dot(I - 1/number_samples * vec_one.dot(vec_one.T)).dot(X)"
   ]
  },
  {
   "cell_type": "code",
   "execution_count": 4,
   "metadata": {},
   "outputs": [],
   "source": [
    "data = pd.read_csv('T6-10.csv', delimiter = '  ', engine = 'python')"
   ]
  },
  {
   "cell_type": "code",
   "execution_count": 5,
   "metadata": {},
   "outputs": [
    {
     "data": {
      "text/html": [
       "<div>\n",
       "<style scoped>\n",
       "    .dataframe tbody tr th:only-of-type {\n",
       "        vertical-align: middle;\n",
       "    }\n",
       "\n",
       "    .dataframe tbody tr th {\n",
       "        vertical-align: top;\n",
       "    }\n",
       "\n",
       "    .dataframe thead th {\n",
       "        text-align: right;\n",
       "    }\n",
       "</style>\n",
       "<table border=\"1\" class=\"dataframe\">\n",
       "  <thead>\n",
       "    <tr style=\"text-align: right;\">\n",
       "      <th></th>\n",
       "      <th>x1</th>\n",
       "      <th>x2</th>\n",
       "      <th>x3</th>\n",
       "      <th>Truck_type</th>\n",
       "    </tr>\n",
       "  </thead>\n",
       "  <tbody>\n",
       "    <tr>\n",
       "      <th>0</th>\n",
       "      <td>16.44</td>\n",
       "      <td>12.43</td>\n",
       "      <td>11.23</td>\n",
       "      <td>gasoline</td>\n",
       "    </tr>\n",
       "    <tr>\n",
       "      <th>1</th>\n",
       "      <td>7.19</td>\n",
       "      <td>2.70</td>\n",
       "      <td>3.92</td>\n",
       "      <td>gasoline</td>\n",
       "    </tr>\n",
       "    <tr>\n",
       "      <th>2</th>\n",
       "      <td>9.92</td>\n",
       "      <td>1.35</td>\n",
       "      <td>9.75</td>\n",
       "      <td>gasoline</td>\n",
       "    </tr>\n",
       "    <tr>\n",
       "      <th>3</th>\n",
       "      <td>4.24</td>\n",
       "      <td>5.78</td>\n",
       "      <td>7.78</td>\n",
       "      <td>gasoline</td>\n",
       "    </tr>\n",
       "    <tr>\n",
       "      <th>4</th>\n",
       "      <td>11.20</td>\n",
       "      <td>5.05</td>\n",
       "      <td>10.67</td>\n",
       "      <td>gasoline</td>\n",
       "    </tr>\n",
       "  </tbody>\n",
       "</table>\n",
       "</div>"
      ],
      "text/plain": [
       "      x1     x2     x3 Truck_type\n",
       "0  16.44  12.43  11.23   gasoline\n",
       "1   7.19   2.70   3.92   gasoline\n",
       "2   9.92   1.35   9.75   gasoline\n",
       "3   4.24   5.78   7.78   gasoline\n",
       "4  11.20   5.05  10.67   gasoline"
      ]
     },
     "execution_count": 5,
     "metadata": {},
     "output_type": "execute_result"
    }
   ],
   "source": [
    "data.head()"
   ]
  },
  {
   "cell_type": "code",
   "execution_count": 6,
   "metadata": {},
   "outputs": [],
   "source": [
    "data_gasoline = data.loc[data['Truck_type'] == 'gasoline'].iloc[:, :-1]\n",
    "data_diesel = data.loc[data['Truck_type'] == 'diesel'].iloc[:, :-1]"
   ]
  },
  {
   "cell_type": "code",
   "execution_count": 7,
   "metadata": {},
   "outputs": [],
   "source": [
    "data_gasoline.reset_index(drop = True, inplace = True)\n",
    "data_diesel.reset_index(drop = True, inplace = True)"
   ]
  },
  {
   "cell_type": "markdown",
   "metadata": {},
   "source": [
    "## (a)"
   ]
  },
  {
   "cell_type": "code",
   "execution_count": 8,
   "metadata": {},
   "outputs": [],
   "source": [
    "X_gasoline = data_gasoline.to_numpy()\n",
    "X_diesel = data_diesel.to_numpy()"
   ]
  },
  {
   "cell_type": "code",
   "execution_count": 9,
   "metadata": {},
   "outputs": [],
   "source": [
    "mu_gasoline, S_gasoline = meanVec(X_gasoline), covarianceMat(X_gasoline)\n",
    "mu_diesel, S_diesel = meanVec(X_diesel), covarianceMat(X_diesel)"
   ]
  },
  {
   "cell_type": "code",
   "execution_count": 10,
   "metadata": {},
   "outputs": [
    {
     "name": "stdout",
     "output_type": "stream",
     "text": [
      ">> Statistic = 30.54428359843359\n",
      ">> Chi Square degree of freedom = 6\n",
      ">> Critical value = 16.811893829770927\n",
      ">> Conclusion : Reject H_0\n"
     ]
    }
   ],
   "source": [
    "boxTest_CovarianceMatrices((X_gasoline, X_diesel), significant_level = 0.01)"
   ]
  },
  {
   "cell_type": "code",
   "execution_count": 11,
   "metadata": {},
   "outputs": [
    {
     "data": {
      "text/plain": [
       "33"
      ]
     },
     "execution_count": 11,
     "metadata": {},
     "output_type": "execute_result"
    }
   ],
   "source": [
    "X_gasoline.shape[0] - X_gasoline.shape[1]"
   ]
  },
  {
   "cell_type": "code",
   "execution_count": 12,
   "metadata": {},
   "outputs": [
    {
     "data": {
      "text/plain": [
       "20"
      ]
     },
     "execution_count": 12,
     "metadata": {},
     "output_type": "execute_result"
    }
   ],
   "source": [
    "X_diesel.shape[0] - X_diesel.shape[1]"
   ]
  },
  {
   "cell_type": "code",
   "execution_count": 13,
   "metadata": {},
   "outputs": [],
   "source": [
    "statistic = (\n",
    "    (mu_gasoline - mu_diesel).T\n",
    "    .dot(\n",
    "        np.linalg.inv(\n",
    "            1/X_gasoline.shape[0] * S_gasoline + 1/X_diesel.shape[0] * S_diesel\n",
    "        )\n",
    "    ).dot(\n",
    "        mu_gasoline - mu_diesel\n",
    "    )\n",
    ").item()"
   ]
  },
  {
   "cell_type": "code",
   "execution_count": 14,
   "metadata": {},
   "outputs": [],
   "source": [
    "alpha = 0.01\n",
    "critical_value = ChiSquare.ppf(1 - alpha, df = X_gasoline.shape[1])"
   ]
  },
  {
   "cell_type": "code",
   "execution_count": 15,
   "metadata": {},
   "outputs": [
    {
     "data": {
      "text/plain": [
       "43.176394993631774"
      ]
     },
     "execution_count": 15,
     "metadata": {},
     "output_type": "execute_result"
    }
   ],
   "source": [
    "statistic"
   ]
  },
  {
   "cell_type": "code",
   "execution_count": 16,
   "metadata": {},
   "outputs": [
    {
     "data": {
      "text/plain": [
       "11.344866730144373"
      ]
     },
     "execution_count": 16,
     "metadata": {},
     "output_type": "execute_result"
    }
   ],
   "source": [
    "critical_value"
   ]
  },
  {
   "cell_type": "code",
   "execution_count": 17,
   "metadata": {},
   "outputs": [
    {
     "data": {
      "text/plain": [
       "array([[23.01336087, 12.366395  ,  2.90660897],\n",
       "       [12.366395  , 17.54411071,  4.77308214],\n",
       "       [ 2.90660897,  4.77308214, 13.96333421]])"
      ]
     },
     "execution_count": 17,
     "metadata": {},
     "output_type": "execute_result"
    }
   ],
   "source": [
    "S_gasoline"
   ]
  },
  {
   "cell_type": "code",
   "execution_count": 18,
   "metadata": {},
   "outputs": [
    {
     "data": {
      "text/plain": [
       "array([[ 4.3623166 ,  0.75988715,  2.36209921],\n",
       "       [ 0.75988715, 25.85123597,  7.68573221],\n",
       "       [ 2.36209921,  7.68573221, 46.6543996 ]])"
      ]
     },
     "execution_count": 18,
     "metadata": {},
     "output_type": "execute_result"
    }
   ],
   "source": [
    "S_diesel"
   ]
  },
  {
   "cell_type": "code",
   "execution_count": 19,
   "metadata": {},
   "outputs": [
    {
     "data": {
      "text/plain": [
       "array([[12.21861111],\n",
       "       [ 8.1125    ],\n",
       "       [ 9.59027778]])"
      ]
     },
     "execution_count": 19,
     "metadata": {},
     "output_type": "execute_result"
    }
   ],
   "source": [
    "mu_gasoline"
   ]
  },
  {
   "cell_type": "code",
   "execution_count": 20,
   "metadata": {},
   "outputs": [
    {
     "data": {
      "text/plain": [
       "array([[10.10565217],\n",
       "       [10.76217391],\n",
       "       [18.16782609]])"
      ]
     },
     "execution_count": 20,
     "metadata": {},
     "output_type": "execute_result"
    }
   ],
   "source": [
    "mu_diesel"
   ]
  },
  {
   "cell_type": "markdown",
   "metadata": {},
   "source": [
    "## (b)"
   ]
  },
  {
   "cell_type": "code",
   "execution_count": 21,
   "metadata": {},
   "outputs": [
    {
     "data": {
      "text/plain": [
       "array([[ 4.04434873],\n",
       "       [-1.55960644],\n",
       "       [-3.5556085 ]])"
      ]
     },
     "execution_count": 21,
     "metadata": {},
     "output_type": "execute_result"
    }
   ],
   "source": [
    "np.linalg.inv(\n",
    "    1/X_gasoline.shape[0] * S_gasoline + 1/X_diesel.shape[0] * S_diesel\n",
    ").dot(\n",
    "    mu_gasoline - mu_diesel\n",
    ")"
   ]
  },
  {
   "cell_type": "markdown",
   "metadata": {},
   "source": [
    "## (c)"
   ]
  },
  {
   "cell_type": "code",
   "execution_count": 22,
   "metadata": {},
   "outputs": [
    {
     "name": "stdout",
     "output_type": "stream",
     "text": [
      "[[1. 0. 0.]]\n",
      "-0.9536441646236367 5.179562039019771\n",
      "[[0. 1. 0.]]\n",
      "-6.925187911617055 1.6258400855301005\n",
      "[[0. 0. 1.]]\n",
      "-13.813277229023075 -3.3418193893344172\n"
     ]
    }
   ],
   "source": [
    "alpha = 0.01\n",
    "p = 3\n",
    "for a in np.eye(3):\n",
    "    a = a.reshape((3, 1))\n",
    "    epsilon = np.sqrt(ChiSquare.ppf(1 - alpha, df = p)) * np.sqrt(\n",
    "        (\n",
    "            a.T.dot(\n",
    "                1/X_gasoline.shape[0] * S_gasoline + 1/X_diesel.shape[0] * S_diesel\n",
    "            ).dot(a)\n",
    "        ).item()\n",
    "    )\n",
    "    lower = a.T.dot(\n",
    "        mu_gasoline - mu_diesel\n",
    "    ).item() - epsilon\n",
    "    upper = a.T.dot(\n",
    "        mu_gasoline - mu_diesel\n",
    "    ).item() + epsilon\n",
    "    print(a.T)\n",
    "    print(lower, upper)"
   ]
  },
  {
   "cell_type": "markdown",
   "metadata": {},
   "source": [
    "## (d)"
   ]
  },
  {
   "cell_type": "code",
   "execution_count": 23,
   "metadata": {},
   "outputs": [],
   "source": [
    "common = np.linalg.inv(1/X_gasoline.shape[0] * S_gasoline + 1/X_diesel.shape[0] * S_diesel)\n",
    "denom_v = 0\n",
    "for n, S in zip((X_gasoline.shape[0], X_diesel.shape[0]), (S_gasoline, S_diesel)):\n",
    "    temp = 1/n * S.dot(common)\n",
    "    denom_v += 1/n * (np.trace(temp.dot(temp)) + np.trace(temp)**2)\n",
    "v = int((p + p**2)/denom_v)"
   ]
  },
  {
   "cell_type": "code",
   "execution_count": 24,
   "metadata": {},
   "outputs": [],
   "source": [
    "statistic = (\n",
    "    (mu_gasoline - mu_diesel).T\n",
    "    .dot(\n",
    "        np.linalg.inv(\n",
    "            1/X_gasoline.shape[0] * S_gasoline + 1/X_diesel.shape[0] * S_diesel\n",
    "        )\n",
    "    ).dot(\n",
    "        mu_gasoline - mu_diesel\n",
    "    )\n",
    ").item()"
   ]
  },
  {
   "cell_type": "code",
   "execution_count": 25,
   "metadata": {},
   "outputs": [],
   "source": [
    "alpha = 0.01\n",
    "critical_value = v*p/(v - p + 1) * Fisher.ppf(1 - alpha, dfn = p, dfd = v - p + 1)"
   ]
  },
  {
   "cell_type": "code",
   "execution_count": 26,
   "metadata": {},
   "outputs": [
    {
     "data": {
      "text/plain": [
       "43.176394993631774"
      ]
     },
     "execution_count": 26,
     "metadata": {},
     "output_type": "execute_result"
    }
   ],
   "source": [
    "statistic"
   ]
  },
  {
   "cell_type": "code",
   "execution_count": 27,
   "metadata": {},
   "outputs": [
    {
     "data": {
      "text/plain": [
       "13.414133109155795"
      ]
     },
     "execution_count": 27,
     "metadata": {},
     "output_type": "execute_result"
    }
   ],
   "source": [
    "critical_value"
   ]
  },
  {
   "cell_type": "markdown",
   "metadata": {},
   "source": [
    "## --------------------------------------------------------------------"
   ]
  },
  {
   "cell_type": "code",
   "execution_count": 28,
   "metadata": {},
   "outputs": [],
   "source": [
    "data_gasoline_remove = data_gasoline.drop([8, 20]).reset_index(drop = True)"
   ]
  },
  {
   "cell_type": "code",
   "execution_count": 29,
   "metadata": {},
   "outputs": [],
   "source": [
    "X_gasoline = data_gasoline_remove.to_numpy()\n",
    "X_diesel = data_diesel.to_numpy()"
   ]
  },
  {
   "cell_type": "code",
   "execution_count": 30,
   "metadata": {},
   "outputs": [],
   "source": [
    "mu_gasoline, S_gasoline = meanVec(X_gasoline), covarianceMat(X_gasoline)\n",
    "mu_diesel, S_diesel = meanVec(X_diesel), covarianceMat(X_diesel)"
   ]
  },
  {
   "cell_type": "code",
   "execution_count": 31,
   "metadata": {},
   "outputs": [
    {
     "name": "stdout",
     "output_type": "stream",
     "text": [
      ">> Statistic = 21.162209248337017\n",
      ">> Chi Square degree of freedom = 6\n",
      ">> Critical value = 16.811893829770927\n",
      ">> Conclusion : Reject H_0\n"
     ]
    }
   ],
   "source": [
    "boxTest_CovarianceMatrices((X_gasoline, X_diesel), significant_level = 0.01)"
   ]
  },
  {
   "cell_type": "code",
   "execution_count": 32,
   "metadata": {},
   "outputs": [
    {
     "data": {
      "text/plain": [
       "array([[ 9.02502103,  5.1557492 ,  3.20167059],\n",
       "       [ 5.1557492 , 14.25869412,  4.31894492],\n",
       "       [ 3.20167059,  4.31894492, 11.98734403]])"
      ]
     },
     "execution_count": 32,
     "metadata": {},
     "output_type": "execute_result"
    }
   ],
   "source": [
    "S_gasoline"
   ]
  },
  {
   "cell_type": "code",
   "execution_count": 33,
   "metadata": {},
   "outputs": [
    {
     "data": {
      "text/plain": [
       "array([[ 4.3623166 ,  0.75988715,  2.36209921],\n",
       "       [ 0.75988715, 25.85123597,  7.68573221],\n",
       "       [ 2.36209921,  7.68573221, 46.6543996 ]])"
      ]
     },
     "execution_count": 33,
     "metadata": {},
     "output_type": "execute_result"
    }
   ],
   "source": [
    "S_diesel"
   ]
  },
  {
   "cell_type": "code",
   "execution_count": 34,
   "metadata": {},
   "outputs": [
    {
     "data": {
      "text/plain": [
       "31"
      ]
     },
     "execution_count": 34,
     "metadata": {},
     "output_type": "execute_result"
    }
   ],
   "source": [
    "X_gasoline.shape[0] - X_gasoline.shape[1]"
   ]
  },
  {
   "cell_type": "code",
   "execution_count": 35,
   "metadata": {},
   "outputs": [
    {
     "data": {
      "text/plain": [
       "20"
      ]
     },
     "execution_count": 35,
     "metadata": {},
     "output_type": "execute_result"
    }
   ],
   "source": [
    "X_diesel.shape[0] - X_diesel.shape[1]"
   ]
  },
  {
   "cell_type": "code",
   "execution_count": 36,
   "metadata": {},
   "outputs": [],
   "source": [
    "statistic = (\n",
    "    (mu_gasoline - mu_diesel).T\n",
    "    .dot(\n",
    "        np.linalg.inv(\n",
    "            1/X_gasoline.shape[0] * S_gasoline + 1/X_diesel.shape[0] * S_diesel\n",
    "        )\n",
    "    ).dot(\n",
    "        mu_gasoline - mu_diesel\n",
    "    )\n",
    ").item()"
   ]
  },
  {
   "cell_type": "code",
   "execution_count": 37,
   "metadata": {},
   "outputs": [],
   "source": [
    "common = np.linalg.inv(1/X_gasoline.shape[0] * S_gasoline + 1/X_diesel.shape[0] * S_diesel)\n",
    "denom_v = 0\n",
    "for n, S in zip((X_gasoline.shape[0], X_diesel.shape[0]), (S_gasoline, S_diesel)):\n",
    "    temp = 1/n * S.dot(common)\n",
    "    denom_v += 1/n * (np.trace(temp.dot(temp)) + np.trace(temp)**2)\n",
    "v = int((p + p**2)/denom_v)"
   ]
  },
  {
   "cell_type": "code",
   "execution_count": 38,
   "metadata": {},
   "outputs": [],
   "source": [
    "alpha = 0.01\n",
    "critical_value = v*p/(v - p + 1) * Fisher.ppf(1 - alpha, dfn = p, dfd = v - p + 1)"
   ]
  },
  {
   "cell_type": "code",
   "execution_count": 39,
   "metadata": {},
   "outputs": [
    {
     "data": {
      "text/plain": [
       "42.63735545790153"
      ]
     },
     "execution_count": 39,
     "metadata": {},
     "output_type": "execute_result"
    }
   ],
   "source": [
    "statistic"
   ]
  },
  {
   "cell_type": "code",
   "execution_count": 40,
   "metadata": {},
   "outputs": [
    {
     "data": {
      "text/plain": [
       "13.647813885864254"
      ]
     },
     "execution_count": 40,
     "metadata": {},
     "output_type": "execute_result"
    }
   ],
   "source": [
    "critical_value"
   ]
  },
  {
   "cell_type": "code",
   "execution_count": 41,
   "metadata": {},
   "outputs": [],
   "source": [
    "critical_value = ChiSquare.ppf(1 - alpha, df = X_gasoline.shape[1])"
   ]
  },
  {
   "cell_type": "code",
   "execution_count": 42,
   "metadata": {},
   "outputs": [
    {
     "data": {
      "text/plain": [
       "11.344866730144373"
      ]
     },
     "execution_count": 42,
     "metadata": {},
     "output_type": "execute_result"
    }
   ],
   "source": [
    "critical_value"
   ]
  },
  {
   "cell_type": "code",
   "execution_count": null,
   "metadata": {},
   "outputs": [],
   "source": []
  }
 ],
 "metadata": {
  "kernelspec": {
   "display_name": "Python 3",
   "language": "python",
   "name": "python3"
  },
  "language_info": {
   "codemirror_mode": {
    "name": "ipython",
    "version": 3
   },
   "file_extension": ".py",
   "mimetype": "text/x-python",
   "name": "python",
   "nbconvert_exporter": "python",
   "pygments_lexer": "ipython3",
   "version": "3.7.10"
  }
 },
 "nbformat": 4,
 "nbformat_minor": 4
}
