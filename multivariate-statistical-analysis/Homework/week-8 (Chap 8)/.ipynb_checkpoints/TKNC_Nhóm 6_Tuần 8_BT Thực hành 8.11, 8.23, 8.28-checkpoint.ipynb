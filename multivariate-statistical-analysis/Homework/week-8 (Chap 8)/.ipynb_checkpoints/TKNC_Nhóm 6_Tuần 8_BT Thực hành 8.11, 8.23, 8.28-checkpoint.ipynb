{
 "cells": [
  {
   "cell_type": "markdown",
   "id": "405a3ec2",
   "metadata": {},
   "source": [
    "**Bảng phân công công việc:**\n",
    "\n",
    "Thành viên | MSSV | Bài tập\n",
    "--- | --- | ---\n",
    "Đinh Anh Huy | 18110103 | 8.11, 8.23, 8.28\n",
    "Nguyễn Đức Vũ Duy | 18110004 | 8.22, 8.26, 8.29\n"
   ]
  },
  {
   "cell_type": "code",
   "execution_count": 1,
   "id": "3003c7e5",
   "metadata": {},
   "outputs": [],
   "source": [
    "import numpy as np\n",
    "import pandas as pd\n",
    "import scipy.stats as stats\n",
    "from matplotlib import pyplot as plt\n",
    "import pandas as pd\n",
    "import statsmodels.formula.api as smf\n",
    "import statsmodels.api as sm\n",
    "from sklearn.preprocessing import StandardScaler\n",
    "from sklearn.decomposition import PCA\n",
    "import warnings\n",
    "warnings.filterwarnings(\"ignore\")"
   ]
  },
  {
   "cell_type": "code",
   "execution_count": 2,
   "id": "c4af4ced",
   "metadata": {},
   "outputs": [],
   "source": [
    "def read_symmetric_matrix(path_file):\n",
    "    with open(path_file, 'r') as f:\n",
    "        lines = f.readlines()\n",
    "        size = len(lines)\n",
    "        matrix = np.zeros((size,size))\n",
    "        for i, line in enumerate(lines):\n",
    "            for j, elem in enumerate(line.split()):\n",
    "                matrix[int(i),int(j)] = matrix[int(j),int(i)] = elem\n",
    "        return matrix"
   ]
  },
  {
   "cell_type": "markdown",
   "id": "b3ed0090",
   "metadata": {},
   "source": [
    "### 8.11\n",
    "\n",
    "**Xét bộ dữ liệu census-tract được liệt kê ở bảng 8.5. Giả sử các quan sát trên $X_5=$ giá nhà trung bình (Median home value) có đơn vị là $\\$10,000$ thay vì $\\$100,000$; tức là, nhân tất cả các số được liệt kê trong cột thứ 6 của bảng 8.5 với 10.**"
   ]
  },
  {
   "cell_type": "code",
   "execution_count": 3,
   "id": "b6a6940b",
   "metadata": {},
   "outputs": [
    {
     "data": {
      "text/html": [
       "<div>\n",
       "<style scoped>\n",
       "    .dataframe tbody tr th:only-of-type {\n",
       "        vertical-align: middle;\n",
       "    }\n",
       "\n",
       "    .dataframe tbody tr th {\n",
       "        vertical-align: top;\n",
       "    }\n",
       "\n",
       "    .dataframe thead th {\n",
       "        text-align: right;\n",
       "    }\n",
       "</style>\n",
       "<table border=\"1\" class=\"dataframe\">\n",
       "  <thead>\n",
       "    <tr style=\"text-align: right;\">\n",
       "      <th></th>\n",
       "      <th>total_population</th>\n",
       "      <th>professional_degree</th>\n",
       "      <th>employed_agre_over_16</th>\n",
       "      <th>goverment_employment</th>\n",
       "      <th>median_home_value</th>\n",
       "    </tr>\n",
       "  </thead>\n",
       "  <tbody>\n",
       "    <tr>\n",
       "      <th>0</th>\n",
       "      <td>2.67</td>\n",
       "      <td>5.71</td>\n",
       "      <td>69.02</td>\n",
       "      <td>30.3</td>\n",
       "      <td>14.8</td>\n",
       "    </tr>\n",
       "    <tr>\n",
       "      <th>1</th>\n",
       "      <td>2.25</td>\n",
       "      <td>4.37</td>\n",
       "      <td>72.98</td>\n",
       "      <td>43.3</td>\n",
       "      <td>14.4</td>\n",
       "    </tr>\n",
       "    <tr>\n",
       "      <th>2</th>\n",
       "      <td>3.12</td>\n",
       "      <td>10.27</td>\n",
       "      <td>64.94</td>\n",
       "      <td>32.0</td>\n",
       "      <td>21.1</td>\n",
       "    </tr>\n",
       "    <tr>\n",
       "      <th>3</th>\n",
       "      <td>5.14</td>\n",
       "      <td>7.44</td>\n",
       "      <td>71.29</td>\n",
       "      <td>24.5</td>\n",
       "      <td>18.5</td>\n",
       "    </tr>\n",
       "    <tr>\n",
       "      <th>4</th>\n",
       "      <td>5.54</td>\n",
       "      <td>9.25</td>\n",
       "      <td>74.94</td>\n",
       "      <td>31.0</td>\n",
       "      <td>22.3</td>\n",
       "    </tr>\n",
       "    <tr>\n",
       "      <th>...</th>\n",
       "      <td>...</td>\n",
       "      <td>...</td>\n",
       "      <td>...</td>\n",
       "      <td>...</td>\n",
       "      <td>...</td>\n",
       "    </tr>\n",
       "    <tr>\n",
       "      <th>56</th>\n",
       "      <td>2.14</td>\n",
       "      <td>6.30</td>\n",
       "      <td>86.54</td>\n",
       "      <td>17.4</td>\n",
       "      <td>28.0</td>\n",
       "    </tr>\n",
       "    <tr>\n",
       "      <th>57</th>\n",
       "      <td>6.62</td>\n",
       "      <td>4.79</td>\n",
       "      <td>78.84</td>\n",
       "      <td>20.0</td>\n",
       "      <td>23.3</td>\n",
       "    </tr>\n",
       "    <tr>\n",
       "      <th>58</th>\n",
       "      <td>4.24</td>\n",
       "      <td>5.82</td>\n",
       "      <td>71.39</td>\n",
       "      <td>27.1</td>\n",
       "      <td>16.9</td>\n",
       "    </tr>\n",
       "    <tr>\n",
       "      <th>59</th>\n",
       "      <td>4.72</td>\n",
       "      <td>4.71</td>\n",
       "      <td>78.01</td>\n",
       "      <td>20.6</td>\n",
       "      <td>15.5</td>\n",
       "    </tr>\n",
       "    <tr>\n",
       "      <th>60</th>\n",
       "      <td>6.48</td>\n",
       "      <td>4.93</td>\n",
       "      <td>74.23</td>\n",
       "      <td>20.9</td>\n",
       "      <td>19.8</td>\n",
       "    </tr>\n",
       "  </tbody>\n",
       "</table>\n",
       "<p>61 rows × 5 columns</p>\n",
       "</div>"
      ],
      "text/plain": [
       "    total_population  professional_degree  employed_agre_over_16  \\\n",
       "0               2.67                 5.71                  69.02   \n",
       "1               2.25                 4.37                  72.98   \n",
       "2               3.12                10.27                  64.94   \n",
       "3               5.14                 7.44                  71.29   \n",
       "4               5.54                 9.25                  74.94   \n",
       "..               ...                  ...                    ...   \n",
       "56              2.14                 6.30                  86.54   \n",
       "57              6.62                 4.79                  78.84   \n",
       "58              4.24                 5.82                  71.39   \n",
       "59              4.72                 4.71                  78.01   \n",
       "60              6.48                 4.93                  74.23   \n",
       "\n",
       "    goverment_employment  median_home_value  \n",
       "0                   30.3               14.8  \n",
       "1                   43.3               14.4  \n",
       "2                   32.0               21.1  \n",
       "3                   24.5               18.5  \n",
       "4                   31.0               22.3  \n",
       "..                   ...                ...  \n",
       "56                  17.4               28.0  \n",
       "57                  20.0               23.3  \n",
       "58                  27.1               16.9  \n",
       "59                  20.6               15.5  \n",
       "60                  20.9               19.8  \n",
       "\n",
       "[61 rows x 5 columns]"
      ]
     },
     "execution_count": 3,
     "metadata": {},
     "output_type": "execute_result"
    }
   ],
   "source": [
    "path_11 = 'T8-5.txt'\n",
    "data_11 = pd.read_table(path_11, delim_whitespace=True, header=None)\n",
    "data_11.columns = ['total_population', 'professional_degree', 'employed_agre_over_16', 'goverment_employment', 'median_home_value']\n",
    "\n",
    "data_11['median_home_value'] *= 10\n",
    "\n",
    "data_11"
   ]
  },
  {
   "cell_type": "markdown",
   "id": "4c1c2e65",
   "metadata": {},
   "source": [
    "**(a) Xây dựng ma trận hiệp phương sai mẫu S cho bộ dữ liệu census-tract khi $X_5 =$ giá nhà trung bình với đơn vị là $\\$10,000$.**"
   ]
  },
  {
   "cell_type": "code",
   "execution_count": 4,
   "id": "ae498bd2",
   "metadata": {},
   "outputs": [
    {
     "name": "stdout",
     "output_type": "stream",
     "text": [
      "[[  3.39689902  -1.10213937   4.30555484  -2.07828525   0.27203907]\n",
      " [ -1.10213937   9.67277464  -1.51323628  10.95323224  12.03063661]\n",
      " [  4.30555484  -1.51323628  55.62591164 -28.93746421  -0.43559071]\n",
      " [ -2.07828525  10.95323224 -28.93746421  89.06661202   9.57299727]\n",
      " [  0.27203907  12.03063661  -0.43559071   9.57299727  31.8625082 ]]\n"
     ]
    }
   ],
   "source": [
    "S = np.cov(data_11.T)\n",
    "print(S)"
   ]
  },
  {
   "cell_type": "markdown",
   "id": "4866806a",
   "metadata": {},
   "source": [
    "**(b) Tính các cặp trị riêng - vectơ riêng và 2 thành phần chính đầu tiên với ma trận hiệp phương sai ở câu (a).**"
   ]
  },
  {
   "cell_type": "code",
   "execution_count": 50,
   "id": "7fb6fd61",
   "metadata": {},
   "outputs": [],
   "source": [
    "def eigen_pairs(model):\n",
    "    eigenvals = model.explained_variance_\n",
    "    eigenvecs = model.components_\n",
    "    for i in range(model.n_components_):\n",
    "        print(\">> PRIN{}:\".format(i+1))\n",
    "        print(\"\\tEigenvalue: \",eigenvals[i])\n",
    "        print(\"\\tEigenvector: \",eigenvecs[i])"
   ]
  },
  {
   "cell_type": "code",
   "execution_count": 53,
   "id": "81121743",
   "metadata": {},
   "outputs": [],
   "source": [
    "pca = PCA(n_components=5).fit(data_11)"
   ]
  },
  {
   "cell_type": "code",
   "execution_count": 54,
   "id": "24626d59",
   "metadata": {},
   "outputs": [
    {
     "name": "stdout",
     "output_type": "stream",
     "text": [
      ">> PRIN1:\n",
      "\tEigenvalue:  108.27193881328535\n",
      "\tEigenvector:  [-0.03762881  0.11892964 -0.47967291  0.85891177  0.12893518]\n",
      ">> PRIN2:\n",
      "\tEigenvalue:  43.13967380298031\n",
      "\tEigenvector:  [-0.06230915 -0.24930105 -0.75967654 -0.31639989 -0.50670427]\n",
      ">> PRIN3:\n",
      "\tEigenvalue:  31.267127149794998\n",
      "\tEigenvector:  [-0.03997936  0.26052476 -0.43064872 -0.39364417  0.76818907]\n",
      ">> PRIN4:\n",
      "\tEigenvalue:  4.598097791776307\n",
      "\tEigenvector:  [ 0.55553173 -0.76839232 -0.02807896  0.06867379  0.30895506]\n",
      ">> PRIN5:\n",
      "\tEigenvalue:  2.3478679612886655\n",
      "\tEigenvector:  [-0.82733777 -0.51517455  0.08098582  0.04989847  0.20262977]\n"
     ]
    }
   ],
   "source": [
    "eigen_pairs(pca)"
   ]
  },
  {
   "cell_type": "markdown",
   "id": "1362cf00",
   "metadata": {},
   "source": [
    "2 thành phần chính đầu tiên sau khi phân tích thành phần chính là:\n",
    "$$ \\hat{y}_1 = -0.03762881x_1 +0.11892964x_2 - 0.47967291x_3 +0.85891177x_4 +0.12893518x_5$$\n",
    "và\n",
    "$$ \\hat{y}_2 = -0.06230915x_1 -0.24930105x_2 -0.75967654x_3 -0.31639989x_4 -0.50670427x_5$$"
   ]
  },
  {
   "cell_type": "code",
   "execution_count": 37,
   "id": "74c9acc9",
   "metadata": {},
   "outputs": [
    {
     "name": "stdout",
     "output_type": "stream",
     "text": [
      "[[ 4.13372335e+00  1.21669721e+00]\n",
      " [ 1.32049359e+01 -5.34190546e+00]\n",
      " [ 8.88861668e+00 -5.78791120e-01]\n",
      " [-1.34695715e+00 -1.13264943e+00]\n",
      " [ 3.17532805e+00 -8.36370286e+00]\n",
      " [ 2.68620768e+01  6.72092884e+00]\n",
      " [ 1.13007597e+01  4.31435575e-01]\n",
      " [ 1.01018802e+01  1.78821333e+00]\n",
      " [-1.11999062e+01 -8.87943089e+00]\n",
      " [-3.17269194e+00  1.08813047e+00]\n",
      " [ 3.86736079e+00  6.03416355e+00]\n",
      " [-1.12676764e+01 -5.63723573e+00]\n",
      " [-1.18520797e+01 -6.74257795e+00]\n",
      " [-9.22785045e+00  7.62472475e+00]\n",
      " [ 3.11476073e+00 -2.21866241e+00]\n",
      " [ 9.56916672e+00 -2.43798069e+00]\n",
      " [ 1.48086077e+01 -6.89362948e+00]\n",
      " [ 1.25696500e+00 -7.93857209e+00]\n",
      " [ 1.20147715e+01  7.13886558e-02]\n",
      " [ 6.80325982e+00  4.06913082e+00]\n",
      " [-4.71378255e+00  1.32086945e+01]\n",
      " [-6.47193932e+00  1.24208360e+00]\n",
      " [-8.00849814e+00 -1.00133570e+01]\n",
      " [-6.41950249e+00  6.44822392e+00]\n",
      " [-8.20461403e+00 -6.94419801e-01]\n",
      " [ 1.19116150e+01 -1.15976047e-01]\n",
      " [ 3.77805996e+00  4.73439092e+00]\n",
      " [ 2.18797935e+00 -6.09141756e+00]\n",
      " [-2.25758202e+00 -1.03204419e+01]\n",
      " [-4.73839278e+00  2.88213614e-02]\n",
      " [-5.09978769e+00  2.29710327e+00]\n",
      " [-8.85771270e-01  9.01153653e+00]\n",
      " [ 2.56868755e-01  5.63544214e+00]\n",
      " [ 5.94987571e+00  1.91887179e+01]\n",
      " [-2.93421064e+00  1.03949372e+00]\n",
      " [-2.52566331e+00  8.75881924e+00]\n",
      " [ 2.87853058e-01  1.33231940e+01]\n",
      " [-2.51038389e+00  5.82634146e+00]\n",
      " [-1.23158124e+01  3.41461635e-01]\n",
      " [-1.47750983e+01 -3.78409262e+00]\n",
      " [ 1.64903108e+00  6.79442084e+00]\n",
      " [-3.42004315e+00  4.51446584e+00]\n",
      " [-7.39053869e+00  5.42431473e+00]\n",
      " [ 1.38442800e+00 -2.46530072e-01]\n",
      " [-1.11830314e+01  3.92556311e+00]\n",
      " [-7.80926953e+00 -1.90270898e+00]\n",
      " [ 4.28202865e+01 -6.47358309e+00]\n",
      " [ 2.61275206e+01 -1.25126277e+01]\n",
      " [ 1.44944768e+00 -3.07862004e+00]\n",
      " [ 1.65062737e+00  6.55202818e+00]\n",
      " [-1.57855384e+00  6.91219975e+00]\n",
      " [-6.86556097e+00 -3.13274771e+00]\n",
      " [-5.14534242e+00 -6.47622042e-02]\n",
      " [-2.76351737e+00 -7.13232801e+00]\n",
      " [-9.98582714e+00 -3.41429586e+00]\n",
      " [-6.16907039e+00 -1.10613894e+00]\n",
      " [-1.35580517e+01 -1.48138374e+01]\n",
      " [-8.58555591e+00 -7.30815812e+00]\n",
      " [ 4.73149788e-01 -7.60584016e-01]\n",
      " [-8.61579438e+00 -2.77684171e+00]\n",
      " [-6.03059815e+00 -2.34352307e+00]]\n"
     ]
    }
   ],
   "source": [
    "X_pca = pca.transform(data_11)\n",
    "print(X_pca[:,:2])"
   ]
  },
  {
   "cell_type": "markdown",
   "id": "ca989c28",
   "metadata": {},
   "source": [
    "**(c) Tính tỉ lệ của phương sai tổng được giải thích bởi 2 thành phần chính đầu tiên thu được ở câu (b). Tính hệ số tương quan, $r_{y_i, x_k}$, và giải thích các thành phần này nếu có. So sánh kết quả của bạn với kết quả ở ví dụ 8.3. Bạn có thể nói gì về ảnh hưởng của sử thay đổi tỷ lệ đối với các thành phần chính?**"
   ]
  },
  {
   "cell_type": "code",
   "execution_count": 61,
   "id": "4c18ff0c",
   "metadata": {},
   "outputs": [
    {
     "name": "stdout",
     "output_type": "stream",
     "text": [
      ">> The proportion of total variance explained:  0.7984804100381014\n"
     ]
    }
   ],
   "source": [
    "eigenvals = pca.explained_variance_\n",
    "proportion = np.sum(eigenvals[:2])/np.sum(eigenvals)\n",
    "print(\">> The proportion of total variance explained: \", proportion)"
   ]
  },
  {
   "cell_type": "code",
   "execution_count": 43,
   "id": "47d028b0",
   "metadata": {},
   "outputs": [],
   "source": [
    "def correlation_coef(model, cov_mat):\n",
    "    eigenvecs = model.components_\n",
    "    eigenvals = model.explained_variance_\n",
    "    diag = [cov_mat[i][i] for i in range(cov_mat.shape[0])]\n",
    "    corr_coef = [eigenvecs[i]*np.sqrt(eigenvals[i])/np.sqrt(diag) for i in range(model.n_components_)]\n",
    "    return corr_coef"
   ]
  },
  {
   "cell_type": "code",
   "execution_count": 64,
   "id": "8994d94b",
   "metadata": {},
   "outputs": [
    {
     "name": "stdout",
     "output_type": "stream",
     "text": [
      ">> The correlation coefficients: \n"
     ]
    },
    {
     "data": {
      "text/html": [
       "<div>\n",
       "<style scoped>\n",
       "    .dataframe tbody tr th:only-of-type {\n",
       "        vertical-align: middle;\n",
       "    }\n",
       "\n",
       "    .dataframe tbody tr th {\n",
       "        vertical-align: top;\n",
       "    }\n",
       "\n",
       "    .dataframe thead th {\n",
       "        text-align: right;\n",
       "    }\n",
       "</style>\n",
       "<table border=\"1\" class=\"dataframe\">\n",
       "  <thead>\n",
       "    <tr style=\"text-align: right;\">\n",
       "      <th></th>\n",
       "      <th>x1</th>\n",
       "      <th>x2</th>\n",
       "      <th>x3</th>\n",
       "      <th>x4</th>\n",
       "      <th>x5</th>\n",
       "    </tr>\n",
       "  </thead>\n",
       "  <tbody>\n",
       "    <tr>\n",
       "      <th>r_y1_xi</th>\n",
       "      <td>-0.212440</td>\n",
       "      <td>0.397899</td>\n",
       "      <td>-0.669213</td>\n",
       "      <td>0.946998</td>\n",
       "      <td>0.237678</td>\n",
       "    </tr>\n",
       "    <tr>\n",
       "      <th>r_y2_xi</th>\n",
       "      <td>-0.222049</td>\n",
       "      <td>-0.526486</td>\n",
       "      <td>-0.669004</td>\n",
       "      <td>-0.220200</td>\n",
       "      <td>-0.589594</td>\n",
       "    </tr>\n",
       "  </tbody>\n",
       "</table>\n",
       "</div>"
      ],
      "text/plain": [
       "               x1        x2        x3        x4        x5\n",
       "r_y1_xi -0.212440  0.397899 -0.669213  0.946998  0.237678\n",
       "r_y2_xi -0.222049 -0.526486 -0.669004 -0.220200 -0.589594"
      ]
     },
     "execution_count": 64,
     "metadata": {},
     "output_type": "execute_result"
    }
   ],
   "source": [
    "corr_coef = correlation_coef(pca, S)[:2]\n",
    "corr_coef = pd.DataFrame(corr_coef)\n",
    "corr_coef.columns = ['x1', 'x2', 'x3', 'x4', 'x5']\n",
    "corr_coef.index = ['r_y1_xi', 'r_y2_xi']\n",
    "print(\">> The correlation coefficients: \")\n",
    "corr_coef"
   ]
  },
  {
   "cell_type": "markdown",
   "id": "ebcae42a",
   "metadata": {},
   "source": [
    "### 8.23\n",
    "\n",
    "**Một nhà tự nhiên học của Alaska Fish and Game Department nghiên cứu về gấu xám với mục tiêu duy trì một quần thể khoẻ mạnh. Các phép đo trên $n=61$ con gấu được cung cấp theo các thống kê sau:**\n",
    "\n",
    "Variable | Weight (kg) | Body length (cm) | Neck (cm) | Girth (cm) | Head length (cm) | Head width (cm)\n",
    "--- | --- | --- | --- | --- | --- | --- \n",
    "Sample mean $\\overline{x}$ | 95.52 | 164.38 | 55.69 | 93.39 | 17.98 | 31.13\n",
    "\n",
    "**và ma trận covariance:**\n",
    "\n",
    "$$ \\textbf{S} = \\left[\\begin{array}[rrrrrr] \n",
    " 3266.46 & 1343.97 & 731.54 & 1175.5  & 162.68 & 238.37\\\\\n",
    " 1343.97 & 721.91 & 324.25&  537.35 &  80.17  &117.73\\\\\n",
    "  731.54 & 324.25 & 179.28&  281.17 &  39.15  & 56.8 \\\\\n",
    " 1175.5  & 537.35 & 281.17&  474.98 &  63.73  & 94.85\\\\\n",
    "  162.68 &  80.17 &  39.15&   63.73 &   9.95  & 13.88\\\\\n",
    "  238.37 & 117.73 &  56.8 &   94.85 &  13.88  & 21.26\\\\\n",
    "\\end{array}\\right]$$"
   ]
  },
  {
   "cell_type": "code",
   "execution_count": null,
   "id": "f1c27c7c",
   "metadata": {},
   "outputs": [],
   "source": [
    "x_mean = np.array([95.52, 164.38, 55.69, 93.39, 17.98, 31.13])\n",
    "S = read_symmetric_matrix('P8-23.txt')\n",
    "print(x_mean)\n",
    "print(S)"
   ]
  },
  {
   "cell_type": "markdown",
   "id": "51171e59",
   "metadata": {},
   "source": [
    "**(a) Thực hiện phân tích thành phần chính bằng cách sử dụng ma trận hiệp phương sai. Dữ liệu có thể còn đảm bảo thông tin khi số chiều ít hơn 6 hay không?**"
   ]
  },
  {
   "cell_type": "code",
   "execution_count": null,
   "id": "e7916a61",
   "metadata": {},
   "outputs": [],
   "source": []
  },
  {
   "cell_type": "markdown",
   "id": "b6cb2ffb",
   "metadata": {},
   "source": [
    "**(b) Thực hiện phân tích thành phần chính bằng cách sử dụng ma trận tương quan.**"
   ]
  },
  {
   "cell_type": "code",
   "execution_count": null,
   "id": "b46fd873",
   "metadata": {},
   "outputs": [],
   "source": []
  },
  {
   "cell_type": "markdown",
   "id": "3ad2c904",
   "metadata": {},
   "source": [
    "**(c) Nhận xét điểm giống và khác nhau giữa 2 phép phân tích.**"
   ]
  },
  {
   "cell_type": "code",
   "execution_count": null,
   "id": "a59f401e",
   "metadata": {},
   "outputs": [],
   "source": []
  },
  {
   "cell_type": "markdown",
   "id": "23c889c3",
   "metadata": {},
   "source": [
    "### 8.28\n",
    "\n",
    "**Bộ dữ liệu survey được thu thập như một phần của cuộc nghiên cứu nhằm đánh giá các lựa chọn để tăng cường đảm bảo an toàn lương thực thực phẩm thông qua việc sử dụng nguồn tài nguyên thiên nhiên ở vùng Sikasso của Mali (Tây Phi). Tổng số $n=76$  nông dân đã được khảo sát và các quan trắc trên 9 biến**\n",
    "\n",
    "* $x_1 = $ Family (tổng số thành viên trong hộ)\n",
    "* $x_2 = $ DistRd (khoảng cách tính bằng kilometers đến đường có thể đi qua gần nhất)\n",
    "* $x_3 = $ Cotton (số hectares bông được trồng trong năm 2000)\n",
    "* $x_4 = $ Maize (số hectares ngô được trồng trong năm 2000)\n",
    "* $x_5 = $ Sorg (số hectares cao lương được trồng trong năm 2000)\n",
    "* $x_6 = $ Millet (số hectares kê được trồng trong năm 2000)\n",
    "* $x_7 = $ Bull (tổng số con bò hoặc gia súc kéo)\n",
    "* $x_8 = $ Cattle (tổng số gia súc)\n",
    "* $x_9 = $ Goats (tổng số con dê)\n",
    "\n",
    "**được ghi lại. Dữ liệu được liệt kê trong bảng 8.7 và trên website [www.prenhall.com/statistics](www.prenhall.com/statistics).**"
   ]
  },
  {
   "cell_type": "code",
   "execution_count": null,
   "id": "8b0e05a3",
   "metadata": {},
   "outputs": [],
   "source": []
  },
  {
   "cell_type": "markdown",
   "id": "af75aeca",
   "metadata": {},
   "source": [
    "**(a) Xây dựng các biểu đồ phân tán 2 chiều của Family versus DistRd, và DistRd versus Cattle. Loại bỏ ngoại lai từ bộ dữ liệu.**"
   ]
  },
  {
   "cell_type": "code",
   "execution_count": null,
   "id": "a0d4f1e7",
   "metadata": {},
   "outputs": [],
   "source": []
  },
  {
   "cell_type": "markdown",
   "id": "6af16a8f",
   "metadata": {},
   "source": [
    "**(b) Thực hiện phân tích thành phần chính bằng cách sử dụng ma trận tương quan R. Xác định số thành phần để tóm tắt hiệu quả sự biến thiên. Sử dụng proportion of variation explained và biểu đồ scree để giúp bạn quyết định.**"
   ]
  },
  {
   "cell_type": "code",
   "execution_count": null,
   "id": "7e08d85e",
   "metadata": {},
   "outputs": [],
   "source": []
  },
  {
   "cell_type": "markdown",
   "id": "bc31d743",
   "metadata": {},
   "source": [
    "**(c) Diễn giải năm thành phần chính đầu tiên. Chẳng hạn, bạn có thể xác định thành phần \"farm size\" không? Có lẽ là thành phần \"goats và distance to road\"?**"
   ]
  },
  {
   "cell_type": "code",
   "execution_count": null,
   "id": "c21777e8",
   "metadata": {},
   "outputs": [],
   "source": []
  }
 ],
 "metadata": {
  "kernelspec": {
   "display_name": "Python 3",
   "language": "python",
   "name": "python3"
  },
  "language_info": {
   "codemirror_mode": {
    "name": "ipython",
    "version": 3
   },
   "file_extension": ".py",
   "mimetype": "text/x-python",
   "name": "python",
   "nbconvert_exporter": "python",
   "pygments_lexer": "ipython3",
   "version": "3.7.10"
  }
 },
 "nbformat": 4,
 "nbformat_minor": 5
}
