{
 "cells": [
  {
   "cell_type": "markdown",
   "metadata": {
    "id": "yRyf3BxcQ6CT"
   },
   "source": [
    "**Bảng phân công công việc:**\n",
    "\n",
    "Thành viên | MSSV | Bài tập\n",
    "--- | --- | ---\n",
    "Đinh Anh Huy | 18110103 | 8.11, 8.23, 8.28\n",
    "Nguyễn Đức Vũ Duy | 18110004 | 8.22, 8.26, 8.29"
   ]
  },
  {
   "cell_type": "code",
   "execution_count": 1,
   "metadata": {
    "colab": {
     "base_uri": "https://localhost:8080/"
    },
    "id": "uuAoIPkmQyp1",
    "outputId": "67e5b92e-ec68-4930-f574-d730e424cde6"
   },
   "outputs": [
    {
     "name": "stderr",
     "output_type": "stream",
     "text": [
      "/usr/local/lib/python3.7/dist-packages/statsmodels/tools/_testing.py:19: FutureWarning: pandas.util.testing is deprecated. Use the functions in the public API at pandas.testing instead.\n",
      "  import pandas.util.testing as tm\n"
     ]
    }
   ],
   "source": [
    "import numpy as np\n",
    "import pandas as pd\n",
    "import scipy.stats as stats\n",
    "from matplotlib import pyplot as plt\n",
    "import pandas as pd\n",
    "import statsmodels.formula.api as smf\n",
    "import statsmodels.api as sm\n",
    "from sklearn.preprocessing import StandardScaler\n",
    "from sklearn.decomposition import PCA\n",
    "import warnings\n",
    "warnings.filterwarnings(\"ignore\")"
   ]
  },
  {
   "cell_type": "markdown",
   "metadata": {
    "id": "SeOGNrjWRFBM"
   },
   "source": [
    "###8.22"
   ]
  },
  {
   "cell_type": "markdown",
   "metadata": {
    "id": "PpU8MAERRGYI"
   },
   "source": [
    "###Xét dữ liệu về bò tót ở bảng 1.10. Tận dụng 7 biến YrHgt, FtFrBody, PrctFFB, Frame, BkFat, SaleHi and SaleWt, thực hiện phân tích thành phần chính sử dụng ma trận hiệp phương sai $\\boldsymbol{S}$ và ma trận tương quan $\\boldsymbol{R}$. Phân tích cần bao gồm:\n"
   ]
  },
  {
   "cell_type": "markdown",
   "metadata": {
    "id": "74keAXcnRq54"
   },
   "source": [
    "###(a) Xác định số lượng thành phần chính phù hợp để tóm tắt hiệu quả sự thay đổi ở mẫu. Vẽ scree plot để hỗ trợ xác định của bạn."
   ]
  },
  {
   "cell_type": "code",
   "execution_count": 2,
   "metadata": {
    "colab": {
     "base_uri": "https://localhost:8080/",
     "height": 204
    },
    "id": "NzjSQ0jtQ-iV",
    "outputId": "42c66f8f-6680-4083-bfea-c407e8342231"
   },
   "outputs": [
    {
     "data": {
      "text/html": [
       "<div>\n",
       "<style scoped>\n",
       "    .dataframe tbody tr th:only-of-type {\n",
       "        vertical-align: middle;\n",
       "    }\n",
       "\n",
       "    .dataframe tbody tr th {\n",
       "        vertical-align: top;\n",
       "    }\n",
       "\n",
       "    .dataframe thead th {\n",
       "        text-align: right;\n",
       "    }\n",
       "</style>\n",
       "<table border=\"1\" class=\"dataframe\">\n",
       "  <thead>\n",
       "    <tr style=\"text-align: right;\">\n",
       "      <th></th>\n",
       "      <th>YrHgt</th>\n",
       "      <th>FtFrBody</th>\n",
       "      <th>PrctFFB</th>\n",
       "      <th>Frame</th>\n",
       "      <th>BkFat</th>\n",
       "      <th>SaleHt</th>\n",
       "      <th>SaleWt</th>\n",
       "    </tr>\n",
       "  </thead>\n",
       "  <tbody>\n",
       "    <tr>\n",
       "      <th>0</th>\n",
       "      <td>51.0</td>\n",
       "      <td>1128.0</td>\n",
       "      <td>70.9</td>\n",
       "      <td>7.0</td>\n",
       "      <td>0.25</td>\n",
       "      <td>54.8</td>\n",
       "      <td>1720.0</td>\n",
       "    </tr>\n",
       "    <tr>\n",
       "      <th>1</th>\n",
       "      <td>51.9</td>\n",
       "      <td>1108.0</td>\n",
       "      <td>72.1</td>\n",
       "      <td>7.0</td>\n",
       "      <td>0.25</td>\n",
       "      <td>55.3</td>\n",
       "      <td>1575.0</td>\n",
       "    </tr>\n",
       "    <tr>\n",
       "      <th>2</th>\n",
       "      <td>49.9</td>\n",
       "      <td>1011.0</td>\n",
       "      <td>71.6</td>\n",
       "      <td>6.0</td>\n",
       "      <td>0.15</td>\n",
       "      <td>53.1</td>\n",
       "      <td>1410.0</td>\n",
       "    </tr>\n",
       "    <tr>\n",
       "      <th>3</th>\n",
       "      <td>53.1</td>\n",
       "      <td>993.0</td>\n",
       "      <td>68.9</td>\n",
       "      <td>8.0</td>\n",
       "      <td>0.35</td>\n",
       "      <td>56.4</td>\n",
       "      <td>1595.0</td>\n",
       "    </tr>\n",
       "    <tr>\n",
       "      <th>4</th>\n",
       "      <td>51.2</td>\n",
       "      <td>996.0</td>\n",
       "      <td>68.6</td>\n",
       "      <td>7.0</td>\n",
       "      <td>0.25</td>\n",
       "      <td>55.0</td>\n",
       "      <td>1488.0</td>\n",
       "    </tr>\n",
       "  </tbody>\n",
       "</table>\n",
       "</div>"
      ],
      "text/plain": [
       "   YrHgt  FtFrBody  PrctFFB  Frame  BkFat  SaleHt  SaleWt\n",
       "0   51.0    1128.0     70.9    7.0   0.25    54.8  1720.0\n",
       "1   51.9    1108.0     72.1    7.0   0.25    55.3  1575.0\n",
       "2   49.9    1011.0     71.6    6.0   0.15    53.1  1410.0\n",
       "3   53.1     993.0     68.9    8.0   0.35    56.4  1595.0\n",
       "4   51.2     996.0     68.6    7.0   0.25    55.0  1488.0"
      ]
     },
     "execution_count": 2,
     "metadata": {
      "tags": []
     },
     "output_type": "execute_result"
    }
   ],
   "source": [
    "path='/content/T1-10.dat.txt'\n",
    "df=pd.DataFrame(np.loadtxt(path)).iloc[:,2:]\n",
    "df.columns=['YrHgt','FtFrBody','PrctFFB','Frame','BkFat','SaleHt','SaleWt']\n",
    "df.head()"
   ]
  },
  {
   "cell_type": "code",
   "execution_count": 3,
   "metadata": {
    "colab": {
     "base_uri": "https://localhost:8080/"
    },
    "id": "_SHwTB6-2aHk",
    "outputId": "ab64ffec-8701-4e80-cf62-254ad43e93d7"
   },
   "outputs": [
    {
     "data": {
      "text/plain": [
       "0     1.0\n",
       "1     1.0\n",
       "2     1.0\n",
       "3     1.0\n",
       "4     1.0\n",
       "     ... \n",
       "71    8.0\n",
       "72    8.0\n",
       "73    8.0\n",
       "74    8.0\n",
       "75    8.0\n",
       "Name: 0, Length: 76, dtype: float64"
      ]
     },
     "execution_count": 3,
     "metadata": {
      "tags": []
     },
     "output_type": "execute_result"
    }
   ],
   "source": [
    "pd.DataFrame(np.loadtxt(path)).iloc[:,0]"
   ]
  },
  {
   "cell_type": "code",
   "execution_count": 4,
   "metadata": {
    "colab": {
     "base_uri": "https://localhost:8080/"
    },
    "id": "kAp9tUorQ-nX",
    "outputId": "f83bb607-5396-4835-f74e-0d1a8321e696"
   },
   "outputs": [
    {
     "data": {
      "text/plain": [
       "array([[ 2.99802632e+00,  1.00130526e+02,  2.96001754e+00,\n",
       "         1.50884211e+00, -5.33921053e-02,  2.98313684e+00,\n",
       "         8.28107719e+01],\n",
       "       [ 1.00130526e+02,  8.59434386e+03,  2.09504351e+02,\n",
       "         5.19501754e+01, -1.39817544e+00,  1.29940070e+02,\n",
       "         6.68030877e+03],\n",
       "       [ 2.96001754e+00,  2.09504351e+02,  1.06916561e+01,\n",
       "         1.45922807e+00, -1.42994737e-01,  3.41422456e+00,\n",
       "         8.39254035e+01],\n",
       "       [ 1.50884211e+00,  5.19501754e+01,  1.45922807e+00,\n",
       "         8.58947368e-01, -2.16140351e-02,  1.48757895e+00,\n",
       "         4.43207018e+01],\n",
       "       [-5.33921053e-02, -1.39817544e+00, -1.42994737e-01,\n",
       "        -2.16140351e-02,  8.02236842e-03, -5.06456140e-02,\n",
       "         2.41296491e+00],\n",
       "       [ 2.98313684e+00,  1.29940070e+02,  3.41422456e+00,\n",
       "         1.48757895e+00, -5.06456140e-02,  4.01796491e+00,\n",
       "         1.47289614e+02],\n",
       "       [ 8.28107719e+01,  6.68030877e+03,  8.39254035e+01,\n",
       "         4.43207018e+01,  2.41296491e+00,  1.47289614e+02,\n",
       "         1.68506618e+04]])"
      ]
     },
     "execution_count": 4,
     "metadata": {
      "tags": []
     },
     "output_type": "execute_result"
    }
   ],
   "source": [
    "S=np.cov(df.T)\n",
    "S"
   ]
  },
  {
   "cell_type": "code",
   "execution_count": 5,
   "metadata": {
    "colab": {
     "base_uri": "https://localhost:8080/"
    },
    "id": "ab-6iKPHQ-qA",
    "outputId": "1ff970de-3b66-48ef-d8bd-d6f73e003725"
   },
   "outputs": [
    {
     "data": {
      "text/plain": [
       "array([[ 1.        ,  0.62379576,  0.52282226,  0.94024882, -0.34427701,\n",
       "         0.85951287,  0.36843479],\n",
       "       [ 0.62379576,  1.        ,  0.69113708,  0.6046407 , -0.16838523,\n",
       "         0.69925191,  0.55511338],\n",
       "       [ 0.52282226,  0.69113708,  1.        ,  0.48152341, -0.48825451,\n",
       "         0.52091459,  0.1977254 ],\n",
       "       [ 0.94024882,  0.6046407 ,  0.48152341,  1.        , -0.26037619,\n",
       "         0.80074397,  0.36839597],\n",
       "       [-0.34427701, -0.16838523, -0.48825451, -0.26037619,  1.        ,\n",
       "        -0.28208986,  0.20753494],\n",
       "       [ 0.85951287,  0.69925191,  0.52091459,  0.80074397, -0.28208986,\n",
       "         1.        ,  0.56605753],\n",
       "       [ 0.36843479,  0.55511338,  0.1977254 ,  0.36839597,  0.20753494,\n",
       "         0.56605753,  1.        ]])"
      ]
     },
     "execution_count": 5,
     "metadata": {
      "tags": []
     },
     "output_type": "execute_result"
    }
   ],
   "source": [
    "R=np.corrcoef(df.T)\n",
    "R"
   ]
  },
  {
   "cell_type": "code",
   "execution_count": 6,
   "metadata": {
    "id": "FckhAuXIQ-ss"
   },
   "outputs": [],
   "source": [
    "def eigen_pairs(model, data):\n",
    "    eigenvals = model.explained_variance_\n",
    "    eigenvecs = model.components_\n",
    "\n",
    "    print(\">> Eigenanalysis\")\n",
    "    eigenvals_ = pd.DataFrame(eigenvals.reshape(1,-1))\n",
    "    eigenvals_.columns = ['PC%s' % i for i in range(1, model.n_components_+1)]\n",
    "    eigenvals_.index = ['Eigenvalue']\n",
    "    \n",
    "    eigenvecs_ = pd.DataFrame(eigenvecs.T)\n",
    "    eigenvecs_.columns = ['PC%s' % i for i in range(1, model.n_components_+1)]\n",
    "    eigenvecs_.index = data.columns\n",
    "    print(eigenvals_)\n",
    "    print(\"\\n\",eigenvecs_)\n",
    "    return eigenvals_, eigenvecs_"
   ]
  },
  {
   "cell_type": "code",
   "execution_count": 7,
   "metadata": {
    "colab": {
     "base_uri": "https://localhost:8080/"
    },
    "id": "MVLY13I9Q-vB",
    "outputId": "10a4bd51-500f-4194-9101-38222d49264e"
   },
   "outputs": [
    {
     "name": "stdout",
     "output_type": "stream",
     "text": [
      ">> Eigenanalysis\n",
      "                     PC1          PC2      PC3  ...      PC5       PC6       PC7\n",
      "Eigenvalue  20579.612567  4874.674782  5.42917  ...  0.46883  0.074054  0.004519\n",
      "\n",
      "[1 rows x 7 columns]\n",
      "\n",
      "                PC1       PC2       PC3       PC4       PC5       PC6       PC7\n",
      "YrHgt     0.005887  0.009680  0.286337  0.608787  0.535569  0.509727  0.024592\n",
      "FtFrBody  0.487047  0.872697 -0.034277 -0.003227  0.000444  0.000457 -0.000253\n",
      "PrctFFB   0.008526  0.029196  0.904389 -0.425175  0.008388 -0.010389  0.014293\n",
      "Frame     0.003112  0.004886  0.133267  0.311194  0.390573 -0.855204 -0.037984\n",
      "BkFat     0.000069 -0.000493 -0.018864 -0.005278  0.011906 -0.043786  0.998778\n",
      "SaleHt    0.009330  0.008577  0.284215  0.593037 -0.748598 -0.082331  0.013820\n",
      "SaleWt    0.873259 -0.487193  0.004847 -0.005597  0.002665  0.000341 -0.000256\n"
     ]
    }
   ],
   "source": [
    "pca = PCA(n_components=7).fit(df)\n",
    "eigenvals_, eigenvecs_=eigen_pairs(pca, df)"
   ]
  },
  {
   "cell_type": "code",
   "execution_count": 8,
   "metadata": {
    "id": "9TazmbRgQ-xy"
   },
   "outputs": [],
   "source": [
    "def PCA_(matrix, n_components=None, correlation=False, column_names=None, return_=False):\n",
    "    # Eigendecomposition\n",
    "    eigenvals, eigenvecs = np.linalg.eigh(matrix)\n",
    "\n",
    "    # Sort paires (eigenvalue, eigenvector) in descending order\n",
    "    eigenpairs = [(abs(eigenval), eigenvec) for (eigenval, eigenvec) in zip(eigenvals, eigenvecs.T)]\n",
    "    eigenpairs = sorted(eigenpairs, key = lambda pair: pair[0], reverse = True)\n",
    "\n",
    "    # Select a subset from the rearranged Eigenvalues vector\n",
    "    # If n_components is None, select all. Otherwise, select first n_components elements\n",
    "    if n_components is None:\n",
    "        eigenpairs_ = eigenpairs\n",
    "    else:\n",
    "        eigenpairs_ = eigenpairs[:n_components]\n",
    "\n",
    "    # Construct weight matrix from above subset\n",
    "    components_ = [eigenvec for (_, eigenvec) in eigenpairs_]\n",
    "    explained_variance_ = [eigenval for (eigenval, _) in eigenpairs_]\n",
    "\n",
    "    # Calculate percentage of cariance explained by each of the selected components\n",
    "    explained_variance_ratio_ = []\n",
    "    if correlation:\n",
    "        for i in range(len(explained_variance_)):\n",
    "            explained_variance_ratio_.append(explained_variance_[i]/len(explained_variance_))\n",
    "    else:\n",
    "        for i in range(len(explained_variance_)):\n",
    "            explained_variance_ratio_.append(explained_variance_[i]/np.sum(eigenvals))\n",
    "    explained_variance_ratio_ = np.array(explained_variance_ratio_)\n",
    "        \n",
    "    if correlation:\n",
    "        print(\">> Eigenanalysis of the Correlation Matrix\")\n",
    "    else:\n",
    "        print(\">> Eigenanalysis of the Covariance Matrix\")\n",
    "    \n",
    "    eigenanalys = np.concatenate([np.array(explained_variance_).reshape(-1,1), explained_variance_ratio_.reshape(-1,1), np.cumsum(explained_variance_ratio_).reshape(-1,1)], axis=1)  \n",
    "    eigenanalys = pd.DataFrame(eigenanalys.T)\n",
    "    eigenanalys.columns = ['PC%s' % i for i in range(1, len(explained_variance_)+1)]\n",
    "    eigenanalys.index = ['Eigenvalue', 'Proportion', 'Cumulative']\n",
    "    \n",
    "    eigenvecs_ = pd.DataFrame(np.array(components_).T)\n",
    "    eigenvecs_.columns = ['PC%s' % i for i in range(1, len(explained_variance_)+1)]\n",
    "    if column_names is not None:\n",
    "        eigenvecs_.index = column_names\n",
    "    print(eigenanalys)\n",
    "    print(\"\\n\",eigenvecs_)\n",
    "    \n",
    "    if return_:\n",
    "        return explained_variance_, components_, explained_variance_ratio_"
   ]
  },
  {
   "cell_type": "code",
   "execution_count": 9,
   "metadata": {
    "colab": {
     "base_uri": "https://localhost:8080/"
    },
    "id": "bSu4eKYtQ-1V",
    "outputId": "07bee1c0-8426-4b94-fbdd-052535ada6bc"
   },
   "outputs": [
    {
     "name": "stdout",
     "output_type": "stream",
     "text": [
      ">> Eigenanalysis of the Covariance Matrix\n",
      "                     PC1          PC2  ...       PC6           PC7\n",
      "Eigenvalue  20579.612567  4874.674782  ...  0.074054  4.519442e-03\n",
      "Proportion      0.808198     0.191437  ...  0.000003  1.774865e-07\n",
      "Cumulative      0.808198     0.999635  ...  1.000000  1.000000e+00\n",
      "\n",
      "[3 rows x 7 columns]\n",
      "\n",
      "                PC1       PC2       PC3       PC4       PC5       PC6       PC7\n",
      "YrHgt    -0.005887  0.009680  0.286337 -0.608787  0.535569 -0.509727  0.024592\n",
      "FtFrBody -0.487047  0.872697 -0.034277  0.003227  0.000444 -0.000457 -0.000253\n",
      "PrctFFB  -0.008526  0.029196  0.904389  0.425175  0.008388  0.010389  0.014293\n",
      "Frame    -0.003112  0.004886  0.133267 -0.311194  0.390573  0.855204 -0.037984\n",
      "BkFat    -0.000069 -0.000493 -0.018864  0.005278  0.011906  0.043786  0.998778\n",
      "SaleHt   -0.009330  0.008577  0.284215 -0.593037 -0.748598  0.082331  0.013820\n",
      "SaleWt   -0.873259 -0.487193  0.004847  0.005597  0.002665 -0.000341 -0.000256\n"
     ]
    }
   ],
   "source": [
    "eigenvals, eigenvecs, proportions = PCA_(S, correlation=False, column_names=df.columns, return_=True)"
   ]
  },
  {
   "cell_type": "markdown",
   "metadata": {
    "id": "f2o-R-pIx0AS"
   },
   "source": [
    "2 thành phần mẫu chính đầu tiên là:\n",
    "\\begin{equation*}\n",
    "\\hat{y_1}=-0.0059x_1-0.487x_2-0.009x_3-0.0031x_4-0.000069x_5-0.0093x_6-0.8733x_7\n",
    "\\end{equation*}\n",
    "\\begin{equation*}\n",
    "\\hat{y_2}=0.00968x_1+0.873x_2+0.029196x_3+0.00489x_4-0.0005x_5+0.0086x_6-0.4872x_7\n",
    "\\end{equation*}"
   ]
  },
  {
   "cell_type": "code",
   "execution_count": 10,
   "metadata": {
    "colab": {
     "base_uri": "https://localhost:8080/",
     "height": 350
    },
    "id": "wl7z6lucQ-38",
    "outputId": "75f7b3e3-c3d4-41dc-fb94-ff363d139b17"
   },
   "outputs": [
    {
     "data": {
      "image/png": "[encoded data removed]",
      "text/plain": [
       "<Figure size 720x360 with 1 Axes>"
      ]
     },
     "metadata": {
      "needs_background": "light",
      "tags": []
     },
     "output_type": "display_data"
    }
   ],
   "source": [
    "fig, ax = plt.subplots(figsize=(10,5))\n",
    "\n",
    "PC_values = np.arange(len(eigenvals)) + 1\n",
    "ax.plot(PC_values, eigenvals, 'ro-', linewidth=2)\n",
    "ax.set_title('Scree Plot')\n",
    "ax.set_xlabel('Principal Component')\n",
    "ax.set_ylabel('Eigenvalue')\n",
    "\n",
    "plt.show()"
   ]
  },
  {
   "cell_type": "markdown",
   "metadata": {
    "id": "IZ-BKHlEqC6A"
   },
   "source": [
    "Theo scree plot ở trên thì số lượng thành phần phù hợp để thực hiện PCA sẽ là 2. "
   ]
  },
  {
   "cell_type": "markdown",
   "metadata": {
    "id": "AoGPtAboqZIj"
   },
   "source": [
    "###(b) Tính thành phần chính của mẫu."
   ]
  },
  {
   "cell_type": "code",
   "execution_count": 11,
   "metadata": {
    "id": "fF4r6ywvQ-7m"
   },
   "outputs": [],
   "source": [
    "from matplotlib.patches import Ellipse, Rectangle\n",
    "def get_cov_ellipse(cov, centre, nstd, eig = False, **kwargs):\n",
    "    \"\"\"\n",
    "    Return a matplotlib Ellipse patch representing the covariance matrix\n",
    "    cov centred at centre and scaled by the factor nstd.\n",
    "\n",
    "    \"\"\"\n",
    "\n",
    "    # Find and sort eigenvalues and eigenvectors into descending order\n",
    "    eigvals, eigvecs = np.linalg.eigh(cov)\n",
    "    order = eigvals.argsort()[::-1]\n",
    "    eigvals, eigvecs = eigvals[order], eigvecs[:, order]\n",
    "    # The anti-clockwise angle to rotate our ellipse by \n",
    "    vx, vy = eigvecs[:,0][0], eigvecs[:,0][1]\n",
    "    theta = np.arctan2(vy, vx)\n",
    "\n",
    "    # Width and height of ellipse to draw\n",
    "    width, height = 2 * nstd * np.sqrt(eigvals)\n",
    "    if eig:\n",
    "        return Ellipse(xy=centre, width=width, height=height,\n",
    "                   angle=np.degrees(theta), **kwargs), eigvals, eigvecs\n",
    "    else: \n",
    "        return Ellipse(xy=centre, width=width, height=height,\n",
    "                   angle=np.degrees(theta), **kwargs)"
   ]
  },
  {
   "cell_type": "code",
   "execution_count": 12,
   "metadata": {
    "colab": {
     "base_uri": "https://localhost:8080/",
     "height": 282
    },
    "id": "aBl_kaK5v2uv",
    "outputId": "e3936d05-6ce3-4a1a-c404-64f58d120208"
   },
   "outputs": [
    {
     "data": {
      "text/plain": [
       "<matplotlib.patches.Ellipse at 0x7f324b9175d0>"
      ]
     },
     "execution_count": 12,
     "metadata": {
      "tags": []
     },
     "output_type": "execute_result"
    },
    {
     "data": {
      "image/png": "[encoded data removed]",
      "text/plain": [
       "<Figure size 432x288 with 1 Axes>"
      ]
     },
     "metadata": {
      "needs_background": "light",
      "tags": []
     },
     "output_type": "display_data"
    }
   ],
   "source": [
    "pca = PCA(n_components=2).fit(df)\n",
    "X_pca=pca.transform(df)\n",
    "X_mean_1,X_mean_2=X_pca[:,0].mean(), X_pca[:,1].mean()\n",
    "fig, ax = plt.subplots()\n",
    "e = Ellipse(xy=(X_mean_1,X_mean_2),width=2*np.sqrt(eigenvals[0]),height=2*np.sqrt(eigenvals[1]),angle=np.arctan2(eigenvecs[0][0],eigenvecs[0][1]), edgecolor='blue', facecolor='None')\n",
    "ax.scatter(x=X_pca[:,0],y=X_pca[:,1], c='red', s=25)\n",
    "ax.scatter(X_mean_1,X_mean_2, c='green',s=25)\n",
    "ax.add_patch(e)"
   ]
  },
  {
   "cell_type": "markdown",
   "metadata": {
    "id": "L5dWy-27w-LO"
   },
   "source": [
    "###(d) Sử dụng những giá trị cho 2 thành phần chính đầu tiên, plot dữ liệu lên không gian 2 chiều với $\\hat{y_1}$ là trục dọc và $\\hat{y_2}$ trục ngang. Bạn có thể phân biệt những nhóm thể hiện 3 giống cattle ? có điểm ngoại lai không ?"
   ]
  },
  {
   "cell_type": "code",
   "execution_count": 13,
   "metadata": {
    "colab": {
     "base_uri": "https://localhost:8080/",
     "height": 419
    },
    "id": "xIXy0yc32rzM",
    "outputId": "78bff9e5-e848-43aa-ee0f-6faca6c4512d"
   },
   "outputs": [
    {
     "data": {
      "text/html": [
       "<div>\n",
       "<style scoped>\n",
       "    .dataframe tbody tr th:only-of-type {\n",
       "        vertical-align: middle;\n",
       "    }\n",
       "\n",
       "    .dataframe tbody tr th {\n",
       "        vertical-align: top;\n",
       "    }\n",
       "\n",
       "    .dataframe thead th {\n",
       "        text-align: right;\n",
       "    }\n",
       "</style>\n",
       "<table border=\"1\" class=\"dataframe\">\n",
       "  <thead>\n",
       "    <tr style=\"text-align: right;\">\n",
       "      <th></th>\n",
       "      <th>0</th>\n",
       "      <th>1</th>\n",
       "      <th>2</th>\n",
       "    </tr>\n",
       "  </thead>\n",
       "  <tbody>\n",
       "    <tr>\n",
       "      <th>0</th>\n",
       "      <td>208.162160</td>\n",
       "      <td>35.010376</td>\n",
       "      <td>1.0</td>\n",
       "    </tr>\n",
       "    <tr>\n",
       "      <th>1</th>\n",
       "      <td>71.818871</td>\n",
       "      <td>88.247424</td>\n",
       "      <td>1.0</td>\n",
       "    </tr>\n",
       "    <tr>\n",
       "      <th>2</th>\n",
       "      <td>-119.552090</td>\n",
       "      <td>83.924983</td>\n",
       "      <td>1.0</td>\n",
       "    </tr>\n",
       "    <tr>\n",
       "      <th>3</th>\n",
       "      <td>33.266808</td>\n",
       "      <td>-21.924086</td>\n",
       "      <td>1.0</td>\n",
       "    </tr>\n",
       "    <tr>\n",
       "      <th>4</th>\n",
       "      <td>-58.740680</td>\n",
       "      <td>32.779629</td>\n",
       "      <td>1.0</td>\n",
       "    </tr>\n",
       "    <tr>\n",
       "      <th>...</th>\n",
       "      <td>...</td>\n",
       "      <td>...</td>\n",
       "      <td>...</td>\n",
       "    </tr>\n",
       "    <tr>\n",
       "      <th>71</th>\n",
       "      <td>-87.900476</td>\n",
       "      <td>50.360746</td>\n",
       "      <td>8.0</td>\n",
       "    </tr>\n",
       "    <tr>\n",
       "      <th>72</th>\n",
       "      <td>-72.524615</td>\n",
       "      <td>34.792064</td>\n",
       "      <td>8.0</td>\n",
       "    </tr>\n",
       "    <tr>\n",
       "      <th>73</th>\n",
       "      <td>-190.539824</td>\n",
       "      <td>28.527404</td>\n",
       "      <td>8.0</td>\n",
       "    </tr>\n",
       "    <tr>\n",
       "      <th>74</th>\n",
       "      <td>4.714649</td>\n",
       "      <td>-9.429444</td>\n",
       "      <td>8.0</td>\n",
       "    </tr>\n",
       "    <tr>\n",
       "      <th>75</th>\n",
       "      <td>-86.865713</td>\n",
       "      <td>43.968764</td>\n",
       "      <td>8.0</td>\n",
       "    </tr>\n",
       "  </tbody>\n",
       "</table>\n",
       "<p>76 rows × 3 columns</p>\n",
       "</div>"
      ],
      "text/plain": [
       "             0          1    2\n",
       "0   208.162160  35.010376  1.0\n",
       "1    71.818871  88.247424  1.0\n",
       "2  -119.552090  83.924983  1.0\n",
       "3    33.266808 -21.924086  1.0\n",
       "4   -58.740680  32.779629  1.0\n",
       "..         ...        ...  ...\n",
       "71  -87.900476  50.360746  8.0\n",
       "72  -72.524615  34.792064  8.0\n",
       "73 -190.539824  28.527404  8.0\n",
       "74    4.714649  -9.429444  8.0\n",
       "75  -86.865713  43.968764  8.0\n",
       "\n",
       "[76 rows x 3 columns]"
      ]
     },
     "execution_count": 13,
     "metadata": {
      "tags": []
     },
     "output_type": "execute_result"
    }
   ],
   "source": [
    "breed= pd.DataFrame(np.loadtxt(path)).iloc[:,0].values\n",
    "df_new=pd.DataFrame(np.concatenate((X_pca,breed.reshape(-1,1)),axis=1))\n",
    "df_new"
   ]
  },
  {
   "cell_type": "code",
   "execution_count": 14,
   "metadata": {
    "colab": {
     "base_uri": "https://localhost:8080/",
     "height": 319
    },
    "id": "SJG2JvpJ0j5G",
    "outputId": "4aa04374-b0c7-4c42-dfee-2a6a657ec742"
   },
   "outputs": [
    {
     "data": {
      "text/plain": [
       "Text(0, 0.5, '$\\\\hat{y_1}$')"
      ]
     },
     "execution_count": 14,
     "metadata": {
      "tags": []
     },
     "output_type": "execute_result"
    },
    {
     "data": {
      "image/png": "[encoded data removed]",
      "text/plain": [
       "<Figure size 432x288 with 1 Axes>"
      ]
     },
     "metadata": {
      "needs_background": "light",
      "tags": []
     },
     "output_type": "display_data"
    }
   ],
   "source": [
    "fig, ax = plt.subplots()\n",
    "ax.scatter(df_new.iloc[:,1],df_new.iloc[:,0],c=df_new.iloc[:,2])\n",
    "ax.set_title('Scatter plot')\n",
    "ax.set_xlabel('$\\hat{y_2}$')\n",
    "ax.set_ylabel('$\\hat{y_1}$')"
   ]
  },
  {
   "cell_type": "markdown",
   "metadata": {
    "id": "s0mypqrw5-FW"
   },
   "source": [
    "Ta có thể thấy là các nhóm cho 3 chủng loại không tách biệt nhau ra nên chúng ta phân biệt các nhóm này. Ngoài ra chúng ta cũng nhận ra có 2 điểm outlier ở góc trên bên phải."
   ]
  },
  {
   "cell_type": "code",
   "execution_count": 15,
   "metadata": {
    "colab": {
     "base_uri": "https://localhost:8080/",
     "height": 295
    },
    "id": "W_Ye1hP66QeP",
    "outputId": "5ee249e8-d742-4c57-dfdc-0921b89e71dc"
   },
   "outputs": [
    {
     "data": {
      "image/png": "[encoded data removed]",
      "text/plain": [
       "<Figure size 432x288 with 1 Axes>"
      ]
     },
     "metadata": {
      "needs_background": "light",
      "tags": []
     },
     "output_type": "display_data"
    }
   ],
   "source": [
    "import pylab\n",
    "import statsmodels.api as sm\n",
    "sm.qqplot(df_new.iloc[:,0],line='r')\n",
    "plt.title('Q-Q plot using the first principal component')\n",
    "plt.show()"
   ]
  },
  {
   "cell_type": "markdown",
   "metadata": {
    "id": "t9xLFUPH7r1N"
   },
   "source": [
    "Từ Q-Q plot, ta thấy dữ liệu sử dụng thành phần chính đầu tiên có tính chuẩn và có 1 điểm outlier ở góc trên bên phải. "
   ]
  },
  {
   "cell_type": "markdown",
   "metadata": {
    "id": "jk8ani_88b9P"
   },
   "source": [
    "###8.26"
   ]
  },
  {
   "cell_type": "markdown",
   "metadata": {
    "id": "uWTgKF168dm2"
   },
   "source": [
    "###Sử dụg dữ liệu về profile tâm lý học ở bảng 4.6. Sử dụng 5 biến Indep, Supp, Benev, Conform và Leader, thực hiện phân tích thành phần chính sử dụng ma trận hiệp phương sai $\\boldsymbol{S}$ và ma trận tương quan $\\boldsymbol{R}$. Phân tích cần bao gồm"
   ]
  },
  {
   "cell_type": "markdown",
   "metadata": {
    "id": "o6ebNolT9Wx4"
   },
   "source": [
    "###(a) Xác định số lượng thành phần chính phù hợp để tóm tắt hiệu quả sự thay đổi ở mẫu. Vẽ scree plot để hỗ trợ xác định của bạn.\n",
    "\n"
   ]
  },
  {
   "cell_type": "code",
   "execution_count": 16,
   "metadata": {
    "colab": {
     "base_uri": "https://localhost:8080/",
     "height": 204
    },
    "id": "8kJK3Bsu7qu2",
    "outputId": "9bd3fa29-b879-44c1-e320-33b38c8cd0e5"
   },
   "outputs": [
    {
     "data": {
      "text/html": [
       "<div>\n",
       "<style scoped>\n",
       "    .dataframe tbody tr th:only-of-type {\n",
       "        vertical-align: middle;\n",
       "    }\n",
       "\n",
       "    .dataframe tbody tr th {\n",
       "        vertical-align: top;\n",
       "    }\n",
       "\n",
       "    .dataframe thead th {\n",
       "        text-align: right;\n",
       "    }\n",
       "</style>\n",
       "<table border=\"1\" class=\"dataframe\">\n",
       "  <thead>\n",
       "    <tr style=\"text-align: right;\">\n",
       "      <th></th>\n",
       "      <th>Indep</th>\n",
       "      <th>Supp</th>\n",
       "      <th>Benev</th>\n",
       "      <th>Conform</th>\n",
       "      <th>Leader</th>\n",
       "    </tr>\n",
       "  </thead>\n",
       "  <tbody>\n",
       "    <tr>\n",
       "      <th>0</th>\n",
       "      <td>27.0</td>\n",
       "      <td>13.0</td>\n",
       "      <td>14.0</td>\n",
       "      <td>20.0</td>\n",
       "      <td>11.0</td>\n",
       "    </tr>\n",
       "    <tr>\n",
       "      <th>1</th>\n",
       "      <td>12.0</td>\n",
       "      <td>13.0</td>\n",
       "      <td>24.0</td>\n",
       "      <td>25.0</td>\n",
       "      <td>6.0</td>\n",
       "    </tr>\n",
       "    <tr>\n",
       "      <th>2</th>\n",
       "      <td>14.0</td>\n",
       "      <td>20.0</td>\n",
       "      <td>15.0</td>\n",
       "      <td>16.0</td>\n",
       "      <td>7.0</td>\n",
       "    </tr>\n",
       "    <tr>\n",
       "      <th>3</th>\n",
       "      <td>18.0</td>\n",
       "      <td>20.0</td>\n",
       "      <td>17.0</td>\n",
       "      <td>12.0</td>\n",
       "      <td>6.0</td>\n",
       "    </tr>\n",
       "    <tr>\n",
       "      <th>4</th>\n",
       "      <td>9.0</td>\n",
       "      <td>22.0</td>\n",
       "      <td>22.0</td>\n",
       "      <td>21.0</td>\n",
       "      <td>6.0</td>\n",
       "    </tr>\n",
       "  </tbody>\n",
       "</table>\n",
       "</div>"
      ],
      "text/plain": [
       "   Indep  Supp  Benev  Conform  Leader\n",
       "0   27.0  13.0   14.0     20.0    11.0\n",
       "1   12.0  13.0   24.0     25.0     6.0\n",
       "2   14.0  20.0   15.0     16.0     7.0\n",
       "3   18.0  20.0   17.0     12.0     6.0\n",
       "4    9.0  22.0   22.0     21.0     6.0"
      ]
     },
     "execution_count": 16,
     "metadata": {
      "tags": []
     },
     "output_type": "execute_result"
    }
   ],
   "source": [
    "path='/content/T4-6.DAT.txt'\n",
    "df=pd.DataFrame(np.loadtxt(path)).iloc[:,:-2]\n",
    "df.columns=['Indep','Supp','Benev','Conform','Leader']\n",
    "df.head()"
   ]
  },
  {
   "cell_type": "code",
   "execution_count": 17,
   "metadata": {
    "colab": {
     "base_uri": "https://localhost:8080/"
    },
    "id": "YmyIqKDe2xYi",
    "outputId": "7421e668-a7dc-4f32-a536-672941c99c92"
   },
   "outputs": [
    {
     "data": {
      "text/plain": [
       "array([[ 34.75020871,  -4.27668456, -18.07179487, -15.97286822,\n",
       "          5.71645796],\n",
       "       [ -4.27668456,  17.51341682,   0.41979726,  -7.86821705,\n",
       "         -8.72331544],\n",
       "       [-18.07179487,   0.41979726,  29.84472272,   9.34883721,\n",
       "        -13.94215862],\n",
       "       [-15.97286822,  -7.86821705,   9.34883721,  33.04263566,\n",
       "         -9.94186047],\n",
       "       [  5.71645796,  -8.72331544, -13.94215862,  -9.94186047,\n",
       "         26.95796064]])"
      ]
     },
     "execution_count": 17,
     "metadata": {
      "tags": []
     },
     "output_type": "execute_result"
    }
   ],
   "source": [
    "S=np.cov(df.T)\n",
    "S"
   ]
  },
  {
   "cell_type": "code",
   "execution_count": 18,
   "metadata": {
    "colab": {
     "base_uri": "https://localhost:8080/"
    },
    "id": "iJe7qEi026ST",
    "outputId": "53d7ca16-6435-4fa3-fe7f-152f1a2452e5"
   },
   "outputs": [
    {
     "data": {
      "text/plain": [
       "array([[ 1.        , -0.17335767, -0.56116271, -0.47137534,  0.186769  ],\n",
       "       [-0.17335767,  1.        ,  0.01836202, -0.32707967, -0.40146956],\n",
       "       [-0.56116271,  0.01836202,  1.        ,  0.29770524, -0.49153305],\n",
       "       [-0.47137534, -0.32707967,  0.29770524,  1.        , -0.33310934],\n",
       "       [ 0.186769  , -0.40146956, -0.49153305, -0.33310934,  1.        ]])"
      ]
     },
     "execution_count": 18,
     "metadata": {
      "tags": []
     },
     "output_type": "execute_result"
    }
   ],
   "source": [
    "R=np.corrcoef(df.T)\n",
    "R"
   ]
  },
  {
   "cell_type": "code",
   "execution_count": 19,
   "metadata": {
    "colab": {
     "base_uri": "https://localhost:8080/"
    },
    "id": "2zBRHYq73FQu",
    "outputId": "13629096-1da5-405f-9e84-3ac7ba4fb798"
   },
   "outputs": [
    {
     "name": "stdout",
     "output_type": "stream",
     "text": [
      ">> Eigenanalysis of the Covariance Matrix\n",
      "                  PC1        PC2        PC3        PC4       PC5\n",
      "Eigenvalue  68.752385  31.508994  23.100973  16.354182  2.392411\n",
      "Proportion   0.483801   0.221724   0.162558   0.115082  0.016835\n",
      "Cumulative   0.483801   0.705525   0.868083   0.983165  1.000000\n",
      "\n",
      "               PC1       PC2       PC3       PC4       PC5\n",
      "Indep   -0.579435  0.079180  0.642879 -0.309393  0.385963\n",
      "Supp     0.041657  0.611928 -0.139914  0.514622  0.582578\n",
      "Benev    0.524285  0.218835 -0.119255 -0.734038  0.352425\n",
      "Conform  0.493092 -0.572157  0.422187  0.304274  0.398337\n",
      "Leader  -0.380137 -0.493986 -0.612100 -0.089702  0.478289\n"
     ]
    }
   ],
   "source": [
    "eigenvals, eigenvecs, proportions = PCA_(S, correlation=False, column_names=df.columns, return_=True)"
   ]
  },
  {
   "cell_type": "markdown",
   "metadata": {
    "id": "2Rq8LUwL3Rce"
   },
   "source": [
    "2 thành phần mẫu chính đầu tiên là:\n",
    "\\begin{equation*}\n",
    "\\hat{y_1}=-0.579x_1+0.0417x_2+0.524x_3+0.493x_4-0.38x_5\n",
    "\\end{equation*}\n",
    "\\begin{equation*}\n",
    "\\hat{y_2}=0.079x_1+0.612x_2+0.219x_3-0.572x_4-0.494x_5\n",
    "\\end{equation*}"
   ]
  },
  {
   "cell_type": "code",
   "execution_count": 20,
   "metadata": {
    "colab": {
     "base_uri": "https://localhost:8080/",
     "height": 350
    },
    "id": "0AZgB_ab3MyY",
    "outputId": "e9d323cb-9ea2-4517-e260-c085f45c5382"
   },
   "outputs": [
    {
     "data": {
      "image/png": "[encoded data removed]",
      "text/plain": [
       "<Figure size 720x360 with 1 Axes>"
      ]
     },
     "metadata": {
      "needs_background": "light",
      "tags": []
     },
     "output_type": "display_data"
    }
   ],
   "source": [
    "fig, ax = plt.subplots(figsize=(10,5))\n",
    "\n",
    "PC_values = np.arange(len(eigenvals)) + 1\n",
    "ax.plot(PC_values, eigenvals, 'ro-', linewidth=2)\n",
    "ax.set_title('Scree Plot')\n",
    "ax.set_xlabel('Principal Component')\n",
    "ax.set_ylabel('Eigenvalue')\n",
    "\n",
    "plt.show()"
   ]
  },
  {
   "cell_type": "markdown",
   "metadata": {
    "id": "jBhTpwSE4Aut"
   },
   "source": [
    "Theo scree plot ở trên thì số lượng thành phần phù hợp để thực hiện PCA sẽ là 3, chiếm $86\\%$ variance tổng. "
   ]
  },
  {
   "cell_type": "markdown",
   "metadata": {
    "id": "htxsPEu19ivG"
   },
   "source": [
    "###(b) Tính thành phần chính của mẫu."
   ]
  },
  {
   "cell_type": "code",
   "execution_count": 21,
   "metadata": {
    "colab": {
     "base_uri": "https://localhost:8080/",
     "height": 282
    },
    "id": "ZrZGpjuZ6FM8",
    "outputId": "05b370c0-2983-4679-b8f2-8653242e1cac"
   },
   "outputs": [
    {
     "data": {
      "text/plain": [
       "<matplotlib.patches.Ellipse at 0x7f324b6aa950>"
      ]
     },
     "execution_count": 21,
     "metadata": {
      "tags": []
     },
     "output_type": "execute_result"
    },
    {
     "data": {
      "image/png": "[encoded data removed]",
      "text/plain": [
       "<Figure size 432x288 with 1 Axes>"
      ]
     },
     "metadata": {
      "needs_background": "light",
      "tags": []
     },
     "output_type": "display_data"
    }
   ],
   "source": [
    "pca = PCA(n_components=3).fit(df)\n",
    "X_pca=pca.transform(df)\n",
    "X_mean_1,X_mean_2=X_pca[:,0].mean(), X_pca[:,1].mean()\n",
    "fig, ax = plt.subplots()\n",
    "e = Ellipse(xy=(X_mean_1,X_mean_2),width=2*np.sqrt(eigenvals[0]),height=2*np.sqrt(eigenvals[1]),angle=np.arctan2(eigenvecs[0][0],eigenvecs[0][1]), edgecolor='blue', facecolor='None')\n",
    "ax.scatter(x=X_pca[:,0],y=X_pca[:,1], c='red', s=25)\n",
    "ax.scatter(X_mean_1,X_mean_2, c='green',s=25)\n",
    "ax.add_patch(e)"
   ]
  },
  {
   "cell_type": "markdown",
   "metadata": {
    "id": "FWMEJLlW9uS_"
   },
   "source": [
    "###(c) Sử dụng những giá trị cho 2 thành phần chính đầu tiên, plot dữ liệu lên không gian 2 chiều với $\\hat{y_1}$ là trục dọc và $\\hat{y_2}$ trục ngang. Bạn có thể phân biệt những nhóm thể hiện 2 mức socioeconomic  hoặc 2 giới tính? có điểm ngoại lai không ?"
   ]
  },
  {
   "cell_type": "code",
   "execution_count": 22,
   "metadata": {
    "colab": {
     "base_uri": "https://localhost:8080/",
     "height": 419
    },
    "id": "TBgNQzAp-HE_",
    "outputId": "e90767bf-df5e-4940-ac0f-ab9d3c805ec1"
   },
   "outputs": [
    {
     "data": {
      "text/html": [
       "<div>\n",
       "<style scoped>\n",
       "    .dataframe tbody tr th:only-of-type {\n",
       "        vertical-align: middle;\n",
       "    }\n",
       "\n",
       "    .dataframe tbody tr th {\n",
       "        vertical-align: top;\n",
       "    }\n",
       "\n",
       "    .dataframe thead th {\n",
       "        text-align: right;\n",
       "    }\n",
       "</style>\n",
       "<table border=\"1\" class=\"dataframe\">\n",
       "  <thead>\n",
       "    <tr style=\"text-align: right;\">\n",
       "      <th></th>\n",
       "      <th>0</th>\n",
       "      <th>1</th>\n",
       "      <th>2</th>\n",
       "      <th>3</th>\n",
       "      <th>4</th>\n",
       "    </tr>\n",
       "  </thead>\n",
       "  <tbody>\n",
       "    <tr>\n",
       "      <th>0</th>\n",
       "      <td>6.747074</td>\n",
       "      <td>4.858372</td>\n",
       "      <td>10.772477</td>\n",
       "      <td>2.0</td>\n",
       "      <td>1.0</td>\n",
       "    </tr>\n",
       "    <tr>\n",
       "      <th>1</th>\n",
       "      <td>-11.553456</td>\n",
       "      <td>4.248569</td>\n",
       "      <td>5.108165</td>\n",
       "      <td>2.0</td>\n",
       "      <td>1.0</td>\n",
       "    </tr>\n",
       "    <tr>\n",
       "      <th>2</th>\n",
       "      <td>-1.149649</td>\n",
       "      <td>-2.879194</td>\n",
       "      <td>2.076037</td>\n",
       "      <td>2.0</td>\n",
       "      <td>1.0</td>\n",
       "    </tr>\n",
       "    <tr>\n",
       "      <th>3</th>\n",
       "      <td>1.711755</td>\n",
       "      <td>-6.416196</td>\n",
       "      <td>3.332395</td>\n",
       "      <td>2.0</td>\n",
       "      <td>1.0</td>\n",
       "    </tr>\n",
       "    <tr>\n",
       "      <th>4</th>\n",
       "      <td>-10.645734</td>\n",
       "      <td>-2.872201</td>\n",
       "      <td>0.470059</td>\n",
       "      <td>2.0</td>\n",
       "      <td>1.0</td>\n",
       "    </tr>\n",
       "    <tr>\n",
       "      <th>...</th>\n",
       "      <td>...</td>\n",
       "      <td>...</td>\n",
       "      <td>...</td>\n",
       "      <td>...</td>\n",
       "      <td>...</td>\n",
       "    </tr>\n",
       "    <tr>\n",
       "      <th>125</th>\n",
       "      <td>-8.212294</td>\n",
       "      <td>2.591809</td>\n",
       "      <td>-1.962174</td>\n",
       "      <td>1.0</td>\n",
       "      <td>2.0</td>\n",
       "    </tr>\n",
       "    <tr>\n",
       "      <th>126</th>\n",
       "      <td>10.536376</td>\n",
       "      <td>10.241984</td>\n",
       "      <td>-12.262522</td>\n",
       "      <td>1.0</td>\n",
       "      <td>2.0</td>\n",
       "    </tr>\n",
       "    <tr>\n",
       "      <th>127</th>\n",
       "      <td>-0.777201</td>\n",
       "      <td>4.589811</td>\n",
       "      <td>2.767396</td>\n",
       "      <td>2.0</td>\n",
       "      <td>2.0</td>\n",
       "    </tr>\n",
       "    <tr>\n",
       "      <th>128</th>\n",
       "      <td>7.952780</td>\n",
       "      <td>-8.989886</td>\n",
       "      <td>4.714712</td>\n",
       "      <td>2.0</td>\n",
       "      <td>2.0</td>\n",
       "    </tr>\n",
       "    <tr>\n",
       "      <th>129</th>\n",
       "      <td>-9.590832</td>\n",
       "      <td>1.668390</td>\n",
       "      <td>1.010498</td>\n",
       "      <td>2.0</td>\n",
       "      <td>2.0</td>\n",
       "    </tr>\n",
       "  </tbody>\n",
       "</table>\n",
       "<p>130 rows × 5 columns</p>\n",
       "</div>"
      ],
      "text/plain": [
       "             0          1          2    3    4\n",
       "0     6.747074   4.858372  10.772477  2.0  1.0\n",
       "1   -11.553456   4.248569   5.108165  2.0  1.0\n",
       "2    -1.149649  -2.879194   2.076037  2.0  1.0\n",
       "3     1.711755  -6.416196   3.332395  2.0  1.0\n",
       "4   -10.645734  -2.872201   0.470059  2.0  1.0\n",
       "..         ...        ...        ...  ...  ...\n",
       "125  -8.212294   2.591809  -1.962174  1.0  2.0\n",
       "126  10.536376  10.241984 -12.262522  1.0  2.0\n",
       "127  -0.777201   4.589811   2.767396  2.0  2.0\n",
       "128   7.952780  -8.989886   4.714712  2.0  2.0\n",
       "129  -9.590832   1.668390   1.010498  2.0  2.0\n",
       "\n",
       "[130 rows x 5 columns]"
      ]
     },
     "execution_count": 22,
     "metadata": {
      "tags": []
     },
     "output_type": "execute_result"
    }
   ],
   "source": [
    "gender_socio= pd.DataFrame(np.loadtxt(path)).iloc[:,-2:].values\n",
    "df_new=pd.DataFrame(np.concatenate((X_pca,gender_socio),axis=1))\n",
    "df_new"
   ]
  },
  {
   "cell_type": "code",
   "execution_count": 23,
   "metadata": {
    "colab": {
     "base_uri": "https://localhost:8080/",
     "height": 319
    },
    "id": "TTzeBz4j7kOr",
    "outputId": "5279ed3b-57e0-4f18-e637-c6974d9e12a9"
   },
   "outputs": [
    {
     "data": {
      "text/plain": [
       "Text(0, 0.5, '$\\\\hat{y_1}$')"
      ]
     },
     "execution_count": 23,
     "metadata": {
      "tags": []
     },
     "output_type": "execute_result"
    },
    {
     "data": {
      "image/png": "[encoded data removed]",
      "text/plain": [
       "<Figure size 432x288 with 1 Axes>"
      ]
     },
     "metadata": {
      "needs_background": "light",
      "tags": []
     },
     "output_type": "display_data"
    }
   ],
   "source": [
    "fig, ax = plt.subplots()\n",
    "ax.scatter(df_new.iloc[:,1],df_new.iloc[:,0],c=df_new.iloc[:,3])\n",
    "ax.set_title('Scatter plot with gender')\n",
    "ax.set_xlabel('$\\hat{y_2}$')\n",
    "ax.set_ylabel('$\\hat{y_1}$')"
   ]
  },
  {
   "cell_type": "markdown",
   "metadata": {
    "id": "ogd0oWaq796e"
   },
   "source": [
    "Theo scatterplot trên thì ta không thể phân biệt được 2 nhóm theo giới tính. Cũng từ 2 scatterplot ta thấy có 1 điểm ngoại lai."
   ]
  },
  {
   "cell_type": "code",
   "execution_count": 24,
   "metadata": {
    "colab": {
     "base_uri": "https://localhost:8080/",
     "height": 319
    },
    "id": "e8lK2lyl8F4t",
    "outputId": "0aa92a39-93dd-4628-f769-646a82d8c28f"
   },
   "outputs": [
    {
     "data": {
      "text/plain": [
       "Text(0, 0.5, '$\\\\hat{y_1}$')"
      ]
     },
     "execution_count": 24,
     "metadata": {
      "tags": []
     },
     "output_type": "execute_result"
    },
    {
     "data": {
      "image/png": "[encoded data removed]",
      "text/plain": [
       "<Figure size 432x288 with 1 Axes>"
      ]
     },
     "metadata": {
      "needs_background": "light",
      "tags": []
     },
     "output_type": "display_data"
    }
   ],
   "source": [
    "fig, ax = plt.subplots()\n",
    "ax.scatter(df_new.iloc[:,1],df_new.iloc[:,0],c=df_new.iloc[:,4])\n",
    "ax.set_title('Scatter plot with socioeconomic levels')\n",
    "ax.set_xlabel('$\\hat{y_2}$')\n",
    "ax.set_ylabel('$\\hat{y_1}$')"
   ]
  },
  {
   "cell_type": "markdown",
   "metadata": {
    "id": "nW9y9ots8OnK"
   },
   "source": [
    "Tương tự như scatterplot trên thì ta cũng không phân biệt được 2 nhóm thể hiện 2 socioeconomic levels."
   ]
  },
  {
   "cell_type": "markdown",
   "metadata": {
    "id": "H0FBodOp-HdM"
   },
   "source": [
    "###(d) Xây dựng khoảng tin cậy $95\\%$ cho $\\lambda_1$, variance của thành phần chính đầu tiên của tổng thể từ ma trận hiệp phương sai. "
   ]
  },
  {
   "cell_type": "code",
   "execution_count": 25,
   "metadata": {
    "colab": {
     "base_uri": "https://localhost:8080/"
    },
    "id": "JDmO1itX8Zb9",
    "outputId": "9e030e7a-c2b6-4fd0-863d-11ecceef1095"
   },
   "outputs": [
    {
     "name": "stdout",
     "output_type": "stream",
     "text": [
      "95% confidence interval for $\\lambda_1$ is: [55.30704281337344, 90.83460546511367]\n"
     ]
    }
   ],
   "source": [
    "alpha=0.05\n",
    "n=df.shape[0]\n",
    "import scipy.stats\n",
    "z=scipy.stats.norm.ppf(1-alpha/2)\n",
    "lowerbound=eigenvals[0]/(1+z*np.sqrt(2/n))\n",
    "upperbound=eigenvals[0]/(1-z*np.sqrt(2/n))\n",
    "print('95% confidence interval for $\\lambda_1$ is: [{}, {}]'.format(lowerbound,upperbound))"
   ]
  },
  {
   "cell_type": "markdown",
   "metadata": {
    "id": "QN6sN6zt-ZN0"
   },
   "source": [
    "###8.29"
   ]
  },
  {
   "cell_type": "markdown",
   "metadata": {
    "id": "A2iFQk_u-a9V"
   },
   "source": [
    "###Theo bài 5.28, sử dụng ma trận hiệp phương sai $\\boldsymbol{S}$ cho 30 cases đầu tiên của dữ liệu dây chuyền thân xe hơi, đạt được thành phần chính mẫu."
   ]
  },
  {
   "cell_type": "markdown",
   "metadata": {
    "id": "ujkWFKkd-sdP"
   },
   "source": [
    "###(a) Xây dựng $95\\%$ ellipse format chart sử dụng 2 thành phần chính đầu tiên $\\hat{y_1}$ và $\\hat{y_2}$. Xác định vị trí xe mà ngoài tầm kiểm soát"
   ]
  },
  {
   "cell_type": "code",
   "execution_count": 26,
   "metadata": {
    "colab": {
     "base_uri": "https://localhost:8080/",
     "height": 204
    },
    "id": "dwxd7Abc--7j",
    "outputId": "f113fa64-2be5-41ab-c612-7264b90956df"
   },
   "outputs": [
    {
     "data": {
      "text/html": [
       "<div>\n",
       "<style scoped>\n",
       "    .dataframe tbody tr th:only-of-type {\n",
       "        vertical-align: middle;\n",
       "    }\n",
       "\n",
       "    .dataframe tbody tr th {\n",
       "        vertical-align: top;\n",
       "    }\n",
       "\n",
       "    .dataframe thead th {\n",
       "        text-align: right;\n",
       "    }\n",
       "</style>\n",
       "<table border=\"1\" class=\"dataframe\">\n",
       "  <thead>\n",
       "    <tr style=\"text-align: right;\">\n",
       "      <th></th>\n",
       "      <th>0</th>\n",
       "      <th>1</th>\n",
       "      <th>2</th>\n",
       "      <th>3</th>\n",
       "      <th>4</th>\n",
       "      <th>5</th>\n",
       "    </tr>\n",
       "  </thead>\n",
       "  <tbody>\n",
       "    <tr>\n",
       "      <th>0</th>\n",
       "      <td>-0.12</td>\n",
       "      <td>0.36</td>\n",
       "      <td>0.40</td>\n",
       "      <td>0.25</td>\n",
       "      <td>1.37</td>\n",
       "      <td>-0.13</td>\n",
       "    </tr>\n",
       "    <tr>\n",
       "      <th>1</th>\n",
       "      <td>-0.60</td>\n",
       "      <td>-0.35</td>\n",
       "      <td>0.04</td>\n",
       "      <td>-0.28</td>\n",
       "      <td>-0.25</td>\n",
       "      <td>-0.15</td>\n",
       "    </tr>\n",
       "    <tr>\n",
       "      <th>2</th>\n",
       "      <td>-0.13</td>\n",
       "      <td>0.05</td>\n",
       "      <td>0.84</td>\n",
       "      <td>0.61</td>\n",
       "      <td>1.45</td>\n",
       "      <td>0.25</td>\n",
       "    </tr>\n",
       "    <tr>\n",
       "      <th>3</th>\n",
       "      <td>-0.46</td>\n",
       "      <td>-0.37</td>\n",
       "      <td>0.30</td>\n",
       "      <td>0.00</td>\n",
       "      <td>-0.12</td>\n",
       "      <td>-0.25</td>\n",
       "    </tr>\n",
       "    <tr>\n",
       "      <th>4</th>\n",
       "      <td>-0.46</td>\n",
       "      <td>-0.24</td>\n",
       "      <td>0.37</td>\n",
       "      <td>0.13</td>\n",
       "      <td>0.78</td>\n",
       "      <td>-0.15</td>\n",
       "    </tr>\n",
       "  </tbody>\n",
       "</table>\n",
       "</div>"
      ],
      "text/plain": [
       "      0     1     2     3     4     5\n",
       "0 -0.12  0.36  0.40  0.25  1.37 -0.13\n",
       "1 -0.60 -0.35  0.04 -0.28 -0.25 -0.15\n",
       "2 -0.13  0.05  0.84  0.61  1.45  0.25\n",
       "3 -0.46 -0.37  0.30  0.00 -0.12 -0.25\n",
       "4 -0.46 -0.24  0.37  0.13  0.78 -0.15"
      ]
     },
     "execution_count": 26,
     "metadata": {
      "tags": []
     },
     "output_type": "execute_result"
    }
   ],
   "source": [
    "path='/content/T5-14.dat.txt'\n",
    "df=pd.DataFrame(np.loadtxt(path)).iloc[:30,:]\n",
    "df.head()"
   ]
  },
  {
   "cell_type": "code",
   "execution_count": 27,
   "metadata": {
    "colab": {
     "base_uri": "https://localhost:8080/"
    },
    "id": "zbQKmvds_4B6",
    "outputId": "0a94bf7d-f531-4635-de05-cc07d5eb6f18"
   },
   "outputs": [
    {
     "data": {
      "text/plain": [
       "array([[ 0.06260333,  0.06158517,  0.04738345,  0.00828218,  0.01973862,\n",
       "         0.00313966],\n",
       "       [ 0.06158517,  0.09244931,  0.02677172, -0.0008431 ,  0.02276483,\n",
       "         0.01549138],\n",
       "       [ 0.04738345,  0.02677172,  0.14461655,  0.00784483,  0.02109931,\n",
       "        -0.0049069 ],\n",
       "       [ 0.00828218, -0.0008431 ,  0.00784483,  0.10864885,  0.02207241,\n",
       "         0.0065569 ],\n",
       "       [ 0.01973862,  0.02276483,  0.02109931,  0.02207241,  0.34284414,\n",
       "         0.01458276],\n",
       "       [ 0.00313966,  0.01549138, -0.0049069 ,  0.0065569 ,  0.01458276,\n",
       "         0.03660517]])"
      ]
     },
     "execution_count": 27,
     "metadata": {
      "tags": []
     },
     "output_type": "execute_result"
    }
   ],
   "source": [
    "S=np.cov(df.T)\n",
    "S"
   ]
  },
  {
   "cell_type": "code",
   "execution_count": 28,
   "metadata": {
    "colab": {
     "base_uri": "https://localhost:8080/"
    },
    "id": "mGEbhPVPApqr",
    "outputId": "307973a3-7f35-4e7c-bbbe-1fba2083766e"
   },
   "outputs": [
    {
     "name": "stdout",
     "output_type": "stream",
     "text": [
      ">> Eigenanalysis of the Covariance Matrix\n",
      "                 PC1       PC2       PC3       PC4       PC5       PC6\n",
      "Eigenvalue  0.354425  0.186390  0.107609  0.097228  0.033281  0.008834\n",
      "Proportion  0.449911  0.236605  0.136599  0.123423  0.042247  0.011214\n",
      "Cumulative  0.449911  0.686517  0.823116  0.946539  0.988786  1.000000\n",
      "\n",
      "         PC1       PC2       PC3       PC4       PC5       PC6\n",
      "0 -0.119335  0.469137 -0.075228 -0.290603 -0.267229  0.777270\n",
      "1 -0.129524  0.457613 -0.250791 -0.623742 -0.036607 -0.566148\n",
      "2 -0.143195  0.716994  0.116124  0.632305  0.174630 -0.147059\n",
      "3 -0.096435  0.052868  0.955512 -0.256803 -0.061939 -0.071544\n",
      "4 -0.967733 -0.231181 -0.069973  0.064055 -0.032243 -0.002952\n",
      "5 -0.051674  0.013481  0.007798 -0.237984  0.944393  0.220394\n"
     ]
    }
   ],
   "source": [
    "eigenvals, eigenvecs, proportions = PCA_(S, correlation=False, column_names=df.columns, return_=True)"
   ]
  },
  {
   "cell_type": "markdown",
   "metadata": {
    "id": "gLrpASpVA22A"
   },
   "source": [
    "2 thành phần chính đầu tiên giải thích $68\\%$ tổng variance. Số lượng thành phần chính phù hợp để thực hiện phân tích sẽ là 4, giải thích $94.6\\%$ tổng variance."
   ]
  },
  {
   "cell_type": "code",
   "execution_count": 29,
   "metadata": {
    "colab": {
     "base_uri": "https://localhost:8080/",
     "height": 282
    },
    "id": "0UhxPiTHA-_q",
    "outputId": "f262846b-26aa-47a2-e734-1e4a4d082670"
   },
   "outputs": [
    {
     "data": {
      "text/plain": [
       "<matplotlib.patches.Ellipse at 0x7f324b579310>"
      ]
     },
     "execution_count": 29,
     "metadata": {
      "tags": []
     },
     "output_type": "execute_result"
    },
    {
     "data": {
      "image/png": "[encoded data removed]",
      "text/plain": [
       "<Figure size 432x288 with 1 Axes>"
      ]
     },
     "metadata": {
      "needs_background": "light",
      "tags": []
     },
     "output_type": "display_data"
    }
   ],
   "source": [
    "pca = PCA(n_components=4).fit(df)\n",
    "X_pca=pca.transform(df)\n",
    "fig, ax = plt.subplots()\n",
    "centre=(0,0)\n",
    "#the upper 95% percentile of chi square with degree of freedom of 2 is 5.99\n",
    "e = Ellipse(centre,width=2*np.sqrt(5.99*eigenvals[0]),height=2*np.sqrt(5.99*eigenvals[1]), edgecolor='blue', facecolor='None')\n",
    "ax.scatter(x=X_pca[:,0],y=X_pca[:,1], c='red', s=25)\n",
    "ax.add_patch(e)"
   ]
  },
  {
   "cell_type": "markdown",
   "metadata": {
    "id": "XydHzUh6G1zH"
   },
   "source": [
    "Theo $95\\%$ ellipse format chart ta có 2 điểm nằm ngoài hình ellipse. 2 điểm này chính là các quan trắc ngoài tầm kiểm soát."
   ]
  },
  {
   "cell_type": "code",
   "execution_count": 30,
   "metadata": {
    "colab": {
     "base_uri": "https://localhost:8080/"
    },
    "id": "Kd4_66anHLnd",
    "outputId": "4e9f2472-b172-4121-d747-92a97024d303"
   },
   "outputs": [
    {
     "name": "stdout",
     "output_type": "stream",
     "text": [
      "2\n",
      "10\n"
     ]
    }
   ],
   "source": [
    "print(np.argmin(X_pca[:,1]))\n",
    "print(np.argmax(X_pca[:,1]))"
   ]
  },
  {
   "cell_type": "markdown",
   "metadata": {
    "id": "RuUE0qozHgSy"
   },
   "source": [
    "Theo đó, quan trắc thứ 3 và quan trắc thứ 11 nằm ngoài tầm kiểm soát."
   ]
  },
  {
   "cell_type": "markdown",
   "metadata": {
    "id": "OiiyWwJt--RG"
   },
   "source": [
    "###(b) Xây dụng một chart kiểm soát thay thế, dựa trên tổng bình phương $d_{ij}^2$ để kiểm xoát sự thay đổi trong các quan trắc ban đầu được tóm tắt bởi 4 thành phần chính còn lại. Diễn giải chart này."
   ]
  },
  {
   "cell_type": "code",
   "execution_count": 31,
   "metadata": {
    "colab": {
     "base_uri": "https://localhost:8080/"
    },
    "id": "o6PSuHSLHpLg",
    "outputId": "8854dacd-78b4-4dc2-90c6-24871be12336"
   },
   "outputs": [
    {
     "data": {
      "text/plain": [
       "(30, 6)"
      ]
     },
     "execution_count": 31,
     "metadata": {
      "tags": []
     },
     "output_type": "execute_result"
    }
   ],
   "source": [
    "pca = PCA(n_components=6).fit(df)\n",
    "X_pca=pca.transform(df)\n",
    "X_pca.shape"
   ]
  },
  {
   "cell_type": "code",
   "execution_count": 32,
   "metadata": {
    "colab": {
     "base_uri": "https://localhost:8080/"
    },
    "id": "8nZutcQINGH4",
    "outputId": "fd1592de-24e2-4239-cd76-707c2c340c85"
   },
   "outputs": [
    {
     "data": {
      "text/plain": [
       "(30,)"
      ]
     },
     "execution_count": 32,
     "metadata": {
      "tags": []
     },
     "output_type": "execute_result"
    }
   ],
   "source": [
    "X_pca=X_pca-X_pca.mean(axis=0)\n",
    "X_pca[:,2:]=X_pca[:,2:]**2\n",
    "X=X_pca[:,2:].copy()\n",
    "d_j=X.sum(axis=1)\n",
    "d_j.shape"
   ]
  },
  {
   "cell_type": "code",
   "execution_count": 33,
   "metadata": {
    "colab": {
     "base_uri": "https://localhost:8080/"
    },
    "id": "A-3RHOxvRSbG",
    "outputId": "018a4351-4bc6-40eb-abad-2c377834a11d"
   },
   "outputs": [
    {
     "name": "stdout",
     "output_type": "stream",
     "text": [
      "0.23872032851457173\n",
      "0.19328552011680236\n"
     ]
    }
   ],
   "source": [
    "d_u=d_j.mean()\n",
    "s_u=d_j.std(ddof=1)\n",
    "print(d_u)\n",
    "print(s_u)"
   ]
  },
  {
   "cell_type": "code",
   "execution_count": 34,
   "metadata": {
    "colab": {
     "base_uri": "https://localhost:8080/"
    },
    "id": "_TvD0UAXVfNA",
    "outputId": "9ba4c712-58d2-45c2-c942-e49791a13f88"
   },
   "outputs": [
    {
     "name": "stdout",
     "output_type": "stream",
     "text": [
      "0.4048367420561002\n",
      "0.5896706096935517\n"
     ]
    }
   ],
   "source": [
    "c=s_u/(2*d_u)\n",
    "v=2*(d_u**2)/s_u\n",
    "print(c)\n",
    "print(v)\n",
    "#Từ đây, ta chọn bậc tự do v = 1"
   ]
  },
  {
   "cell_type": "code",
   "execution_count": 35,
   "metadata": {
    "colab": {
     "base_uri": "https://localhost:8080/"
    },
    "id": "FHKFdsAUZ22V",
    "outputId": "73484f27-f98f-40bf-c35b-937c95826d0e"
   },
   "outputs": [
    {
     "data": {
      "text/plain": [
       "1.5551636737124779"
      ]
     },
     "execution_count": 35,
     "metadata": {
      "tags": []
     },
     "output_type": "execute_result"
    }
   ],
   "source": [
    "from scipy.stats import chi2\n",
    "#Tính giới hạn kiểm soát trên\n",
    "upper_control_limit=c*chi2.ppf(0.95,1)\n",
    "upper_control_limit"
   ]
  },
  {
   "cell_type": "code",
   "execution_count": 36,
   "metadata": {
    "colab": {
     "base_uri": "https://localhost:8080/",
     "height": 979
    },
    "id": "eE54iDL7c4-h",
    "outputId": "898710a7-ef17-4ed1-89a9-3cb804447524"
   },
   "outputs": [
    {
     "data": {
      "text/html": [
       "<div>\n",
       "<style scoped>\n",
       "    .dataframe tbody tr th:only-of-type {\n",
       "        vertical-align: middle;\n",
       "    }\n",
       "\n",
       "    .dataframe tbody tr th {\n",
       "        vertical-align: top;\n",
       "    }\n",
       "\n",
       "    .dataframe thead th {\n",
       "        text-align: right;\n",
       "    }\n",
       "</style>\n",
       "<table border=\"1\" class=\"dataframe\">\n",
       "  <thead>\n",
       "    <tr style=\"text-align: right;\">\n",
       "      <th></th>\n",
       "      <th>0</th>\n",
       "      <th>1</th>\n",
       "      <th>2</th>\n",
       "      <th>3</th>\n",
       "      <th>4</th>\n",
       "      <th>5</th>\n",
       "      <th>T^2</th>\n",
       "    </tr>\n",
       "  </thead>\n",
       "  <tbody>\n",
       "    <tr>\n",
       "      <th>0</th>\n",
       "      <td>-0.859820</td>\n",
       "      <td>-0.630622</td>\n",
       "      <td>0.010815</td>\n",
       "      <td>0.035203</td>\n",
       "      <td>0.020683</td>\n",
       "      <td>0.015656</td>\n",
       "      <td>0.054431</td>\n",
       "    </tr>\n",
       "    <tr>\n",
       "      <th>1</th>\n",
       "      <td>0.960845</td>\n",
       "      <td>-0.168637</td>\n",
       "      <td>0.013656</td>\n",
       "      <td>0.041692</td>\n",
       "      <td>0.000189</td>\n",
       "      <td>0.000025</td>\n",
       "      <td>0.019612</td>\n",
       "    </tr>\n",
       "    <tr>\n",
       "      <th>2</th>\n",
       "      <td>-1.013251</td>\n",
       "      <td>-0.805209</td>\n",
       "      <td>0.330551</td>\n",
       "      <td>0.011902</td>\n",
       "      <td>0.078980</td>\n",
       "      <td>0.001272</td>\n",
       "      <td>1.204456</td>\n",
       "    </tr>\n",
       "    <tr>\n",
       "      <th>3</th>\n",
       "      <td>0.761859</td>\n",
       "      <td>-0.394983</td>\n",
       "      <td>0.027385</td>\n",
       "      <td>0.090359</td>\n",
       "      <td>0.008742</td>\n",
       "      <td>0.001186</td>\n",
       "      <td>0.093399</td>\n",
       "    </tr>\n",
       "    <tr>\n",
       "      <th>4</th>\n",
       "      <td>-0.153667</td>\n",
       "      <td>-0.304821</td>\n",
       "      <td>0.041221</td>\n",
       "      <td>0.069822</td>\n",
       "      <td>0.000822</td>\n",
       "      <td>0.001550</td>\n",
       "      <td>0.066224</td>\n",
       "    </tr>\n",
       "    <tr>\n",
       "      <th>5</th>\n",
       "      <td>-0.474689</td>\n",
       "      <td>-0.038805</td>\n",
       "      <td>0.008712</td>\n",
       "      <td>0.003993</td>\n",
       "      <td>0.014978</td>\n",
       "      <td>0.002126</td>\n",
       "      <td>0.008122</td>\n",
       "    </tr>\n",
       "    <tr>\n",
       "      <th>6</th>\n",
       "      <td>0.397112</td>\n",
       "      <td>-0.246467</td>\n",
       "      <td>0.011247</td>\n",
       "      <td>0.014238</td>\n",
       "      <td>0.008877</td>\n",
       "      <td>0.000032</td>\n",
       "      <td>0.005628</td>\n",
       "    </tr>\n",
       "    <tr>\n",
       "      <th>7</th>\n",
       "      <td>0.729204</td>\n",
       "      <td>-0.532365</td>\n",
       "      <td>0.007738</td>\n",
       "      <td>0.087014</td>\n",
       "      <td>0.035984</td>\n",
       "      <td>0.011625</td>\n",
       "      <td>0.132632</td>\n",
       "    </tr>\n",
       "    <tr>\n",
       "      <th>8</th>\n",
       "      <td>0.000351</td>\n",
       "      <td>-0.042499</td>\n",
       "      <td>0.045147</td>\n",
       "      <td>0.087065</td>\n",
       "      <td>0.012122</td>\n",
       "      <td>0.030658</td>\n",
       "      <td>0.207719</td>\n",
       "    </tr>\n",
       "    <tr>\n",
       "      <th>9</th>\n",
       "      <td>-0.540518</td>\n",
       "      <td>-0.268432</td>\n",
       "      <td>0.061688</td>\n",
       "      <td>0.037498</td>\n",
       "      <td>0.014227</td>\n",
       "      <td>0.004603</td>\n",
       "      <td>0.058305</td>\n",
       "    </tr>\n",
       "    <tr>\n",
       "      <th>10</th>\n",
       "      <td>0.717281</td>\n",
       "      <td>0.972522</td>\n",
       "      <td>0.050727</td>\n",
       "      <td>0.000214</td>\n",
       "      <td>0.013817</td>\n",
       "      <td>0.000715</td>\n",
       "      <td>0.029707</td>\n",
       "    </tr>\n",
       "    <tr>\n",
       "      <th>11</th>\n",
       "      <td>0.688134</td>\n",
       "      <td>-0.434870</td>\n",
       "      <td>0.169008</td>\n",
       "      <td>0.243840</td>\n",
       "      <td>0.063176</td>\n",
       "      <td>0.000160</td>\n",
       "      <td>0.996896</td>\n",
       "    </tr>\n",
       "    <tr>\n",
       "      <th>12</th>\n",
       "      <td>-0.038897</td>\n",
       "      <td>-0.136023</td>\n",
       "      <td>0.023637</td>\n",
       "      <td>0.283766</td>\n",
       "      <td>0.079443</td>\n",
       "      <td>0.005951</td>\n",
       "      <td>1.027017</td>\n",
       "    </tr>\n",
       "    <tr>\n",
       "      <th>13</th>\n",
       "      <td>-0.607920</td>\n",
       "      <td>-0.316734</td>\n",
       "      <td>0.304311</td>\n",
       "      <td>0.000069</td>\n",
       "      <td>0.002960</td>\n",
       "      <td>0.024091</td>\n",
       "      <td>0.926537</td>\n",
       "    </tr>\n",
       "    <tr>\n",
       "      <th>14</th>\n",
       "      <td>0.518295</td>\n",
       "      <td>0.075505</td>\n",
       "      <td>0.651533</td>\n",
       "      <td>0.038785</td>\n",
       "      <td>0.024457</td>\n",
       "      <td>0.003306</td>\n",
       "      <td>3.979490</td>\n",
       "    </tr>\n",
       "    <tr>\n",
       "      <th>15</th>\n",
       "      <td>1.230280</td>\n",
       "      <td>-0.074895</td>\n",
       "      <td>0.005317</td>\n",
       "      <td>0.000195</td>\n",
       "      <td>0.013931</td>\n",
       "      <td>0.001031</td>\n",
       "      <td>0.006215</td>\n",
       "    </tr>\n",
       "    <tr>\n",
       "      <th>16</th>\n",
       "      <td>-0.834386</td>\n",
       "      <td>0.507738</td>\n",
       "      <td>0.037848</td>\n",
       "      <td>0.058862</td>\n",
       "      <td>0.005763</td>\n",
       "      <td>0.023394</td>\n",
       "      <td>0.111895</td>\n",
       "    </tr>\n",
       "    <tr>\n",
       "      <th>17</th>\n",
       "      <td>-0.175838</td>\n",
       "      <td>0.404255</td>\n",
       "      <td>0.003803</td>\n",
       "      <td>0.567386</td>\n",
       "      <td>0.030298</td>\n",
       "      <td>0.000370</td>\n",
       "      <td>3.338770</td>\n",
       "    </tr>\n",
       "    <tr>\n",
       "      <th>18</th>\n",
       "      <td>0.595698</td>\n",
       "      <td>0.658788</td>\n",
       "      <td>0.009934</td>\n",
       "      <td>0.108840</td>\n",
       "      <td>0.092380</td>\n",
       "      <td>0.002106</td>\n",
       "      <td>0.379685</td>\n",
       "    </tr>\n",
       "    <tr>\n",
       "      <th>19</th>\n",
       "      <td>0.444705</td>\n",
       "      <td>-0.599679</td>\n",
       "      <td>0.352542</td>\n",
       "      <td>0.021148</td>\n",
       "      <td>0.135952</td>\n",
       "      <td>0.048019</td>\n",
       "      <td>1.975953</td>\n",
       "    </tr>\n",
       "    <tr>\n",
       "      <th>20</th>\n",
       "      <td>0.149115</td>\n",
       "      <td>0.191286</td>\n",
       "      <td>0.095591</td>\n",
       "      <td>0.185306</td>\n",
       "      <td>0.017353</td>\n",
       "      <td>0.017416</td>\n",
       "      <td>0.481470</td>\n",
       "    </tr>\n",
       "    <tr>\n",
       "      <th>21</th>\n",
       "      <td>-0.100085</td>\n",
       "      <td>0.469488</td>\n",
       "      <td>0.242744</td>\n",
       "      <td>0.039056</td>\n",
       "      <td>0.000002</td>\n",
       "      <td>0.026039</td>\n",
       "      <td>0.640027</td>\n",
       "    </tr>\n",
       "    <tr>\n",
       "      <th>22</th>\n",
       "      <td>-0.290515</td>\n",
       "      <td>0.517791</td>\n",
       "      <td>0.058843</td>\n",
       "      <td>0.061635</td>\n",
       "      <td>0.000017</td>\n",
       "      <td>0.000283</td>\n",
       "      <td>0.071258</td>\n",
       "    </tr>\n",
       "    <tr>\n",
       "      <th>23</th>\n",
       "      <td>-0.029966</td>\n",
       "      <td>0.064173</td>\n",
       "      <td>0.002892</td>\n",
       "      <td>0.002473</td>\n",
       "      <td>0.002126</td>\n",
       "      <td>0.008331</td>\n",
       "      <td>0.008133</td>\n",
       "    </tr>\n",
       "    <tr>\n",
       "      <th>24</th>\n",
       "      <td>-0.407780</td>\n",
       "      <td>0.480936</td>\n",
       "      <td>0.119779</td>\n",
       "      <td>0.021103</td>\n",
       "      <td>0.089906</td>\n",
       "      <td>0.000280</td>\n",
       "      <td>0.380788</td>\n",
       "    </tr>\n",
       "    <tr>\n",
       "      <th>25</th>\n",
       "      <td>-0.858780</td>\n",
       "      <td>0.547880</td>\n",
       "      <td>0.017534</td>\n",
       "      <td>0.008204</td>\n",
       "      <td>0.081537</td>\n",
       "      <td>0.000001</td>\n",
       "      <td>0.203310</td>\n",
       "    </tr>\n",
       "    <tr>\n",
       "      <th>26</th>\n",
       "      <td>-0.316121</td>\n",
       "      <td>0.007119</td>\n",
       "      <td>0.082590</td>\n",
       "      <td>0.323640</td>\n",
       "      <td>0.102932</td>\n",
       "      <td>0.020294</td>\n",
       "      <td>1.505639</td>\n",
       "    </tr>\n",
       "    <tr>\n",
       "      <th>27</th>\n",
       "      <td>-0.020893</td>\n",
       "      <td>0.313623</td>\n",
       "      <td>0.073825</td>\n",
       "      <td>0.083116</td>\n",
       "      <td>0.009787</td>\n",
       "      <td>0.000328</td>\n",
       "      <td>0.124589</td>\n",
       "    </tr>\n",
       "    <tr>\n",
       "      <th>28</th>\n",
       "      <td>0.015202</td>\n",
       "      <td>-0.104219</td>\n",
       "      <td>0.126795</td>\n",
       "      <td>0.256772</td>\n",
       "      <td>0.002760</td>\n",
       "      <td>0.000191</td>\n",
       "      <td>0.827751</td>\n",
       "    </tr>\n",
       "    <tr>\n",
       "      <th>29</th>\n",
       "      <td>-0.484955</td>\n",
       "      <td>-0.111844</td>\n",
       "      <td>0.133235</td>\n",
       "      <td>0.036429</td>\n",
       "      <td>0.000950</td>\n",
       "      <td>0.005147</td>\n",
       "      <td>0.181639</td>\n",
       "    </tr>\n",
       "  </tbody>\n",
       "</table>\n",
       "</div>"
      ],
      "text/plain": [
       "           0         1         2         3         4         5       T^2\n",
       "0  -0.859820 -0.630622  0.010815  0.035203  0.020683  0.015656  0.054431\n",
       "1   0.960845 -0.168637  0.013656  0.041692  0.000189  0.000025  0.019612\n",
       "2  -1.013251 -0.805209  0.330551  0.011902  0.078980  0.001272  1.204456\n",
       "3   0.761859 -0.394983  0.027385  0.090359  0.008742  0.001186  0.093399\n",
       "4  -0.153667 -0.304821  0.041221  0.069822  0.000822  0.001550  0.066224\n",
       "5  -0.474689 -0.038805  0.008712  0.003993  0.014978  0.002126  0.008122\n",
       "6   0.397112 -0.246467  0.011247  0.014238  0.008877  0.000032  0.005628\n",
       "7   0.729204 -0.532365  0.007738  0.087014  0.035984  0.011625  0.132632\n",
       "8   0.000351 -0.042499  0.045147  0.087065  0.012122  0.030658  0.207719\n",
       "9  -0.540518 -0.268432  0.061688  0.037498  0.014227  0.004603  0.058305\n",
       "10  0.717281  0.972522  0.050727  0.000214  0.013817  0.000715  0.029707\n",
       "11  0.688134 -0.434870  0.169008  0.243840  0.063176  0.000160  0.996896\n",
       "12 -0.038897 -0.136023  0.023637  0.283766  0.079443  0.005951  1.027017\n",
       "13 -0.607920 -0.316734  0.304311  0.000069  0.002960  0.024091  0.926537\n",
       "14  0.518295  0.075505  0.651533  0.038785  0.024457  0.003306  3.979490\n",
       "15  1.230280 -0.074895  0.005317  0.000195  0.013931  0.001031  0.006215\n",
       "16 -0.834386  0.507738  0.037848  0.058862  0.005763  0.023394  0.111895\n",
       "17 -0.175838  0.404255  0.003803  0.567386  0.030298  0.000370  3.338770\n",
       "18  0.595698  0.658788  0.009934  0.108840  0.092380  0.002106  0.379685\n",
       "19  0.444705 -0.599679  0.352542  0.021148  0.135952  0.048019  1.975953\n",
       "20  0.149115  0.191286  0.095591  0.185306  0.017353  0.017416  0.481470\n",
       "21 -0.100085  0.469488  0.242744  0.039056  0.000002  0.026039  0.640027\n",
       "22 -0.290515  0.517791  0.058843  0.061635  0.000017  0.000283  0.071258\n",
       "23 -0.029966  0.064173  0.002892  0.002473  0.002126  0.008331  0.008133\n",
       "24 -0.407780  0.480936  0.119779  0.021103  0.089906  0.000280  0.380788\n",
       "25 -0.858780  0.547880  0.017534  0.008204  0.081537  0.000001  0.203310\n",
       "26 -0.316121  0.007119  0.082590  0.323640  0.102932  0.020294  1.505639\n",
       "27 -0.020893  0.313623  0.073825  0.083116  0.009787  0.000328  0.124589\n",
       "28  0.015202 -0.104219  0.126795  0.256772  0.002760  0.000191  0.827751\n",
       "29 -0.484955 -0.111844  0.133235  0.036429  0.000950  0.005147  0.181639"
      ]
     },
     "execution_count": 36,
     "metadata": {
      "tags": []
     },
     "output_type": "execute_result"
    }
   ],
   "source": [
    "#Tính T^2\n",
    "X_new=pd.DataFrame(X_pca)\n",
    "X_new['T^2']=X_new[2]**2/eigenvals[2]+X_new[3]**2/eigenvals[3]+X_new[4]**2/eigenvals[4]+X_new[5]**2/eigenvals[5]\n",
    "X_new"
   ]
  },
  {
   "cell_type": "code",
   "execution_count": 37,
   "metadata": {
    "colab": {
     "base_uri": "https://localhost:8080/",
     "height": 282
    },
    "id": "M67SCx0TeBmW",
    "outputId": "78d771ee-27dd-4264-9224-b30eb9c6461e"
   },
   "outputs": [
    {
     "data": {
      "text/plain": [
       "<matplotlib.lines.Line2D at 0x7f324a1cdbd0>"
      ]
     },
     "execution_count": 37,
     "metadata": {
      "tags": []
     },
     "output_type": "execute_result"
    },
    {
     "data": {
      "image/png": "[encoded data removed]",
      "text/plain": [
       "<Figure size 432x288 with 1 Axes>"
      ]
     },
     "metadata": {
      "needs_background": "light",
      "tags": []
     },
     "output_type": "display_data"
    }
   ],
   "source": [
    "fig, ax = plt.subplots()\n",
    "ax.plot(X_new['T^2'])\n",
    "ax.axhline(upper_control_limit,c='red')\n",
    "ax.axhline(0,c='red')"
   ]
  },
  {
   "cell_type": "markdown",
   "metadata": {
    "id": "tub3RPUVfLqZ"
   },
   "source": [
    "Từ đây ta thấy có 3 quan trắc ngoài tầm kiểm soát là quan trắc thứ 14, 17, 19."
   ]
  }
 ],
 "metadata": {
  "colab": {
   "collapsed_sections": [
    "74keAXcnRq54",
    "AoGPtAboqZIj",
    "L5dWy-27w-LO",
    "o6ebNolT9Wx4",
    "htxsPEu19ivG",
    "FWMEJLlW9uS_",
    "H0FBodOp-HdM",
    "ujkWFKkd-sdP",
    "OiiyWwJt--RG"
   ],
   "name": "TKNC_Nhóm-6_Tuần-8_BT-Thực-hành-8.22-8.26-8.29.ipynb",
   "provenance": []
  },
  "kernelspec": {
   "display_name": "Python 3",
   "language": "python",
   "name": "python3"
  },
  "language_info": {
   "codemirror_mode": {
    "name": "ipython",
    "version": 3
   },
   "file_extension": ".py",
   "mimetype": "text/x-python",
   "name": "python",
   "nbconvert_exporter": "python",
   "pygments_lexer": "ipython3",
   "version": "3.7.10"
  }
 },
 "nbformat": 4,
 "nbformat_minor": 1
}
