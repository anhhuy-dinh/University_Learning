{
 "cells": [
  {
   "cell_type": "code",
   "execution_count": 1,
   "id": "63bab1a7",
   "metadata": {},
   "outputs": [],
   "source": [
    "import numpy as np\n",
    "import pandas as pd\n",
    "import scipy.stats as stats\n",
    "from matplotlib import pyplot as plt\n",
    "import pandas as pd\n",
    "import statsmodels.formula.api as smf\n",
    "import statsmodels.api as sm\n",
    "import warnings\n",
    "warnings.filterwarnings(\"ignore\")"
   ]
  },
  {
   "cell_type": "code",
   "execution_count": 2,
   "id": "d3496023",
   "metadata": {},
   "outputs": [],
   "source": [
    "def fit_linear_reg(X,Y):\n",
    "    from sklearn import linear_model\n",
    "    from sklearn.metrics import mean_squared_error\n",
    "    #Fit linear regression model and return RSS and R squared values\n",
    "    model_k = linear_model.LinearRegression(fit_intercept = True)\n",
    "    model_k.fit(X,Y)\n",
    "    RSS = mean_squared_error(Y,model_k.predict(X)) * len(Y)\n",
    "    R_squared = model_k.score(X,Y)\n",
    "    return RSS, R_squared\n",
    "\n",
    "def forward_stepwise(X, Y):\n",
    "    import itertools\n",
    "    #Initialization variables\n",
    "    k = X.shape[1]\n",
    "\n",
    "    remaining_features = list(X.columns.values)\n",
    "    features = []\n",
    "    RSS_list, R_squared_list = [np.inf], [np.inf] #Due to 1 indexing of the loop...\n",
    "    features_list = dict()\n",
    "\n",
    "    for i in range(1,k+1):\n",
    "        best_RSS = np.inf\n",
    "\n",
    "        for combo in itertools.combinations(remaining_features,1):\n",
    "\n",
    "                RSS = fit_linear_reg(X[list(combo) + features],Y)   #Store temp result \n",
    "\n",
    "                if RSS[0] < best_RSS:\n",
    "                    best_RSS = RSS[0]\n",
    "                    best_R_squared = RSS[1] \n",
    "                    best_feature = combo[0]\n",
    "\n",
    "        #Updating variables for next loop\n",
    "        features.append(best_feature)\n",
    "        remaining_features.remove(best_feature)\n",
    "\n",
    "        #Saving values for plotting\n",
    "        RSS_list.append(best_RSS)\n",
    "        R_squared_list.append(best_R_squared)\n",
    "        features_list[i] = features.copy()\n",
    "    \n",
    "    table = np.array([[i, features_list[i], RSS_list[i], RSS_list[i-1]-RSS_list[i]] for i in range(1,k+1)])\n",
    "    subsets = pd.DataFrame({'no_features': table[:,0], 'features': table[:,1], 'RSS': table[:,2], 'distance': table[:,3]})\n",
    "    print('Forward stepwise subset selection')\n",
    "#     print('Number of features |', 'Features |', 'RSS')\n",
    "    print(subsets)"
   ]
  },
  {
   "cell_type": "code",
   "execution_count": 3,
   "id": "87603605",
   "metadata": {},
   "outputs": [],
   "source": [
    "from matplotlib.patches import Ellipse, Rectangle\n",
    "\n",
    "def get_cov_ellipse(cov, centre, nstd, eig = False, **kwargs):\n",
    "    \"\"\"\n",
    "    Return a matplotlib Ellipse patch representing the covariance matrix\n",
    "    cov centred at centre and scaled by the factor nstd.\n",
    "\n",
    "    \"\"\"\n",
    "\n",
    "    # Find and sort eigenvalues and eigenvectors into descending order\n",
    "    eigvals, eigvecs = np.linalg.eigh(cov)\n",
    "    order = eigvals.argsort()[::-1]\n",
    "    eigvals, eigvecs = eigvals[order], eigvecs[:, order]\n",
    "    # The anti-clockwise angle to rotate our ellipse by \n",
    "    vx, vy = eigvecs[:,0][0], eigvecs[:,0][1]\n",
    "    theta = np.arctan2(vy, vx)\n",
    "\n",
    "    # Width and height of ellipse to draw\n",
    "    width, height = 2 * nstd * np.sqrt(eigvals)\n",
    "    if eig:\n",
    "        return Ellipse(xy=centre, width=width, height=height,\n",
    "                   angle=np.degrees(theta), **kwargs), eigvals, eigvecs\n",
    "    else: \n",
    "        return Ellipse(xy=centre, width=width, height=height,\n",
    "                   angle=np.degrees(theta), **kwargs)\n",
    "    \n",
    "def simultaneous_ci_2d(IC_1, IC_2, **kwargs):\n",
    "    height = IC_2[1]-IC_2[0]\n",
    "    width = IC_1[1]-IC_1[0]\n",
    "    point = [IC_1[0],IC_2[0]]\n",
    "    return Rectangle(point, width, height, **kwargs)"
   ]
  },
  {
   "cell_type": "markdown",
   "id": "01ad595d",
   "metadata": {},
   "source": [
    "### 7.20\n",
    "**Sử dụng dữ liệu battery-failure ở bảng 7.5, hồi quy $\\ln{(Y)}$ trên thành phần chính thứ nhất của các biến dự đoán $z_1,z_2,...,z_5$ (Xem Section 8.3). So sánh kết quả với mô hình được fit thu được ở bài tập 7.19(a).**"
   ]
  },
  {
   "cell_type": "code",
   "execution_count": 4,
   "id": "fdc5c54d",
   "metadata": {},
   "outputs": [
    {
     "name": "stdout",
     "output_type": "stream",
     "text": [
      ">> Data: \n",
      "        Z1    Z2     Z3  Z4    Z5    Y\n",
      "0   0.375  3.13   60.0  40  2.00  101\n",
      "1   1.000  3.13   76.8  30  1.99  141\n",
      "2   1.000  3.13   60.0  20  2.00   96\n",
      "3   1.000  3.13   60.0  20  1.98  125\n",
      "4   1.625  3.13   43.2  10  2.01   43\n",
      "5   1.625  3.13   60.0  20  2.00   16\n",
      "6   1.625  3.13   60.0  20  2.02  188\n",
      "7   0.375  5.00   76.8  10  2.01   10\n",
      "8   1.000  5.00   43.2  10  1.99    3\n",
      "9   1.000  5.00   43.2  30  2.01  386\n",
      "10  1.000  5.00  100.0  20  2.00   45\n",
      "11  1.625  5.00   76.8  10  1.99    2\n",
      "12  0.375  1.25   76.8  10  2.01   76\n",
      "13  1.000  1.25   43.2  10  1.99   78\n",
      "14  1.000  1.25   76.8  30  2.00  160\n",
      "15  1.000  1.25   60.0   0  2.00    3\n",
      "16  1.625  1.25   43.2  30  1.99  216\n",
      "17  1.625  1.25   60.0  20  2.00   73\n",
      "18  0.375  3.13   76.8  30  1.99  314\n",
      "19  0.375  3.13   60.0  20  2.00  170\n"
     ]
    }
   ],
   "source": [
    "path_20 = 'T7-5.txt'\n",
    "data_20 = pd.read_table(path_20, delim_whitespace=True, header=None)\n",
    "data_20.columns = ['Z1', 'Z2', 'Z3', 'Z4', 'Z5', 'Y']\n",
    "\n",
    "X = data_20.drop('Y', axis=1)\n",
    "y = data_20['Y']\n",
    "\n",
    "print(\">> Data: \\n\", data_20) "
   ]
  },
  {
   "cell_type": "code",
   "execution_count": 12,
   "id": "4269a7b9",
   "metadata": {
    "scrolled": true
   },
   "outputs": [
    {
     "name": "stdout",
     "output_type": "stream",
     "text": [
      "[[-0.60642416  0.39013152  0.63569492  0.27553455  0.00445201]]\n"
     ]
    }
   ],
   "source": [
    "from sklearn.preprocessing import StandardScaler\n",
    "from sklearn.decomposition import PCA\n",
    "\n",
    "X_scaled = (X - X.mean(axis = 0))/X.std(axis = 0, ddof = 1)\n",
    "\n",
    "pca = PCA(n_components=1)\n",
    "X_pca = pca.fit_transform(X_scaled)\n",
    "print(pca.components_)"
   ]
  },
  {
   "cell_type": "code",
   "execution_count": 17,
   "id": "f29003f4",
   "metadata": {},
   "outputs": [
    {
     "name": "stdout",
     "output_type": "stream",
     "text": [
      "[[-0.60642416  0.39013152  0.63569492  0.27553455  0.00445201]\n",
      " [ 0.10894616  0.40028948  0.11251578 -0.59751956  0.67691184]\n",
      " [ 0.36436358  0.71842811 -0.03884025 -0.11632358 -0.57970725]\n",
      " [ 0.26182765  0.33586819 -0.277209    0.73294809  0.45230645]\n",
      " [-0.64735303  0.24211432 -0.71054822 -0.12769891 -0.03359949]]\n",
      "[1.44650559 1.14350956 0.89403361 0.85446831 0.66148293]\n",
      "[0.28930112 0.22870191 0.17880672 0.17089366 0.13229659]\n"
     ]
    }
   ],
   "source": [
    "pca = PCA()\n",
    "X_pca = pca.fit_transform(X_scaled)\n",
    "print(pca.components_)\n",
    "print(pca.explained_variance_)\n",
    "print(pca.explained_variance_ratio_)"
   ]
  },
  {
   "cell_type": "code",
   "execution_count": 13,
   "id": "94569afa",
   "metadata": {},
   "outputs": [],
   "source": [
    "def regression_model(X, y, return_=False):\n",
    "    z = np.concatenate([np.ones([X.shape[0],1]), X], axis=1)\n",
    "    zz = (z.T).dot(z)\n",
    "    zy = (z.T).dot(y)\n",
    "    beta = np.linalg.inv(zz).dot(zy)\n",
    "    y_hat = z.dot(beta)\n",
    "    epsilon = y - y_hat\n",
    "    \n",
    "    y_mean = y.mean()\n",
    "    R2 = (y_hat - y_mean).T.dot((y_hat - y_mean))/(y - y_mean).T.dot((y - y_mean))\n",
    "    \n",
    "    print(\">> Least square estimates: beta = \\n\", beta)\n",
    "    print(\"\\n>> The vector of fitted (predicted) values: y_hat = \\n\", y_hat)\n",
    "    print(\"\\n>> The residuals: epsilon = \\n\", np.array(epsilon))\n",
    "    print(\"\\n>> The coefficient of determination: R2 = \", R2)\n",
    "    if return_:\n",
    "        return np.array(epsilon)"
   ]
  },
  {
   "cell_type": "code",
   "execution_count": 14,
   "id": "2678dc09",
   "metadata": {
    "scrolled": true
   },
   "outputs": [
    {
     "name": "stdout",
     "output_type": "stream",
     "text": [
      ">> Least square estimates: beta = \n",
      " [3.99978876 0.16129133]\n",
      "\n",
      ">> The vector of fitted (predicted) values: y_hat = \n",
      " [4.21180656 4.14911605 3.99396477 3.99248101 3.70997155 3.86512283\n",
      " 3.86660659 4.2730997  3.91998754 4.01047115 4.34184455 4.01393206\n",
      " 4.10734208 3.75422991 4.06675811 3.8218651  3.71438782 3.78202301\n",
      " 4.27795799 4.12280671]\n",
      "\n",
      ">> The residuals: epsilon = \n",
      " [ 0.40331395  0.79964384  0.57038342  0.83583272  0.05122856 -1.09253411\n",
      "  1.36983537 -1.97051461 -2.82137525  1.94536622 -0.53518206 -3.32078488\n",
      "  0.22339126  0.60247891  1.00841571 -2.72325281  1.66089058  0.50843643\n",
      "  1.471435    1.01299172]\n",
      "\n",
      ">> The coefficient of determination: R2 =  0.015017645625395865\n"
     ]
    }
   ],
   "source": [
    "residuals = regression_model(X_pca, np.log(y), return_=True)"
   ]
  },
  {
   "cell_type": "code",
   "execution_count": 16,
   "id": "f3878633",
   "metadata": {},
   "outputs": [
    {
     "data": {
      "image/png": "[encoded data removed]",
      "text/plain": [
       "<Figure size 432x288 with 1 Axes>"
      ]
     },
     "metadata": {
      "needs_background": "light"
     },
     "output_type": "display_data"
    }
   ],
   "source": [
    "import pylab\n",
    "import statsmodels.api as sm\n",
    "sm.qqplot(residuals,line='r')\n",
    "plt.show()"
   ]
  },
  {
   "cell_type": "markdown",
   "id": "543fc154",
   "metadata": {},
   "source": [
    "Từ tính toán ở trên, ta có\n",
    "* Phương trình hồi quy tuyến tính của $\\ln(Y)$ trên thành phần chính thứ nhất của các biến dự đoán $x_1^* = -0.60642416z_1 + 0.39013152z_2 + 0.63569492z_3 + 0.27553455z_4 + 0.00445201z_5$ là:  $\\ln(Y)=3.99978876 +0.16129133x_1^*$.\n",
    "* $R^2 = 0.015$.\n",
    "\n",
    "\n",
    "Ta có kết quả của bài tập 7.19(a) như sau:\n",
    "\n",
    "* Phương trình hồi quy tuyến tính từ bộ tập con các biến phù hợp là: $\\ln(Y)=2.756 -0.322z_1+0.114z_3$.\n",
    "* $R^2 = 0.60$\n",
    "\n",
    "Từ đây, ta thấy rằng $R^2$ của $\\ln(Y)$ trên thành phần chính khá thấp do đó tính giải thích được thấp hơn rất nhiều so với kết quả từ bài tập 7.19(a) với $R^2 = 0.6$."
   ]
  },
  {
   "cell_type": "markdown",
   "id": "68387505",
   "metadata": {},
   "source": [
    "### 7.25\n",
    "**Amitriptyline được một số bác sĩ kê đơn như thuốc chống trầm cảm. Tuy nhiên, cũng có những tác dụng phụ được phỏng đoán liên quan đến việc sử dụng thuốc như: nhịp tim không đều, huyết áp bất thường và sóng không đều trên điện tâm đồ, cũng nhiều triệu chứng khác. Dữ liệu thu được trên 17 bệnh nhân nhập viện sau khi dùng quá liều amitriptyline được đưa ra trong bảng 7.6. Hai biến phản hồi là**\n",
    "\n",
    "* $Y_1$ **= Tổng mức TCAD trong huyết tương (TOT)**\n",
    "* $Y_2$ **= Lượng amitriptyline có trong mức TCAD trong huyết tương (AMI)**\n",
    "\n",
    "**5 biến dự đoán là**\n",
    "\n",
    "* $Z_1$ **= Giới tính: 1 nếu là nữ, 0 nếu là nam (GEN)**\n",
    "* $Z_2$ **= Lượng antidepressants dùng tại thời điểm quá liều (AMT)**\n",
    "* $Z_3$ **= Phép đo sóng PR (PR)**\n",
    "* $Z_4$ **= Huyết áp tâm trương (DIAP)**\n",
    "* $Z_5$ **= Phép đo sóng QRS (QRS)**"
   ]
  },
  {
   "cell_type": "code",
   "execution_count": 8,
   "id": "198c664d",
   "metadata": {},
   "outputs": [
    {
     "name": "stdout",
     "output_type": "stream",
     "text": [
      ">> Data: \n",
      "       Y1    Y2  Z1    Z2   Z3  Z4   Z5\n",
      "0   3389  3149   1  7500  220   0  140\n",
      "1   1101   653   1  1975  200   0  100\n",
      "2   1131   810   0  3600  205  60  111\n",
      "3    596   448   1   675  160  60  120\n",
      "4    896   844   1   750  185  70   83\n",
      "5   1767  1450   1  2500  180  60   80\n",
      "6    807   493   1   350  154  80   98\n",
      "7   1111   941   0  1500  200  70   93\n",
      "8    645   547   1   375  137  60  105\n",
      "9    628   392   1  1050  167  60   74\n",
      "10  1360  1283   1  3000  180  60   80\n",
      "11   652   458   1   450  160  64   60\n",
      "12   860   722   1  1750  135  90   79\n",
      "13   500   384   0  2000  160  60   80\n",
      "14   781   501   0  4500  180   0  100\n",
      "15  1070   405   0  1500  170  90  120\n",
      "16  1754  1520   1  3000  180   0  129\n"
     ]
    }
   ],
   "source": [
    "path_25 = 'T7-6.txt'\n",
    "data_25 = pd.read_table(path_25, delim_whitespace=True, header=None)\n",
    "data_25.columns = ['Y1', 'Y2', 'Z1', 'Z2', 'Z3', 'Z4', 'Z5']\n",
    "\n",
    "X = data_25.drop(['Y1', 'Y2'], axis=1)\n",
    "y = data_25[['Y1', 'Y2']]\n",
    "\n",
    "print(\">> Data: \\n\", data_25) "
   ]
  },
  {
   "cell_type": "markdown",
   "id": "7c5c71dc",
   "metadata": {},
   "source": [
    "**(a) Thực hiện phân tích hồi quy bằng cách sử dụng biến phản hồi thứ 1 $Y_1$.**\n",
    "\n",
    "*    **(i) Đề xuất và fit một xấp xỉ mô hình hồi quy tuyến tính.**\n",
    "\n",
    "*    **(ii) Phân tích residuals.**\n",
    "\n",
    "*    **(iii) Xây dựng khoảng dự đoán 95% cho tổng mức TCAD với $z_1=1, z_2 = 1200, z_3 = 140, z_4 = 70$ và $z_5 = 85$.**"
   ]
  },
  {
   "cell_type": "code",
   "execution_count": 9,
   "id": "2e0aaae9",
   "metadata": {},
   "outputs": [
    {
     "name": "stdout",
     "output_type": "stream",
     "text": [
      "Forward stepwise subset selection\n",
      "  no_features              features             RSS       distance\n",
      "0           1                  [Z2]  2680807.253741            inf\n",
      "1           2              [Z2, Z1]  1800356.362461   880450.89128\n",
      "2           3          [Z2, Z1, Z3]  1459222.333278  341134.029183\n",
      "3           4      [Z2, Z1, Z3, Z4]  1178249.015138   280973.31814\n",
      "4           5  [Z2, Z1, Z3, Z4, Z5]   870008.310486  308240.704652\n"
     ]
    }
   ],
   "source": [
    "forward_stepwise(X, y['Y1'])"
   ]
  },
  {
   "cell_type": "markdown",
   "id": "7badbbe6",
   "metadata": {},
   "source": [
    "Từ phương pháp hồi quy từng bước, ta có thể chọn ra `[Z1, Z2, Z3]` là các thành phần quan trọng của dữ liệu trên biến phản hồi thứ 1.\n",
    "\n",
    "Khi đó, ta đi kiểm định giả thuyết $H_0: \\beta_4 = \\beta_5 = 0$.\n",
    "\n",
    "Giả sử $H_0$ đúng, ta xét thống kê\n",
    "$$\\dfrac{(SS_{res}(Z_1) - SS_{res}(Z))/(r-q)}{s^2} \\sim \\mathcal{F}_{r-q, n-r-1}(\\alpha)$$\n",
    "\n",
    "Ta tiến hành kiểm định như sau"
   ]
  },
  {
   "cell_type": "code",
   "execution_count": 10,
   "id": "50b09a07",
   "metadata": {},
   "outputs": [],
   "source": [
    "def likelihood_ratio_test(X, y, features, alpha):\n",
    "    import statsmodels.api as sm\n",
    "    \n",
    "    n, r = X.shape\n",
    "    q = len(features)\n",
    "    \n",
    "    _X = sm.add_constant(X)\n",
    "    X1 = X[features]\n",
    "    X2 = X.drop(features, axis=1)\n",
    "    _X1 = sm.add_constant(X1)\n",
    "    \n",
    "    model = sm.OLS(y, _X).fit()\n",
    "    beta_hat = model.params.to_numpy()\n",
    "    \n",
    "    model1 = sm.OLS(y, _X1).fit()\n",
    "    beta1_hat = model1.params.to_numpy()\n",
    "    \n",
    "    SS_Z1 = (y - _X1.dot(beta1_hat)).dot((y - _X1.dot(beta1_hat)))\n",
    "    \n",
    "    SS_Z = (y - _X.dot(beta_hat)).dot((y - _X.dot(beta_hat)))\n",
    "    \n",
    "    s_square = SS_Z/(n-r-1)\n",
    "    \n",
    "    c = ((SS_Z1 - SS_Z)/(r-q))/s_square\n",
    "    \n",
    "    critical_value = stats.f.ppf(q=1-alpha, dfn=r-q, dfd=n-r-1)\n",
    "    \n",
    "    print(f'>> Statistic = {c}')\n",
    "    print(f'>> F-distribution degree of freedom = {r-q}, {n-r-1}')\n",
    "    print(f'>> Critical value = {critical_value}')\n",
    "    \n",
    "    if c > critical_value:\n",
    "        print('>> Conclusion : Reject H_0')\n",
    "    else:\n",
    "        print('>> conclusion : Accept H_0')"
   ]
  },
  {
   "cell_type": "code",
   "execution_count": 11,
   "id": "329db1f3",
   "metadata": {
    "scrolled": true
   },
   "outputs": [
    {
     "name": "stdout",
     "output_type": "stream",
     "text": [
      ">> Statistic = 3.7248806549301703\n",
      ">> F-distribution degree of freedom = 2, 11\n",
      ">> Critical value = 3.9822979570944836\n",
      ">> conclusion : Accept H_0\n"
     ]
    }
   ],
   "source": [
    "likelihood_ratio_test(X, y['Y1'], ['Z1', 'Z2', 'Z3'], 0.05)"
   ]
  },
  {
   "cell_type": "markdown",
   "id": "b2bdeadf",
   "metadata": {},
   "source": [
    "Từ kết quả trên, ta không đủ cơ sở để bác bỏ giả thuyết $H_0$ với mức ý nghĩa $\\alpha = 0.05$. Khi đó, các biến $Z_4, Z_5$ không có ảnh hưởng đến kết quả hồi quy."
   ]
  },
  {
   "cell_type": "code",
   "execution_count": 12,
   "id": "d50c9b8a",
   "metadata": {
    "scrolled": false
   },
   "outputs": [
    {
     "name": "stdout",
     "output_type": "stream",
     "text": [
      "                            OLS Regression Results                            \n",
      "==============================================================================\n",
      "Dep. Variable:                     Y1   R-squared:                       0.811\n",
      "Model:                            OLS   Adj. R-squared:                  0.767\n",
      "Method:                 Least Squares   F-statistic:                     18.55\n",
      "Date:                Wed, 02 Jun 2021   Prob (F-statistic):           5.57e-05\n",
      "Time:                        13:27:20   Log-Likelihood:                -120.68\n",
      "No. Observations:                  17   AIC:                             249.4\n",
      "Df Residuals:                      13   BIC:                             252.7\n",
      "Df Model:                           3                                         \n",
      "Covariance Type:            nonrobust                                         \n",
      "==============================================================================\n",
      "                 coef    std err          t      P>|t|      [0.025      0.975]\n",
      "------------------------------------------------------------------------------\n",
      "Intercept  -1327.9887    817.440     -1.625      0.128   -3093.960     437.983\n",
      "Z1           558.2374    183.417      3.044      0.009     161.989     954.485\n",
      "Z2             0.2583      0.062      4.187      0.001       0.125       0.392\n",
      "Z3             8.5783      4.921      1.743      0.105      -2.052      19.209\n",
      "==============================================================================\n",
      "Omnibus:                        0.083   Durbin-Watson:                   1.908\n",
      "Prob(Omnibus):                  0.959   Jarque-Bera (JB):                0.311\n",
      "Skew:                          -0.029   Prob(JB):                        0.856\n",
      "Kurtosis:                       2.340   Cond. No.                     2.81e+04\n",
      "==============================================================================\n",
      "\n",
      "Notes:\n",
      "[1] Standard Errors assume that the covariance matrix of the errors is correctly specified.\n",
      "[2] The condition number is large, 2.81e+04. This might indicate that there are\n",
      "strong multicollinearity or other numerical problems.\n"
     ]
    }
   ],
   "source": [
    "mod = smf.ols('Y1 ~ Z1 + Z2 + Z3', data=data_25)\n",
    "res = mod.fit()\n",
    "print(res.summary())"
   ]
  },
  {
   "cell_type": "markdown",
   "id": "5df60ca3",
   "metadata": {},
   "source": [
    "Từ bảng trên, ta có được phương trình hồi quy $\\hat{y}_1 = -1327.9887 + 558Z_1 + 0.2583Z_2 + 8.5783Z_3$"
   ]
  },
  {
   "cell_type": "code",
   "execution_count": 13,
   "id": "3843a132",
   "metadata": {},
   "outputs": [],
   "source": [
    "def prediction_interval(X, y, z0, beta, alpha, name_y, confidence = True, return_value = False):\n",
    "    z0 = np.insert(z0, 0, 1, axis=0)\n",
    "    x = z0.dot(beta)\n",
    "    \n",
    "    n, r = X.shape\n",
    "    \n",
    "    t = stats.t.ppf(1-alpha/2, n-r-1)\n",
    "    z = np.concatenate([np.ones([X.shape[0],1]), X], axis=1)\n",
    "    zz = (z.T).dot(z)\n",
    "    y_hat = z.dot(beta)\n",
    "    epsilon = y - y_hat\n",
    "    s2 = (epsilon.dot(epsilon))/(n-r-1)\n",
    "    \n",
    "    c1 = t*np.sqrt(s2*(z0.dot(np.linalg.inv(zz).dot(z0))))\n",
    "    c2 = t*np.sqrt(s2*(1+z0.dot(np.linalg.inv(zz).dot(z0))))\n",
    "    \n",
    "    if confidence:\n",
    "        print(\">> {}% confidence interval for the mean {} at {} is :\\n ({}, {})\".format((1-alpha)*100, name_y, z0, x-c1, x+c1))\n",
    "    print(\"\\n>> {}% prediction interval for {} with conditions {} is :\\n ({}, {})\".format((1-alpha)*100, name_y, z0, x-c2, x+c2))\n",
    "    if return_value:\n",
    "        return np.array([x-c1, x+c1]), np.array([x-c2, x+c2]) "
   ]
  },
  {
   "cell_type": "code",
   "execution_count": 14,
   "id": "d89efebe",
   "metadata": {},
   "outputs": [],
   "source": [
    "beta1 = res.params\n",
    "z0 = np.array([1, 1200, 140])\n",
    "alpha = 0.05"
   ]
  },
  {
   "cell_type": "code",
   "execution_count": 15,
   "id": "9a068dd7",
   "metadata": {},
   "outputs": [
    {
     "name": "stdout",
     "output_type": "stream",
     "text": [
      "\n",
      ">> 95.0% prediction interval for Total TCAD with conditions [   1    1 1200  140] is :\n",
      " (-62.409078953467315, 1544.7601170333667)\n"
     ]
    }
   ],
   "source": [
    "prediction_interval(X[['Z1', 'Z2', 'Z3']], y['Y1'], z0, beta1, alpha, \"Total TCAD\", confidence=False)"
   ]
  },
  {
   "cell_type": "markdown",
   "id": "9427f20a",
   "metadata": {},
   "source": [
    "Kết quả dưới đây dùng để phục vụ cho câu (c)."
   ]
  },
  {
   "cell_type": "code",
   "execution_count": 16,
   "id": "cc8ab57f",
   "metadata": {},
   "outputs": [
    {
     "name": "stdout",
     "output_type": "stream",
     "text": [
      "\n",
      ">> 95.0% prediction interval for Total TCAD with conditions [   1    1 1200] is :\n",
      " (154.04019453341039, 1763.0544287790306)\n"
     ]
    }
   ],
   "source": [
    "mod1 = smf.ols('Y1 ~ Z1 + Z2', data=data_25)\n",
    "res1 = mod1.fit()\n",
    "beta1 = res1.params\n",
    "z0 = np.array([1, 1200])\n",
    "_, IC1 = prediction_interval(X[['Z1', 'Z2']], y['Y1'], z0, beta1, alpha, \"Total TCAD\", confidence=False, return_value=True)"
   ]
  },
  {
   "cell_type": "markdown",
   "id": "b0689060",
   "metadata": {},
   "source": [
    "**(b) Lặp lại câu (a) bằng cách sử dụng biến phản hồi thứ 2 $Y_2$.**"
   ]
  },
  {
   "cell_type": "code",
   "execution_count": 17,
   "id": "019c4ad1",
   "metadata": {},
   "outputs": [
    {
     "name": "stdout",
     "output_type": "stream",
     "text": [
      "Forward stepwise subset selection\n",
      "  no_features              features             RSS        distance\n",
      "0           1                  [Z2]  2879446.531494             inf\n",
      "1           2              [Z2, Z1]  1620657.343979  1258789.187515\n",
      "2           3          [Z2, Z1, Z3]  1393645.312982   227012.030997\n",
      "3           4      [Z2, Z1, Z3, Z4]   1073494.68598   320150.627001\n",
      "4           5  [Z2, Z1, Z3, Z4, Z5]   940708.899381     132785.7866\n"
     ]
    }
   ],
   "source": [
    "forward_stepwise(X, y['Y2'])"
   ]
  },
  {
   "cell_type": "markdown",
   "id": "5f4109cf",
   "metadata": {},
   "source": [
    "Từ phương pháp hồi quy từng bước, ta có thể chọn ra `[Z1, Z2]` là các thành phần quan trọng của dữ liệu trên biến phản hồi thứ 2.\n",
    "\n",
    "Khi đó, ta đi kiểm định giả thuyết $H_0: \\beta_3 = \\beta_4 = \\beta_5 = 0$.\n",
    "\n",
    "Giả sử $H_0$ đúng, ta xét thống kê\n",
    "$$\\dfrac{(SS_{res}(Z_1) - SS_{res}(Z))/(r-q)}{s^2} \\sim \\mathcal{F}_{r-q, n-r-1}(\\alpha)$$\n",
    "\n",
    "Ta tiến hành kiểm định như sau"
   ]
  },
  {
   "cell_type": "code",
   "execution_count": 18,
   "id": "bda547e6",
   "metadata": {},
   "outputs": [
    {
     "name": "stdout",
     "output_type": "stream",
     "text": [
      ">> Statistic = 2.6502824609203635\n",
      ">> F-distribution degree of freedom = 3, 11\n",
      ">> Critical value = 3.5874337024204936\n",
      ">> conclusion : Accept H_0\n"
     ]
    }
   ],
   "source": [
    "likelihood_ratio_test(X, y['Y2'], ['Z1', 'Z2'], 0.05)"
   ]
  },
  {
   "cell_type": "markdown",
   "id": "e1d83799",
   "metadata": {},
   "source": [
    "Từ kết quả trên, ta không đủ cơ sở để bác bỏ giả thuyết $H_0$ với mức ý nghĩa $\\alpha = 0.05$. Khi đó, các biến $Z_3, Z_4, Z_5$ không có ảnh hưởng đến kết quả hồi quy."
   ]
  },
  {
   "cell_type": "code",
   "execution_count": 19,
   "id": "325da9b1",
   "metadata": {},
   "outputs": [
    {
     "name": "stdout",
     "output_type": "stream",
     "text": [
      "                            OLS Regression Results                            \n",
      "==============================================================================\n",
      "Dep. Variable:                     Y2   R-squared:                       0.787\n",
      "Model:                            OLS   Adj. R-squared:                  0.757\n",
      "Method:                 Least Squares   F-statistic:                     25.87\n",
      "Date:                Wed, 02 Jun 2021   Prob (F-statistic):           1.99e-05\n",
      "Time:                        13:27:21   Log-Likelihood:                -121.58\n",
      "No. Observations:                  17   AIC:                             249.2\n",
      "Df Residuals:                      14   BIC:                             251.7\n",
      "Df Model:                           2                                         \n",
      "Covariance Type:            nonrobust                                         \n",
      "==============================================================================\n",
      "                 coef    std err          t      P>|t|      [0.025      0.975]\n",
      "------------------------------------------------------------------------------\n",
      "Intercept   -241.3479    196.116     -1.231      0.239    -661.976     179.280\n",
      "Z1           606.3097    183.865      3.298      0.005     211.958    1000.661\n",
      "Z2             0.3243      0.047      6.866      0.000       0.223       0.426\n",
      "==============================================================================\n",
      "Omnibus:                        1.520   Durbin-Watson:                   1.941\n",
      "Prob(Omnibus):                  0.468   Jarque-Bera (JB):                0.244\n",
      "Skew:                          -0.063   Prob(JB):                        0.885\n",
      "Kurtosis:                       3.573   Cond. No.                     8.49e+03\n",
      "==============================================================================\n",
      "\n",
      "Notes:\n",
      "[1] Standard Errors assume that the covariance matrix of the errors is correctly specified.\n",
      "[2] The condition number is large, 8.49e+03. This might indicate that there are\n",
      "strong multicollinearity or other numerical problems.\n"
     ]
    }
   ],
   "source": [
    "mod = smf.ols('Y2 ~ Z1 + Z2', data=data_25)\n",
    "res = mod.fit()\n",
    "print(res.summary())"
   ]
  },
  {
   "cell_type": "markdown",
   "id": "303f6b41",
   "metadata": {},
   "source": [
    "Từ bảng trên, ta có được phương trình hồi quy $\\hat{y}_2 = -241.3479 + 606.3097Z_1 + 0.3243Z_2$"
   ]
  },
  {
   "cell_type": "code",
   "execution_count": 20,
   "id": "91e3e424",
   "metadata": {},
   "outputs": [
    {
     "name": "stdout",
     "output_type": "stream",
     "text": [
      "\n",
      ">> 95.0% prediction interval for Y2 (AMI) with conditions [   1    1 1200] is :\n",
      " (-9.234070954111417, 1517.3694088117181)\n"
     ]
    }
   ],
   "source": [
    "beta2 = res.params\n",
    "z0 = np.array([1, 1200])\n",
    "alpha = 0.05\n",
    "_, IC2 = prediction_interval(X[['Z1', 'Z2']], y['Y2'], z0, beta2, alpha, \"Y2 (AMI)\", confidence=False, return_value=True)"
   ]
  },
  {
   "cell_type": "markdown",
   "id": "9b27d5af",
   "metadata": {},
   "source": [
    "**(c) Thực hiện phân tích hồi quy bội đa biến bằng cách sử dụng cả 2 biến phản hồi $Y_1$ và $Y_2$.**\n",
    "\n",
    "*    **(i) Đề xuất và fit một xấp xỉ mô hình hồi quy tuyến tính.**\n",
    "\n",
    "*    **(ii) Phân tích residuals.**\n",
    "\n",
    "*    **(iii) Xây dựng khoảng dự đoán 95% cho tổng mức TCAD với $z_1=1, z_2 = 1200, z_3 = 140, z_4 = 70$ và $z_5 = 85$. So sánh hình ellipse với các khoảng tin cậy dự đoán ở câu (a) và (b). Nhận xét.**"
   ]
  },
  {
   "cell_type": "code",
   "execution_count": 21,
   "id": "d750b273",
   "metadata": {},
   "outputs": [],
   "source": [
    "def likelihood_ratio_test_multivariate(X, Y, features, alpha):\n",
    "    import statsmodels.api as sm\n",
    "    \n",
    "    n, r = X.shape\n",
    "    q = len(features)\n",
    "    m = 2\n",
    "    \n",
    "    Y = Y.to_numpy()\n",
    "    X1 = X[features]\n",
    "    _X = sm.add_constant(X).to_numpy()\n",
    "    _X1 = sm.add_constant(X1).to_numpy()\n",
    "    \n",
    "    from sklearn import linear_model\n",
    "    lm = linear_model.LinearRegression()\n",
    "    \n",
    "    model = lm.fit(X, Y)\n",
    "    beta_hat = np.concatenate([model.intercept_.reshape(2,-1), model.coef_], axis=1).T\n",
    "    \n",
    "    model1 = lm.fit(X1, Y)\n",
    "    beta1_hat = np.concatenate([model1.intercept_.reshape(2,-1), model1.coef_], axis=1).T\n",
    "    \n",
    "    nSigma_hat = (Y - _X.dot(beta_hat)).T.dot((Y - _X.dot(beta_hat)))\n",
    "    \n",
    "    nSigma1_hat = (Y - _X1.dot(beta1_hat)).T.dot((Y - _X1.dot(beta1_hat)))\n",
    "    \n",
    "    c = -(n-r-1-0.5*(m-r+q+1))*np.log(np.linalg.det(nSigma_hat)/np.linalg.det(nSigma1_hat))\n",
    "    \n",
    "    critical_value = stats.chi2.ppf(1 - alpha, df = m*(r-q))\n",
    "    \n",
    "    print(f'>> Statistic = {c}')\n",
    "    print(f'>> Chi-square degree of freedom = {m*(r-q)}')\n",
    "    print(f'>> Critical value = {critical_value}')\n",
    "    \n",
    "    if c > critical_value:\n",
    "        print('>> Conclusion : Reject H_0')\n",
    "    else:\n",
    "        print('>> conclusion : Accept H_0')"
   ]
  },
  {
   "cell_type": "code",
   "execution_count": 22,
   "id": "2c7b9e40",
   "metadata": {
    "scrolled": true
   },
   "outputs": [
    {
     "name": "stdout",
     "output_type": "stream",
     "text": [
      "Forward stepwise subset selection\n",
      "  no_features              features             RSS        distance\n",
      "0           1                  [Z2]  2780126.892618             inf\n",
      "1           2              [Z2, Z1]   1710506.85322  1069620.039398\n",
      "2           3          [Z2, Z1, Z3]   1426433.82313    284073.03009\n",
      "3           4      [Z2, Z1, Z3, Z4]  1125871.850559   300561.972571\n",
      "4           5  [Z2, Z1, Z3, Z4, Z5]   905358.604933   220513.245626\n"
     ]
    }
   ],
   "source": [
    "forward_stepwise(X, y)"
   ]
  },
  {
   "cell_type": "markdown",
   "id": "0b2afcca",
   "metadata": {},
   "source": [
    "Từ phương pháp hồi quy từng bước, ta có thể chọn ra `[Z1, Z2]` là các thành phần quan trọng của dữ liệu trên cả 2 biến phản hồi.\n",
    "\n",
    "Khi đó, ta đi kiểm định giả thuyết $H_0: \\beta_3 = \\beta_4 = \\beta_5 = 0$.\n",
    "\n",
    "Giả sử $H_0$ đúng, mặc dù $n=17$ không quá lớn, ta xét thống kê\n",
    "$$-\\left[n-r-1-\\dfrac{1}{2}(m-r+q+1)\\right]\\ln{\\left(\\dfrac{|\\hat{\\Sigma}|}{|\\hat{\\Sigma}_1|}\\right)} \\sim \\chi_{m(r-q)}^2$$\n",
    "\n",
    "Ta tiến hành kiểm định như sau"
   ]
  },
  {
   "cell_type": "code",
   "execution_count": 23,
   "id": "1f1a8dff",
   "metadata": {},
   "outputs": [
    {
     "name": "stdout",
     "output_type": "stream",
     "text": [
      ">> Statistic = 9.018239620001712\n",
      ">> Chi-square degree of freedom = 6\n",
      ">> Critical value = 12.591587243743977\n",
      ">> conclusion : Accept H_0\n"
     ]
    }
   ],
   "source": [
    "likelihood_ratio_test_multivariate(X, y, ['Z1', 'Z2'], 0.05)"
   ]
  },
  {
   "cell_type": "markdown",
   "id": "8f069000",
   "metadata": {},
   "source": [
    "Từ kết quả trên, ta không đủ cơ sở để bác bỏ giả thuyết $H_0$ với mức ý nghĩa $\\alpha = 0.05$. Khi đó, các biến $Z_3, Z_4, Z_5$ không có ý nghĩa."
   ]
  },
  {
   "cell_type": "code",
   "execution_count": 24,
   "id": "f152da22",
   "metadata": {},
   "outputs": [],
   "source": [
    "X_ = X[['Z1', 'Z2']]\n",
    "n, r = X_.shape\n",
    "m = 2\n",
    "q = 2\n",
    "from sklearn import linear_model\n",
    "lm = linear_model.LinearRegression()\n",
    "model = lm.fit(X_,y)"
   ]
  },
  {
   "cell_type": "code",
   "execution_count": 25,
   "id": "afc39bec",
   "metadata": {},
   "outputs": [
    {
     "name": "stdout",
     "output_type": "stream",
     "text": [
      "     Intercept          Z1        Z2\n",
      "Y1   56.720053  507.073084  0.328962\n",
      "Y2 -241.347910  606.309666  0.324255\n"
     ]
    }
   ],
   "source": [
    "coef_table = {'Intercept': model.intercept_}\n",
    "for i, col in enumerate(X_.columns):\n",
    "    coef_table[col] = model.coef_[:,i]\n",
    "coef_table = pd.DataFrame(coef_table, index=['Y1', 'Y2'])\n",
    "coef = coef_table.to_numpy()\n",
    "print(coef_table)"
   ]
  },
  {
   "cell_type": "code",
   "execution_count": 26,
   "id": "86945c13",
   "metadata": {},
   "outputs": [
    {
     "name": "stdout",
     "output_type": "stream",
     "text": [
      "y_hat =  [958.54731166 754.06766893]\n"
     ]
    }
   ],
   "source": [
    "z0 = np.array([1, 1200])\n",
    "y_hat = lm.predict(z0.reshape(1,-1))\n",
    "print(\"y_hat = \", y_hat[0])"
   ]
  },
  {
   "cell_type": "code",
   "execution_count": 27,
   "id": "521a4c7f",
   "metadata": {},
   "outputs": [
    {
     "name": "stdout",
     "output_type": "stream",
     "text": [
      "Signa_hat = \n",
      " [[105903.31543889  90952.60133417]\n",
      " [ 90952.60133417  95332.78493993]]\n"
     ]
    }
   ],
   "source": [
    "_X = sm.add_constant(X_).to_numpy()\n",
    "Sigma_hat = (y.to_numpy() - _X.dot(coef.T)).T.dot((y.to_numpy() - _X.dot(coef.T)))/n\n",
    "print(\"Signa_hat = \\n\", Sigma_hat)"
   ]
  },
  {
   "cell_type": "code",
   "execution_count": 28,
   "id": "b99354e1",
   "metadata": {},
   "outputs": [
    {
     "name": "stdout",
     "output_type": "stream",
     "text": [
      ">> Critical value:  8.93282608048545\n"
     ]
    }
   ],
   "source": [
    "alpha = 0.05\n",
    "c = 1 + z0.T.dot(np.linalg.inv(X_.T.dot(X_)).dot(z0))\n",
    "critical_value = c*((m*(n-r-1))/(n-r-m))*stats.f.ppf(q=1-alpha, dfn=m, dfd=n-r-m)\n",
    "print(\">> Critical value: \", critical_value)"
   ]
  },
  {
   "cell_type": "code",
   "execution_count": 29,
   "id": "5c6704f4",
   "metadata": {},
   "outputs": [
    {
     "data": {
      "image/png": "[encoded data removed]",
      "text/plain": [
       "<Figure size 432x288 with 1 Axes>"
      ]
     },
     "metadata": {
      "needs_background": "light"
     },
     "output_type": "display_data"
    }
   ],
   "source": [
    "fig, ax = plt.subplots()\n",
    "\n",
    "e = get_cov_ellipse(Sigma_hat, y_hat[0], np.sqrt(critical_value*(n/(n-r-1))), edgecolor='red', facecolor='None')\n",
    "r = simultaneous_ci_2d(IC1, IC2, ec ='blue', fc='None')\n",
    "ax.axvline(c='grey', lw=1)\n",
    "ax.axhline(c='grey', lw=1)\n",
    "ax.scatter(y_hat[0][0], y_hat[0][1], c='blue', s=25)\n",
    "ax.add_patch(e)\n",
    "ax.add_patch(r)\n",
    "ax.set_title(\"95% prediction ellipse for Y1 and Y2\")\n",
    "ax.set_xlabel('Y1')\n",
    "ax.set_ylabel('Y2')\n",
    "\n",
    "plt.show()"
   ]
  },
  {
   "cell_type": "markdown",
   "id": "10741497",
   "metadata": {},
   "source": [
    "Ta có thể thấy rằng phạm vi của từng biến phản hồi khi xét riêng lẻ nhỏ hơn so với hình ellipse. Hình ellipse vẫn chứa điểm **0** trong khi từng biến phản hồi riêng lẻ thì chỉ có biến thứ 2 là có chứa 0. Điều này nói lên được, tổng mức TCAD trong huyết tương (TOT) luôn có, lượng amitriptyline có trong mức TCAD trong huyết tương vẫn xuất hiện nhưng khả năng lại kém hơn 1 ít do tồn tại giá trị 0 trong khoảng dự đoán 95%. Hơn nữa, vẫn có trường hợp không có tác dụng phụ khi xét cả 2 biến phản hồi với độ tin cậy 95% do hình ellipse dự đoán 95% vẫn chứa **0**.\n"
   ]
  },
  {
   "cell_type": "code",
   "execution_count": null,
   "id": "a00b7f15",
   "metadata": {},
   "outputs": [],
   "source": []
  },
  {
   "cell_type": "code",
   "execution_count": 10,
   "id": "32c61001",
   "metadata": {},
   "outputs": [],
   "source": [
    "import numpy as np\n",
    "import pandas as pd\n",
    "from sklearn.datasets import fetch_california_housing as  Fch #Load California home value data\n",
    " #Loading modules and libraries needed for linear regression\n",
    "import statsmodels.api as  sm # least squares\n",
    "from statsmodels.formula.api import  ols #Load ols model"
   ]
  },
  {
   "cell_type": "code",
   "execution_count": 24,
   "id": "6b818b8c",
   "metadata": {},
   "outputs": [],
   "source": [
    "def best_information_criterion_selection(y, X, criterion='AIC'):\n",
    "    '''\n",
    "    This function takes in a column numpy array (y) and design matrix (X) (with the first column as all 1s for\n",
    "    the intercept) which is also a numpy array, and returns the OLS model with the lowest Information \n",
    "    Criterion. The default criterion is AIC; and the other option is BIC.\n",
    "    '''\n",
    "    \n",
    "    # check inputs are valid\n",
    "    assert y.shape[0] == X.shape[0], 'The number of rows in y and X do not match!'\n",
    "    assert (criterion == 'AIC') or (criterion == 'BIC'), 'Valid criterions are AIC and BIC!'\n",
    "    \n",
    "    # for linear regression\n",
    "    import statsmodels.api as sm\n",
    "    # for generating combinations of explanatory variables for model selection based on AIC\n",
    "    from itertools import combinations\n",
    "    \n",
    "    # calculate the number of non-intercept predictors in the design matrix\n",
    "    number_of_predictors = X.shape[1] - 1\n",
    "    \n",
    "    # create an array of the column numbers of the predictors\n",
    "    var_cols = np.arange(1, number_of_predictors + 1, step=1)\n",
    "    \n",
    "    # create an empty list to hold all possible combinations of the predictor columns from 1 to all\n",
    "    subsets_of_vars = []\n",
    "    ###\n",
    "    # This nested for loop appends all possible combinations of predictor columns from just 1 variable to \n",
    "    # all number_of_predictors\n",
    "    ###\n",
    "    for num_predictors in range(1, number_of_predictors + 1):\n",
    "        for subset in combinations(var_cols, num_predictors):\n",
    "            subsets_of_vars.append(subset)\n",
    "    \n",
    "    # create an array of zeros to hold the Information Criterion of each model\n",
    "    Info_Criterions = np.zeros(shape=len(subsets_of_vars))\n",
    "    \n",
    "    # create an empty list to hold the models\n",
    "    models = []\n",
    "    \n",
    "    # create a counter to be used for indexing in Info_Criterions and temp_biased_var_estimates\n",
    "    counter = 0\n",
    "    \n",
    "    # loop through all subsets of predictors\n",
    "    for subset in subsets_of_vars:\n",
    "        \n",
    "        # select the temporary subset of our design matrix\n",
    "        temp_X = X[:, (0,) + subset]\n",
    "        \n",
    "        # fit an OLS linear model to the temporary data\n",
    "        temp_OLS_mod = sm.OLS(temp_y, temp_X).fit()\n",
    "        \n",
    "        if criterion == 'AIC':\n",
    "            # add the AIC to the Info_Criterions array at the counter th slot\n",
    "            Info_Criterions[counter] = temp_OLS_mod.aic\n",
    "            \n",
    "        else:\n",
    "            # add the AIC to the Info_Criterions array at the counter th slot\n",
    "            Info_Criterions[counter] = temp_OLS_mod.bic\n",
    "        \n",
    "        # add the biased estimate to the temp_biased_var_estimates array at the counter th slot\n",
    "        models.append(temp_OLS_mod)\n",
    "        \n",
    "        # increment the counter\n",
    "        counter += 1\n",
    "    \n",
    "    # find the index of the model with the lowest Information Criterion\n",
    "    lowest_IC_index = np.argmin(Info_Criterions)\n",
    "    \n",
    "    # return the model with the lowest Information Criterion\n",
    "    return models[lowest_IC_index]"
   ]
  },
  {
   "cell_type": "code",
   "execution_count": 25,
   "id": "c72ad032",
   "metadata": {},
   "outputs": [],
   "source": [
    "# for linear algebra and random numbers\n",
    "import numpy as np\n",
    "# for linear regression\n",
    "import statsmodels.api as sm\n",
    "# for visualization\n",
    "import matplotlib.pyplot as plt\n",
    "# for generating combinations of explanatory variables for model selection based on AIC\n",
    "from itertools import combinations\n",
    "\n",
    "# set a random seed for reproducibility\n",
    "np.random.seed(123)\n",
    "\n",
    "# set the number of simulations to run\n",
    "num_sims = 500\n",
    "\n",
    "# set n and k and make a n by k+1 matrix of standard normal random numbers\n",
    "n = 100\n",
    "k = 6\n",
    "\n",
    "# set the number of predictors, including the intercept that are significant\n",
    "k_significant = 3\n",
    "\n",
    "# create a column vector of zeros, with k + 1 betas, where the first value is the true intercept\n",
    "beta = np.zeros(shape=(k + 1, 1))\n",
    "# set the first k_significant betas to be non-zero values, using iid N(3, 1) random variables\n",
    "beta[:k_significant] = np.random.normal(loc=5.0, scale=1.0, size=(k_significant, 1))\n",
    "\n",
    "# create an array of zeros to hold our UNBIASED estimates of the standard deviation of our error term\n",
    "unbiased_sigma_estimates = np.zeros(shape=num_sims)\n",
    "# create an array of zeros to hold our BIASED estimates of the standard deviation of our error term (from AIC)\n",
    "aic_sigma_estimates = np.zeros(shape=num_sims)        \n",
    "# create an array of zeros to hold our BIASED estimates of the standard deviation of our error term (from BIC)\n",
    "bic_sigma_estimates = np.zeros(shape=num_sims)\n",
    "\n",
    "# perform num_sims simulations\n",
    "for i in range(num_sims):\n",
    "    \n",
    "    ###\n",
    "    # This block generates the random sample\n",
    "    ###\n",
    "    \n",
    "    # create the temporary design n by k + 1 design matrix\n",
    "    temp_X = np.random.normal(loc=0.0, scale=1.0, size=(n, k + 1))\n",
    "    \n",
    "    # set the first column of the design matrix to 1.0 to include an intercept\n",
    "    temp_X[:,0] = 1.0\n",
    "    \n",
    "    # create temporary y values using the design matrix and beta vector, and add standard normal random noise\n",
    "    temp_y = np.matmul(temp_X, beta) + np.random.normal(loc=0.0, scale=1.0, size=(n, 1))\n",
    "    \n",
    "    \n",
    "    ###\n",
    "    # This block estimates the standard deviation using the True OLS model\n",
    "    ###\n",
    "    \n",
    "    # fit an OLS linear model to the temporary data\n",
    "    temp_true_mod = sm.OLS(temp_y, temp_X[:,0:k_significant]).fit()\n",
    "    \n",
    "    # estimate the standard deviation of the error term \n",
    "    temp_unbiased_sigma_estimate = np.sqrt(np.sum(temp_true_mod.resid **2) / \n",
    "                                         (n - temp_true_mod.params.shape[0]))\n",
    "    # add the unbiased estimate to the array at the ith slot\n",
    "    unbiased_sigma_estimates[i] = temp_unbiased_sigma_estimate  \n",
    "    \n",
    "    \n",
    "    ###\n",
    "    # This block estimates the standard deviation using the OLS model with best subset selection of variables \n",
    "    # using AIC\n",
    "    ###\n",
    "    \n",
    "    # select the model with the lowest information criterion\n",
    "    temp_best_AIC_mod = best_information_criterion_selection(temp_y, temp_X, criterion='AIC')\n",
    "    # estimate the standard deviation of the error term \n",
    "    temp_aic_sigma_estimate = np.sqrt(np.sum(temp_best_AIC_mod.resid ** 2) / temp_best_AIC_mod.df_resid)\n",
    "    # add the unbiased estimate to the array at the ith slot\n",
    "    aic_sigma_estimates[i] = temp_aic_sigma_estimate  \n",
    "    \n",
    "    \n",
    "    ###\n",
    "    # This block estimates the standard deviation using the OLS model with best subset selection of variables \n",
    "    # using BIC\n",
    "    ###\n",
    "    \n",
    "    # select the model with the lowest information criterion\n",
    "    temp_best_BIC_mod = best_information_criterion_selection(temp_y, temp_X, criterion='BIC')\n",
    "    # estimate the standard deviation of the error term \n",
    "    temp_bic_sigma_estimate = np.sqrt(np.sum(temp_best_BIC_mod.resid ** 2) / temp_best_BIC_mod.df_resid)\n",
    "    # add the unbiased estimate to the array at the ith slot\n",
    "    bic_sigma_estimates[i] = temp_bic_sigma_estimate"
   ]
  },
  {
   "cell_type": "code",
   "execution_count": 27,
   "id": "c0a6035a",
   "metadata": {},
   "outputs": [
    {
     "data": {
      "text/plain": [
       "array([1.11354865, 0.97098388, 0.86599026, 0.92917704, 0.97243937,\n",
       "       0.94467527, 1.03736966, 1.04031757, 0.93548665, 1.09915163,\n",
       "       1.10279589, 1.05405024, 1.01078361, 0.94499926, 0.99356658,\n",
       "       1.0089189 , 0.90938536, 1.08900431, 0.9917802 , 0.99063271,\n",
       "       1.0414101 , 0.97392402, 1.02391453, 0.92322562, 1.05110339,\n",
       "       1.05151095, 1.06799884, 0.90546738, 0.92221932, 0.963732  ,\n",
       "       1.01560612, 0.94129311, 1.1807434 , 0.88549423, 0.9325774 ,\n",
       "       1.12442781, 1.05981912, 0.94434659, 1.008176  , 1.10425403,\n",
       "       1.01081215, 0.87579512, 1.01871697, 0.92682029, 0.98330651,\n",
       "       0.97462595, 1.07658123, 0.98879685, 1.04333626, 0.9543749 ,\n",
       "       1.00407224, 0.95319717, 0.85598912, 0.98710223, 0.99601281,\n",
       "       0.81754699, 1.02345899, 0.92413972, 1.12485415, 1.10847816,\n",
       "       0.90879741, 0.93813429, 1.02865639, 0.97770495, 1.10928409,\n",
       "       0.90156708, 0.98614348, 1.06607223, 0.96914335, 1.01955163,\n",
       "       0.98301866, 1.02848184, 0.92720721, 0.9750568 , 0.86440237,\n",
       "       0.90593739, 0.96976792, 0.95018029, 0.93485991, 0.91942865,\n",
       "       1.05117403, 0.84817544, 1.01942832, 1.06503721, 1.00036492,\n",
       "       0.98699688, 0.92038356, 1.15682602, 0.94861169, 0.90065757,\n",
       "       1.0692071 , 0.99261275, 1.01081343, 0.99992862, 1.02249917,\n",
       "       0.96941657, 0.92249927, 1.05360907, 1.03581056, 0.9346728 ,\n",
       "       0.94208734, 0.91640134, 0.96311669, 0.83779201, 0.95132067,\n",
       "       0.9891236 , 1.03399669, 1.0168133 , 0.88168971, 0.90624852,\n",
       "       0.94537583, 0.99666781, 1.07119362, 1.00240669, 0.99997114,\n",
       "       0.86821398, 0.95524043, 0.94099316, 0.94039817, 1.04051122,\n",
       "       0.93397945, 0.98854085, 0.90171686, 1.03321037, 0.92715701,\n",
       "       0.92257107, 0.91900603, 0.95948396, 1.07274611, 0.89987176,\n",
       "       0.97994003, 0.90227977, 0.97923276, 1.18405533, 0.94303746,\n",
       "       0.91607232, 1.02201683, 0.94740443, 0.93145097, 0.93533632,\n",
       "       1.07323283, 1.05629767, 1.00736919, 1.03869462, 0.95606771,\n",
       "       1.03434024, 1.16237736, 0.91836527, 1.02191629, 1.00745167,\n",
       "       1.02372219, 0.87994647, 0.92566183, 1.00244105, 1.06545498,\n",
       "       0.90315255, 0.98495123, 0.96573934, 0.94293498, 1.03742004,\n",
       "       1.00535693, 0.95253235, 0.91558495, 0.95547962, 0.92517301,\n",
       "       1.01160797, 1.05214681, 0.97043546, 0.9611433 , 0.97770337,\n",
       "       1.07941053, 1.0299863 , 0.99975443, 1.03524916, 0.99312349,\n",
       "       1.02077898, 1.12619925, 1.03748948, 1.0007314 , 1.03770869,\n",
       "       0.98462251, 0.86942637, 1.00162727, 1.06223706, 1.03034429,\n",
       "       1.07305605, 1.06799284, 1.01657551, 1.00240521, 0.90587937,\n",
       "       1.02792864, 1.00106807, 1.00615219, 0.90496654, 0.96765355,\n",
       "       0.98258044, 1.08623631, 1.01623538, 0.90491668, 0.97744336,\n",
       "       0.9590844 , 0.97034694, 0.95609127, 1.03833562, 0.89173795,\n",
       "       0.93404831, 1.00267026, 1.04993888, 1.15162271, 1.01908298,\n",
       "       0.92928991, 0.85315869, 0.84393799, 1.00301399, 0.91660716,\n",
       "       1.02147876, 0.97305223, 1.07406407, 1.00927998, 1.00228433,\n",
       "       1.05795578, 0.97378146, 1.01907952, 1.03840335, 1.04574034,\n",
       "       1.05009937, 0.78943054, 0.97508583, 1.02828539, 1.00542844,\n",
       "       1.02697637, 0.95221128, 0.95139628, 1.0373999 , 0.86665729,\n",
       "       1.06439344, 0.99423552, 0.95001862, 1.01449859, 1.0526415 ,\n",
       "       1.047197  , 1.01107192, 0.9640617 , 0.99621246, 0.98933718,\n",
       "       0.97965785, 0.9170927 , 1.013282  , 1.0675138 , 1.02208683,\n",
       "       0.99776052, 0.90627832, 0.97217084, 0.93013223, 0.88517505,\n",
       "       1.02986112, 0.93290383, 0.94800637, 0.92983752, 1.04406224,\n",
       "       1.01407314, 0.9634185 , 1.04103354, 0.87189771, 1.06625215,\n",
       "       1.15490072, 1.04184471, 1.09183687, 0.9410757 , 1.10363585,\n",
       "       0.92681038, 0.98361555, 0.97269595, 1.04092903, 1.1043054 ,\n",
       "       0.94694053, 1.06589763, 1.04758912, 0.95181169, 0.96757886,\n",
       "       1.12092997, 1.01196379, 1.10129247, 0.94985367, 0.90807598,\n",
       "       0.8777099 , 0.94649895, 1.00859064, 0.99175418, 1.03793832,\n",
       "       0.91837608, 1.06234976, 0.8315802 , 1.04231891, 1.07419832,\n",
       "       0.89230297, 1.02452396, 0.95544979, 0.97974563, 1.07182776,\n",
       "       0.94545346, 0.9743891 , 0.9451141 , 0.90688619, 0.97885304,\n",
       "       0.91964554, 0.88605525, 0.94042762, 1.11960136, 0.9982764 ,\n",
       "       1.03434577, 1.07269396, 0.99110965, 0.91564453, 0.96779052,\n",
       "       0.99623773, 0.82874189, 0.95467108, 0.94057517, 1.06647451,\n",
       "       0.91148548, 1.04089284, 1.03383209, 1.01128585, 1.00387912,\n",
       "       0.93026776, 0.90546481, 0.88358243, 0.98174753, 0.96868328,\n",
       "       1.04032721, 0.91265549, 1.11689377, 1.00537326, 1.08595248,\n",
       "       1.11796781, 1.01823556, 0.913077  , 1.06284086, 0.83501497,\n",
       "       0.94853106, 1.05184475, 1.01698166, 0.94030574, 1.05203487,\n",
       "       1.01647666, 1.0781484 , 0.89720563, 1.05581407, 0.88720578,\n",
       "       1.06922509, 0.87060167, 0.96647761, 1.03479613, 1.07299184,\n",
       "       1.06258784, 0.91134508, 1.02526201, 0.94725838, 1.01122617,\n",
       "       0.90107543, 1.08905729, 0.94735733, 0.98781732, 0.93001079,\n",
       "       1.0764769 , 1.03928019, 0.96845896, 1.06377686, 1.02053323,\n",
       "       1.01941638, 0.87246029, 1.03839058, 1.02548973, 1.01963943,\n",
       "       0.88557982, 1.00598207, 1.02206799, 1.08511182, 0.95003625,\n",
       "       0.84921826, 1.04594644, 0.92790417, 0.97509482, 0.91041432,\n",
       "       0.97942692, 0.95253911, 1.052938  , 1.04757477, 1.01626562,\n",
       "       0.83607834, 0.77307683, 1.11643788, 0.98246121, 1.11298671,\n",
       "       1.09276455, 0.9800531 , 1.00920298, 0.95420663, 0.99417579,\n",
       "       1.04439582, 0.99804817, 1.1171434 , 1.05116467, 0.91702347,\n",
       "       1.06579411, 0.97405016, 1.02703264, 0.94796441, 1.04567395,\n",
       "       0.93574536, 0.92455108, 0.9358513 , 1.01173874, 1.07630336,\n",
       "       0.99263775, 1.07339245, 1.01701749, 1.01063521, 0.87361085,\n",
       "       1.06478225, 1.03491227, 0.97067603, 1.0749319 , 0.83921992,\n",
       "       1.15098885, 1.10610152, 0.89377336, 1.04316781, 0.94914643,\n",
       "       1.0875102 , 0.90677236, 0.89785122, 0.90617851, 1.00815394,\n",
       "       1.04977977, 0.99896385, 0.98201109, 0.90270038, 1.02278525,\n",
       "       1.10467591, 1.02820478, 1.03045044, 0.94961552, 1.08310538,\n",
       "       1.11319833, 1.1499124 , 0.94789898, 1.01014732, 1.0546632 ,\n",
       "       0.97393119, 0.90008567, 0.94117571, 0.98085232, 1.0520677 ,\n",
       "       0.86464857, 1.05882953, 0.85362879, 0.95674281, 1.05363502,\n",
       "       1.04540613, 1.0874244 , 0.93603536, 0.9351448 , 0.9309021 ,\n",
       "       1.00134226, 0.97120102, 1.12942268, 1.02206918, 0.91253706,\n",
       "       0.98209578, 1.08647262, 1.02682749, 0.83775175, 1.03272067,\n",
       "       1.10530722, 0.99878068, 0.91159726, 0.99361444, 1.0691941 ,\n",
       "       1.0713964 , 1.04314029, 0.97481112, 1.09841699, 1.01378388,\n",
       "       1.02501772, 0.97059887, 1.1170564 , 1.00674427, 1.04394873,\n",
       "       0.9349527 , 0.83939987, 1.02193842, 1.03841446, 1.04388134,\n",
       "       1.00790644, 1.04577393, 0.83331754, 1.11942595, 1.03900962])"
      ]
     },
     "execution_count": 27,
     "metadata": {},
     "output_type": "execute_result"
    }
   ],
   "source": [
    "aic_sigma_estimates"
   ]
  },
  {
   "cell_type": "code",
   "execution_count": null,
   "id": "b9d0f48d",
   "metadata": {},
   "outputs": [],
   "source": []
  }
 ],
 "metadata": {
  "kernelspec": {
   "display_name": "Python 3",
   "language": "python",
   "name": "python3"
  },
  "language_info": {
   "codemirror_mode": {
    "name": "ipython",
    "version": 3
   },
   "file_extension": ".py",
   "mimetype": "text/x-python",
   "name": "python",
   "nbconvert_exporter": "python",
   "pygments_lexer": "ipython3",
   "version": "3.7.10"
  }
 },
 "nbformat": 4,
 "nbformat_minor": 5
}
