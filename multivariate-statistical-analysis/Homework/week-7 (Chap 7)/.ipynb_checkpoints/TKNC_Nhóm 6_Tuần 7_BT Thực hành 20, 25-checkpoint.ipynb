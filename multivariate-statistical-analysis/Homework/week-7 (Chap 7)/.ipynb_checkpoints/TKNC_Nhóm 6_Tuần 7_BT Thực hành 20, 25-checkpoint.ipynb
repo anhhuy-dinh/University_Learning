{
 "cells": [
  {
   "cell_type": "code",
   "execution_count": 1,
   "id": "63bab1a7",
   "metadata": {},
   "outputs": [],
   "source": [
    "import numpy as np\n",
    "import pandas as pd\n",
    "import scipy.stats as stats\n",
    "from matplotlib import pyplot as plt"
   ]
  },
  {
   "cell_type": "markdown",
   "id": "8600e520",
   "metadata": {},
   "source": [
    "### 7.20\n",
    "**Sử dụng dữ liệu battery-failure ở bảng 7.5, hồi quy $\\ln{(Y)}$ trên thành phần chính thứ nhất của các biến dự đoán $z_1,z_2,...,z_5$ (Xem Section 8.3). So sánh kết quả với mô hình được fit thu được ở bài tập 7.19(a).**"
   ]
  },
  {
   "cell_type": "code",
   "execution_count": 2,
   "id": "cc28a2ef",
   "metadata": {},
   "outputs": [
    {
     "name": "stdout",
     "output_type": "stream",
     "text": [
      ">> Data: \n",
      "        Z1    Z2     Z3  Z4    Z5    Y\n",
      "0   0.375  3.13   60.0  40  2.00  101\n",
      "1   1.000  3.13   76.8  30  1.99  141\n",
      "2   1.000  3.13   60.0  20  2.00   96\n",
      "3   1.000  3.13   60.0  20  1.98  125\n",
      "4   1.625  3.13   43.2  10  2.01   43\n",
      "5   1.625  3.13   60.0  20  2.00   16\n",
      "6   1.625  3.13   60.0  20  2.02  188\n",
      "7   0.375  5.00   76.8  10  2.01   10\n",
      "8   1.000  5.00   43.2  10  1.99    3\n",
      "9   1.000  5.00   43.2  30  2.01  386\n",
      "10  1.000  5.00  100.0  20  2.00   45\n",
      "11  1.625  5.00   76.8  10  1.99    2\n",
      "12  0.375  1.25   76.8  10  2.01   76\n",
      "13  1.000  1.25   43.2  10  1.99   78\n",
      "14  1.000  1.25   76.8  30  2.00  160\n",
      "15  1.000  1.25   60.0   0  2.00    3\n",
      "16  1.625  1.25   43.2  30  1.99  216\n",
      "17  1.625  1.25   60.0  20  2.00   73\n",
      "18  0.375  3.13   76.8  30  1.99  314\n",
      "19  0.375  3.13   60.0  20  2.00  170\n"
     ]
    }
   ],
   "source": [
    "path_20 = 'T7-5.txt'\n",
    "data_20 = pd.read_table(path_20, delim_whitespace=True, header=None)\n",
    "data_20.columns = ['Z1', 'Z2', 'Z3', 'Z4', 'Z5', 'Y']\n",
    "\n",
    "X = data_20.drop('Y', axis=1)\n",
    "y = data_20['Y']\n",
    "\n",
    "print(\">> Data: \\n\", data_20) "
   ]
  },
  {
   "cell_type": "code",
   "execution_count": 23,
   "id": "5f15c4d6",
   "metadata": {
    "scrolled": true
   },
   "outputs": [
    {
     "name": "stdout",
     "output_type": "stream",
     "text": [
      ">> Least square estimates beta = [3.99978876 0.16129133]\n"
     ]
    }
   ],
   "source": [
    "from sklearn.preprocessing import StandardScaler\n",
    "from sklearn.decomposition import PCA\n",
    "\n",
    "X_scaled = (X - X.mean(axis = 0))/X.std(axis = 0, ddof = 1)\n",
    "\n",
    "pca = PCA(n_components=1)\n",
    "X_pca = pca.fit_transform(X_scaled)"
   ]
  },
  {
   "cell_type": "code",
   "execution_count": 29,
   "id": "83a6a5de",
   "metadata": {},
   "outputs": [],
   "source": [
    "def regression_model(X, y):\n",
    "    z = np.concatenate([np.ones([X.shape[0],1]), X], axis=1)\n",
    "    zz = (z.T).dot(z)\n",
    "    zy = (z.T).dot(y)\n",
    "    beta = np.linalg.inv(zz).dot(zy)\n",
    "    y_hat = z.dot(beta)\n",
    "    epsilon = y - y_hat\n",
    "    \n",
    "    y_mean = y.mean()\n",
    "    R2 = (y_hat - y_mean).T.dot((y_hat - y_mean))/(y - y_mean).T.dot((y - y_mean))\n",
    "    \n",
    "    print(\">> Least square estimates beta = \\n\", beta)\n",
    "    print(\"\\n>> The vector of fitted (predicted) values y_hat = \\n\", y_hat)\n",
    "    print(\"\\n>> The residuals epsilon = \\n\", np.array(epsilon))\n",
    "    print(\"\\n>> The coefficient of determination R2 = \", R2)"
   ]
  },
  {
   "cell_type": "code",
   "execution_count": 30,
   "id": "f2a132e1",
   "metadata": {},
   "outputs": [
    {
     "name": "stdout",
     "output_type": "stream",
     "text": [
      ">> Least square estimates beta = \n",
      " [3.99978876 0.16129133]\n",
      "\n",
      ">> The vector of fitted (predicted) values y_hat = \n",
      " [4.21180656 4.14911605 3.99396477 3.99248101 3.70997155 3.86512283\n",
      " 3.86660659 4.2730997  3.91998754 4.01047115 4.34184455 4.01393206\n",
      " 4.10734208 3.75422991 4.06675811 3.8218651  3.71438782 3.78202301\n",
      " 4.27795799 4.12280671]\n",
      "\n",
      ">> The residuals epsilon = \n",
      " [ 0.40331395  0.79964384  0.57038342  0.83583272  0.05122856 -1.09253411\n",
      "  1.36983537 -1.97051461 -2.82137525  1.94536622 -0.53518206 -3.32078488\n",
      "  0.22339126  0.60247891  1.00841571 -2.72325281  1.66089058  0.50843643\n",
      "  1.471435    1.01299172]\n",
      "\n",
      ">> The coefficient of determination R2 = \n",
      " 0.015017645625395865\n"
     ]
    }
   ],
   "source": [
    "regression_model(X_pca, np.log(y))"
   ]
  },
  {
   "cell_type": "code",
   "execution_count": null,
   "id": "5f2a7691",
   "metadata": {},
   "outputs": [],
   "source": [
    "S = np.cov(X.T)\n",
    "mean_y = y.mean()\n",
    "R2 = (y_hat - mean_Y).T.dot((y_hat - mean_Y))/(y - mean_Y).T.dot((y - mean_Y))\n"
   ]
  },
  {
   "cell_type": "code",
   "execution_count": 19,
   "id": "c876f4f8",
   "metadata": {},
   "outputs": [],
   "source": [
    "a = "
   ]
  },
  {
   "cell_type": "code",
   "execution_count": 20,
   "id": "45560f51",
   "metadata": {},
   "outputs": [],
   "source": [
    "b = "
   ]
  },
  {
   "cell_type": "code",
   "execution_count": 21,
   "id": "9a1929a2",
   "metadata": {},
   "outputs": [
    {
     "data": {
      "text/plain": [
       "1.1265389463061637"
      ]
     },
     "execution_count": 21,
     "metadata": {},
     "output_type": "execute_result"
    }
   ],
   "source": [
    "a/b"
   ]
  },
  {
   "cell_type": "markdown",
   "id": "a3dc8bdc",
   "metadata": {},
   "source": [
    "### 7.25\n",
    "**Amitriptyline được một số bác sĩ kê đơn như thuốc chống trầm cảm. Tuy nhiên, cũng có những tác dụng phụ được phỏng đoán liên quan đến việc sử dụng thuốc như: nhịp tim không đều, huyết áp bất thường và sóng không đều trên điện tâm đồ, cũng nhiều triệu chứng khác. Dữ liệu thu được trên 17 bệnh nhân nhập viện sau khi dùng quá liều amitriptyline được đưa ra trong bảng 7.6. Hai biến phản hồi là**\n",
    "\n",
    "* $Y_1$ **= Tổng mức TCAD trong huyết tương (TOT)**\n",
    "* $Y_2$ **= Lượng amitriptyline có trong mức TCAD trong huyết tương (AMI)**\n",
    "\n",
    "**5 biến dự đoán là**\n",
    "\n",
    "* $Z_1$ **= Giới tính: 1 nếu là nữ, 0 nếu là nam (GEN)**\n",
    "* $Z_2$ **= Lượng antidepressants dùng tại thời điểm quá liều (AMT)**\n",
    "* $Z_3$ **= Phép đo sóng PR (PR)**\n",
    "* $Z_4$ **= Huyết áp tâm trương (DIAP)**\n",
    "* $Z_5$ **= Phép đo sóng QRS (QRS)**"
   ]
  },
  {
   "cell_type": "code",
   "execution_count": 6,
   "id": "37d57f4a",
   "metadata": {},
   "outputs": [
    {
     "ename": "NameError",
     "evalue": "name 'Z' is not defined",
     "output_type": "error",
     "traceback": [
      "\u001b[0;31m---------------------------------------------------------------------------\u001b[0m",
      "\u001b[0;31mNameError\u001b[0m                                 Traceback (most recent call last)",
      "\u001b[0;32m<ipython-input-6-b4379bcb7951>\u001b[0m in \u001b[0;36m<module>\u001b[0;34m\u001b[0m\n\u001b[0;32m----> 1\u001b[0;31m \u001b[0mZ\u001b[0m\u001b[0;34m\u001b[0m\u001b[0;34m\u001b[0m\u001b[0m\n\u001b[0m",
      "\u001b[0;31mNameError\u001b[0m: name 'Z' is not defined"
     ]
    }
   ],
   "source": [
    "Z"
   ]
  },
  {
   "cell_type": "markdown",
   "id": "6b88e1d8",
   "metadata": {},
   "source": [
    "**(a) Thực hiện phân tích hồi quy bằng cách sử dụng biến phản hồi thứ 1 $Y_1$.**\n",
    "\n",
    "*    **(i) Đề xuất và fit một xấp xỉ mô hình hồi quy tuyến tính.**\n",
    "\n",
    "*    **(ii) Phân tích residuals.**\n",
    "\n",
    "*    **(iii) Xây dựng khoảng dự đoán 95% cho tổng mức TCAD với $z_1=1, z_2 = 1200, z_3 = 140, z_4 = 70$ và $z_5 = 85$.**"
   ]
  },
  {
   "cell_type": "code",
   "execution_count": null,
   "id": "2fcca913",
   "metadata": {},
   "outputs": [],
   "source": []
  },
  {
   "cell_type": "markdown",
   "id": "dc530092",
   "metadata": {},
   "source": [
    "**(b) Lặp lại câu (a) bằng cách sử dụng biến phản hồi thứ 2 $Y_2$.**"
   ]
  },
  {
   "cell_type": "code",
   "execution_count": null,
   "id": "94881bae",
   "metadata": {},
   "outputs": [],
   "source": []
  },
  {
   "cell_type": "markdown",
   "id": "f9e993ab",
   "metadata": {},
   "source": [
    "**(c) Thực hiện phân tích hồi quy bội đa biến bằng cách sử dụng cả 2 biến phản hồi $Y_1$ và $Y_2$.**\n",
    "\n",
    "*    **(i) Đề xuất và fit một xấp xỉ mô hình hồi quy tuyến tính.**\n",
    "\n",
    "*    **(ii) Phân tích residuals.**\n",
    "\n",
    "*    **(iii) Xây dựng khoảng dự đoán 95% cho tổng mức TCAD với $z_1=1, z_2 = 1200, z_3 = 140, z_4 = 70$ và $z_5 = 85$. So sánh hình ellipse với các khoảng tin cậy dự đoán ở câu (a) và (b). Nhận xét.**"
   ]
  },
  {
   "cell_type": "code",
   "execution_count": null,
   "id": "962d7a54",
   "metadata": {},
   "outputs": [],
   "source": []
  }
 ],
 "metadata": {
  "kernelspec": {
   "display_name": "Python 3",
   "language": "python",
   "name": "python3"
  },
  "language_info": {
   "codemirror_mode": {
    "name": "ipython",
    "version": 3
   },
   "file_extension": ".py",
   "mimetype": "text/x-python",
   "name": "python",
   "nbconvert_exporter": "python",
   "pygments_lexer": "ipython3",
   "version": "3.7.10"
  }
 },
 "nbformat": 4,
 "nbformat_minor": 5
}
