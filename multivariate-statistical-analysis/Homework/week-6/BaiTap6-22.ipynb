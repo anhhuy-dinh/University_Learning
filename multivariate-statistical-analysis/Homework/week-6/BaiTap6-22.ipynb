{
 "cells": [
  {
   "cell_type": "code",
   "execution_count": 1,
   "metadata": {},
   "outputs": [],
   "source": [
    "import numpy as np\n",
    "import pandas as pd\n",
    "import warnings\n",
    "from scipy.stats import f, t, chi2\n",
    "warnings.filterwarnings(\"ignore\")"
   ]
  },
  {
   "cell_type": "code",
   "execution_count": 2,
   "metadata": {},
   "outputs": [
    {
     "data": {
      "text/html": [
       "<div>\n",
       "<style scoped>\n",
       "    .dataframe tbody tr th:only-of-type {\n",
       "        vertical-align: middle;\n",
       "    }\n",
       "\n",
       "    .dataframe tbody tr th {\n",
       "        vertical-align: top;\n",
       "    }\n",
       "\n",
       "    .dataframe thead th {\n",
       "        text-align: right;\n",
       "    }\n",
       "</style>\n",
       "<table border=\"1\" class=\"dataframe\">\n",
       "  <thead>\n",
       "    <tr style=\"text-align: right;\">\n",
       "      <th></th>\n",
       "      <th>0</th>\n",
       "      <th>1</th>\n",
       "      <th>2</th>\n",
       "      <th>3</th>\n",
       "      <th>4</th>\n",
       "      <th>5</th>\n",
       "      <th>6</th>\n",
       "      <th>7</th>\n",
       "      <th>8</th>\n",
       "    </tr>\n",
       "  </thead>\n",
       "  <tbody>\n",
       "    <tr>\n",
       "      <th>45</th>\n",
       "      <td>0.31</td>\n",
       "      <td>NaN</td>\n",
       "      <td>4.77</td>\n",
       "      <td>NaN</td>\n",
       "      <td>1.97</td>\n",
       "      <td>NaN</td>\n",
       "      <td>30.40</td>\n",
       "      <td>NaN</td>\n",
       "      <td>female</td>\n",
       "    </tr>\n",
       "    <tr>\n",
       "      <th>46</th>\n",
       "      <td>0.27</td>\n",
       "      <td>NaN</td>\n",
       "      <td>5.16</td>\n",
       "      <td>NaN</td>\n",
       "      <td>2.03</td>\n",
       "      <td>NaN</td>\n",
       "      <td>39.46</td>\n",
       "      <td>NaN</td>\n",
       "      <td>female</td>\n",
       "    </tr>\n",
       "    <tr>\n",
       "      <th>47</th>\n",
       "      <td>0.66</td>\n",
       "      <td>NaN</td>\n",
       "      <td>11.05</td>\n",
       "      <td>NaN</td>\n",
       "      <td>2.32</td>\n",
       "      <td>NaN</td>\n",
       "      <td>39.34</td>\n",
       "      <td>NaN</td>\n",
       "      <td>female</td>\n",
       "    </tr>\n",
       "    <tr>\n",
       "      <th>48</th>\n",
       "      <td>0.37</td>\n",
       "      <td>NaN</td>\n",
       "      <td>5.23</td>\n",
       "      <td>NaN</td>\n",
       "      <td>2.48</td>\n",
       "      <td>NaN</td>\n",
       "      <td>34.86</td>\n",
       "      <td>NaN</td>\n",
       "      <td>female</td>\n",
       "    </tr>\n",
       "    <tr>\n",
       "      <th>49</th>\n",
       "      <td>0.35</td>\n",
       "      <td>NaN</td>\n",
       "      <td>5.37</td>\n",
       "      <td>NaN</td>\n",
       "      <td>2.25</td>\n",
       "      <td>NaN</td>\n",
       "      <td>35.07</td>\n",
       "      <td>NaN</td>\n",
       "      <td>female</td>\n",
       "    </tr>\n",
       "  </tbody>\n",
       "</table>\n",
       "</div>"
      ],
      "text/plain": [
       "       0   1      2   3     4   5      6   7       8\n",
       "45  0.31 NaN   4.77 NaN  1.97 NaN  30.40 NaN  female\n",
       "46  0.27 NaN   5.16 NaN  2.03 NaN  39.46 NaN  female\n",
       "47  0.66 NaN  11.05 NaN  2.32 NaN  39.34 NaN  female\n",
       "48  0.37 NaN   5.23 NaN  2.48 NaN  34.86 NaN  female\n",
       "49  0.35 NaN   5.37 NaN  2.25 NaN  35.07 NaN  female"
      ]
     },
     "execution_count": 2,
     "metadata": {},
     "output_type": "execute_result"
    }
   ],
   "source": [
    "df = pd.read_csv('t-6.12',sep=\"\\s\", header=None)\n",
    "df.tail()"
   ]
  },
  {
   "cell_type": "code",
   "execution_count": 3,
   "metadata": {},
   "outputs": [
    {
     "data": {
      "text/html": [
       "<div>\n",
       "<style scoped>\n",
       "    .dataframe tbody tr th:only-of-type {\n",
       "        vertical-align: middle;\n",
       "    }\n",
       "\n",
       "    .dataframe tbody tr th {\n",
       "        vertical-align: top;\n",
       "    }\n",
       "\n",
       "    .dataframe thead th {\n",
       "        text-align: right;\n",
       "    }\n",
       "</style>\n",
       "<table border=\"1\" class=\"dataframe\">\n",
       "  <thead>\n",
       "    <tr style=\"text-align: right;\">\n",
       "      <th></th>\n",
       "      <th>0</th>\n",
       "      <th>2</th>\n",
       "      <th>4</th>\n",
       "      <th>6</th>\n",
       "      <th>8</th>\n",
       "    </tr>\n",
       "  </thead>\n",
       "  <tbody>\n",
       "    <tr>\n",
       "      <th>0</th>\n",
       "      <td>0.34</td>\n",
       "      <td>3.71</td>\n",
       "      <td>2.87</td>\n",
       "      <td>30.87</td>\n",
       "      <td>male</td>\n",
       "    </tr>\n",
       "    <tr>\n",
       "      <th>1</th>\n",
       "      <td>0.39</td>\n",
       "      <td>5.08</td>\n",
       "      <td>3.38</td>\n",
       "      <td>43.85</td>\n",
       "      <td>male</td>\n",
       "    </tr>\n",
       "    <tr>\n",
       "      <th>2</th>\n",
       "      <td>0.48</td>\n",
       "      <td>5.13</td>\n",
       "      <td>4.13</td>\n",
       "      <td>44.51</td>\n",
       "      <td>male</td>\n",
       "    </tr>\n",
       "    <tr>\n",
       "      <th>3</th>\n",
       "      <td>0.31</td>\n",
       "      <td>3.95</td>\n",
       "      <td>3.60</td>\n",
       "      <td>46.00</td>\n",
       "      <td>male</td>\n",
       "    </tr>\n",
       "    <tr>\n",
       "      <th>4</th>\n",
       "      <td>0.36</td>\n",
       "      <td>5.51</td>\n",
       "      <td>3.11</td>\n",
       "      <td>47.02</td>\n",
       "      <td>male</td>\n",
       "    </tr>\n",
       "  </tbody>\n",
       "</table>\n",
       "</div>"
      ],
      "text/plain": [
       "      0     2     4      6     8\n",
       "0  0.34  3.71  2.87  30.87  male\n",
       "1  0.39  5.08  3.38  43.85  male\n",
       "2  0.48  5.13  4.13  44.51  male\n",
       "3  0.31  3.95  3.60  46.00  male\n",
       "4  0.36  5.51  3.11  47.02  male"
      ]
     },
     "execution_count": 3,
     "metadata": {},
     "output_type": "execute_result"
    }
   ],
   "source": [
    "df=df.dropna(axis=1)\n",
    "df.head()"
   ]
  },
  {
   "cell_type": "code",
   "execution_count": 4,
   "metadata": {},
   "outputs": [],
   "source": [
    "df.rename(columns={0:'RestVolO2(L/min)',\n",
    "                   2:'RestVolO2(mL/kg/min)',\n",
    "                   4:'MaxVolO2(L/min)',\n",
    "                    6: 'MaxVolO2(mL/kg/min)',\n",
    "                  8:'Sex'}, \n",
    "                 inplace=True)"
   ]
  },
  {
   "cell_type": "code",
   "execution_count": 5,
   "metadata": {},
   "outputs": [
    {
     "name": "stdout",
     "output_type": "stream",
     "text": [
      "<class 'pandas.core.frame.DataFrame'>\n",
      "RangeIndex: 50 entries, 0 to 49\n",
      "Data columns (total 5 columns):\n",
      " #   Column                Non-Null Count  Dtype  \n",
      "---  ------                --------------  -----  \n",
      " 0   RestVolO2(L/min)      50 non-null     float64\n",
      " 1   RestVolO2(mL/kg/min)  50 non-null     float64\n",
      " 2   MaxVolO2(L/min)       50 non-null     float64\n",
      " 3   MaxVolO2(mL/kg/min)   50 non-null     float64\n",
      " 4   Sex                   50 non-null     object \n",
      "dtypes: float64(4), object(1)\n",
      "memory usage: 2.1+ KB\n"
     ]
    }
   ],
   "source": [
    "df.info()"
   ]
  },
  {
   "cell_type": "code",
   "execution_count": 6,
   "metadata": {},
   "outputs": [],
   "source": [
    "X_male = df[df['Sex'] == 'male'].to_numpy()\n",
    "X_female = df[df['Sex'] == 'female'].to_numpy()"
   ]
  },
  {
   "cell_type": "code",
   "execution_count": 7,
   "metadata": {},
   "outputs": [],
   "source": [
    "X_male = X_male[:,0:-1]\n",
    "X_female = X_female[:,0:-1]"
   ]
  },
  {
   "cell_type": "code",
   "execution_count": 8,
   "metadata": {},
   "outputs": [],
   "source": [
    "mu_male = X_male.mean(axis=0)\n",
    "mu_female = X_female.mean(axis=0)"
   ]
  },
  {
   "cell_type": "code",
   "execution_count": 9,
   "metadata": {},
   "outputs": [],
   "source": [
    "S1 = np.cov(X_male.T.astype(float))\n",
    "S2 = np.cov(X_female.T.astype(float))"
   ]
  },
  {
   "cell_type": "code",
   "execution_count": 10,
   "metadata": {},
   "outputs": [
    {
     "data": {
      "text/plain": [
       "array([[7.12100000e-03, 7.00030000e-02, 3.14471667e-02, 1.50580333e-01],\n",
       "       [7.00030000e-02, 1.14417900e+00, 1.47678167e-01, 3.43090850e+00],\n",
       "       [3.14471667e-02, 1.47678167e-01, 4.55877333e-01, 3.30812183e+00],\n",
       "       [1.50580333e-01, 3.43090850e+00, 3.30812183e+00, 5.52521457e+01]])"
      ]
     },
     "execution_count": 10,
     "metadata": {},
     "output_type": "execute_result"
    }
   ],
   "source": [
    "S1"
   ]
  },
  {
   "cell_type": "code",
   "execution_count": 11,
   "metadata": {},
   "outputs": [
    {
     "data": {
      "text/plain": [
       "array([[ 9.73233333e-03,  1.54087833e-01,  4.16800000e-03,\n",
       "         2.97570000e-02],\n",
       "       [ 1.54087833e-01,  2.78066100e+00, -3.94476667e-02,\n",
       "         1.28069767e+00],\n",
       "       [ 4.16800000e-03, -3.94476667e-02,  1.20509333e-01,\n",
       "         1.09814900e+00],\n",
       "       [ 2.97570000e-02,  1.28069767e+00,  1.09814900e+00,\n",
       "         2.32608260e+01]])"
      ]
     },
     "execution_count": 11,
     "metadata": {},
     "output_type": "execute_result"
    }
   ],
   "source": [
    "S2"
   ]
  },
  {
   "cell_type": "code",
   "execution_count": 12,
   "metadata": {},
   "outputs": [],
   "source": [
    "S_pooled = 24/48 * S1 + 24/48 * S2"
   ]
  },
  {
   "cell_type": "markdown",
   "metadata": {},
   "source": [
    "   Gỉa thuyết thống kê:\n",
    "\n",
    "   $H_{0}: \\Sigma_{1} = \\Sigma_{2}$\n",
    "   \n",
    "   $H_{1}: \\Sigma_{1} \\neq \\Sigma_{2}$\n",
    "\n",
    "   Mức ý nghĩa $\\alpha$ = 0.05"
   ]
  },
  {
   "cell_type": "markdown",
   "metadata": {},
   "source": [
    "$C = (1-u)\\left\\{\\left[ \\sum_{l} (n_{l} - 1)\\right]\\ln|\\textbf{S}_{pooled}| - \\sum_{l}\\left[(n_{l}-1)\\ln|\\textbf{S}_{l}|\\right]\\right\\}$"
   ]
  },
  {
   "cell_type": "markdown",
   "metadata": {},
   "source": [
    "trong đó\n",
    "\n",
    "   v = $\\frac{1}{2}p(p+1)(g-1)$\n",
    "   \n",
    "và\n",
    "\n",
    "   u = $\\left[\\displaystyle \\sum_{l}\\dfrac{1}{(n_l - 1)} - \\dfrac{1}{\\displaystyle \\sum_{l}(n_l - 1)}\\right]\\dfrac{2p^2 + 3p - 1}{6(p + 1)(g - 1)}$\n"
   ]
  },
  {
   "cell_type": "code",
   "execution_count": 13,
   "metadata": {},
   "outputs": [],
   "source": [
    "p, g = 4, 2\n",
    "n1 = n2 = 25\n",
    "u = (1/(n1-1) + 1/(n2-1) - 1/(n1+n2-2))*(2*p**2 + 3*p - 1)/(6*(p+1)*(g-1))\n",
    "v = (1/2)*p*(p+1)*(g-1)"
   ]
  },
  {
   "cell_type": "code",
   "execution_count": 14,
   "metadata": {},
   "outputs": [],
   "source": [
    "C = (1-u)*((n1+n2-2)*np.log(np.linalg.det(S_pooled)) - (n1-1)*np.log(np.linalg.det(S1)) - (n2-1)*np.log(np.linalg.det(S2)))"
   ]
  },
  {
   "cell_type": "markdown",
   "metadata": {},
   "source": [
    "$\\chi^2_{p(p+1)(g - 1)/2}(\\alpha)$  = $\\chi^2_{10}(0.05) = $"
   ]
  },
  {
   "cell_type": "code",
   "execution_count": 15,
   "metadata": {},
   "outputs": [
    {
     "data": {
      "text/plain": [
       "18.307038053275146"
      ]
     },
     "execution_count": 15,
     "metadata": {},
     "output_type": "execute_result"
    }
   ],
   "source": [
    "chi2.ppf(1-0.05,10)"
   ]
  },
  {
   "cell_type": "markdown",
   "metadata": {},
   "source": [
    "Kiểm định giả thuyết:\n",
    "\n",
    "$H_{0}: \\mu_{1} = \\mu_{2}$\n",
    "\n",
    "$H_{1}: \\mu_{1} \\neq \\mu_{2}$"
   ]
  },
  {
   "cell_type": "markdown",
   "metadata": {},
   "source": [
    "Ta có trung bình mẫu"
   ]
  },
  {
   "cell_type": "code",
   "execution_count": 16,
   "metadata": {},
   "outputs": [
    {
     "name": "stdout",
     "output_type": "stream",
     "text": [
      "[0.39720000000000005 5.329599999999999 3.6875999999999998 49.4204]\n",
      "[0.31359999999999993 5.1788 2.3152 38.1548]\n"
     ]
    }
   ],
   "source": [
    "print(mu_male)\n",
    "print(mu_female)"
   ]
  },
  {
   "cell_type": "markdown",
   "metadata": {},
   "source": [
    "phép kiểm định $T^{2}$ cho thống kê:\n",
    "\n",
    "$T^{2} = (\\bar{\\textbf{X}}_{1} - \\bar{\\textbf{X}}_{2} - (\\mu_{1} - \\mu_{2}))^{T}\\left[\\dfrac{1}{n_{1}}\\textbf{S}_{1} + \\dfrac{1}{n_{2}}\\textbf{S}_{2}\\right]^{-1}(\\bar{\\textbf{X}}_{1} - \\bar{\\textbf{X}}_{2} - (\\mu_{1} - \\mu_{2}))\\quad \\tag{6-27}$"
   ]
  },
  {
   "cell_type": "code",
   "execution_count": 17,
   "metadata": {},
   "outputs": [],
   "source": [
    "factor_S = 1/25 * S1 + 1/25 * S2"
   ]
  },
  {
   "cell_type": "code",
   "execution_count": 18,
   "metadata": {},
   "outputs": [],
   "source": [
    "factor_S_inv = np.linalg.inv(factor_S)"
   ]
  },
  {
   "cell_type": "code",
   "execution_count": 19,
   "metadata": {},
   "outputs": [],
   "source": [
    "T2 = (mu_male - mu_female).T.dot(factor_S_inv).dot(mu_male - mu_female)"
   ]
  },
  {
   "cell_type": "code",
   "execution_count": 20,
   "metadata": {},
   "outputs": [
    {
     "data": {
      "text/plain": [
       "96.37322129760007"
      ]
     },
     "execution_count": 20,
     "metadata": {},
     "output_type": "execute_result"
    }
   ],
   "source": [
    "T2"
   ]
  },
  {
   "cell_type": "markdown",
   "metadata": {},
   "source": [
    "và điểm tới hạn:\n",
    "$\\dfrac{vp}{v-p+1}F_{p,v-p+1}$\n",
    "\n",
    "trong đó:\n",
    "$v = \\dfrac{p+p^{2}}{\\sum_{i}\\frac{1}{n_{i}}\\left\\{tr\\left[\\left(\\frac{1}{n_{i}}\\textbf{S}_{i}\\left(\\frac{1}{n_{1}}\\textbf{S}_{1}+\\frac{1}{n_{2}}\\textbf{S}_{2}\\right)^{-1}\\right)^{2}\\right] + \\left(tr\\left[\\frac{1}{n_{i}}\\textbf{S}_{i}\\left(\\frac{1}{n_{1}}\\textbf{S}_{1}+\\frac{1}{n_{2}}\\textbf{S}_{2}\\right)^{-1}\\right]\\right)^{2}\\right\\}}$"
   ]
  },
  {
   "cell_type": "markdown",
   "metadata": {},
   "source": [
    "A = $\\dfrac{1}{n1}\\{tr\\left[(\\frac{1}{n1}S_{1}(\\frac{1}{n1}S_{1} + \\frac{1}{n2}S_{2})^{-1})^{2}\\right] + (tr\\left[\\frac{1}{n1}S_{1}(\\frac{1}{n1}S_{1} + \\frac{1}{n2}S_{2})^{-1}\\right])^{2}\\}$\n",
    "\n",
    "B = $\\dfrac{1}{n2}\\{tr\\left[(\\frac{1}{n2}S_{2}(\\frac{1}{n}S_{1} + \\frac{1}{n2}S_{2})^{-1})^{2}\\right] + (tr\\left[\\frac{1}{n2}S_{2}(\\frac{1}{n1}S_{1} + \\frac{1}{n2}S_{2})^{-1}\\right])^{2}\\}$"
   ]
  },
  {
   "cell_type": "code",
   "execution_count": 21,
   "metadata": {},
   "outputs": [],
   "source": [
    "A = 1/n1 * S1.dot(factor_S_inv)"
   ]
  },
  {
   "cell_type": "code",
   "execution_count": 22,
   "metadata": {},
   "outputs": [],
   "source": [
    "first = np.trace(A.dot(A))"
   ]
  },
  {
   "cell_type": "code",
   "execution_count": 23,
   "metadata": {},
   "outputs": [],
   "source": [
    "second = np.trace(A)**2"
   ]
  },
  {
   "cell_type": "code",
   "execution_count": 24,
   "metadata": {
    "scrolled": true
   },
   "outputs": [],
   "source": [
    "term1 = 1/n1 * (first + second)"
   ]
  },
  {
   "cell_type": "code",
   "execution_count": 25,
   "metadata": {},
   "outputs": [
    {
     "data": {
      "text/plain": [
       "0.29038629997409465"
      ]
     },
     "execution_count": 25,
     "metadata": {},
     "output_type": "execute_result"
    }
   ],
   "source": [
    "term1"
   ]
  },
  {
   "cell_type": "code",
   "execution_count": 26,
   "metadata": {},
   "outputs": [],
   "source": [
    "B = 1/n2 * S2.dot(factor_S_inv)"
   ]
  },
  {
   "cell_type": "code",
   "execution_count": 27,
   "metadata": {},
   "outputs": [],
   "source": [
    "first = np.trace(B.dot(B))"
   ]
  },
  {
   "cell_type": "code",
   "execution_count": 28,
   "metadata": {},
   "outputs": [],
   "source": [
    "second = np.trace(B)**2"
   ]
  },
  {
   "cell_type": "code",
   "execution_count": 29,
   "metadata": {},
   "outputs": [],
   "source": [
    "term2 = 1/n2 * (first + second)"
   ]
  },
  {
   "cell_type": "code",
   "execution_count": 30,
   "metadata": {},
   "outputs": [
    {
     "name": "stdout",
     "output_type": "stream",
     "text": [
      "0.4419619174583903\n"
     ]
    }
   ],
   "source": [
    "denom = term1 + term2\n",
    "print(denom)"
   ]
  },
  {
   "cell_type": "code",
   "execution_count": 31,
   "metadata": {},
   "outputs": [
    {
     "name": "stdout",
     "output_type": "stream",
     "text": [
      "45.25276773848496\n"
     ]
    }
   ],
   "source": [
    "v = (p + p**2)/denom\n",
    "print(v)"
   ]
  },
  {
   "cell_type": "markdown",
   "metadata": {},
   "source": [
    "$\\dfrac{vp}{v-p+1}F_{p,v-p+1}$ = $\\dfrac{45.253\\times 4}{45.253-4+1}F_{4,45.253-4+1}(0.05) \\approx 11.11$"
   ]
  },
  {
   "cell_type": "code",
   "execution_count": 32,
   "metadata": {},
   "outputs": [
    {
     "data": {
      "text/plain": [
       "11.107851380093228"
      ]
     },
     "execution_count": 32,
     "metadata": {},
     "output_type": "execute_result"
    }
   ],
   "source": [
    "(v*4)/(v - 4 + 1)*f.ppf(q = 1-0.05, dfn = 4, dfd = v -4+1)"
   ]
  },
  {
   "cell_type": "markdown",
   "metadata": {},
   "source": [
    "$\\hat{\\textbf{a}} \\propto \\left(\\dfrac{1}{n_1}\\textbf{S}_1 + \\dfrac{1}{n_2}\\textbf{S}_2\\right)^{-1}(\\bar{\\textbf{x}}_1 - \\bar{\\textbf{x}}_2)$ "
   ]
  },
  {
   "cell_type": "code",
   "execution_count": 33,
   "metadata": {},
   "outputs": [],
   "source": [
    "a_hat = factor_S_inv.dot(mu_male - mu_female)"
   ]
  },
  {
   "cell_type": "code",
   "execution_count": 34,
   "metadata": {
    "scrolled": true
   },
   "outputs": [
    {
     "name": "stdout",
     "output_type": "stream",
     "text": [
      "[1242.4872248315296 -79.699985037989 -77.85176004070843 9.88529705699483]\n"
     ]
    }
   ],
   "source": [
    "print(a_hat)"
   ]
  },
  {
   "cell_type": "markdown",
   "metadata": {},
   "source": [
    "$c^{2} = \\dfrac{(n_{1} + n_{2} - 2)p}{(n_{1} + n_{2} - p - 1)}F_{p, n_{1}+n_{2}-p-1}(\\alpha)$"
   ]
  },
  {
   "cell_type": "code",
   "execution_count": 35,
   "metadata": {},
   "outputs": [
    {
     "name": "stdout",
     "output_type": "stream",
     "text": [
      "11.002620519729316\n"
     ]
    }
   ],
   "source": [
    "c2 = (n1+n2-2)*p/(n1+n2-p-1)*f.ppf(1-0.05, dfn=p, dfd=n1+n2-p-1)\n",
    "print(c2)"
   ]
  },
  {
   "cell_type": "markdown",
   "metadata": {},
   "source": [
    "Khoảng tin cậy đồng thời:\n",
    "\n",
    "$(\\bar{X}_{1i} - \\bar{X}_{2i}) \\pm c\\sqrt{\\left(\\frac{1}{n_{1}} + \\frac{1}{n_{2}}\\right)s_{ii,pooled}}, i=1,2,...,p$"
   ]
  },
  {
   "cell_type": "code",
   "execution_count": 36,
   "metadata": {},
   "outputs": [],
   "source": [
    "lower = [(mu_male[i] - mu_female[i]) - np.sqrt(c2)*np.sqrt((1/n1+1/n2) * S_pooled[i,i]) for i in range(p)]"
   ]
  },
  {
   "cell_type": "code",
   "execution_count": 37,
   "metadata": {},
   "outputs": [],
   "source": [
    "upper = [(mu_male[i] - mu_female[i]) + np.sqrt(c2)*np.sqrt((1/n1+1/n2) * S_pooled[i,i]) for i in range(p)]"
   ]
  },
  {
   "cell_type": "code",
   "execution_count": 38,
   "metadata": {},
   "outputs": [
    {
     "data": {
      "text/plain": [
       "array([[-2.52336063e-03,  1.69723361e-01],\n",
       "       [-1.16348346e+00,  1.46508346e+00],\n",
       "       [ 8.68742824e-01,  1.87605718e+00],\n",
       "       [ 5.38734028e+00,  1.71438597e+01]])"
      ]
     },
     "execution_count": 38,
     "metadata": {},
     "output_type": "execute_result"
    }
   ],
   "source": [
    "lower = np.array(lower).reshape(-1,1)\n",
    "upper = np.array(upper).reshape(-1,1)\n",
    "np.hstack((lower,upper))"
   ]
  },
  {
   "cell_type": "markdown",
   "metadata": {},
   "source": [
    "Khoảng tin cậy Bonferroni:"
   ]
  },
  {
   "cell_type": "code",
   "execution_count": 39,
   "metadata": {},
   "outputs": [],
   "source": [
    "lower = [(mu_male[i] - mu_female[i]) - t.ppf(1-(0.05/(2*p)), n1)*np.sqrt(S_pooled[i,i]/n1) for i in range(p)]"
   ]
  },
  {
   "cell_type": "code",
   "execution_count": 40,
   "metadata": {},
   "outputs": [],
   "source": [
    "upper = [(mu_male[i] - mu_female[i]) + t.ppf(1-(0.05/(2*p)), n1)*np.sqrt(S_pooled[i,i]/n1) for i in range(p)]"
   ]
  },
  {
   "cell_type": "code",
   "execution_count": 41,
   "metadata": {},
   "outputs": [],
   "source": [
    "lower = np.array(lower).reshape(-1,1)\n",
    "upper = np.array(upper).reshape(-1,1)"
   ]
  },
  {
   "cell_type": "code",
   "execution_count": 42,
   "metadata": {
    "scrolled": true
   },
   "outputs": [
    {
     "data": {
      "text/plain": [
       "array([[ 0.03418468,  0.13301532],\n",
       "       [-0.60330125,  0.90490125],\n",
       "       [ 1.08341477,  1.66138523],\n",
       "       [ 7.89280932, 14.63839068]])"
      ]
     },
     "execution_count": 42,
     "metadata": {},
     "output_type": "execute_result"
    }
   ],
   "source": [
    "np.hstack((lower,upper))"
   ]
  }
 ],
 "metadata": {
  "kernelspec": {
   "display_name": "Python 3",
   "language": "python",
   "name": "python3"
  },
  "language_info": {
   "codemirror_mode": {
    "name": "ipython",
    "version": 3
   },
   "file_extension": ".py",
   "mimetype": "text/x-python",
   "name": "python",
   "nbconvert_exporter": "python",
   "pygments_lexer": "ipython3",
   "version": "3.7.10"
  }
 },
 "nbformat": 4,
 "nbformat_minor": 4
}
