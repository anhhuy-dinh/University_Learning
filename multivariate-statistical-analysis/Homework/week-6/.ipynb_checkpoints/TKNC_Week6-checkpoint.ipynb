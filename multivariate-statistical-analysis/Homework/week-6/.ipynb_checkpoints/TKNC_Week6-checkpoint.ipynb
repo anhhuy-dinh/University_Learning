{
 "cells": [
  {
   "cell_type": "code",
   "execution_count": 1,
   "metadata": {},
   "outputs": [],
   "source": [
    "import numpy as np\n",
    "import pandas as pd\n",
    "import scipy.stats as stats\n",
    "from matplotlib import pyplot as plt\n",
    "import seaborn as sns"
   ]
  },
  {
   "cell_type": "markdown",
   "metadata": {},
   "source": [
    "### 6.19\n",
    "**Trong giai đoạn đầu của một nghiên cứu về chi phí vận chuyển sữa từ trang trại đến nhà máy sữa, một cuộc khảo sát được thực hiện đối với các công ty tham gia vận chuyển. Dữ liệu chi phí trên $X_1 = fuel$, $X_2 = repair$ và $X_3 = capital$, các phép đo trên cơ sở mỗi dặm, được trình bày trong bảng 6.10 trang 345 cho $n_1=36$ xe chạy bằng xăng và $n_2 = 23$ xe chạy bằng dầu diesel.**"
   ]
  },
  {
   "cell_type": "code",
   "execution_count": 2,
   "metadata": {},
   "outputs": [
    {
     "name": "stdout",
     "output_type": "stream",
     "text": [
      ">> Gasoline trunks data: \n",
      "    x1(fuel)  x2(repair)  x3(capital)\n",
      "0     16.44       12.43        11.23\n",
      "1      7.19        2.70         3.92\n",
      "2      9.92        1.35         9.75\n",
      "3      4.24        5.78         7.78\n",
      "4     11.20        5.05        10.67\n",
      "\n",
      ">> Diesel trunks data: \n",
      "     x1(fuel)  x2(repair)  x3(capital)\n",
      "36      8.50       12.26         9.11\n",
      "37      7.42        5.13        17.15\n",
      "38     10.28        3.32        11.23\n",
      "39     10.16       14.72         5.99\n",
      "40     12.79        4.17        29.28\n",
      "\n",
      ">> Number of samples: n1 = 36 and n2 = 23\n"
     ]
    }
   ],
   "source": [
    "path_19 = 'T6-10.txt'\n",
    "data_19 = pd.read_table(path_19, delim_whitespace=True, header=None)\n",
    "data_19.columns=['x1(fuel)', 'x2(repair)', 'x3(capital)', 'type_truck']\n",
    "\n",
    "gasoline_df = data_19[data_19['type_truck']=='gasoline'].iloc[:,:-1]\n",
    "diesel_df = data_19[data_19['type_truck']=='diesel'].iloc[:,:-1]\n",
    "\n",
    "print('>> Gasoline trunks data: \\n', gasoline_df.head(5))\n",
    "print('\\n>> Diesel trunks data: \\n', diesel_df.head(5))\n",
    "\n",
    "n1, p = gasoline_df.shape\n",
    "n2 = diesel_df.shape[0]\n",
    "\n",
    "print('\\n>> Number of samples: n1 = {} and n2 = {}'.format(n1,n2))"
   ]
  },
  {
   "cell_type": "markdown",
   "metadata": {},
   "source": [
    "**(a) Kiểm định sự chênh lệch giữa các vectơ chi phí trung bình với mức ý nghĩa $\\alpha = 0.01$.**"
   ]
  },
  {
   "cell_type": "code",
   "execution_count": 3,
   "metadata": {},
   "outputs": [
    {
     "name": "stdout",
     "output_type": "stream",
     "text": [
      ">> Summary statistics: \n",
      "\n",
      "* x1_mean = \n",
      " [[12.21861111]\n",
      " [ 8.1125    ]\n",
      " [ 9.59027778]]\n",
      "\n",
      "* x2_mean = \n",
      " [[10.10565217]\n",
      " [10.76217391]\n",
      " [18.16782609]]\n",
      "\n",
      "* S1 = \n",
      " [[23.01336087 12.366395    2.90660897]\n",
      " [12.366395   17.54411071  4.77308214]\n",
      " [ 2.90660897  4.77308214 13.96333421]]\n",
      "\n",
      "* S2 = \n",
      " [[ 4.3623166   0.75988715  2.36209921]\n",
      " [ 0.75988715 25.85123597  7.68573221]\n",
      " [ 2.36209921  7.68573221 46.6543996 ]]\n",
      "\n",
      "* S_pooled = \n",
      " [[15.81471221  7.88669022  2.69644731]\n",
      " [ 7.88669022 20.75036958  5.89726287]\n",
      " [ 2.69644731  5.89726287 26.5809384 ]]\n"
     ]
    }
   ],
   "source": [
    "x1_mean = gasoline_df.mean(axis=0)\n",
    "S1 = np.cov(gasoline_df.T)\n",
    "\n",
    "x2_mean = diesel_df.mean(axis=0)\n",
    "S2 = np.cov(diesel_df.T)\n",
    "\n",
    "S_pooled = (n1-1)/(n1+n2-2)*S1 + (n2-1)/(n1+n2-2)*S2\n",
    "\n",
    "print('>> Summary statistics: \\n')\n",
    "print('* x1_mean = \\n', np.array(x1_mean).reshape(-1,1))\n",
    "print('\\n* x2_mean = \\n', np.array(x2_mean).reshape(-1,1))\n",
    "print('\\n* S1 = \\n', S1)\n",
    "print('\\n* S2 = \\n', S2)\n",
    "print('\\n* S_pooled = \\n', S_pooled)"
   ]
  },
  {
   "cell_type": "markdown",
   "metadata": {},
   "source": [
    "Phát biểu giả thuyết:\n",
    "$$H_0: \\boldsymbol\\mu_1 - \\boldsymbol\\mu_2 = 0 \\quad\\text{ và }\\quad H_1: \\boldsymbol\\mu_1 - \\boldsymbol\\mu_2 \\neq 0$$\n",
    "\n",
    "Giả sử $H_0$ đúng, ta có thống kê\n",
    "$$T^2 = (\\overline{\\textbf{x}}_1 - \\overline{\\textbf{x}}_2)'\\left[\\left(\\dfrac{1}{n_1}+\\dfrac{1}{n_2}\\right)\\textbf{S}_{\\textbf{pooled}}\\right]^{-1}(\\overline{\\textbf{x}}_1 - \\overline{\\textbf{x}}_2) \\sim \\dfrac{(n_1+n_2-2)p}{n_1+n_2-p-1}F_{p, n_1+n_2-p-1}$$\n",
    "\n",
    "Với mẫu thực nghiệm, ta có giá trị thống kê như sau"
   ]
  },
  {
   "cell_type": "code",
   "execution_count": 4,
   "metadata": {},
   "outputs": [
    {
     "name": "stdout",
     "output_type": "stream",
     "text": [
      ">> Giá trị thống kê:  50.91278683116499\n"
     ]
    }
   ],
   "source": [
    "T2 = np.transpose(x1_mean - x2_mean).dot(np.linalg.inv((1/n1+1/n2)*S_pooled).dot(x1_mean - x2_mean))\n",
    "print('>> Giá trị thống kê: ',T2)"
   ]
  },
  {
   "cell_type": "markdown",
   "metadata": {},
   "source": [
    "Với mức ý nghĩa $\\alpha = 0.01$, ta có"
   ]
  },
  {
   "cell_type": "code",
   "execution_count": 5,
   "metadata": {},
   "outputs": [
    {
     "data": {
      "text/plain": [
       "12.9309599794576"
      ]
     },
     "execution_count": 5,
     "metadata": {},
     "output_type": "execute_result"
    }
   ],
   "source": [
    "alpha = 0.01\n",
    "\n",
    "f = stats.f.ppf(q=1-alpha, dfn=p, dfd=n1+n2-p-1)\n",
    "F = (((n1+n2-2)*p)/(n1+n2-p-1))*f\n",
    "\n",
    "F"
   ]
  },
  {
   "cell_type": "markdown",
   "metadata": {},
   "source": [
    "Vì 50.91278683116499 > 12.9309599794576 nên ta bác bỏ giả thuyết $H_0$ với mức ý nghĩa $\\alpha=0.01$. Do đó với mức ý nghĩa $0.01$, có sự chênh lệch giữa các vectơ chi phí trung bình giữa các xe chạy bằng gasoline và xe chạy bằng dầu diesel."
   ]
  },
  {
   "cell_type": "markdown",
   "metadata": {},
   "source": [
    "**(b) Nếu giả thuyết các vectơ chi phí bằng nhau bị bác bỏ ở câu (a), tìm tổ hợp tuyến tính của các thành phần trung bình ảnh hưởng lớn nhất đến việc bác bỏ.**\n",
    "\n",
    "Tổ hợp tuyến tính quan trọng nhất của các thành phần trung bình dẫn đến việc bác bỏ giả thuyết $H_0$ có vectơ hệ số như sau\n",
    "$$\\hat{\\textbf{a}}\\propto \\textbf{S}_{\\textbf{pooled}}^{-1}(\\overline{\\textbf{x}}_1 - \\overline{\\textbf{x}}_2)$$"
   ]
  },
  {
   "cell_type": "code",
   "execution_count": 6,
   "metadata": {},
   "outputs": [
    {
     "data": {
      "text/plain": [
       "array([[ 3.5750683 ],\n",
       "       [-1.87918888],\n",
       "       [-4.47442266]])"
      ]
     },
     "execution_count": 6,
     "metadata": {},
     "output_type": "execute_result"
    }
   ],
   "source": [
    "a_hat = np.linalg.inv(S_pooled).dot(x1_mean - x2_mean)\n",
    "np.array(a_hat).reshape(-1,1)"
   ]
  },
  {
   "cell_type": "markdown",
   "metadata": {},
   "source": [
    "Ta có thể thấy rằng, sự chênh lệch giữa việc tiêu thụ nhiên liệu giữa những xe chạy bằng xăng và xe chạy bằng dầu diesel có ảnh hưởng mạnh nhất đến việc bác bỏ giả thuyết $H_0$."
   ]
  },
  {
   "cell_type": "markdown",
   "metadata": {},
   "source": [
    "**(c) Xây dựng các khoảng tin cậy đồng thời 99% cho các cặp thành phần trung bình. Chi phí (nếu có) nào có sự chênh lệch?**"
   ]
  },
  {
   "cell_type": "code",
   "execution_count": 7,
   "metadata": {},
   "outputs": [
    {
     "name": "stdout",
     "output_type": "stream",
     "text": [
      "99% simultaneous confidence intervals for mean components are: \n",
      "\n",
      ">> x1(fuel):\t[-1.704346120977224, 5.9302639953733625]\n",
      "\n",
      ">> x2(repair):\t[-7.022267760770974, 1.7229199346840192]\n",
      "\n",
      ">> x3(capital):\t[-13.526479046383113, -3.6286175719743694]\n",
      "\n"
     ]
    }
   ],
   "source": [
    "lcb = lambda i: (x1_mean[i] - x2_mean[i]) - np.sqrt(F)*np.sqrt((1/n1+1/n2)*S_pooled[i][i])\n",
    "ucb = lambda i: (x1_mean[i] - x2_mean[i]) + np.sqrt(F)*np.sqrt((1/n1+1/n2)*S_pooled[i][i])\n",
    "\n",
    "# 95% simultaneous confidence intervals for individual means\n",
    "print(\"99% simultaneous confidence intervals for mean components are: \\n\")\n",
    "IC = []\n",
    "for i in range(p):\n",
    "    ic = [lcb(i), ucb(i)]\n",
    "    print(\">> {}:\\t{}\\n\".format(data_19.columns[i], ic))\n",
    "    IC.append(ic)"
   ]
  },
  {
   "cell_type": "markdown",
   "metadata": {},
   "source": [
    "Với mức ý nghĩa 0.01, ta thấy rằng khoảng tin cậy đồng thời 99% cho thành phần trung bình thứ 3 (capital) không chứa 0, do đó chi phí cho phần vốn bỏ ra có sự chênh lệch giữa xe chạy bằng xăng và xe chạy bằng dầu diesel."
   ]
  },
  {
   "cell_type": "markdown",
   "metadata": {},
   "source": [
    "**(d) Nhận xét về tính hợp lý của các giả thuyết được sử dụng trong bài phân tích của bạn. Lưu ý rằng, các quan trắc 9 và 21 đối với xe chạy bằng xăng được cho là ngoại lai. Lặp lại câu (a) với việc xoá đi các quan trắc này. Nhận xét kết quả.**"
   ]
  },
  {
   "cell_type": "code",
   "execution_count": 8,
   "metadata": {},
   "outputs": [
    {
     "name": "stdout",
     "output_type": "stream",
     "text": [
      ">> Number of samples for gasoline after remove outliers:  34\n"
     ]
    }
   ],
   "source": [
    "gasoline_df_without_outliers = gasoline_df.drop([9,21], axis=0)\n",
    "n1 = gasoline_df_without_outliers.shape[0]\n",
    "print('>> Number of samples for gasoline after remove outliers: ', n1)"
   ]
  },
  {
   "cell_type": "code",
   "execution_count": 9,
   "metadata": {},
   "outputs": [
    {
     "name": "stdout",
     "output_type": "stream",
     "text": [
      ">> Summary statistics after romove outliers: \n",
      "\n",
      "* x1_mean = \n",
      " [[12.21861111]\n",
      " [ 8.1125    ]\n",
      " [ 9.59027778]]\n",
      "\n",
      "* x2_mean = \n",
      " [[10.10565217]\n",
      " [10.76217391]\n",
      " [18.16782609]]\n",
      "\n",
      "* S1 = \n",
      " [[23.01336087 12.366395    2.90660897]\n",
      " [12.366395   17.54411071  4.77308214]\n",
      " [ 2.90660897  4.77308214 13.96333421]]\n",
      "\n",
      "* S2 = \n",
      " [[ 4.3623166   0.75988715  2.36209921]\n",
      " [ 0.75988715 25.85123597  7.68573221]\n",
      " [ 2.36209921  7.68573221 46.6543996 ]]\n"
     ]
    }
   ],
   "source": [
    "x1_mean = gasoline_df.mean(axis=0)\n",
    "S1 = np.cov(gasoline_df.T)\n",
    "\n",
    "print('>> Summary statistics after romove outliers: \\n')\n",
    "print('* x1_mean = \\n', np.array(x1_mean).reshape(-1,1))\n",
    "print('\\n* x2_mean = \\n', np.array(x2_mean).reshape(-1,1))\n",
    "print('\\n* S1 = \\n', S1)\n",
    "print('\\n* S2 = \\n', S2)"
   ]
  },
  {
   "cell_type": "markdown",
   "metadata": {},
   "source": [
    "Phát biểu giả thuyết:\n",
    "$$H_0: \\boldsymbol\\mu_1 - \\boldsymbol\\mu_2 = 0 \\quad\\text{ và }\\quad H_1: \\boldsymbol\\mu_1 - \\boldsymbol\\mu_2 \\neq 0$$\n",
    "\n",
    "Giả sử $\\boldsymbol\\Sigma_1=\\boldsymbol\\Sigma_2$ và giả thuyết $H_0$ đúng. Vì $\\textbf{S}_1$ và $\\textbf{S}_2$ khá khác nhau nên việc gộp chúng lại không hợp lý. Tuy nhiên, bằng cách sử dụng lý thuyết cỡ mẫu lớn $(n_1=34, n_2=23)$ và theo kết quả 6.4 ta có thống kê\n",
    "$$(\\overline{\\textbf{x}}_1 - \\overline{\\textbf{x}}_2)'\\left(\\dfrac{1}{n_1}\\textbf{S}_1+\\dfrac{1}{n_2}\\textbf{S}_2\\right)^{-1}(\\overline{\\textbf{x}}_1 - \\overline{\\textbf{x}}_2) \\sim \\chi_p^2$$"
   ]
  },
  {
   "cell_type": "code",
   "execution_count": 10,
   "metadata": {},
   "outputs": [
    {
     "name": "stdout",
     "output_type": "stream",
     "text": [
      ">> Giá trị thống kê:  42.524812258635734\n"
     ]
    }
   ],
   "source": [
    "T2 = np.transpose(x1_mean - x2_mean).dot(np.linalg.inv(1/n1*S1+1/n2*S2).dot(x1_mean - x2_mean))\n",
    "print('>> Giá trị thống kê: ',T2)"
   ]
  },
  {
   "cell_type": "code",
   "execution_count": 11,
   "metadata": {},
   "outputs": [
    {
     "data": {
      "text/plain": [
       "11.344866730144373"
      ]
     },
     "execution_count": 11,
     "metadata": {},
     "output_type": "execute_result"
    }
   ],
   "source": [
    "alpha = 0.01\n",
    "\n",
    "chisq = stats.chi2.ppf(1-alpha, p)\n",
    "\n",
    "chisq"
   ]
  },
  {
   "cell_type": "markdown",
   "metadata": {},
   "source": [
    "Vì 42.524812258635734 > 11.344866730144373 nên ta bác bỏ giả thuyết $H_0$ với mức ý nghĩa $\\alpha=0.01$. Do đó với mức ý nghĩa $0.01$, có sự chênh lệch giữa các vectơ chi phí trung bình giữa các xe chạy bằng gasoline và xe chạy bằng dầu diesel.\n",
    "\n",
    "Như vậy, kết quả trên tương đồng với kết quả ở câu (a)."
   ]
  },
  {
   "cell_type": "markdown",
   "metadata": {},
   "source": [
    "### 6.23\n",
    "**Xây dựng one-way MANOVA bằng cách sử dụng các phép đo chiều rộng từ bộ dữ liệu iris trong bảng 11.5. Xây dựng các khoảng tin cậy đồng thời 95% cho các chênh lệch giữa các thành phần của vectơ trung bình đối với 2 phản hồi cho mỗi cặp tổng thể. Nhận xét về tính hợp lý cho giả thuyết $\\boldsymbol\\Sigma_1 = \\boldsymbol\\Sigma_2 = \\boldsymbol\\Sigma_3$.**"
   ]
  },
  {
   "cell_type": "code",
   "execution_count": 43,
   "metadata": {},
   "outputs": [
    {
     "name": "stdout",
     "output_type": "stream",
     "text": [
      "     Sepal_Width  Petal_Width  Species\n",
      "0            3.5          0.2        1\n",
      "1            3.0          0.2        1\n",
      "2            3.2          0.2        1\n",
      "3            3.1          0.2        1\n",
      "4            3.6          0.2        1\n",
      "..           ...          ...      ...\n",
      "145          3.0          2.3        3\n",
      "146          2.5          1.9        3\n",
      "147          3.0          2.0        3\n",
      "148          3.4          2.3        3\n",
      "149          3.0          1.8        3\n",
      "\n",
      "[150 rows x 3 columns]\n",
      ">> Iris setosa data: \n",
      "    Sepal_Width  Petal_Width\n",
      "0          3.5          0.2\n",
      "1          3.0          0.2\n",
      "2          3.2          0.2\n",
      "3          3.1          0.2\n",
      "4          3.6          0.2\n",
      "\n",
      ">> Iris versicolor data: \n",
      "     Sepal_Width  Petal_Width\n",
      "50          3.2          1.4\n",
      "51          3.2          1.5\n",
      "52          3.1          1.5\n",
      "53          2.3          1.3\n",
      "54          2.8          1.5\n",
      "\n",
      ">> Iris virginica data: \n",
      "      Sepal_Width  Petal_Width\n",
      "100          3.3          2.5\n",
      "101          2.7          1.9\n",
      "102          3.0          2.1\n",
      "103          2.9          1.8\n",
      "104          3.0          2.2\n",
      "\n",
      ">> Number of samples: n1 = 50, n2 = 50 and n3 = 50\n",
      "\n",
      ">> Number of dimentions: p = 2\n",
      "\n",
      ">> Number of populations: g = 3\n"
     ]
    }
   ],
   "source": [
    "path_23 = 'T11-5.txt'\n",
    "data_23 = pd.read_table(path_23, delim_whitespace=True, header=None)\n",
    "data_23.columns=['Sepal_Length', 'Sepal_Width', 'Petal_Length', 'Petal_Width', 'Species']\n",
    "data_23 = data_23.drop(['Sepal_Length', 'Petal_Length'], axis=1)\n",
    "print(data_23)\n",
    "setosa_df = data_23[data_23['Species']==1].iloc[:,:-1]\n",
    "versicolor_df = data_23[data_23['Species']==2].iloc[:,:-1]\n",
    "virginica_df = data_23[data_23['Species']==3].iloc[:,:-1]\n",
    "\n",
    "print('>> Iris setosa data: \\n', setosa_df.head(5))\n",
    "print('\\n>> Iris versicolor data: \\n', versicolor_df.head(5))\n",
    "print('\\n>> Iris virginica data: \\n', virginica_df.head(5))\n",
    "\n",
    "g = len(np.unique(data_23['Species']))\n",
    "n1, p = setosa_df.shape\n",
    "n2, n3 = versicolor_df.shape[0], virginica_df.shape[0]\n",
    "\n",
    "print('\\n>> Number of samples: n1 = {}, n2 = {} and n3 = {}'.format(n1,n2,n3))\n",
    "print('\\n>> Number of dimentions: p = {}'.format(p))\n",
    "print('\\n>> Number of populations: g = {}'.format(g))"
   ]
  },
  {
   "cell_type": "code",
   "execution_count": 13,
   "metadata": {},
   "outputs": [],
   "source": [
    "class OneWayMANOVA:\n",
    "    def __init__(self):\n",
    "        self.list_n = []\n",
    "        self.n = None\n",
    "        self.g = None\n",
    "        self.p = None\n",
    "        self.mean = None\n",
    "        self.list_means = []\n",
    "        self.list_cov = []\n",
    "        self.B = None\n",
    "        self.W = None\n",
    "        self.B_Plus_W = None\n",
    "        \n",
    "    def _calc_init_values(self, X, y):\n",
    "        self.g = len(np.unique(y))\n",
    "        self.p = X.shape[1]\n",
    "        self.mean = np.array(np.mean(X,axis=0)).reshape(-1,1)\n",
    "        for i in np.unique(y):\n",
    "            data = X[y==i]\n",
    "            self.list_n.append(data.shape[0])\n",
    "            self.list_means.append(np.array(np.mean(data, axis=0)).reshape(-1,1))\n",
    "            self.list_cov.append(np.array(np.cov(data.T)))\n",
    "        self.n = np.sum(self.list_n)\n",
    "        \n",
    "    def fit(self, X, y):\n",
    "        self._calc_init_values(X, y)\n",
    "        \n",
    "        B = np.zeros((self.p, self.p))\n",
    "        W = np.zeros((self.p, self.p))\n",
    "        for i in range(self.g):\n",
    "            \n",
    "            B += self.list_n[i]*(self.list_means[i] - self.mean).dot((self.list_means[i] - self.mean).T)\n",
    "            data = X[y==np.unique(y)[i]].to_numpy()\n",
    "            W += (self.list_n[i]-1)*(self.list_cov[i])\n",
    "        \n",
    "        self.B = (B, self.g-1)\n",
    "        self.W = (W, self.n-self.g)\n",
    "        self.B_Plus_W = (B+W, self.n-1)\n",
    "    \n",
    "    def table(self):\n",
    "        print('>> MANOVA Table: \\n')\n",
    "        print('*'*50)\n",
    "        print('> Treatment: \\nB = \\n{},\\t d.f. = {}'.format(self.B[0], self.B[1]))\n",
    "        print('\\n> Residual: \\nW = \\n{},\\t d.f. = {}'.format(self.W[0], self.W[1]))\n",
    "        print('\\n> Total: \\nB+W = \\n{},\\t d.f. = {}'.format(self.B_Plus_W[0], self.B_Plus_W[1]))\n",
    "        print('*'*50)\n",
    "        \n",
    "    def simultaneous_confidence_intervals(self, alpha):\n",
    "        import scipy.stats as stats\n",
    "        t = stats.t.ppf(q=1 - (alpha/(self.p*self.g*(self.g-1))), df=np.sum(self.n - self.g))\n",
    "        lcb = lambda i, k, l: (self.list_means[k][i]-self.list_means[l][i]) - t*np.sqrt(self.W[0][i][i]/(self.n-self.g)*(1/self.list_n[k]+1/self.list_n[l]))\n",
    "        ucb = lambda i, k, l: (self.list_means[k][i]-self.list_means[l][i]) + t*np.sqrt(self.W[0][i][i]/(self.n-self.g)*(1/self.list_n[k]+1/self.list_n[l]))\n",
    "        \n",
    "        for i in range(self.p):\n",
    "            for k in range(self.g):\n",
    "                for l in range(0, k):\n",
    "                    print('> 95% Confidence interval of tau_{}{} - tau_{}{}: \\n[{}, {}]\\n'.format(k,i,l,i,lcb(i,k,l),ucb(i,k,l)))"
   ]
  },
  {
   "cell_type": "code",
   "execution_count": 14,
   "metadata": {
    "scrolled": false
   },
   "outputs": [
    {
     "name": "stdout",
     "output_type": "stream",
     "text": [
      ">> MANOVA Table: \n",
      "\n",
      "**************************************************\n",
      "> Treatment: \n",
      "B = \n",
      "[[ 11.34493333 -22.93266667]\n",
      " [-22.93266667  80.41333333]],\t d.f. = 2\n",
      "\n",
      "> Residual: \n",
      "W = \n",
      "[[16.962   4.8084]\n",
      " [ 4.8084  6.1566]],\t d.f. = 147\n",
      "\n",
      "> Total: \n",
      "B+W = \n",
      "[[ 28.30693333 -18.12426667]\n",
      " [-18.12426667  86.56993333]],\t d.f. = 149\n",
      "**************************************************\n"
     ]
    }
   ],
   "source": [
    "X = data_23.drop(['Species'], axis=1)\n",
    "y = data_23['Species']\n",
    "maov = OneWayMANOVA()\n",
    "maov.fit(X, y)\n",
    "maov.table()"
   ]
  },
  {
   "cell_type": "code",
   "execution_count": 15,
   "metadata": {},
   "outputs": [
    {
     "name": "stdout",
     "output_type": "stream",
     "text": [
      "> 95% Confidence interval of tau_10 - tau_00: \n",
      "[[-0.83969436], [-0.47630564]]\n",
      "\n",
      "> 95% Confidence interval of tau_20 - tau_00: \n",
      "[[-0.63569436], [-0.27230564]]\n",
      "\n",
      "> 95% Confidence interval of tau_20 - tau_10: \n",
      "[[0.02230564], [0.38569436]]\n",
      "\n",
      "> 95% Confidence interval of tau_11 - tau_01: \n",
      "[[0.97053548], [1.18946452]]\n",
      "\n",
      "> 95% Confidence interval of tau_21 - tau_01: \n",
      "[[1.67053548], [1.88946452]]\n",
      "\n",
      "> 95% Confidence interval of tau_21 - tau_11: \n",
      "[[0.59053548], [0.80946452]]\n",
      "\n"
     ]
    }
   ],
   "source": [
    "alpha = 0.05\n",
    "maov.simultaneous_confidence_intervals(alpha)"
   ]
  },
  {
   "cell_type": "markdown",
   "metadata": {},
   "source": [
    "Phát biểu giả thuyết\n",
    "    $$\\begin{cases}\n",
    "        H_0: \\tau_1 = \\tau_2 = \\tau_3 = 0 \\\\\n",
    "        H_1: \\exists i \\in \\{1,2,3\\} : \\tau_i \\neq 0\n",
    "    \\end{cases}$$\n",
    "    \n",
    "Giả sử giả thuyết $H_0$ đúng, ta sử dụng thống kê Wilk's lambda để kiểm định giả thuyết trên. Khi đó ta có giá trị thống kê\n",
    "    $$\\Lambda^* = \\dfrac{|\\textbf{W|}}{|\\textbf{B}+\\textbf{W}|}$$"
   ]
  },
  {
   "cell_type": "code",
   "execution_count": 16,
   "metadata": {},
   "outputs": [
    {
     "data": {
      "text/plain": [
       "0.03831573747619264"
      ]
     },
     "execution_count": 16,
     "metadata": {},
     "output_type": "execute_result"
    }
   ],
   "source": [
    "Lambda = np.linalg.det(maov.W[0])/np.linalg.det(maov.B_Plus_W[0])\n",
    "Lambda"
   ]
  },
  {
   "cell_type": "markdown",
   "metadata": {},
   "source": [
    "Ta có giá trị thống kê của $\\Lambda^*$ là 0.03831573747619264.\n",
    "\n",
    "Do $p=2$ và $g=3\\geq 2$ nên ta xét thống kê\n",
    "    $$\\left(\\dfrac{n-g-1}{g-1}\\right)\\left(\\dfrac{1-\\sqrt{\\Lambda^*}}{\\sqrt{\\Lambda^*}}\\right)\\sim F_{2(g-1),2(n-g-1)}$$"
   ]
  },
  {
   "cell_type": "code",
   "execution_count": 17,
   "metadata": {},
   "outputs": [
    {
     "data": {
      "text/plain": [
       "299.9359632698892"
      ]
     },
     "execution_count": 17,
     "metadata": {},
     "output_type": "execute_result"
    }
   ],
   "source": [
    "value = ((maov.n - maov.g - 1)/(maov.g - 1))*((1 - np.sqrt(Lambda))/np.sqrt(Lambda))\n",
    "value"
   ]
  },
  {
   "cell_type": "markdown",
   "metadata": {},
   "source": [
    "Với mức ý nghĩa $\\alpha =0.05$ ta có"
   ]
  },
  {
   "cell_type": "code",
   "execution_count": 18,
   "metadata": {
    "scrolled": true
   },
   "outputs": [
    {
     "data": {
      "text/plain": [
       "2.40256219045279"
      ]
     },
     "execution_count": 18,
     "metadata": {},
     "output_type": "execute_result"
    }
   ],
   "source": [
    "f = stats.f.ppf(q=1-alpha,dfn=2*(maov.g-1),dfd=2*(maov.n-maov.g-1))\n",
    "f"
   ]
  },
  {
   "cell_type": "markdown",
   "metadata": {},
   "source": [
    "Vì $299.9359632698892 > 2.40256219045279$ nên ta bác bỏ $H_0$ với mức ý nghĩa $0.05$. Điều đó cho thấy rằng có sự chênh lệch độ rộng ở 3 loài hoa."
   ]
  },
  {
   "cell_type": "markdown",
   "metadata": {},
   "source": [
    "### 6.28\n",
    "**Hai loài ruồi cắn-biting flies (chi Leptoconops) giống nhau về hình thái, đến nỗi trong nhiều năm chúng được cho là một. Các sai khác về mặt sinh học như tỷ lệ giới tính của emerging flies và biting flies được tìm thấy. Dữ liệu phân loại được liệt kê trong bảng 6.15 trang 352 và trên trang www.prenhall.com/statistics có cho thấy sự khác biệt nào giữa hai loài *L.carteri* và *L.torrens* không? Kiểm định tính bằng nhau giữa các vectơ trung bình tổng thể với mức ý nghĩa $\\alpha =0.05$. Nếu giả thuyết các vectơ trung bình bằng nhau bị bác bỏ, hãy xác định các thành phần của vectơ trung bình (hoặc các tổ hợp tuyến tình của các thành phần của vectơ trung bình) ảnh hưởng nhiều nhất đến việc bác bỏ $H_0$. Biện minh cho việc sử dụng các phương pháp lý thuyết thông thường cho bộ dữ liệu này.**"
   ]
  },
  {
   "cell_type": "code",
   "execution_count": 19,
   "metadata": {},
   "outputs": [
    {
     "data": {
      "text/html": [
       "<div>\n",
       "<style scoped>\n",
       "    .dataframe tbody tr th:only-of-type {\n",
       "        vertical-align: middle;\n",
       "    }\n",
       "\n",
       "    .dataframe tbody tr th {\n",
       "        vertical-align: top;\n",
       "    }\n",
       "\n",
       "    .dataframe thead th {\n",
       "        text-align: right;\n",
       "    }\n",
       "</style>\n",
       "<table border=\"1\" class=\"dataframe\">\n",
       "  <thead>\n",
       "    <tr style=\"text-align: right;\">\n",
       "      <th></th>\n",
       "      <th>Wing_Length</th>\n",
       "      <th>WingWidth</th>\n",
       "      <th>Third_Palp_Length</th>\n",
       "      <th>Third_Palp_Width</th>\n",
       "      <th>Fourth_Palp_Length</th>\n",
       "      <th>Length_of_Antennal_Segment12</th>\n",
       "      <th>Length_of_Antennal_Segment13</th>\n",
       "      <th>Species</th>\n",
       "    </tr>\n",
       "  </thead>\n",
       "  <tbody>\n",
       "    <tr>\n",
       "      <th>0</th>\n",
       "      <td>85</td>\n",
       "      <td>41</td>\n",
       "      <td>31</td>\n",
       "      <td>13</td>\n",
       "      <td>25</td>\n",
       "      <td>9</td>\n",
       "      <td>8</td>\n",
       "      <td>0</td>\n",
       "    </tr>\n",
       "    <tr>\n",
       "      <th>1</th>\n",
       "      <td>87</td>\n",
       "      <td>38</td>\n",
       "      <td>32</td>\n",
       "      <td>14</td>\n",
       "      <td>22</td>\n",
       "      <td>13</td>\n",
       "      <td>13</td>\n",
       "      <td>0</td>\n",
       "    </tr>\n",
       "    <tr>\n",
       "      <th>2</th>\n",
       "      <td>94</td>\n",
       "      <td>44</td>\n",
       "      <td>36</td>\n",
       "      <td>15</td>\n",
       "      <td>27</td>\n",
       "      <td>8</td>\n",
       "      <td>9</td>\n",
       "      <td>0</td>\n",
       "    </tr>\n",
       "    <tr>\n",
       "      <th>3</th>\n",
       "      <td>92</td>\n",
       "      <td>43</td>\n",
       "      <td>32</td>\n",
       "      <td>17</td>\n",
       "      <td>28</td>\n",
       "      <td>9</td>\n",
       "      <td>9</td>\n",
       "      <td>0</td>\n",
       "    </tr>\n",
       "    <tr>\n",
       "      <th>4</th>\n",
       "      <td>96</td>\n",
       "      <td>43</td>\n",
       "      <td>35</td>\n",
       "      <td>14</td>\n",
       "      <td>26</td>\n",
       "      <td>10</td>\n",
       "      <td>10</td>\n",
       "      <td>0</td>\n",
       "    </tr>\n",
       "    <tr>\n",
       "      <th>...</th>\n",
       "      <td>...</td>\n",
       "      <td>...</td>\n",
       "      <td>...</td>\n",
       "      <td>...</td>\n",
       "      <td>...</td>\n",
       "      <td>...</td>\n",
       "      <td>...</td>\n",
       "      <td>...</td>\n",
       "    </tr>\n",
       "    <tr>\n",
       "      <th>65</th>\n",
       "      <td>101</td>\n",
       "      <td>47</td>\n",
       "      <td>38</td>\n",
       "      <td>14</td>\n",
       "      <td>37</td>\n",
       "      <td>11</td>\n",
       "      <td>11</td>\n",
       "      <td>1</td>\n",
       "    </tr>\n",
       "    <tr>\n",
       "      <th>66</th>\n",
       "      <td>103</td>\n",
       "      <td>47</td>\n",
       "      <td>40</td>\n",
       "      <td>15</td>\n",
       "      <td>32</td>\n",
       "      <td>11</td>\n",
       "      <td>11</td>\n",
       "      <td>1</td>\n",
       "    </tr>\n",
       "    <tr>\n",
       "      <th>67</th>\n",
       "      <td>99</td>\n",
       "      <td>43</td>\n",
       "      <td>37</td>\n",
       "      <td>14</td>\n",
       "      <td>23</td>\n",
       "      <td>11</td>\n",
       "      <td>10</td>\n",
       "      <td>1</td>\n",
       "    </tr>\n",
       "    <tr>\n",
       "      <th>68</th>\n",
       "      <td>105</td>\n",
       "      <td>50</td>\n",
       "      <td>40</td>\n",
       "      <td>16</td>\n",
       "      <td>33</td>\n",
       "      <td>12</td>\n",
       "      <td>11</td>\n",
       "      <td>1</td>\n",
       "    </tr>\n",
       "    <tr>\n",
       "      <th>69</th>\n",
       "      <td>99</td>\n",
       "      <td>47</td>\n",
       "      <td>39</td>\n",
       "      <td>14</td>\n",
       "      <td>34</td>\n",
       "      <td>7</td>\n",
       "      <td>7</td>\n",
       "      <td>1</td>\n",
       "    </tr>\n",
       "  </tbody>\n",
       "</table>\n",
       "<p>70 rows × 8 columns</p>\n",
       "</div>"
      ],
      "text/plain": [
       "    Wing_Length  WingWidth  Third_Palp_Length  Third_Palp_Width  \\\n",
       "0            85         41                 31                13   \n",
       "1            87         38                 32                14   \n",
       "2            94         44                 36                15   \n",
       "3            92         43                 32                17   \n",
       "4            96         43                 35                14   \n",
       "..          ...        ...                ...               ...   \n",
       "65          101         47                 38                14   \n",
       "66          103         47                 40                15   \n",
       "67           99         43                 37                14   \n",
       "68          105         50                 40                16   \n",
       "69           99         47                 39                14   \n",
       "\n",
       "    Fourth_Palp_Length  Length_of_Antennal_Segment12  \\\n",
       "0                   25                             9   \n",
       "1                   22                            13   \n",
       "2                   27                             8   \n",
       "3                   28                             9   \n",
       "4                   26                            10   \n",
       "..                 ...                           ...   \n",
       "65                  37                            11   \n",
       "66                  32                            11   \n",
       "67                  23                            11   \n",
       "68                  33                            12   \n",
       "69                  34                             7   \n",
       "\n",
       "    Length_of_Antennal_Segment13  Species  \n",
       "0                              8        0  \n",
       "1                             13        0  \n",
       "2                              9        0  \n",
       "3                              9        0  \n",
       "4                             10        0  \n",
       "..                           ...      ...  \n",
       "65                            11        1  \n",
       "66                            11        1  \n",
       "67                            10        1  \n",
       "68                            11        1  \n",
       "69                             7        1  \n",
       "\n",
       "[70 rows x 8 columns]"
      ]
     },
     "execution_count": 19,
     "metadata": {},
     "output_type": "execute_result"
    }
   ],
   "source": [
    "path_28 = 'T6-15.txt'\n",
    "data_28 = pd.read_table(path_28, delim_whitespace=True, header=None)\n",
    "data_28.columns=['Wing_Length', 'WingWidth', 'Third_Palp_Length', 'Third_Palp_Width', 'Fourth_Palp_Length', 'Length_of_Antennal_Segment12', 'Length_of_Antennal_Segment13', 'Species']\n",
    "data_28"
   ]
  },
  {
   "cell_type": "code",
   "execution_count": 32,
   "metadata": {},
   "outputs": [
    {
     "name": "stdout",
     "output_type": "stream",
     "text": [
      ">> Sample Mean for L.torrens and L.carteri: \n"
     ]
    },
    {
     "data": {
      "text/html": [
       "<div>\n",
       "<style scoped>\n",
       "    .dataframe tbody tr th:only-of-type {\n",
       "        vertical-align: middle;\n",
       "    }\n",
       "\n",
       "    .dataframe tbody tr th {\n",
       "        vertical-align: top;\n",
       "    }\n",
       "\n",
       "    .dataframe thead th {\n",
       "        text-align: right;\n",
       "    }\n",
       "</style>\n",
       "<table border=\"1\" class=\"dataframe\">\n",
       "  <thead>\n",
       "    <tr style=\"text-align: right;\">\n",
       "      <th></th>\n",
       "      <th>L.torrens</th>\n",
       "      <th>L.carteri</th>\n",
       "      <th>Difference</th>\n",
       "    </tr>\n",
       "  </thead>\n",
       "  <tbody>\n",
       "    <tr>\n",
       "      <th>0</th>\n",
       "      <td>96.457143</td>\n",
       "      <td>99.342857</td>\n",
       "      <td>-2.885714</td>\n",
       "    </tr>\n",
       "    <tr>\n",
       "      <th>1</th>\n",
       "      <td>42.914286</td>\n",
       "      <td>43.742857</td>\n",
       "      <td>-0.828571</td>\n",
       "    </tr>\n",
       "    <tr>\n",
       "      <th>2</th>\n",
       "      <td>35.371429</td>\n",
       "      <td>39.314286</td>\n",
       "      <td>-3.942857</td>\n",
       "    </tr>\n",
       "    <tr>\n",
       "      <th>3</th>\n",
       "      <td>14.514286</td>\n",
       "      <td>14.657143</td>\n",
       "      <td>-0.142857</td>\n",
       "    </tr>\n",
       "    <tr>\n",
       "      <th>4</th>\n",
       "      <td>25.628571</td>\n",
       "      <td>30.000000</td>\n",
       "      <td>-4.371429</td>\n",
       "    </tr>\n",
       "    <tr>\n",
       "      <th>5</th>\n",
       "      <td>9.571429</td>\n",
       "      <td>9.657143</td>\n",
       "      <td>-0.085714</td>\n",
       "    </tr>\n",
       "    <tr>\n",
       "      <th>6</th>\n",
       "      <td>9.714286</td>\n",
       "      <td>9.371429</td>\n",
       "      <td>0.342857</td>\n",
       "    </tr>\n",
       "  </tbody>\n",
       "</table>\n",
       "</div>"
      ],
      "text/plain": [
       "   L.torrens  L.carteri  Difference\n",
       "0  96.457143  99.342857   -2.885714\n",
       "1  42.914286  43.742857   -0.828571\n",
       "2  35.371429  39.314286   -3.942857\n",
       "3  14.514286  14.657143   -0.142857\n",
       "4  25.628571  30.000000   -4.371429\n",
       "5   9.571429   9.657143   -0.085714\n",
       "6   9.714286   9.371429    0.342857"
      ]
     },
     "execution_count": 32,
     "metadata": {},
     "output_type": "execute_result"
    }
   ],
   "source": [
    "L_torrens_df = data_28[data_28['Species']==0].iloc[:,:-1]\n",
    "n1, p = L_torrens_df.shape\n",
    "L_carteri_df = data_28[data_28['Species']==1].iloc[:,:-1]\n",
    "n2 = L_torrens_df.shape[0]\n",
    "\n",
    "sample_mean = pd.DataFrame({'L.torrens': np.array(L_torrens_df.mean()), 'L.carteri': np.array(L_carteri_df.mean())})\n",
    "sample_mean['Difference'] = sample_mean['L.torrens'] - sample_mean['L.carteri']\n",
    "\n",
    "print('>> Sample Mean for L.torrens and L.carteri: ')\n",
    "sample_mean"
   ]
  },
  {
   "cell_type": "code",
   "execution_count": 33,
   "metadata": {
    "scrolled": false
   },
   "outputs": [
    {
     "name": "stdout",
     "output_type": "stream",
     "text": [
      ">> Pooled Sample Covariance Matrix: \n"
     ]
    },
    {
     "data": {
      "text/plain": [
       "array([[36.00840336, 14.59495798,  6.07773109,  3.67478992,  9.57268908,\n",
       "         2.42605042,  2.6487395 ],\n",
       "       [14.59495798, 16.63865546,  2.76386555,  2.99201681,  6.1012605 ,\n",
       "         1.05336134,  0.93361345],\n",
       "       [ 6.07773109,  2.76386555,  6.43697479,  0.69243697,  1.61512605,\n",
       "         0.21092437,  0.6710084 ],\n",
       "       [ 3.67478992,  2.99201681,  0.69243697,  3.03865546,  2.40714286,\n",
       "         0.27352941,  0.22941176],\n",
       "       [ 9.57268908,  6.1012605 ,  1.61512605,  2.40714286, 13.76722689,\n",
       "         0.56512605,  0.63655462],\n",
       "       [ 2.42605042,  1.05336134,  0.21092437,  0.27352941,  0.56512605,\n",
       "         1.21260504,  0.91428571],\n",
       "       [ 2.6487395 ,  0.93361345,  0.6710084 ,  0.22941176,  0.63655462,\n",
       "         0.91428571,  0.98991597]])"
      ]
     },
     "execution_count": 33,
     "metadata": {},
     "output_type": "execute_result"
    }
   ],
   "source": [
    "S1 = np.cov(L_torrens_df.T)\n",
    "S2 = np.cov(L_carteri_df.T)\n",
    "\n",
    "S_pooled = (n1-1)/(n1+n2-2)*S1 + (n2-1)/(n1+n2-2)*S2 \n",
    "print('>> Pooled Sample Covariance Matrix: ')\n",
    "S_pooled"
   ]
  },
  {
   "cell_type": "markdown",
   "metadata": {},
   "source": [
    "Phát biểu giả thuyết:\n",
    "$$H_0: \\boldsymbol\\mu_1 - \\boldsymbol\\mu_2 = 0 \\quad\\text{ và }\\quad H_1: \\boldsymbol\\mu_1 - \\boldsymbol\\mu_2 \\neq 0$$\n",
    "\n",
    "Giả sử $H_0$ đúng, ta có thống kê\n",
    "$$T^2 = (\\overline{\\textbf{x}}_1 - \\overline{\\textbf{x}}_2)'\\left[\\left(\\dfrac{1}{n_1}+\\dfrac{1}{n_2}\\right)\\textbf{S}_{\\textbf{pooled}}\\right]^{-1}(\\overline{\\textbf{x}}_1 - \\overline{\\textbf{x}}_2) \\sim \\dfrac{(n_1+n_2-2)p}{n_1+n_2-p-1}F_{p, n_1+n_2-p-1}$$\n",
    "\n",
    "Với mẫu thực nghiệm, ta có giá trị thống kê như sau"
   ]
  },
  {
   "cell_type": "code",
   "execution_count": 34,
   "metadata": {},
   "outputs": [
    {
     "name": "stdout",
     "output_type": "stream",
     "text": [
      ">> Giá trị thống kê:  106.13481343310384\n"
     ]
    }
   ],
   "source": [
    "T2 = np.transpose(sample_mean['Difference']).dot(np.linalg.inv((1/n1+1/n2)*S_pooled).dot(sample_mean['Difference']))\n",
    "print('>> Giá trị thống kê: ',T2)"
   ]
  },
  {
   "cell_type": "markdown",
   "metadata": {},
   "source": [
    "Với mức ý nghĩa $\\alpha = 0.05$, ta có"
   ]
  },
  {
   "cell_type": "code",
   "execution_count": 35,
   "metadata": {},
   "outputs": [
    {
     "data": {
      "text/plain": [
       "16.593314751671375"
      ]
     },
     "execution_count": 35,
     "metadata": {},
     "output_type": "execute_result"
    }
   ],
   "source": [
    "alpha = 0.05\n",
    "\n",
    "f = stats.f.ppf(q=1-alpha, dfn=p, dfd=n1+n2-p-1)\n",
    "F = (((n1+n2-2)*p)/(n1+n2-p-1))*f\n",
    "\n",
    "F"
   ]
  },
  {
   "cell_type": "markdown",
   "metadata": {},
   "source": [
    "Vì 106.13481343310384 > 16.593314751671375 nên ta bác bỏ giả thuyết $H_0$ với mức ý nghĩa $\\alpha=0.05$. Do đó với mức ý nghĩa $0.05$, có sự khác biệt giữa hai loài.\n",
    "\n",
    "Tổ hợp tuyến tính quan trọng nhất của các thành phần trung bình dẫn đến việc bác bỏ giả thuyết $H_0$ có vectơ hệ số như sau\n",
    "$$\\hat{\\textbf{a}}\\propto \\textbf{S}_{\\textbf{pooled}}^{-1}(\\overline{\\textbf{x}}_1 - \\overline{\\textbf{x}}_2)$$"
   ]
  },
  {
   "cell_type": "code",
   "execution_count": 38,
   "metadata": {},
   "outputs": [
    {
     "data": {
      "text/plain": [
       "array([[ 0.00623561],\n",
       "       [ 0.15059417],\n",
       "       [-0.85382218],\n",
       "       [ 0.26757305],\n",
       "       [-0.38278705],\n",
       "       [-2.18730695],\n",
       "       [ 2.97072661]])"
      ]
     },
     "execution_count": 38,
     "metadata": {},
     "output_type": "execute_result"
    }
   ],
   "source": [
    "a_hat = np.linalg.inv(S_pooled).dot(sample_mean['Difference'])\n",
    "np.array(a_hat).reshape(-1,1)"
   ]
  },
  {
   "cell_type": "markdown",
   "metadata": {},
   "source": [
    "Ta có thể thấy rằng, sự khác biệt giữa hai loài L.torrens và L.carteri được thể hiện nổi bật ở thành phần *Length of Antennal Segment 13*."
   ]
  },
  {
   "cell_type": "code",
   "execution_count": 41,
   "metadata": {},
   "outputs": [
    {
     "name": "stdout",
     "output_type": "stream",
     "text": [
      "95% simultaneous confidence intervals for mean components are: \n",
      "\n",
      ">> Wing_Length:\n",
      "[-8.72889722791249, 2.957468656483919]\n",
      "\n",
      ">> WingWidth:\n",
      "[-4.80054788605201, 3.143405028909152]\n",
      "\n",
      ">> Third_Palp_Length:\n",
      "[-6.413377605520244, -1.4723366801940418]\n",
      "\n",
      ">> Third_Palp_Width:\n",
      "[-1.8402731034264352, 1.5545588177121505]\n",
      "\n",
      ">> Fourth_Palp_Length:\n",
      "[-7.984452070272665, -0.7584050725844755]\n",
      "\n",
      ">> Length_of_Antennal_Segment12:\n",
      "[-1.1579918918712138, 0.9865633204426429]\n",
      "\n",
      ">> Length_of_Antennal_Segment13:\n",
      "[-0.6259709329409787, 1.311685218655262]\n",
      "\n"
     ]
    }
   ],
   "source": [
    "lcb = lambda i: (sample_mean['Difference'][i]) - np.sqrt(F)*np.sqrt((1/n1+1/n2)*S_pooled[i][i])\n",
    "ucb = lambda i: (sample_mean['Difference'][i]) + np.sqrt(F)*np.sqrt((1/n1+1/n2)*S_pooled[i][i])\n",
    "\n",
    "# 95% simultaneous confidence intervals for individual means\n",
    "print(\"95% simultaneous confidence intervals for mean components are: \\n\")\n",
    "IC = []\n",
    "for i in range(p):\n",
    "    ic = [lcb(i), ucb(i)]\n",
    "    print(\">> {}:\\n{}\\n\".format(data_28.columns[i], ic))\n",
    "    IC.append(ic)"
   ]
  },
  {
   "cell_type": "markdown",
   "metadata": {},
   "source": [
    "Các thành phần *Third Palp Length* và *Fourth Palp Length* có khoảng tin cậy đồng thời 95% không chứa 0. Do đó việc bác bỏ giả thuyết $H_0$ là hợp lý."
   ]
  },
  {
   "cell_type": "markdown",
   "metadata": {},
   "source": [
    "### 6.33\n",
    "**Tham khảo bài tập 6.32. Dữ liệu trong bảng 6.18 là các phép đo trên các biến: $X_1 = $ phần trăm độ phản xạ phổ ở bước sóng 560 nm (xanh lục), $X_2 = $ phần trăm độ phản xạ phổ ở bước sóng 720 nm (gần hồng ngoại), cho ba loài (sitka spruce [SS], Japanese larch [JL] và lodgepole pine [LP]) của một cây con 1 tuổi được lấy vào 3 thời điểm khác nhau (Julian day 150 [1], Julian day 235 [2] và Julian day 320 [3]) trong mùa sinh trưởng. Tất cả các cây con đều được trồng với mức dinh dưỡng tối ưu.**"
   ]
  },
  {
   "cell_type": "code",
   "execution_count": 59,
   "metadata": {
    "scrolled": true
   },
   "outputs": [
    {
     "data": {
      "text/html": [
       "<div>\n",
       "<style scoped>\n",
       "    .dataframe tbody tr th:only-of-type {\n",
       "        vertical-align: middle;\n",
       "    }\n",
       "\n",
       "    .dataframe tbody tr th {\n",
       "        vertical-align: top;\n",
       "    }\n",
       "\n",
       "    .dataframe thead th {\n",
       "        text-align: right;\n",
       "    }\n",
       "</style>\n",
       "<table border=\"1\" class=\"dataframe\">\n",
       "  <thead>\n",
       "    <tr style=\"text-align: right;\">\n",
       "      <th></th>\n",
       "      <th>560_nm</th>\n",
       "      <th>720_nm</th>\n",
       "      <th>Species</th>\n",
       "      <th>Time</th>\n",
       "      <th>Replication</th>\n",
       "    </tr>\n",
       "  </thead>\n",
       "  <tbody>\n",
       "    <tr>\n",
       "      <th>0</th>\n",
       "      <td>9.33</td>\n",
       "      <td>19.14</td>\n",
       "      <td>SS</td>\n",
       "      <td>1</td>\n",
       "      <td>1</td>\n",
       "    </tr>\n",
       "    <tr>\n",
       "      <th>1</th>\n",
       "      <td>8.74</td>\n",
       "      <td>19.55</td>\n",
       "      <td>SS</td>\n",
       "      <td>1</td>\n",
       "      <td>2</td>\n",
       "    </tr>\n",
       "    <tr>\n",
       "      <th>2</th>\n",
       "      <td>9.31</td>\n",
       "      <td>19.24</td>\n",
       "      <td>SS</td>\n",
       "      <td>1</td>\n",
       "      <td>3</td>\n",
       "    </tr>\n",
       "    <tr>\n",
       "      <th>3</th>\n",
       "      <td>8.27</td>\n",
       "      <td>16.37</td>\n",
       "      <td>SS</td>\n",
       "      <td>1</td>\n",
       "      <td>4</td>\n",
       "    </tr>\n",
       "    <tr>\n",
       "      <th>4</th>\n",
       "      <td>10.22</td>\n",
       "      <td>25.00</td>\n",
       "      <td>SS</td>\n",
       "      <td>2</td>\n",
       "      <td>1</td>\n",
       "    </tr>\n",
       "    <tr>\n",
       "      <th>5</th>\n",
       "      <td>10.13</td>\n",
       "      <td>25.32</td>\n",
       "      <td>SS</td>\n",
       "      <td>2</td>\n",
       "      <td>2</td>\n",
       "    </tr>\n",
       "    <tr>\n",
       "      <th>6</th>\n",
       "      <td>10.42</td>\n",
       "      <td>27.12</td>\n",
       "      <td>SS</td>\n",
       "      <td>2</td>\n",
       "      <td>3</td>\n",
       "    </tr>\n",
       "    <tr>\n",
       "      <th>7</th>\n",
       "      <td>10.62</td>\n",
       "      <td>26.28</td>\n",
       "      <td>SS</td>\n",
       "      <td>2</td>\n",
       "      <td>4</td>\n",
       "    </tr>\n",
       "    <tr>\n",
       "      <th>8</th>\n",
       "      <td>15.25</td>\n",
       "      <td>38.89</td>\n",
       "      <td>SS</td>\n",
       "      <td>3</td>\n",
       "      <td>1</td>\n",
       "    </tr>\n",
       "    <tr>\n",
       "      <th>9</th>\n",
       "      <td>16.22</td>\n",
       "      <td>36.67</td>\n",
       "      <td>SS</td>\n",
       "      <td>3</td>\n",
       "      <td>2</td>\n",
       "    </tr>\n",
       "    <tr>\n",
       "      <th>10</th>\n",
       "      <td>17.24</td>\n",
       "      <td>40.74</td>\n",
       "      <td>SS</td>\n",
       "      <td>3</td>\n",
       "      <td>3</td>\n",
       "    </tr>\n",
       "    <tr>\n",
       "      <th>11</th>\n",
       "      <td>12.77</td>\n",
       "      <td>67.50</td>\n",
       "      <td>SS</td>\n",
       "      <td>3</td>\n",
       "      <td>4</td>\n",
       "    </tr>\n",
       "    <tr>\n",
       "      <th>12</th>\n",
       "      <td>12.07</td>\n",
       "      <td>33.03</td>\n",
       "      <td>JL</td>\n",
       "      <td>1</td>\n",
       "      <td>1</td>\n",
       "    </tr>\n",
       "    <tr>\n",
       "      <th>13</th>\n",
       "      <td>11.03</td>\n",
       "      <td>32.37</td>\n",
       "      <td>JL</td>\n",
       "      <td>1</td>\n",
       "      <td>2</td>\n",
       "    </tr>\n",
       "    <tr>\n",
       "      <th>14</th>\n",
       "      <td>12.48</td>\n",
       "      <td>31.31</td>\n",
       "      <td>JL</td>\n",
       "      <td>1</td>\n",
       "      <td>3</td>\n",
       "    </tr>\n",
       "    <tr>\n",
       "      <th>15</th>\n",
       "      <td>12.12</td>\n",
       "      <td>33.33</td>\n",
       "      <td>JL</td>\n",
       "      <td>1</td>\n",
       "      <td>4</td>\n",
       "    </tr>\n",
       "    <tr>\n",
       "      <th>16</th>\n",
       "      <td>15.38</td>\n",
       "      <td>40.00</td>\n",
       "      <td>JL</td>\n",
       "      <td>2</td>\n",
       "      <td>1</td>\n",
       "    </tr>\n",
       "    <tr>\n",
       "      <th>17</th>\n",
       "      <td>14.21</td>\n",
       "      <td>40.48</td>\n",
       "      <td>JL</td>\n",
       "      <td>2</td>\n",
       "      <td>2</td>\n",
       "    </tr>\n",
       "    <tr>\n",
       "      <th>18</th>\n",
       "      <td>9.69</td>\n",
       "      <td>33.90</td>\n",
       "      <td>JL</td>\n",
       "      <td>2</td>\n",
       "      <td>3</td>\n",
       "    </tr>\n",
       "    <tr>\n",
       "      <th>19</th>\n",
       "      <td>14.35</td>\n",
       "      <td>40.15</td>\n",
       "      <td>JL</td>\n",
       "      <td>2</td>\n",
       "      <td>4</td>\n",
       "    </tr>\n",
       "    <tr>\n",
       "      <th>20</th>\n",
       "      <td>38.71</td>\n",
       "      <td>77.14</td>\n",
       "      <td>JL</td>\n",
       "      <td>3</td>\n",
       "      <td>1</td>\n",
       "    </tr>\n",
       "    <tr>\n",
       "      <th>21</th>\n",
       "      <td>44.74</td>\n",
       "      <td>78.57</td>\n",
       "      <td>JL</td>\n",
       "      <td>3</td>\n",
       "      <td>2</td>\n",
       "    </tr>\n",
       "    <tr>\n",
       "      <th>22</th>\n",
       "      <td>36.67</td>\n",
       "      <td>71.43</td>\n",
       "      <td>JL</td>\n",
       "      <td>3</td>\n",
       "      <td>3</td>\n",
       "    </tr>\n",
       "    <tr>\n",
       "      <th>23</th>\n",
       "      <td>37.21</td>\n",
       "      <td>45.00</td>\n",
       "      <td>JL</td>\n",
       "      <td>3</td>\n",
       "      <td>4</td>\n",
       "    </tr>\n",
       "    <tr>\n",
       "      <th>24</th>\n",
       "      <td>8.73</td>\n",
       "      <td>23.27</td>\n",
       "      <td>LP</td>\n",
       "      <td>1</td>\n",
       "      <td>1</td>\n",
       "    </tr>\n",
       "    <tr>\n",
       "      <th>25</th>\n",
       "      <td>7.94</td>\n",
       "      <td>20.87</td>\n",
       "      <td>LP</td>\n",
       "      <td>1</td>\n",
       "      <td>2</td>\n",
       "    </tr>\n",
       "    <tr>\n",
       "      <th>26</th>\n",
       "      <td>8.37</td>\n",
       "      <td>22.16</td>\n",
       "      <td>LP</td>\n",
       "      <td>1</td>\n",
       "      <td>3</td>\n",
       "    </tr>\n",
       "    <tr>\n",
       "      <th>27</th>\n",
       "      <td>7.86</td>\n",
       "      <td>21.78</td>\n",
       "      <td>LP</td>\n",
       "      <td>1</td>\n",
       "      <td>4</td>\n",
       "    </tr>\n",
       "    <tr>\n",
       "      <th>28</th>\n",
       "      <td>8.45</td>\n",
       "      <td>26.32</td>\n",
       "      <td>LP</td>\n",
       "      <td>2</td>\n",
       "      <td>1</td>\n",
       "    </tr>\n",
       "    <tr>\n",
       "      <th>29</th>\n",
       "      <td>6.79</td>\n",
       "      <td>22.73</td>\n",
       "      <td>LP</td>\n",
       "      <td>2</td>\n",
       "      <td>2</td>\n",
       "    </tr>\n",
       "    <tr>\n",
       "      <th>30</th>\n",
       "      <td>8.34</td>\n",
       "      <td>26.67</td>\n",
       "      <td>LP</td>\n",
       "      <td>2</td>\n",
       "      <td>3</td>\n",
       "    </tr>\n",
       "    <tr>\n",
       "      <th>31</th>\n",
       "      <td>7.54</td>\n",
       "      <td>24.87</td>\n",
       "      <td>LP</td>\n",
       "      <td>2</td>\n",
       "      <td>4</td>\n",
       "    </tr>\n",
       "    <tr>\n",
       "      <th>32</th>\n",
       "      <td>14.04</td>\n",
       "      <td>44.44</td>\n",
       "      <td>LP</td>\n",
       "      <td>3</td>\n",
       "      <td>1</td>\n",
       "    </tr>\n",
       "    <tr>\n",
       "      <th>33</th>\n",
       "      <td>13.51</td>\n",
       "      <td>37.93</td>\n",
       "      <td>LP</td>\n",
       "      <td>3</td>\n",
       "      <td>2</td>\n",
       "    </tr>\n",
       "    <tr>\n",
       "      <th>34</th>\n",
       "      <td>13.33</td>\n",
       "      <td>37.93</td>\n",
       "      <td>LP</td>\n",
       "      <td>3</td>\n",
       "      <td>3</td>\n",
       "    </tr>\n",
       "    <tr>\n",
       "      <th>35</th>\n",
       "      <td>12.77</td>\n",
       "      <td>60.87</td>\n",
       "      <td>LP</td>\n",
       "      <td>3</td>\n",
       "      <td>4</td>\n",
       "    </tr>\n",
       "  </tbody>\n",
       "</table>\n",
       "</div>"
      ],
      "text/plain": [
       "    560_nm  720_nm Species  Time  Replication\n",
       "0     9.33   19.14      SS     1            1\n",
       "1     8.74   19.55      SS     1            2\n",
       "2     9.31   19.24      SS     1            3\n",
       "3     8.27   16.37      SS     1            4\n",
       "4    10.22   25.00      SS     2            1\n",
       "5    10.13   25.32      SS     2            2\n",
       "6    10.42   27.12      SS     2            3\n",
       "7    10.62   26.28      SS     2            4\n",
       "8    15.25   38.89      SS     3            1\n",
       "9    16.22   36.67      SS     3            2\n",
       "10   17.24   40.74      SS     3            3\n",
       "11   12.77   67.50      SS     3            4\n",
       "12   12.07   33.03      JL     1            1\n",
       "13   11.03   32.37      JL     1            2\n",
       "14   12.48   31.31      JL     1            3\n",
       "15   12.12   33.33      JL     1            4\n",
       "16   15.38   40.00      JL     2            1\n",
       "17   14.21   40.48      JL     2            2\n",
       "18    9.69   33.90      JL     2            3\n",
       "19   14.35   40.15      JL     2            4\n",
       "20   38.71   77.14      JL     3            1\n",
       "21   44.74   78.57      JL     3            2\n",
       "22   36.67   71.43      JL     3            3\n",
       "23   37.21   45.00      JL     3            4\n",
       "24    8.73   23.27      LP     1            1\n",
       "25    7.94   20.87      LP     1            2\n",
       "26    8.37   22.16      LP     1            3\n",
       "27    7.86   21.78      LP     1            4\n",
       "28    8.45   26.32      LP     2            1\n",
       "29    6.79   22.73      LP     2            2\n",
       "30    8.34   26.67      LP     2            3\n",
       "31    7.54   24.87      LP     2            4\n",
       "32   14.04   44.44      LP     3            1\n",
       "33   13.51   37.93      LP     3            2\n",
       "34   13.33   37.93      LP     3            3\n",
       "35   12.77   60.87      LP     3            4"
      ]
     },
     "execution_count": 59,
     "metadata": {},
     "output_type": "execute_result"
    }
   ],
   "source": [
    "path_33 = 'T6-18.txt'\n",
    "data_33 = pd.read_table(path_33, delim_whitespace=True, header=None)\n",
    "data_33.columns=['560_nm', '720_nm', 'Species', 'Time', 'Replication']\n",
    "data_33"
   ]
  },
  {
   "cell_type": "markdown",
   "metadata": {},
   "source": [
    "**(a) Thực hiện two-factor MANOVA bằng cách sử dụng dữ liệu trong bảng 6.18. Kiểm định cho species effect, time effect và species-time interation với mức ý nghĩa $\\alpha = 0.05$.**"
   ]
  },
  {
   "cell_type": "code",
   "execution_count": 57,
   "metadata": {},
   "outputs": [
    {
     "data": {
      "text/plain": [
       "1.5"
      ]
     },
     "execution_count": 57,
     "metadata": {},
     "output_type": "execute_result"
    }
   ],
   "source": [
    "a = {'a': [[0,1,2],[1,2,3]], 'b': [[0,1,2],[1,2,3]]}\n",
    "np.mean(a['a'])"
   ]
  },
  {
   "cell_type": "code",
   "execution_count": 120,
   "metadata": {},
   "outputs": [],
   "source": [
    "class TwoWayMANOVA:\n",
    "    def __init__(self):\n",
    "        self.g = None\n",
    "        self.b = None\n",
    "        self.n = None\n",
    "        self.p = None\n",
    "        self.mean = None\n",
    "        self.list_means = []\n",
    "        self.list_cov = []\n",
    "        self.Fac1 = None\n",
    "        self.Fac2 = None\n",
    "        self.Int = None\n",
    "        self.Res = None\n",
    "        self.Cor = None\n",
    "        \n",
    "    def _calc_init_values(self, X, y1, y2):\n",
    "        self.g = len(np.unique(y1))\n",
    "        self.b = len(np.unique(y2))\n",
    "        _, counts = np.unique(y1, return_counts=True)\n",
    "        self.n = counts[0]/self.b\n",
    "        self.p = X.shape[1]\n",
    "        self.mean = np.array(np.mean(X,axis=0)).reshape(-1,1)\n",
    "        for i in np.unique(y1):\n",
    "            data = X[y1==i]\n",
    "            temp_mean = []\n",
    "            temp_cov = []\n",
    "            for j in np.unique(y2):\n",
    "                data1 = data[y2==j]\n",
    "                temp_mean.append(np.array(np.mean(data1, axis=0)).reshape(-1,1))\n",
    "                temp_cov.append(np.array(np.cov(data1.T)))\n",
    "            self.list_means.append(temp_mean)\n",
    "            self.list_cov.append(temp_cov)\n",
    "        self.list_means = np.array(self.list_means)\n",
    "        self.list_cov = np.array(self.list_cov)\n",
    "    \n",
    "    def fit(self, X, y1, y2):\n",
    "        self._calc_init_values(X, y1, y2)\n",
    "\n",
    "        Fac1 = np.zeros((self.p, self.p))\n",
    "        Fac2 = np.zeros((self.p, self.p))\n",
    "        Int = np.zeros((self.p, self.p))\n",
    "        Res = np.zeros((self.p, self.p))\n",
    "        for l in range(self.g):\n",
    "            Fac1 += self.b*self.n*(np.mean(self.list_means[l], axis=0) - self.mean).dot((np.mean(self.list_means[l], axis=0) - self.mean).T)\n",
    "            for k in range(self.b):\n",
    "                Int += self.n*(self.list_means[l][k] - np.mean(self.list_means[l], axis=0) - np.mean(self.list_means[:,k], axis=0) + self.mean).dot((self.list_means[l][k] - np.mean(self.list_means[l], axis=0) - np.mean(self.list_means[:,k], axis=0) + self.mean).T)\n",
    "                Res += (self.n-1)*self.list_cov[l][k]\n",
    "            \n",
    "        for k in range(self.b):\n",
    "            Fac2 += self.g*self.n*(np.mean(self.list_means[:,k], axis=0) - self.mean).dot((np.mean(self.list_means[:,k], axis=0) - self.mean).T)\n",
    "        self.Fac1 = (Fac1, self.g-1)\n",
    "        self.Fac2 = (Fac2, self.b-1)\n",
    "        self.Int = (Int, (self.g-1)*(self.b-1))\n",
    "        self.Res = (Res, self.g*self.b*(self.n-1))\n",
    "        self.Cor = (Fac1+Fac2+Int+Res, self.g*self.b*self.n - 1)\n",
    "        \n",
    "    def table(self):\n",
    "        print('>> MANOVA Table: \\n')\n",
    "        print('*'*50)\n",
    "        print('> Factor 1: \\nSSP_fac1 = \\n{},\\t d.f. = {}'.format(self.Fac1[0], self.Fac1[1]))\n",
    "        print('> Factor 2: \\nSSP_fac2 = \\n{},\\t d.f. = {}'.format(self.Fac2[0], self.Fac2[1]))\n",
    "        print('> Interaction: \\nSSP_int = \\n{},\\t d.f. = {}'.format(self.Int[0], self.Int[1]))\n",
    "        print('\\n> Residual: \\nSSP_res = \\n{},\\t d.f. = {}'.format(self.Res[0], self.Res[1]))\n",
    "        print('\\n> Total: \\nSSP_cor = \\n{},\\t d.f. = {}'.format(self.Cor[0], self.Cor[1]))\n",
    "        print('*'*50)"
   ]
  },
  {
   "cell_type": "code",
   "execution_count": 121,
   "metadata": {},
   "outputs": [
    {
     "name": "stdout",
     "output_type": "stream",
     "text": [
      ">> MANOVA Table: \n",
      "\n",
      "**************************************************\n",
      "> Factor 1: \n",
      "SSP_fac1 = \n",
      "[[ 965.18117222 1377.60191389]\n",
      " [1377.60191389 2026.85637222]],\t d.f. = 2\n",
      "> Factor 2: \n",
      "SSP_fac2 = \n",
      "[[1275.24773889 2644.92736389]\n",
      " [2644.92736389 5573.80570556]],\t d.f. = 2\n",
      "> Interaction: \n",
      "SSP_int = \n",
      "[[795.80794444 375.96311944]\n",
      " [375.96311944 193.54926111]],\t d.f. = 4\n",
      "\n",
      "> Residual: \n",
      "SSP_res = \n",
      "[[  76.658775   37.9299  ]\n",
      " [  37.9299   1769.642225]],\t d.f. = 27.0\n",
      "\n",
      "> Total: \n",
      "SSP_cor = \n",
      "[[3112.89563056 4436.42229722]\n",
      " [4436.42229722 9563.85356389]],\t d.f. = 35.0\n",
      "**************************************************\n"
     ]
    },
    {
     "name": "stderr",
     "output_type": "stream",
     "text": [
      "<ipython-input-120-f3c306da6c82>:28: UserWarning: Boolean Series key will be reindexed to match DataFrame index.\n",
      "  data1 = data[y2==j]\n"
     ]
    }
   ],
   "source": [
    "X = data_33[['560_nm', '720_nm']]\n",
    "y1 = data_33['Species']\n",
    "y2 = data_33['Time']\n",
    "maov = TwoWayMANOVA()\n",
    "maov.fit(X, y1, y2)\n",
    "maov.table()"
   ]
  },
  {
   "cell_type": "markdown",
   "metadata": {},
   "source": [
    "**(b) Bạn có nghĩ rằng các giả thuyết MANOVA thông thường được thoả mãn với bộ dữ liệu này không? Thảo luận với sự tương quan giữa residual analysis và khả năng các quan trắc có quan hệ với nhau theo thời gian.**"
   ]
  },
  {
   "cell_type": "code",
   "execution_count": null,
   "metadata": {},
   "outputs": [],
   "source": []
  },
  {
   "cell_type": "markdown",
   "metadata": {},
   "source": [
    "**(c) Kiểm lâm đặc biệt quan tâm dến sự tác động giữa các loài và thời gian. Sự tác động có cho thấy một biến mà có cho thấy biến còn lại không? Kiểm tra bằng cách chạy two-factor ANOVA cho mỗi phản hồi trong hai phản hồi.**"
   ]
  },
  {
   "cell_type": "code",
   "execution_count": null,
   "metadata": {},
   "outputs": [],
   "source": []
  },
  {
   "cell_type": "markdown",
   "metadata": {},
   "source": [
    "**(d) Bạn có thể nghĩ ra một phương pháp để phân tích những dữ liệu này (hoặc một thiết kế thử nghiệm khác) cho phép tạo ra xu hướng thời gian tiềm năng trong số các phản xạ quang phổ không?**"
   ]
  },
  {
   "cell_type": "code",
   "execution_count": null,
   "metadata": {},
   "outputs": [],
   "source": []
  }
 ],
 "metadata": {
  "kernelspec": {
   "display_name": "Python 3.8.3 64-bit",
   "language": "python",
   "name": "python383jvsc74a57bd0ec7911a984bf50a95a091ed688bddf33e5c583f17c3c0ec03db68be6b42356dd"
  },
  "language_info": {
   "codemirror_mode": {
    "name": "ipython",
    "version": 3
   },
   "file_extension": ".py",
   "mimetype": "text/x-python",
   "name": "python",
   "nbconvert_exporter": "python",
   "pygments_lexer": "ipython3",
   "version": "3.8.3"
  }
 },
 "nbformat": 4,
 "nbformat_minor": 4
}
