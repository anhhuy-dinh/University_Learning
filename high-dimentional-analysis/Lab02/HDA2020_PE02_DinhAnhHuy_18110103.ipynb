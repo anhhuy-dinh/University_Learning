{
  "nbformat": 4,
  "nbformat_minor": 0,
  "metadata": {
    "colab": {
      "name": "HDA2020_PE02_DinhAnhHuy_18110103.ipynb",
      "provenance": [],
      "collapsed_sections": []
    },
    "kernelspec": {
      "name": "python3",
      "display_name": "Python 3"
    },
    "language_info": {
      "name": "python"
    }
  },
  "cells": [
    {
      "cell_type": "markdown",
      "metadata": {
        "id": "COOjyCr2EBVC"
      },
      "source": [
        "## HIGH DIMENSIONAL ANALYSIS\n",
        "\n",
        "\n",
        "*   **Programing Exercise: 02**\n",
        "*   **Name: Đinh Anh Huy**\n",
        "*   **Student code       : 18110103**\n",
        "\n",
        "\n"
      ]
    },
    {
      "cell_type": "code",
      "metadata": {
        "id": "Atzcpy5iBvN9"
      },
      "source": [
        "import numpy as np\n",
        "import pandas as pd\n",
        "import seaborn as sns\n",
        "from matplotlib import pyplot as plt\n",
        "from sklearn.datasets import load_iris\n",
        "from sklearn.preprocessing import StandardScaler\n",
        "%matplotlib inline"
      ],
      "execution_count": 1,
      "outputs": []
    },
    {
      "cell_type": "markdown",
      "metadata": {
        "id": "AtmkgB08RWaT"
      },
      "source": [
        "**Apply Linear Discriminant Analysis algorithm on the Iris flower dataset.**\n",
        "\n",
        "Thuật toán LDA được thực hiện thông qua các bước:\n",
        "\n",
        "1.   Chuẩn hoá dữ liệu (d-chiều).\n",
        "2.   Với mỗi class, tính vectơ trung bình (d-chiều).\n",
        "3.   Xây dựng between-class scatter matrix $\\textbf{S}_B$ và within-class scatter matrix $\\textbf{S}_W$.\n",
        "\n",
        "Trong đó\n",
        "$$ \\textbf{S}_W = \\displaystyle\\sum_{i=1}^c\\textbf{S}_i$$\n",
        "\n",
        "$$ \\textbf{S}_B = \\displaystyle\\sum_{i=1}^cn_i(\\textbf{m}_i-\\textbf{m})(\\textbf{m}_i-\\textbf{m})^T$$\n",
        "\n",
        "với $\\textbf{S}_i = \\displaystyle\\sum_{x\\in D_i}^c(\\textbf{x}-\\textbf{m}_i)(\\textbf{x}-\\textbf{m}_i)^T$ là scatter matrix matrix của class thứ i, $\\textbf{m}$ là overall mean và $\\textbf{m}_i$ là sample mean của class $i$.\n",
        "4.   Tìm các vectơ riêng và trị riêng của ma trận $\\textbf{S}_W^{-1}\\textbf{S}_B$.\n",
        "5.   Sắp xếp các trị riêng theo thứ tự giảm dần.\n",
        "6.   Chọn k vectơ riêng đầu tiên ứng với k trị riêng lớn nhất trong bộ trị riêng đã sắp xếp ở trên (k < d).\n",
        "7.   Xây dựng ma trận chiếu $\\textbf{W}\\in M_{k\\times d}(\\mathbf{R})$ từ các vectơ riêng ở trên.\n",
        "8.   Tìm hình chiếu $Y$ của ma trận dữ liệu X trong không gian mới sinh bởi ma trận $\\textbf{W}$, $Y=\\textbf{W}X$.\n",
        "\n",
        "Từ ý tưởng các bước thực hiện như trên, ta xây dựng `class MyLDA` có\n",
        "\n",
        "* *Tham số*:\n",
        "  * `n_components`: Số lượng vectơ thành phần chính, mặc định là `None`.\n",
        "* *Thuộc tính*:\n",
        "  * `explained_variance_ratio_`: Phần trăm phương sai được giải thích theo từng thành phần đã chọn. Tổng tất cả các tỷ lệ sẽ bằng 1.\n",
        "  * `eigenpairs_`: Danh sách các bộ có thứ tự, trong đó mỗi bộ là 1 cặp (trị riêng, vectơ riêng tương ứng).\n",
        "  * `weights_`: Ma trận chiếu $\\textbf{W}$.\n",
        "  * `means_`: Bộ các vectơ trung bình theo từng class.\n",
        "  * `classes_`: Giá trị unique của các class trong cột target.\n",
        "* *Phương thức*:\n",
        "  * `_calc_mean_(X, y)`: Tính giá trị cho `means_`.\n",
        "  * `_calc_within_class_scatter_matrix(X, y)`: Tính ma trận $\\textbf{S}_W$.\n",
        "  * `_calc_between_class_scatter_matrix(X, y)`: Tính ma trận $\\textbf{S}_B$.\n",
        "  * `fit(X, y)`: Áp dụng thuật toán LDA với X, y.\n",
        "  * `fit_transform(X, y)`: Áp dụng thuật toán PCA với X, y và giảm số chiều trên X.\n",
        "  * `transform(X)`: Áp dụng giảm số chiều trên X với dữ liệu thu được từ phương thức `fit`.\n",
        "\n",
        "  Input của các phương thức bắt buộc phải là dữ liệu dạng số.\n"
      ]
    },
    {
      "cell_type": "code",
      "metadata": {
        "id": "MOY8vNGrHMt9"
      },
      "source": [
        "class MyLDA:\n",
        "  def __init__(self, n_components=None):\n",
        "    self.n_components = n_components\n",
        "    self.weights_ = None\n",
        "    self.explained_variance_ratio_ = None\n",
        "    self.means_ = []\n",
        "    self.classes_ = None\n",
        "    self.eigenpairs_ = None\n",
        "\n",
        "  def _calc_mean_(self, X, y):\n",
        "    for label in self.classes_:\n",
        "      self.means_.append(np.mean(X[y==label], axis=0))\n",
        "    self.means_ = np.array(self.means_)\n",
        "  \n",
        "  def _calc_within_class_scatter_matrix(self, X, y):\n",
        "    Sw = np.zeros((X.shape[1], X.shape[1]))\n",
        "    for group in self.classes_:\n",
        "      Sw += np.cov(X[y == group].T)\n",
        "    self.Sw = Sw\n",
        "\n",
        "  def _calc_between_class_scatter_matrix(self, X, y):\n",
        "    no_samples = np.bincount(y) # number of samples for given class\n",
        "    mean_overall = np.mean(X, axis=0)\n",
        "\n",
        "    Sb = np.zeros((X.shape[1], X.shape[1]))\n",
        "    for c in self.classes_:\n",
        "        X_c = X[y == c]\n",
        "        mean_c = np.mean(X_c, axis=0)\n",
        "\n",
        "        n_c = X_c.shape[0]\n",
        "        mean_diff = (mean_c - mean_overall).reshape(X.shape[1], 1)\n",
        "        Sb += n_c * (mean_diff).dot(mean_diff.T)\n",
        "\n",
        "    self.Sb = Sb\n",
        "\n",
        "  def fit(self, X, y):\n",
        "    self.classes_ = np.unique(y)\n",
        "    n_samples = X.shape[0]\n",
        "    n_classes = len(self.classes_)\n",
        "\n",
        "    # Maximum number of components no matter what n_components is specified:\n",
        "    max_components = min(n_classes - 1, X.shape[1])\n",
        "    if self.n_components is None:\n",
        "        self._max_components = max_components\n",
        "    else:\n",
        "        if self.n_components > max_components:\n",
        "            raise ValueError(\"n_components cannot be larger than min(n_features, n_classes - 1).\")\n",
        "        self._max_components = self.n_components\n",
        "\n",
        "    # For each class, compute mean vector\n",
        "    self._calc_mean_(X, y)\n",
        "    \n",
        "    # Construct the within-class scatter matrix Sw and between-class scatter matrix Sb\n",
        "    self._calc_within_class_scatter_matrix(X, y)\n",
        "    self._calc_between_class_scatter_matrix(X, y)\n",
        "\n",
        "    # Compute the eigenvectors and corresponding eigenvalues of the matrix Sw^(-1)Sb\n",
        "    eigenvals, eigenvecs = np.linalg.eig(np.linalg.inv(self.Sw).dot(self.Sb))\n",
        "    \n",
        "    # Sort paires (eigenvalue, eigenvector) in descending order\n",
        "    eigenpairs = [(np.abs(eigenval), eigenvec) for (eigenval, eigenvec) in zip(eigenvals, eigenvecs.T)]\n",
        "    eigenpairs = sorted(eigenpairs, key = lambda pair: pair[0], reverse = True)\n",
        "\n",
        "    # Select a subset from the rearranged eigenvalues vector\n",
        "    self.eigenpairs_ = eigenpairs[:self._max_components]\n",
        "    \n",
        "    # Construct weight matrix from above subset\n",
        "    self.components_ = [eigenvec for (_, eigenvec) in self.eigenpairs_]\n",
        "    # self.weights_ = np.array([eigenvec.T for eigenvec in self.components_])\n",
        "    self.weights_ = np.real(np.array([eigenpairs[i][1] for i in range(self._max_components)]).T)\n",
        "\n",
        "    # Calculate percentage of cariance explained by each of the selected components\n",
        "    eigenvals = [eigenval for (eigenval, _) in self.eigenpairs_]\n",
        "    \n",
        "    self.explained_variance_ratio_ = eigenvals / np.sum(eigenvals)\n",
        "\n",
        "  def transform(self, X):\n",
        "    return X.dot(self.weights_)\n",
        "\n",
        "  def fit_transform(self, X, y):\n",
        "    self.fit(X, y)\n",
        "    return self.transform(X)"
      ],
      "execution_count": 3,
      "outputs": []
    },
    {
      "cell_type": "code",
      "metadata": {
        "colab": {
          "base_uri": "https://localhost:8080/",
          "height": 205
        },
        "id": "jAN4MEj_EErP",
        "outputId": "8e8d4485-061e-4640-9e9d-414ffb61b3b7"
      },
      "source": [
        "data, target = load_iris(return_X_y=True)\n",
        "df = pd.DataFrame(data)\n",
        "df.columns = ['sepal length (cm)', 'sepal width (cm)', 'petal length (cm)', 'petal width (cm)']\n",
        "df.head()"
      ],
      "execution_count": 12,
      "outputs": [
        {
          "output_type": "execute_result",
          "data": {
            "text/html": [
              "<div>\n",
              "<style scoped>\n",
              "    .dataframe tbody tr th:only-of-type {\n",
              "        vertical-align: middle;\n",
              "    }\n",
              "\n",
              "    .dataframe tbody tr th {\n",
              "        vertical-align: top;\n",
              "    }\n",
              "\n",
              "    .dataframe thead th {\n",
              "        text-align: right;\n",
              "    }\n",
              "</style>\n",
              "<table border=\"1\" class=\"dataframe\">\n",
              "  <thead>\n",
              "    <tr style=\"text-align: right;\">\n",
              "      <th></th>\n",
              "      <th>sepal length (cm)</th>\n",
              "      <th>sepal width (cm)</th>\n",
              "      <th>petal length (cm)</th>\n",
              "      <th>petal width (cm)</th>\n",
              "    </tr>\n",
              "  </thead>\n",
              "  <tbody>\n",
              "    <tr>\n",
              "      <th>0</th>\n",
              "      <td>5.1</td>\n",
              "      <td>3.5</td>\n",
              "      <td>1.4</td>\n",
              "      <td>0.2</td>\n",
              "    </tr>\n",
              "    <tr>\n",
              "      <th>1</th>\n",
              "      <td>4.9</td>\n",
              "      <td>3.0</td>\n",
              "      <td>1.4</td>\n",
              "      <td>0.2</td>\n",
              "    </tr>\n",
              "    <tr>\n",
              "      <th>2</th>\n",
              "      <td>4.7</td>\n",
              "      <td>3.2</td>\n",
              "      <td>1.3</td>\n",
              "      <td>0.2</td>\n",
              "    </tr>\n",
              "    <tr>\n",
              "      <th>3</th>\n",
              "      <td>4.6</td>\n",
              "      <td>3.1</td>\n",
              "      <td>1.5</td>\n",
              "      <td>0.2</td>\n",
              "    </tr>\n",
              "    <tr>\n",
              "      <th>4</th>\n",
              "      <td>5.0</td>\n",
              "      <td>3.6</td>\n",
              "      <td>1.4</td>\n",
              "      <td>0.2</td>\n",
              "    </tr>\n",
              "  </tbody>\n",
              "</table>\n",
              "</div>"
            ],
            "text/plain": [
              "   sepal length (cm)  sepal width (cm)  petal length (cm)  petal width (cm)\n",
              "0                5.1               3.5                1.4               0.2\n",
              "1                4.9               3.0                1.4               0.2\n",
              "2                4.7               3.2                1.3               0.2\n",
              "3                4.6               3.1                1.5               0.2\n",
              "4                5.0               3.6                1.4               0.2"
            ]
          },
          "metadata": {
            "tags": []
          },
          "execution_count": 12
        }
      ]
    },
    {
      "cell_type": "code",
      "metadata": {
        "id": "2ZtpJVWIatiM"
      },
      "source": [
        "# Normalize data \n",
        "from sklearn.preprocessing import StandardScaler\n",
        "scaler = StandardScaler()\n",
        "data_std = scaler.fit_transform(data)"
      ],
      "execution_count": 4,
      "outputs": []
    },
    {
      "cell_type": "code",
      "metadata": {
        "id": "BZagLHblIbAL",
        "colab": {
          "base_uri": "https://localhost:8080/"
        },
        "outputId": "ebb87305-fb56-46f4-d381-528ca80dae00"
      },
      "source": [
        "# Implement LDA \n",
        "lda = MyLDA(n_components=2)\n",
        "lda.fit(data, target)\n",
        "data_trans = lda.transform(data)\n",
        "lda.explained_variance_ratio_\n",
        "lda.means_"
      ],
      "execution_count": 11,
      "outputs": [
        {
          "output_type": "execute_result",
          "data": {
            "text/plain": [
              "array([[5.006, 3.428, 1.462, 0.246],\n",
              "       [5.936, 2.77 , 4.26 , 1.326],\n",
              "       [6.588, 2.974, 5.552, 2.026]])"
            ]
          },
          "metadata": {
            "tags": []
          },
          "execution_count": 11
        }
      ]
    },
    {
      "cell_type": "code",
      "metadata": {
        "colab": {
          "base_uri": "https://localhost:8080/",
          "height": 383
        },
        "id": "8yYxBC4D5JZc",
        "outputId": "71b299a6-757f-4722-bcc3-078aa7c26b53"
      },
      "source": [
        "# Plot transformed features in LDA subspace \n",
        "df = pd.DataFrame(data_trans)\n",
        "df['class'] = target\n",
        "df.columns = [\"LD1\", \"LD2\", \"class\"]\n",
        "\n",
        "markers = ['s', 'x','o']\n",
        "sns.lmplot(x=\"LD1\", y=\"LD2\", data=df, markers=markers,fit_reg=False, hue='class', legend=False)\n",
        "plt.legend(loc='lower center')\n",
        "plt.show()"
      ],
      "execution_count": 6,
      "outputs": [
        {
          "output_type": "display_data",
          "data": {
            "image/png": "[encoded data removed]",
            "text/plain": [
              "<Figure size 360x360 with 1 Axes>"
            ]
          },
          "metadata": {
            "tags": [],
            "needs_background": "light"
          }
        }
      ]
    },
    {
      "cell_type": "markdown",
      "metadata": {
        "id": "vrWrxIyncQOP"
      },
      "source": [
        "**Implement LDA with scikit-learn library.**"
      ]
    },
    {
      "cell_type": "code",
      "metadata": {
        "colab": {
          "base_uri": "https://localhost:8080/"
        },
        "id": "ysHdhjmp4oZn",
        "outputId": "6d83242d-4fd0-49cc-ec50-4fe6792a936a"
      },
      "source": [
        "# Implement LDA with scikit-learn library\n",
        "from sklearn.discriminant_analysis import LinearDiscriminantAnalysis as LDA\n",
        "\n",
        "lda_skl = LDA(n_components=2, solver='eigen').fit(data, target)\n",
        "data_transform_skl = lda_skl.transform(data)\n",
        "lda_skl.explained_variance_ratio_"
      ],
      "execution_count": 7,
      "outputs": [
        {
          "output_type": "execute_result",
          "data": {
            "text/plain": [
              "array([0.9912126, 0.0087874])"
            ]
          },
          "metadata": {
            "tags": []
          },
          "execution_count": 7
        }
      ]
    },
    {
      "cell_type": "code",
      "metadata": {
        "colab": {
          "base_uri": "https://localhost:8080/",
          "height": 383
        },
        "id": "iUhuFfYeIl0I",
        "outputId": "8486a40d-af6f-4dce-fb99-20f5395526ab"
      },
      "source": [
        "# Plot transformed features in LDA subspace\n",
        "df_skl = pd.DataFrame(data_transform_skl)\n",
        "df_skl['class'] = target\n",
        "df_skl.columns = [\"LD1\", \"LD2\", \"class\"]\n",
        "\n",
        "markers = ['s', 'x','o']\n",
        "sns.lmplot(x=\"LD1\", y=\"LD2\", data=df_skl, markers=markers, fit_reg=False, hue='class', legend=False)\n",
        "plt.legend(loc='upper center')\n",
        "plt.show()"
      ],
      "execution_count": 8,
      "outputs": [
        {
          "output_type": "display_data",
          "data": {
            "image/png": "[encoded data removed]",
            "text/plain": [
              "<Figure size 360x360 with 1 Axes>"
            ]
          },
          "metadata": {
            "tags": [],
            "needs_background": "light"
          }
        }
      ]
    },
    {
      "cell_type": "markdown",
      "metadata": {
        "id": "gqMSQkU9cgaB"
      },
      "source": [
        "**Make a\n",
        "comparison between LDA and PCA projected samples.**"
      ]
    },
    {
      "cell_type": "code",
      "metadata": {
        "colab": {
          "base_uri": "https://localhost:8080/"
        },
        "id": "RbypjzugE8d3",
        "outputId": "7bd72fdf-e0d2-4061-d101-382c72443c08"
      },
      "source": [
        "# Implement PCA with scikit-learn library\n",
        "from sklearn.decomposition import PCA\n",
        "pca_skl = PCA(n_components=2)\n",
        "data_pca = pca_skl.fit_transform(data)\n",
        "pca_skl.explained_variance_ratio_"
      ],
      "execution_count": 9,
      "outputs": [
        {
          "output_type": "execute_result",
          "data": {
            "text/plain": [
              "array([0.92461872, 0.05306648])"
            ]
          },
          "metadata": {
            "tags": []
          },
          "execution_count": 9
        }
      ]
    },
    {
      "cell_type": "code",
      "metadata": {
        "id": "hLNZ_ycUgt5T",
        "colab": {
          "base_uri": "https://localhost:8080/",
          "height": 383
        },
        "outputId": "85f75f45-af19-4c94-dc14-9b8fac2be507"
      },
      "source": [
        "# Plot transformed features in LDA subspace\n",
        "df_skl = pd.DataFrame(data_pca)\n",
        "df_skl['class'] = target\n",
        "df_skl.columns = [\"LD1\", \"LD2\", \"class\"]\n",
        "\n",
        "markers = ['s', 'x','o']\n",
        "sns.lmplot(x=\"LD1\", y=\"LD2\", data=df_skl, markers=markers, fit_reg=False, hue='class', legend=False)\n",
        "plt.legend(loc='upper center')\n",
        "plt.show()"
      ],
      "execution_count": 10,
      "outputs": [
        {
          "output_type": "display_data",
          "data": {
            "image/png": "[encoded data removed]",
            "text/plain": [
              "<Figure size 360x360 with 1 Axes>"
            ]
          },
          "metadata": {
            "tags": [],
            "needs_background": "light"
          }
        }
      ]
    },
    {
      "cell_type": "markdown",
      "metadata": {
        "id": "sysCiUa6dCCQ"
      },
      "source": [
        "Dựa vào các gía trị `explained_variance_ratio_` ta có thể thấy rằng:\n",
        "* Dữ liệu sau khi dimension reduction bằng thuật toán LDA được giải thích bằng 2 pricipal components (PC) theo tỉ lệ lần lượt là $[0.9912126, 0.0087874]$. PC1 giải thích đến 99.1% thông tin dữ liệu và PC2 giải thích được 0.88%.\n",
        "* Tỉ lệ giải thích của các PC sau khi PCA là $[0.92461872, 0.05306648]$.\n",
        "\n",
        "Ta có nhận xét sau:\n",
        "* Thuật toán LDA cho ra kết quả tốt hơn so với PCA khi dữ liệu sau khi transform lưu giữ đến hơn 99% lượng thông tin của dữ liệu ban đầu, trong khi PCA chỉ giữa lại được tổng cộng hơn 97%. \n",
        "* Dựa vào scatter plot dữ liệu sau khi transform, ta có thể thấy thuật toán LDA cho ra kết quả các lớp được phân ra gần như tách biệt, khi chiếu xuống PC1, ta gần như nhìn thấy rõ 3 class tách biệt nhau. Trong khi với thuật toán PCA thì class 1 và 2 vẫn còn nhiều giá trị vị chồng lẫn lên nhau, khi chiếu lên PC1 thì class 1 và 2 bị chồng chéo nhau khó phân biệt."
      ]
    }
  ]
}