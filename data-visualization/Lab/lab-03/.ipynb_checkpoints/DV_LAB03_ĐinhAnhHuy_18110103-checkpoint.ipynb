{
 "cells": [
  {
   "cell_type": "code",
   "execution_count": 1,
   "metadata": {},
   "outputs": [],
   "source": [
    "import numpy as np\n",
    "import pandas as pd\n",
    "import seaborn as sns\n",
    "import matplotlib.pyplot as plt\n",
    "import warnings\n",
    "warnings.filterwarnings(\"ignore\")"
   ]
  },
  {
   "cell_type": "markdown",
   "metadata": {},
   "source": [
    "## 1. Load data ('COVID-19.xlsx') và trích lấy dữ liệu\n",
    "Load data (**'COVID-19.xlsx'**) và trích lấy dữ liệu các cột sau: **'day'**, **'month'**, **'year'**, **'cases'**, **'deaths'**, **'countriesAndTerritories'**, **'continentExp'** (trích data này là data để thực hiện các yêu cầu dưới)"
   ]
  },
  {
   "cell_type": "code",
   "execution_count": 2,
   "metadata": {},
   "outputs": [
    {
     "data": {
      "text/html": [
       "<div>\n",
       "<style scoped>\n",
       "    .dataframe tbody tr th:only-of-type {\n",
       "        vertical-align: middle;\n",
       "    }\n",
       "\n",
       "    .dataframe tbody tr th {\n",
       "        vertical-align: top;\n",
       "    }\n",
       "\n",
       "    .dataframe thead th {\n",
       "        text-align: right;\n",
       "    }\n",
       "</style>\n",
       "<table border=\"1\" class=\"dataframe\">\n",
       "  <thead>\n",
       "    <tr style=\"text-align: right;\">\n",
       "      <th></th>\n",
       "      <th>day</th>\n",
       "      <th>month</th>\n",
       "      <th>year</th>\n",
       "      <th>cases</th>\n",
       "      <th>deaths</th>\n",
       "      <th>countriesAndTerritories</th>\n",
       "      <th>continentExp</th>\n",
       "    </tr>\n",
       "  </thead>\n",
       "  <tbody>\n",
       "    <tr>\n",
       "      <th>0</th>\n",
       "      <td>11</td>\n",
       "      <td>11</td>\n",
       "      <td>2020</td>\n",
       "      <td>0</td>\n",
       "      <td>0</td>\n",
       "      <td>Afghanistan</td>\n",
       "      <td>Asia</td>\n",
       "    </tr>\n",
       "    <tr>\n",
       "      <th>1</th>\n",
       "      <td>10</td>\n",
       "      <td>11</td>\n",
       "      <td>2020</td>\n",
       "      <td>224</td>\n",
       "      <td>12</td>\n",
       "      <td>Afghanistan</td>\n",
       "      <td>Asia</td>\n",
       "    </tr>\n",
       "    <tr>\n",
       "      <th>2</th>\n",
       "      <td>9</td>\n",
       "      <td>11</td>\n",
       "      <td>2020</td>\n",
       "      <td>80</td>\n",
       "      <td>3</td>\n",
       "      <td>Afghanistan</td>\n",
       "      <td>Asia</td>\n",
       "    </tr>\n",
       "    <tr>\n",
       "      <th>3</th>\n",
       "      <td>8</td>\n",
       "      <td>11</td>\n",
       "      <td>2020</td>\n",
       "      <td>126</td>\n",
       "      <td>6</td>\n",
       "      <td>Afghanistan</td>\n",
       "      <td>Asia</td>\n",
       "    </tr>\n",
       "    <tr>\n",
       "      <th>4</th>\n",
       "      <td>7</td>\n",
       "      <td>11</td>\n",
       "      <td>2020</td>\n",
       "      <td>58</td>\n",
       "      <td>2</td>\n",
       "      <td>Afghanistan</td>\n",
       "      <td>Asia</td>\n",
       "    </tr>\n",
       "  </tbody>\n",
       "</table>\n",
       "</div>"
      ],
      "text/plain": [
       "   day  month  year  cases  deaths countriesAndTerritories continentExp\n",
       "0   11     11  2020      0       0             Afghanistan         Asia\n",
       "1   10     11  2020    224      12             Afghanistan         Asia\n",
       "2    9     11  2020     80       3             Afghanistan         Asia\n",
       "3    8     11  2020    126       6             Afghanistan         Asia\n",
       "4    7     11  2020     58       2             Afghanistan         Asia"
      ]
     },
     "execution_count": 2,
     "metadata": {},
     "output_type": "execute_result"
    }
   ],
   "source": [
    "data = pd.read_excel('COVID-19.xlsx')\n",
    "cols = ['day', 'month', 'year', 'cases', 'deaths', 'countriesAndTerritories', 'continentExp']\n",
    "data_df = data[cols]\n",
    "data_df.head()"
   ]
  },
  {
   "cell_type": "markdown",
   "metadata": {},
   "source": [
    "## 2. Tạo các data sau\n",
    "Tổng số **\"cases\"** và **\"deaths\"** theo từng ngày. (bắt đầu từ ngày 01/01/2020)."
   ]
  },
  {
   "cell_type": "code",
   "execution_count": 3,
   "metadata": {},
   "outputs": [
    {
     "data": {
      "text/html": [
       "<div>\n",
       "<style scoped>\n",
       "    .dataframe tbody tr th:only-of-type {\n",
       "        vertical-align: middle;\n",
       "    }\n",
       "\n",
       "    .dataframe tbody tr th {\n",
       "        vertical-align: top;\n",
       "    }\n",
       "\n",
       "    .dataframe thead th {\n",
       "        text-align: right;\n",
       "    }\n",
       "</style>\n",
       "<table border=\"1\" class=\"dataframe\">\n",
       "  <thead>\n",
       "    <tr style=\"text-align: right;\">\n",
       "      <th></th>\n",
       "      <th></th>\n",
       "      <th>cases</th>\n",
       "      <th>deaths</th>\n",
       "    </tr>\n",
       "    <tr>\n",
       "      <th>month</th>\n",
       "      <th>day</th>\n",
       "      <th></th>\n",
       "      <th></th>\n",
       "    </tr>\n",
       "  </thead>\n",
       "  <tbody>\n",
       "    <tr>\n",
       "      <th rowspan=\"20\" valign=\"top\">10</th>\n",
       "      <th>12</th>\n",
       "      <td>304084</td>\n",
       "      <td>3970</td>\n",
       "    </tr>\n",
       "    <tr>\n",
       "      <th>13</th>\n",
       "      <td>285040</td>\n",
       "      <td>3940</td>\n",
       "    </tr>\n",
       "    <tr>\n",
       "      <th>14</th>\n",
       "      <td>330707</td>\n",
       "      <td>5532</td>\n",
       "    </tr>\n",
       "    <tr>\n",
       "      <th>15</th>\n",
       "      <td>388390</td>\n",
       "      <td>6038</td>\n",
       "    </tr>\n",
       "    <tr>\n",
       "      <th>16</th>\n",
       "      <td>402594</td>\n",
       "      <td>6112</td>\n",
       "    </tr>\n",
       "    <tr>\n",
       "      <th>17</th>\n",
       "      <td>397358</td>\n",
       "      <td>5946</td>\n",
       "    </tr>\n",
       "    <tr>\n",
       "      <th>18</th>\n",
       "      <td>370340</td>\n",
       "      <td>5543</td>\n",
       "    </tr>\n",
       "    <tr>\n",
       "      <th>19</th>\n",
       "      <td>361901</td>\n",
       "      <td>3954</td>\n",
       "    </tr>\n",
       "    <tr>\n",
       "      <th>20</th>\n",
       "      <td>349019</td>\n",
       "      <td>4672</td>\n",
       "    </tr>\n",
       "    <tr>\n",
       "      <th>21</th>\n",
       "      <td>394962</td>\n",
       "      <td>6414</td>\n",
       "    </tr>\n",
       "    <tr>\n",
       "      <th>22</th>\n",
       "      <td>452283</td>\n",
       "      <td>6749</td>\n",
       "    </tr>\n",
       "    <tr>\n",
       "      <th>23</th>\n",
       "      <td>472492</td>\n",
       "      <td>6370</td>\n",
       "    </tr>\n",
       "    <tr>\n",
       "      <th>24</th>\n",
       "      <td>488775</td>\n",
       "      <td>6337</td>\n",
       "    </tr>\n",
       "    <tr>\n",
       "      <th>25</th>\n",
       "      <td>459600</td>\n",
       "      <td>5797</td>\n",
       "    </tr>\n",
       "    <tr>\n",
       "      <th>26</th>\n",
       "      <td>438970</td>\n",
       "      <td>4446</td>\n",
       "    </tr>\n",
       "    <tr>\n",
       "      <th>27</th>\n",
       "      <td>415877</td>\n",
       "      <td>5472</td>\n",
       "    </tr>\n",
       "    <tr>\n",
       "      <th>28</th>\n",
       "      <td>479376</td>\n",
       "      <td>7340</td>\n",
       "    </tr>\n",
       "    <tr>\n",
       "      <th>29</th>\n",
       "      <td>513417</td>\n",
       "      <td>7148</td>\n",
       "    </tr>\n",
       "    <tr>\n",
       "      <th>30</th>\n",
       "      <td>548116</td>\n",
       "      <td>7186</td>\n",
       "    </tr>\n",
       "    <tr>\n",
       "      <th>31</th>\n",
       "      <td>542122</td>\n",
       "      <td>7320</td>\n",
       "    </tr>\n",
       "    <tr>\n",
       "      <th rowspan=\"11\" valign=\"top\">11</th>\n",
       "      <th>1</th>\n",
       "      <td>457957</td>\n",
       "      <td>6415</td>\n",
       "    </tr>\n",
       "    <tr>\n",
       "      <th>2</th>\n",
       "      <td>487152</td>\n",
       "      <td>5323</td>\n",
       "    </tr>\n",
       "    <tr>\n",
       "      <th>3</th>\n",
       "      <td>470594</td>\n",
       "      <td>6102</td>\n",
       "    </tr>\n",
       "    <tr>\n",
       "      <th>4</th>\n",
       "      <td>504946</td>\n",
       "      <td>9845</td>\n",
       "    </tr>\n",
       "    <tr>\n",
       "      <th>5</th>\n",
       "      <td>569741</td>\n",
       "      <td>9060</td>\n",
       "    </tr>\n",
       "    <tr>\n",
       "      <th>6</th>\n",
       "      <td>590121</td>\n",
       "      <td>8131</td>\n",
       "    </tr>\n",
       "    <tr>\n",
       "      <th>7</th>\n",
       "      <td>584501</td>\n",
       "      <td>8352</td>\n",
       "    </tr>\n",
       "    <tr>\n",
       "      <th>8</th>\n",
       "      <td>573446</td>\n",
       "      <td>7199</td>\n",
       "    </tr>\n",
       "    <tr>\n",
       "      <th>9</th>\n",
       "      <td>518019</td>\n",
       "      <td>6123</td>\n",
       "    </tr>\n",
       "    <tr>\n",
       "      <th>10</th>\n",
       "      <td>548722</td>\n",
       "      <td>8138</td>\n",
       "    </tr>\n",
       "    <tr>\n",
       "      <th>11</th>\n",
       "      <td>521196</td>\n",
       "      <td>9477</td>\n",
       "    </tr>\n",
       "  </tbody>\n",
       "</table>\n",
       "</div>"
      ],
      "text/plain": [
       "            cases  deaths\n",
       "month day                \n",
       "10    12   304084    3970\n",
       "      13   285040    3940\n",
       "      14   330707    5532\n",
       "      15   388390    6038\n",
       "      16   402594    6112\n",
       "      17   397358    5946\n",
       "      18   370340    5543\n",
       "      19   361901    3954\n",
       "      20   349019    4672\n",
       "      21   394962    6414\n",
       "      22   452283    6749\n",
       "      23   472492    6370\n",
       "      24   488775    6337\n",
       "      25   459600    5797\n",
       "      26   438970    4446\n",
       "      27   415877    5472\n",
       "      28   479376    7340\n",
       "      29   513417    7148\n",
       "      30   548116    7186\n",
       "      31   542122    7320\n",
       "11    1    457957    6415\n",
       "      2    487152    5323\n",
       "      3    470594    6102\n",
       "      4    504946    9845\n",
       "      5    569741    9060\n",
       "      6    590121    8131\n",
       "      7    584501    8352\n",
       "      8    573446    7199\n",
       "      9    518019    6123\n",
       "      10   548722    8138\n",
       "      11   521196    9477"
      ]
     },
     "execution_count": 3,
     "metadata": {},
     "output_type": "execute_result"
    }
   ],
   "source": [
    "data_2020 = data_df.loc[(data_df['year'] >= 2020) & (data_df['month'] >= 1) & (data_df['day'] >= 1)]\n",
    "cases_deaths_per_day = data_2020.groupby(['month', 'day'])[['cases', 'deaths']].sum()\n",
    "cases_deaths_per_day.tail(31)"
   ]
  },
  {
   "cell_type": "markdown",
   "metadata": {},
   "source": [
    "Tổng số **\"cases\"** và **\"deaths\"** theo từng tháng. (bắt đầu từ tháng 01/2020)."
   ]
  },
  {
   "cell_type": "code",
   "execution_count": 4,
   "metadata": {},
   "outputs": [
    {
     "data": {
      "text/html": [
       "<div>\n",
       "<style scoped>\n",
       "    .dataframe tbody tr th:only-of-type {\n",
       "        vertical-align: middle;\n",
       "    }\n",
       "\n",
       "    .dataframe tbody tr th {\n",
       "        vertical-align: top;\n",
       "    }\n",
       "\n",
       "    .dataframe thead th {\n",
       "        text-align: right;\n",
       "    }\n",
       "</style>\n",
       "<table border=\"1\" class=\"dataframe\">\n",
       "  <thead>\n",
       "    <tr style=\"text-align: right;\">\n",
       "      <th></th>\n",
       "      <th>cases</th>\n",
       "      <th>deaths</th>\n",
       "    </tr>\n",
       "    <tr>\n",
       "      <th>month</th>\n",
       "      <th></th>\n",
       "      <th></th>\n",
       "    </tr>\n",
       "  </thead>\n",
       "  <tbody>\n",
       "    <tr>\n",
       "      <th>1</th>\n",
       "      <td>9799</td>\n",
       "      <td>213</td>\n",
       "    </tr>\n",
       "    <tr>\n",
       "      <th>2</th>\n",
       "      <td>75422</td>\n",
       "      <td>2708</td>\n",
       "    </tr>\n",
       "    <tr>\n",
       "      <th>3</th>\n",
       "      <td>723717</td>\n",
       "      <td>35808</td>\n",
       "    </tr>\n",
       "    <tr>\n",
       "      <th>4</th>\n",
       "      <td>2339583</td>\n",
       "      <td>189179</td>\n",
       "    </tr>\n",
       "    <tr>\n",
       "      <th>5</th>\n",
       "      <td>2891997</td>\n",
       "      <td>140143</td>\n",
       "    </tr>\n",
       "    <tr>\n",
       "      <th>6</th>\n",
       "      <td>4249523</td>\n",
       "      <td>134069</td>\n",
       "    </tr>\n",
       "    <tr>\n",
       "      <th>7</th>\n",
       "      <td>7067515</td>\n",
       "      <td>166195</td>\n",
       "    </tr>\n",
       "    <tr>\n",
       "      <th>8</th>\n",
       "      <td>7963815</td>\n",
       "      <td>178619</td>\n",
       "    </tr>\n",
       "    <tr>\n",
       "      <th>9</th>\n",
       "      <td>8456249</td>\n",
       "      <td>162171</td>\n",
       "    </tr>\n",
       "    <tr>\n",
       "      <th>10</th>\n",
       "      <td>11948833</td>\n",
       "      <td>181041</td>\n",
       "    </tr>\n",
       "    <tr>\n",
       "      <th>11</th>\n",
       "      <td>5826395</td>\n",
       "      <td>84165</td>\n",
       "    </tr>\n",
       "  </tbody>\n",
       "</table>\n",
       "</div>"
      ],
      "text/plain": [
       "          cases  deaths\n",
       "month                  \n",
       "1          9799     213\n",
       "2         75422    2708\n",
       "3        723717   35808\n",
       "4       2339583  189179\n",
       "5       2891997  140143\n",
       "6       4249523  134069\n",
       "7       7067515  166195\n",
       "8       7963815  178619\n",
       "9       8456249  162171\n",
       "10     11948833  181041\n",
       "11      5826395   84165"
      ]
     },
     "execution_count": 4,
     "metadata": {},
     "output_type": "execute_result"
    }
   ],
   "source": [
    "cases_deaths_per_month = data_2020.groupby('month')[['cases', 'deaths']].sum()\n",
    "cases_deaths_per_month.head(12)"
   ]
  },
  {
   "cell_type": "markdown",
   "metadata": {},
   "source": [
    "Tổng số **\"cases\"** và **\"deaths\"** theo từng quốc gia."
   ]
  },
  {
   "cell_type": "code",
   "execution_count": 5,
   "metadata": {},
   "outputs": [
    {
     "data": {
      "text/html": [
       "<div>\n",
       "<style scoped>\n",
       "    .dataframe tbody tr th:only-of-type {\n",
       "        vertical-align: middle;\n",
       "    }\n",
       "\n",
       "    .dataframe tbody tr th {\n",
       "        vertical-align: top;\n",
       "    }\n",
       "\n",
       "    .dataframe thead th {\n",
       "        text-align: right;\n",
       "    }\n",
       "</style>\n",
       "<table border=\"1\" class=\"dataframe\">\n",
       "  <thead>\n",
       "    <tr style=\"text-align: right;\">\n",
       "      <th></th>\n",
       "      <th>cases</th>\n",
       "      <th>deaths</th>\n",
       "    </tr>\n",
       "    <tr>\n",
       "      <th>countriesAndTerritories</th>\n",
       "      <th></th>\n",
       "      <th></th>\n",
       "    </tr>\n",
       "  </thead>\n",
       "  <tbody>\n",
       "    <tr>\n",
       "      <th>Afghanistan</th>\n",
       "      <td>42463</td>\n",
       "      <td>1577</td>\n",
       "    </tr>\n",
       "    <tr>\n",
       "      <th>Albania</th>\n",
       "      <td>25294</td>\n",
       "      <td>579</td>\n",
       "    </tr>\n",
       "    <tr>\n",
       "      <th>Algeria</th>\n",
       "      <td>63446</td>\n",
       "      <td>2077</td>\n",
       "    </tr>\n",
       "    <tr>\n",
       "      <th>Andorra</th>\n",
       "      <td>5477</td>\n",
       "      <td>75</td>\n",
       "    </tr>\n",
       "    <tr>\n",
       "      <th>Angola</th>\n",
       "      <td>12680</td>\n",
       "      <td>308</td>\n",
       "    </tr>\n",
       "    <tr>\n",
       "      <th>Anguilla</th>\n",
       "      <td>3</td>\n",
       "      <td>0</td>\n",
       "    </tr>\n",
       "    <tr>\n",
       "      <th>Antigua_and_Barbuda</th>\n",
       "      <td>131</td>\n",
       "      <td>3</td>\n",
       "    </tr>\n",
       "    <tr>\n",
       "      <th>Argentina</th>\n",
       "      <td>1262462</td>\n",
       "      <td>34183</td>\n",
       "    </tr>\n",
       "    <tr>\n",
       "      <th>Armenia</th>\n",
       "      <td>110687</td>\n",
       "      <td>1636</td>\n",
       "    </tr>\n",
       "    <tr>\n",
       "      <th>Aruba</th>\n",
       "      <td>4622</td>\n",
       "      <td>42</td>\n",
       "    </tr>\n",
       "  </tbody>\n",
       "</table>\n",
       "</div>"
      ],
      "text/plain": [
       "                           cases  deaths\n",
       "countriesAndTerritories                 \n",
       "Afghanistan                42463    1577\n",
       "Albania                    25294     579\n",
       "Algeria                    63446    2077\n",
       "Andorra                     5477      75\n",
       "Angola                     12680     308\n",
       "Anguilla                       3       0\n",
       "Antigua_and_Barbuda          131       3\n",
       "Argentina                1262462   34183\n",
       "Armenia                   110687    1636\n",
       "Aruba                       4622      42"
      ]
     },
     "execution_count": 5,
     "metadata": {},
     "output_type": "execute_result"
    }
   ],
   "source": [
    "cases_deaths_per_country = data_df.groupby('countriesAndTerritories')[['cases', 'deaths']].sum()\n",
    "cases_deaths_per_country.head(10)"
   ]
  },
  {
   "cell_type": "markdown",
   "metadata": {},
   "source": [
    "## 3. Tương ứng với từng data trên, vẽ các đồ thị / biểu đồ\n",
    "Tương ứng với từng data trên, vẽ các đồ thị / biểu đồ (**ít nhất 3**) sao cho các bạn nghĩ các đồ thị đó phù hợp nhất để mô tả **\"global pattern\"** về **\"cases\"** và **\"deaths\"**"
   ]
  },
  {
   "cell_type": "markdown",
   "metadata": {},
   "source": [
    "**Vẽ các đồ thị mô tả \"global pattern\" về \"cases\" và \"deaths\" ứng với data theo từng ngày**"
   ]
  },
  {
   "cell_type": "code",
   "execution_count": 6,
   "metadata": {},
   "outputs": [],
   "source": [
    "data_2020['date'] = pd.to_datetime(data_2020[['year', 'month', 'day']])\n",
    "cases_deaths_per_date = data_2020.groupby(['date'])[['cases', 'deaths']].sum().reset_index()"
   ]
  },
  {
   "cell_type": "code",
   "execution_count": 7,
   "metadata": {},
   "outputs": [
    {
     "data": {
      "text/plain": [
       "Text(0.5, 0.98, 'Line plot of cases and deaths per day')"
      ]
     },
     "execution_count": 7,
     "metadata": {},
     "output_type": "execute_result"
    },
    {
     "data": {
      "image/png": "[encoded data removed]",
      "text/plain": [
       "<Figure size 1152x504 with 2 Axes>"
      ]
     },
     "metadata": {
      "needs_background": "light"
     },
     "output_type": "display_data"
    }
   ],
   "source": [
    "fig, (ax1, ax2) = plt.subplots(1, 2, figsize=(16, 7))\n",
    "pl1 = sns.lineplot(x='date', y='cases', data=cases_deaths_per_date, ci=50, ax=ax1)\n",
    "pl2 = sns.lineplot(x='date', y='deaths', data=cases_deaths_per_date, ci=50, ax=ax2)\n",
    "plt.draw()\n",
    "ax1.set_xticklabels(ax1.get_xticklabels(), rotation=30, ha='right')\n",
    "ax2.set_xticklabels(ax2.get_xticklabels(), rotation=30, ha='right')\n",
    "fig.suptitle(\"Line plot of cases and deaths per day\", fontsize = 20)"
   ]
  },
  {
   "cell_type": "markdown",
   "metadata": {},
   "source": [
    "**Nhận xét:**\n",
    "   * Trước tháng 3/2020, tổng số ca nhiễm bệnh và tử vong còn rất thấp và hầu như không có sự thay đổi quá lớn. \n",
    "   * Từ tháng 3/2020 đến tháng 4/2020, tổng số ca nhiễm bệnh và tử vong tăng cao, trong đó số ca tự vong tăng mạnh từ khoảng 10 ca tăng đến hơn 5000 ca.\n",
    "   * Từ tháng 4/2020 đến nay, tổng số ca nhiễm bệnh và tử vong có sự biến động lớn theo từng ngày, trong đó số ca nhiễm bệnh vẫn tăng ngày càng cao."
   ]
  },
  {
   "cell_type": "code",
   "execution_count": 8,
   "metadata": {
    "scrolled": false
   },
   "outputs": [
    {
     "data": {
      "text/plain": [
       "Text(0.5, 1.0, 'Heatmap of cases per day')"
      ]
     },
     "execution_count": 8,
     "metadata": {},
     "output_type": "execute_result"
    },
    {
     "data": {
      "image/png": "[encoded data removed]",
      "text/plain": [
       "<Figure size 432x288 with 2 Axes>"
      ]
     },
     "metadata": {
      "needs_background": "light"
     },
     "output_type": "display_data"
    }
   ],
   "source": [
    "cases_per_day = cases_deaths_per_day.drop(['deaths'], axis=1)\n",
    "sns.heatmap(data=cases_per_day)\n",
    "plt.title(\"Heatmap of cases per day\")"
   ]
  },
  {
   "cell_type": "markdown",
   "metadata": {},
   "source": [
    "**Nhận xét:**\n",
    "* Từ heatmap ở trên, ta thấy được màu sắc thay đổi từ đen đến cam nhạt, điều đó cho thấy tổng số ca nhiễm bệnh đang ngày càng tăng cao.\n",
    "* Từ ngày 21/3, tổng số ca mắc bệnh đã có sự tăng lên rõ rệt khi chuyển từ màu đen lên màu tím đậm.\n",
    "* Từ ngày 11/7, tổng số ca lại tăng vọt, gần như vượt lên mức 300000 ca khi chuyển từ tím nhạt sang cam.\n",
    "* Các ngày tiếp theo có sự biến động khi có màu tím xen giữa các màu nóng như đỏ, cam. Có thể suy ra được số ca nhiễm hằng ngày có giảm nhưng vẫn còn nhiều."
   ]
  },
  {
   "cell_type": "code",
   "execution_count": 9,
   "metadata": {},
   "outputs": [
    {
     "data": {
      "text/plain": [
       "Text(0.5, 1.0, 'Heatmap of deaths per day')"
      ]
     },
     "execution_count": 9,
     "metadata": {},
     "output_type": "execute_result"
    },
    {
     "data": {
      "image/png": "[encoded data removed]",
      "text/plain": [
       "<Figure size 432x288 with 2 Axes>"
      ]
     },
     "metadata": {
      "needs_background": "light"
     },
     "output_type": "display_data"
    }
   ],
   "source": [
    "deaths_per_day = cases_deaths_per_day.drop(['cases'], axis=1)\n",
    "sns.heatmap(data=deaths_per_day)\n",
    "plt.title(\"Heatmap of deaths per day\")"
   ]
  },
  {
   "cell_type": "markdown",
   "metadata": {},
   "source": [
    "**Nhận xét:**\n",
    "Từ heatmap ở trên, ta có thể thấy được:\n",
    "* Tổng số ca tử vong theo từng ngày tăng mạnh.\n",
    "* Từ ngày 21/3, tổng số ca tử vong tăng đột ngột khi từ màu tím đen chuyển thành màu đỏ cam.\n",
    "* Từ ngày 22/4 đến 11/7, số ca tử vong mỗi ngày có xu hướng giảm, nhưng con số đó vẫn khá lớn. Điều đó biểu thị qua việc màu tím được xen kẻ các màu nóng khác như cam, đỏ.\n",
    "* Tính đến nay, có những ngày số ca tử vong nhảy vọt đến hơn 8000 ca, tuy có những ngày giảm nhưng chỉ được vài ngày và con số tử vong vẫn còn khá lớn."
   ]
  },
  {
   "cell_type": "markdown",
   "metadata": {},
   "source": [
    "**Vẽ các đồ thị mô tả \"global pattern\" về \"cases\" và \"deaths\" ứng với data theo từng tháng**"
   ]
  },
  {
   "cell_type": "code",
   "execution_count": 10,
   "metadata": {},
   "outputs": [
    {
     "data": {
      "text/plain": [
       "Text(0.5, 1.0, 'Line plot of cases and deaths per day')"
      ]
     },
     "execution_count": 10,
     "metadata": {},
     "output_type": "execute_result"
    },
    {
     "data": {
      "image/png": "[encoded data removed]",
      "text/plain": [
       "<Figure size 432x288 with 1 Axes>"
      ]
     },
     "metadata": {
      "needs_background": "light"
     },
     "output_type": "display_data"
    }
   ],
   "source": [
    "data_month = cases_deaths_per_month.reset_index()\n",
    "sns.lineplot(x='month', y='cases', data=data_month, ci=50)\n",
    "plt.title(\"Line plot of cases and deaths per day\")"
   ]
  },
  {
   "cell_type": "markdown",
   "metadata": {},
   "source": [
    "**Nhận xét:**\n",
    "* Từ tháng 1/2020 đến tháng 10/2020, tổng số ca nhiễm tăng theo từng tháng. \n",
    "* Từ tháng 10/2020 đến nay, tổng số ca nhiễm suy giảm.\n",
    "* Tính đến tháng 10/2020, tổng số ca nhiễm tăng từ 9799 ca lên đến 11948833 ca. "
   ]
  },
  {
   "cell_type": "code",
   "execution_count": 11,
   "metadata": {},
   "outputs": [
    {
     "data": {
      "text/plain": [
       "Text(0.5, 1.0, 'Line plot of deaths per day')"
      ]
     },
     "execution_count": 11,
     "metadata": {},
     "output_type": "execute_result"
    },
    {
     "data": {
      "image/png": "[encoded data removed]",
      "text/plain": [
       "<Figure size 432x288 with 1 Axes>"
      ]
     },
     "metadata": {
      "needs_background": "light"
     },
     "output_type": "display_data"
    }
   ],
   "source": [
    "sns.lineplot(x='month', y='deaths', data=data_month, ci=50)\n",
    "plt.title(\"Line plot of deaths per day\")"
   ]
  },
  {
   "cell_type": "markdown",
   "metadata": {},
   "source": [
    "**Nhận xét:**\n",
    "* Từ tháng 2/2020 đến tháng 4/2020, số ca tử vong tăng đột biến từ 2708 ca lên đến 189179 ca.\n",
    "* Từ tháng 4/2020 đến tháng 6/2020, số ca tử vong có giảm so với trước đó, nhưng số ca vẫn còn khá lớn.\n",
    "* Đến tháng 10/2020, số ca tử vong tăng trở lại.\n",
    "* Từ tháng 10/2020 đến nay, số ca tử vong có xu hướng giảm."
   ]
  },
  {
   "cell_type": "code",
   "execution_count": 12,
   "metadata": {},
   "outputs": [
    {
     "data": {
      "text/plain": [
       "<matplotlib.axes._subplots.AxesSubplot at 0x7faf6816fa60>"
      ]
     },
     "execution_count": 12,
     "metadata": {},
     "output_type": "execute_result"
    },
    {
     "data": {
      "image/png": "[encoded data removed]",
      "text/plain": [
       "<Figure size 432x288 with 2 Axes>"
      ]
     },
     "metadata": {
      "needs_background": "light"
     },
     "output_type": "display_data"
    }
   ],
   "source": [
    "cases_per_month = cases_deaths_per_month.drop(['deaths'], axis=1)\n",
    "sns.heatmap(data=cases_per_month)"
   ]
  },
  {
   "cell_type": "markdown",
   "metadata": {},
   "source": [
    "**Nhận xét:**\n",
    "* Từ tháng 1/2020 đến tháng 10/2020, số ca nhiễm bệnh tăng đều theo từng tháng khi màu sắc thay đổi từ đen chuyển dần sang trắng.\n",
    "* Đến tháng 11/2020, số ca nhiễm bệnh có giảm so với trước khi màu sắc chuyển sang đỏ đậm."
   ]
  },
  {
   "cell_type": "code",
   "execution_count": 13,
   "metadata": {},
   "outputs": [
    {
     "data": {
      "text/plain": [
       "<matplotlib.axes._subplots.AxesSubplot at 0x7faf6684c4c0>"
      ]
     },
     "execution_count": 13,
     "metadata": {},
     "output_type": "execute_result"
    },
    {
     "data": {
      "image/png": "[encoded data removed]",
      "text/plain": [
       "<Figure size 432x288 with 2 Axes>"
      ]
     },
     "metadata": {
      "needs_background": "light"
     },
     "output_type": "display_data"
    }
   ],
   "source": [
    "deaths_per_month = cases_deaths_per_month.drop(['cases'], axis=1)\n",
    "sns.heatmap(data=deaths_per_month)"
   ]
  },
  {
   "cell_type": "markdown",
   "metadata": {},
   "source": [
    "**Nhận xét:**\n",
    "* Từ tháng 1/2020 đến tháng 4/2020, số ca tử vong tăng vọt đến hơn 175000 ca khi từ màu đen ở tháng 1/2020 chuyển thành màu trắng.\n",
    "* Từ tháng 4/2020 đến tháng 10/2020, số ca tử vong vẫn giữ ở mức khá cao mặc dù có giảm nhẹ nhưng không đáng kể ở tháng 5 và 6.\n",
    "* Đến tháng 11/2020, số ca tử vong giảm mạnh hơn so với trước đó."
   ]
  },
  {
   "cell_type": "markdown",
   "metadata": {},
   "source": [
    "**Vẽ các đồ thị mô tả \"global pattern\" về \"cases\" và \"deaths\" ứng với data theo từng quốc gia**"
   ]
  },
  {
   "cell_type": "code",
   "execution_count": 14,
   "metadata": {},
   "outputs": [
    {
     "data": {
      "text/html": [
       "<div>\n",
       "<style scoped>\n",
       "    .dataframe tbody tr th:only-of-type {\n",
       "        vertical-align: middle;\n",
       "    }\n",
       "\n",
       "    .dataframe tbody tr th {\n",
       "        vertical-align: top;\n",
       "    }\n",
       "\n",
       "    .dataframe thead th {\n",
       "        text-align: right;\n",
       "    }\n",
       "</style>\n",
       "<table border=\"1\" class=\"dataframe\">\n",
       "  <thead>\n",
       "    <tr style=\"text-align: right;\">\n",
       "      <th></th>\n",
       "      <th>countriesAndTerritories</th>\n",
       "      <th>cases</th>\n",
       "    </tr>\n",
       "  </thead>\n",
       "  <tbody>\n",
       "    <tr>\n",
       "      <th>203</th>\n",
       "      <td>United_States_of_America</td>\n",
       "      <td>10257826</td>\n",
       "    </tr>\n",
       "    <tr>\n",
       "      <th>92</th>\n",
       "      <td>India</td>\n",
       "      <td>8636011</td>\n",
       "    </tr>\n",
       "    <tr>\n",
       "      <th>27</th>\n",
       "      <td>Brazil</td>\n",
       "      <td>5664115</td>\n",
       "    </tr>\n",
       "    <tr>\n",
       "      <th>70</th>\n",
       "      <td>France</td>\n",
       "      <td>1829659</td>\n",
       "    </tr>\n",
       "    <tr>\n",
       "      <th>160</th>\n",
       "      <td>Russia</td>\n",
       "      <td>1817109</td>\n",
       "    </tr>\n",
       "    <tr>\n",
       "      <th>181</th>\n",
       "      <td>Spain</td>\n",
       "      <td>1398613</td>\n",
       "    </tr>\n",
       "    <tr>\n",
       "      <th>7</th>\n",
       "      <td>Argentina</td>\n",
       "      <td>1262462</td>\n",
       "    </tr>\n",
       "    <tr>\n",
       "      <th>200</th>\n",
       "      <td>United_Kingdom</td>\n",
       "      <td>1233775</td>\n",
       "    </tr>\n",
       "    <tr>\n",
       "      <th>43</th>\n",
       "      <td>Colombia</td>\n",
       "      <td>1156675</td>\n",
       "    </tr>\n",
       "    <tr>\n",
       "      <th>99</th>\n",
       "      <td>Italy</td>\n",
       "      <td>995463</td>\n",
       "    </tr>\n",
       "  </tbody>\n",
       "</table>\n",
       "</div>"
      ],
      "text/plain": [
       "      countriesAndTerritories     cases\n",
       "203  United_States_of_America  10257826\n",
       "92                      India   8636011\n",
       "27                     Brazil   5664115\n",
       "70                     France   1829659\n",
       "160                    Russia   1817109\n",
       "181                     Spain   1398613\n",
       "7                   Argentina   1262462\n",
       "200            United_Kingdom   1233775\n",
       "43                   Colombia   1156675\n",
       "99                      Italy    995463"
      ]
     },
     "execution_count": 14,
     "metadata": {},
     "output_type": "execute_result"
    }
   ],
   "source": [
    "# Get top 10 countries have the most cases\n",
    "top_10_countries_cases = cases_deaths_per_country.reset_index().drop(columns=['deaths']).sort_values('cases', ascending=False).head(10)\n",
    "top_10_countries_cases"
   ]
  },
  {
   "cell_type": "code",
   "execution_count": 15,
   "metadata": {},
   "outputs": [
    {
     "data": {
      "text/plain": [
       "Text(0.5, 1.0, 'Top 10 countries have the most cases')"
      ]
     },
     "execution_count": 15,
     "metadata": {},
     "output_type": "execute_result"
    },
    {
     "data": {
      "image/png": "[encoded data removed]",
      "text/plain": [
       "<Figure size 1224x720 with 1 Axes>"
      ]
     },
     "metadata": {
      "needs_background": "light"
     },
     "output_type": "display_data"
    }
   ],
   "source": [
    "# Show barplot\n",
    "fig = plt.figure(figsize=(17,10))\n",
    "ax = sns.barplot(x=\"countriesAndTerritories\", y=\"cases\", data=top_10_countries_cases)\n",
    "plt.title(\"Top 10 countries have the most cases\", fontsize=18)"
   ]
  },
  {
   "cell_type": "markdown",
   "metadata": {},
   "source": [
    "**Nhận xét:**\n",
    "* Tính đến thời điểm hiện tại, United States of America đang có số ca nhiễm bệnh cao nhất với hơn 10000000 ca.\n",
    "* Vị trí thứ 2 và 3 là của India và Brazil với số ca nhiễm tương ứng là hơn 8000000 ca và gần 6000000 ca.\n",
    "* Các nước còn lại đều có số ca nhiễm dao động trong khoảng từ 1000000 đến 2000000 ca."
   ]
  },
  {
   "cell_type": "code",
   "execution_count": 16,
   "metadata": {},
   "outputs": [
    {
     "data": {
      "text/html": [
       "<div>\n",
       "<style scoped>\n",
       "    .dataframe tbody tr th:only-of-type {\n",
       "        vertical-align: middle;\n",
       "    }\n",
       "\n",
       "    .dataframe tbody tr th {\n",
       "        vertical-align: top;\n",
       "    }\n",
       "\n",
       "    .dataframe thead th {\n",
       "        text-align: right;\n",
       "    }\n",
       "</style>\n",
       "<table border=\"1\" class=\"dataframe\">\n",
       "  <thead>\n",
       "    <tr style=\"text-align: right;\">\n",
       "      <th></th>\n",
       "      <th>countriesAndTerritories</th>\n",
       "      <th>deaths</th>\n",
       "    </tr>\n",
       "  </thead>\n",
       "  <tbody>\n",
       "    <tr>\n",
       "      <th>203</th>\n",
       "      <td>United_States_of_America</td>\n",
       "      <td>239683</td>\n",
       "    </tr>\n",
       "    <tr>\n",
       "      <th>27</th>\n",
       "      <td>Brazil</td>\n",
       "      <td>162397</td>\n",
       "    </tr>\n",
       "    <tr>\n",
       "      <th>92</th>\n",
       "      <td>India</td>\n",
       "      <td>127571</td>\n",
       "    </tr>\n",
       "    <tr>\n",
       "      <th>127</th>\n",
       "      <td>Mexico</td>\n",
       "      <td>95842</td>\n",
       "    </tr>\n",
       "    <tr>\n",
       "      <th>200</th>\n",
       "      <td>United_Kingdom</td>\n",
       "      <td>49770</td>\n",
       "    </tr>\n",
       "    <tr>\n",
       "      <th>99</th>\n",
       "      <td>Italy</td>\n",
       "      <td>42330</td>\n",
       "    </tr>\n",
       "    <tr>\n",
       "      <th>70</th>\n",
       "      <td>France</td>\n",
       "      <td>42207</td>\n",
       "    </tr>\n",
       "    <tr>\n",
       "      <th>181</th>\n",
       "      <td>Spain</td>\n",
       "      <td>39756</td>\n",
       "    </tr>\n",
       "    <tr>\n",
       "      <th>94</th>\n",
       "      <td>Iran</td>\n",
       "      <td>39202</td>\n",
       "    </tr>\n",
       "    <tr>\n",
       "      <th>153</th>\n",
       "      <td>Peru</td>\n",
       "      <td>34992</td>\n",
       "    </tr>\n",
       "  </tbody>\n",
       "</table>\n",
       "</div>"
      ],
      "text/plain": [
       "      countriesAndTerritories  deaths\n",
       "203  United_States_of_America  239683\n",
       "27                     Brazil  162397\n",
       "92                      India  127571\n",
       "127                    Mexico   95842\n",
       "200            United_Kingdom   49770\n",
       "99                      Italy   42330\n",
       "70                     France   42207\n",
       "181                     Spain   39756\n",
       "94                       Iran   39202\n",
       "153                      Peru   34992"
      ]
     },
     "execution_count": 16,
     "metadata": {},
     "output_type": "execute_result"
    }
   ],
   "source": [
    "# Get top 10 countries have the most deaths\n",
    "top_10_countries_deaths = cases_deaths_per_country.reset_index().drop(columns=['cases']).sort_values('deaths', ascending=False).head(10)\n",
    "top_10_countries_deaths"
   ]
  },
  {
   "cell_type": "code",
   "execution_count": 17,
   "metadata": {},
   "outputs": [
    {
     "data": {
      "text/plain": [
       "Text(0.5, 1.0, 'Top 10 countries have the most deaths')"
      ]
     },
     "execution_count": 17,
     "metadata": {},
     "output_type": "execute_result"
    },
    {
     "data": {
      "image/png": "[encoded data removed]",
      "text/plain": [
       "<Figure size 1224x720 with 1 Axes>"
      ]
     },
     "metadata": {
      "needs_background": "light"
     },
     "output_type": "display_data"
    }
   ],
   "source": [
    "# Show barplot\n",
    "fig = plt.figure(figsize=(17,10))\n",
    "ax = sns.barplot(x=\"countriesAndTerritories\", y=\"deaths\", data=top_10_countries_deaths)\n",
    "plt.title(\"Top 10 countries have the most deaths\", fontsize=18)"
   ]
  },
  {
   "cell_type": "markdown",
   "metadata": {},
   "source": [
    "**Nhận xét:**\n",
    "* Tính đến thời điểm hiện tại, United State of America có số ca tử vong đứng đầu và con số rất cao (gần 250000 ca).\n",
    "* 2 nước cao tiếp theo là Brazil, India và Mexico với số ca tử vong tương ứng là hơn 150000 ca, khoảng 130000 ca và gần 100000 ca.\n",
    "* Các nước còn lại có số ca tử vong dao động trong khoảng từ 25000 - 50000 ca.\n",
    "* 10 nước có số ca tử vong cao nhất đều có số ca rất lớn, đều trên 25000 ca."
   ]
  },
  {
   "cell_type": "code",
   "execution_count": null,
   "metadata": {},
   "outputs": [],
   "source": []
  },
  {
   "cell_type": "code",
   "execution_count": null,
   "metadata": {},
   "outputs": [],
   "source": []
  },
  {
   "cell_type": "code",
   "execution_count": null,
   "metadata": {},
   "outputs": [],
   "source": []
  },
  {
   "cell_type": "markdown",
   "metadata": {},
   "source": [
    "## 4. Vẽ các đồ thị mô tả \"summary statistics\"\n",
    "Vẽ các đồ thị sao cho bạn nghĩ các đồ thị/ biểu đồ đó phù hợp nhất để mô tả **\"summary statistics\"** về đặc điểm của tổng số **\"cases\"** và tổng số **\"deaths\"** theo từng tháng và được phân tách theo từng khu vực."
   ]
  },
  {
   "cell_type": "code",
   "execution_count": 18,
   "metadata": {},
   "outputs": [
    {
     "data": {
      "text/html": [
       "<div>\n",
       "<style scoped>\n",
       "    .dataframe tbody tr th:only-of-type {\n",
       "        vertical-align: middle;\n",
       "    }\n",
       "\n",
       "    .dataframe tbody tr th {\n",
       "        vertical-align: top;\n",
       "    }\n",
       "\n",
       "    .dataframe thead th {\n",
       "        text-align: right;\n",
       "    }\n",
       "</style>\n",
       "<table border=\"1\" class=\"dataframe\">\n",
       "  <thead>\n",
       "    <tr style=\"text-align: right;\">\n",
       "      <th></th>\n",
       "      <th>continentExp</th>\n",
       "      <th>month</th>\n",
       "      <th>cases</th>\n",
       "      <th>deaths</th>\n",
       "    </tr>\n",
       "  </thead>\n",
       "  <tbody>\n",
       "    <tr>\n",
       "      <th>0</th>\n",
       "      <td>Africa</td>\n",
       "      <td>1</td>\n",
       "      <td>0</td>\n",
       "      <td>0</td>\n",
       "    </tr>\n",
       "    <tr>\n",
       "      <th>1</th>\n",
       "      <td>Africa</td>\n",
       "      <td>2</td>\n",
       "      <td>3</td>\n",
       "      <td>0</td>\n",
       "    </tr>\n",
       "    <tr>\n",
       "      <th>2</th>\n",
       "      <td>Africa</td>\n",
       "      <td>3</td>\n",
       "      <td>5134</td>\n",
       "      <td>166</td>\n",
       "    </tr>\n",
       "    <tr>\n",
       "      <th>3</th>\n",
       "      <td>Africa</td>\n",
       "      <td>4</td>\n",
       "      <td>31598</td>\n",
       "      <td>1425</td>\n",
       "    </tr>\n",
       "    <tr>\n",
       "      <th>4</th>\n",
       "      <td>Africa</td>\n",
       "      <td>5</td>\n",
       "      <td>104887</td>\n",
       "      <td>2480</td>\n",
       "    </tr>\n",
       "    <tr>\n",
       "      <th>...</th>\n",
       "      <td>...</td>\n",
       "      <td>...</td>\n",
       "      <td>...</td>\n",
       "      <td>...</td>\n",
       "    </tr>\n",
       "    <tr>\n",
       "      <th>59</th>\n",
       "      <td>Oceania</td>\n",
       "      <td>12</td>\n",
       "      <td>0</td>\n",
       "      <td>0</td>\n",
       "    </tr>\n",
       "    <tr>\n",
       "      <th>60</th>\n",
       "      <td>Other</td>\n",
       "      <td>1</td>\n",
       "      <td>0</td>\n",
       "      <td>0</td>\n",
       "    </tr>\n",
       "    <tr>\n",
       "      <th>61</th>\n",
       "      <td>Other</td>\n",
       "      <td>2</td>\n",
       "      <td>705</td>\n",
       "      <td>6</td>\n",
       "    </tr>\n",
       "    <tr>\n",
       "      <th>62</th>\n",
       "      <td>Other</td>\n",
       "      <td>3</td>\n",
       "      <td>-9</td>\n",
       "      <td>1</td>\n",
       "    </tr>\n",
       "    <tr>\n",
       "      <th>63</th>\n",
       "      <td>Other</td>\n",
       "      <td>12</td>\n",
       "      <td>0</td>\n",
       "      <td>0</td>\n",
       "    </tr>\n",
       "  </tbody>\n",
       "</table>\n",
       "<p>64 rows × 4 columns</p>\n",
       "</div>"
      ],
      "text/plain": [
       "   continentExp  month   cases  deaths\n",
       "0        Africa      1       0       0\n",
       "1        Africa      2       3       0\n",
       "2        Africa      3    5134     166\n",
       "3        Africa      4   31598    1425\n",
       "4        Africa      5  104887    2480\n",
       "..          ...    ...     ...     ...\n",
       "59      Oceania     12       0       0\n",
       "60        Other      1       0       0\n",
       "61        Other      2     705       6\n",
       "62        Other      3      -9       1\n",
       "63        Other     12       0       0\n",
       "\n",
       "[64 rows x 4 columns]"
      ]
     },
     "execution_count": 18,
     "metadata": {},
     "output_type": "execute_result"
    }
   ],
   "source": [
    "data_month_continent = data_df.groupby(['continentExp','month'])['cases','deaths'].sum().reset_index()\n",
    "data_month_continent"
   ]
  },
  {
   "cell_type": "code",
   "execution_count": 19,
   "metadata": {},
   "outputs": [
    {
     "data": {
      "text/plain": [
       "<matplotlib.axes._subplots.AxesSubplot at 0x7faf673273d0>"
      ]
     },
     "execution_count": 19,
     "metadata": {},
     "output_type": "execute_result"
    },
    {
     "data": {
      "image/png": "[encoded data removed]",
      "text/plain": [
       "<Figure size 432x288 with 1 Axes>"
      ]
     },
     "metadata": {
      "needs_background": "light"
     },
     "output_type": "display_data"
    }
   ],
   "source": [
    "data_month_continent[['cases','deaths']] = np.log(data_month_continent[['cases','deaths']])\n",
    "sns.barplot(x='month', y='cases', hue='continentExp', data=data_month_continent)"
   ]
  },
  {
   "cell_type": "code",
   "execution_count": null,
   "metadata": {},
   "outputs": [],
   "source": []
  }
 ],
 "metadata": {
  "kernelspec": {
   "display_name": "Python 3",
   "language": "python",
   "name": "python3"
  },
  "language_info": {
   "codemirror_mode": {
    "name": "ipython",
    "version": 3
   },
   "file_extension": ".py",
   "mimetype": "text/x-python",
   "name": "python",
   "nbconvert_exporter": "python",
   "pygments_lexer": "ipython3",
   "version": "3.8.3"
  }
 },
 "nbformat": 4,
 "nbformat_minor": 4
}
