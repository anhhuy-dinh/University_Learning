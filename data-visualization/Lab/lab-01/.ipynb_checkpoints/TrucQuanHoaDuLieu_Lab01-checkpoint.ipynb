{
 "cells": [
  {
   "cell_type": "markdown",
   "metadata": {
    "id": "OJ0OXy5DaRIg"
   },
   "source": [
    "# TRỰC QUAN HÓA DỮ LIỆU\n",
    "# LAB 01"
   ]
  },
  {
   "cell_type": "markdown",
   "metadata": {
    "id": "E2Hk03w1aL7g"
   },
   "source": [
    "## Cài đặt"
   ]
  },
  {
   "cell_type": "code",
   "execution_count": null,
   "metadata": {
    "id": "WB8uqQdwaiNm"
   },
   "outputs": [],
   "source": [
    "!pip install pandas\n",
    "!pip install numpy"
   ]
  },
  {
   "cell_type": "code",
   "execution_count": null,
   "metadata": {
    "id": "7SUVuGBj2p0w"
   },
   "outputs": [],
   "source": [
    "import pandas as pd\n",
    "import pandas as pd"
   ]
  },
  {
   "cell_type": "markdown",
   "metadata": {
    "id": "gEk4l71WaIgi"
   },
   "source": [
    "## Bài tập"
   ]
  },
  {
   "cell_type": "markdown",
   "metadata": {
    "id": "rtl9eJqjZ9do"
   },
   "source": [
    "link data : https://www.kaggle.com/fernandol/countries-of-the-world?select=countries+of+the+world.csv"
   ]
  },
  {
   "cell_type": "markdown",
   "metadata": {
    "id": "dXD41jYSFjSP"
   },
   "source": [
    "* 1. Load data và xuất ra 5 bản ghi đầu tiên của data.\n",
    "* 2. Lấy dữ liệu từ các cột sau: **'Country', 'Region', 'Population', 'Area (sq. mi.)', 'Coastline (coast/area ratio)', 'GDP ( per capita)'** (các yêu cầu dưới sẽ thực hiện trên dữ liệu này).\n",
    "* 3. Đổi tên các columns sau: **'Area (sq. mi.)' : 'Area' , 'Coastline (coast/area ratio)' : 'Coastline', 'GDP ($ per capita)' : 'GDP'**\n",
    "* 4. Xuất ra 3 bản ghi đầu tiên.\n",
    "* 5. in ra thông tin chiều dài (len), thông tin dataframe (info), kích thước (shape).\n",
    "* 6. Từ thông tin info của dataframe xác định những columns nào có missing value (null) (chỉ cần ghi ra) và giải thích vì sao biết columns đó.\n",
    "* 7. Dùng hàm dropna() để loại bỏ giá trị null đó.\n",
    "* 8. Từ thông tin của (5) hãy cho biết có bao nhiêu loại dtypes và dùng hàm describe với từng loại dtypes đó.\n",
    "* 9. Xuất thông tin của 'Vietnam 'nằm trong columns 'Country' (chú ý 'Vietnam ' có thêm cách phía sau).\n",
    "* 10. In ra thông tin 10 nước có Area lớn nhất.\n",
    "* 11. In ra thông tin 10 nước có GDP thấp nhất.\n",
    "* 12. Xuất ra các bản ghi có column Region = ASIA (EX. NEAR EAST)\n",
    "* 13. Tạo một column mới có tên 'Pop. Density' bằng Population / Area\n",
    "* 14. Thống kê số lần xuất hiện của các giá trị trong column Region (dùng hàm value_counts()).\n",
    "* 15. Ta thấy:\n"
   ]
  },
  {
   "cell_type": "code",
   "execution_count": null,
   "metadata": {
    "colab": {
     "base_uri": "https://localhost:8080/",
     "height": 35
    },
    "id": "MtpkNG6J6d2w",
    "outputId": "1ca279d7-6266-44ee-ece2-76055b686eab"
   },
   "outputs": [
    {
     "data": {
      "application/vnd.google.colaboratory.intrinsic+json": {
       "type": "string"
      },
      "text/plain": [
       "'Vietnam '"
      ]
     },
     "execution_count": 117,
     "metadata": {
      "tags": []
     },
     "output_type": "execute_result"
    }
   ],
   "source": [
    "df['Country'][219]"
   ]
  },
  {
   "cell_type": "markdown",
   "metadata": {
    "id": "K7--dOx_WVct"
   },
   "source": [
    "* 15. Tên dư 1 dâu cách.\n",
    "Yêu cầu xóa dấu cách trong tên của columns Country (dùng apply kết hợp replace)\n",
    "* 16. Lưu dataframe với tên 'countries_of_the_world.csv'"
   ]
  },
  {
   "cell_type": "markdown",
   "metadata": {
    "id": "kvTR5n6aWyDU"
   },
   "source": [
    "* Bonus()\n",
    "** B1."
   ]
  },
  {
   "cell_type": "code",
   "execution_count": null,
   "metadata": {
    "colab": {
     "base_uri": "https://localhost:8080/",
     "height": 136
    },
    "id": "KPdIxgtoV9O0",
    "outputId": "54004174-19e9-4978-b890-2ec2a0e73c1a"
   },
   "outputs": [
    {
     "name": "stdout",
     "output_type": "stream",
     "text": [
      "object\n"
     ]
    },
    {
     "data": {
      "text/plain": [
       "0     0,00\n",
       "1     1,26\n",
       "2     0,04\n",
       "3    58,29\n",
       "4     0,00\n",
       "Name: Coastline, dtype: object"
      ]
     },
     "execution_count": 118,
     "metadata": {
      "tags": []
     },
     "output_type": "execute_result"
    }
   ],
   "source": [
    "print(df['Coastline'].dtypes)\n",
    "df['Coastline'].head()"
   ]
  },
  {
   "cell_type": "markdown",
   "metadata": {
    "id": "3gsq_wwTXewp"
   },
   "source": [
    "Ta thấy dtype của columns Coastline là object, nhưng khi nhìn vào giá trị thì ta sẽ nghĩ tới là numerical.\n",
    "Yêu cầu: \n",
    "* Chuyển đổi dtype của cột Coastline sang numerical(float), chú ý dấu phẩy ','.\n",
    "* Sau đó, cho biết các nước (Country) không tiếp giáp với biển (coastline = 0)."
   ]
  }
 ],
 "metadata": {
  "colab": {
   "collapsed_sections": [],
   "name": "TrucQuanHoaDuLieu_Lab01.ipynb",
   "provenance": []
  },
  "kernelspec": {
   "display_name": "Python 3",
   "language": "python",
   "name": "python3"
  },
  "language_info": {
   "codemirror_mode": {
    "name": "ipython",
    "version": 3
   },
   "file_extension": ".py",
   "mimetype": "text/x-python",
   "name": "python",
   "nbconvert_exporter": "python",
   "pygments_lexer": "ipython3",
   "version": "3.8.3"
  }
 },
 "nbformat": 4,
 "nbformat_minor": 1
}
