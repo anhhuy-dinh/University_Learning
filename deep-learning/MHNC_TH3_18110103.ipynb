{
  "nbformat": 4,
  "nbformat_minor": 0,
  "metadata": {
    "colab": {
      "name": "MHNC_TH3_18110103.ipynb",
      "provenance": [],
      "collapsed_sections": [],
      "machine_shape": "hm"
    },
    "kernelspec": {
      "name": "python3",
      "display_name": "Python 3"
    },
    "language_info": {
      "name": "python"
    },
    "accelerator": "GPU"
  },
  "cells": [
    {
      "cell_type": "markdown",
      "metadata": {
        "id": "rQkGwKBCnQFi"
      },
      "source": [
        "## Deep Learning - Lab 03\n",
        "\n",
        "* Full name: Đinh Anh Huy\n",
        "* Student ID: 18110103"
      ]
    },
    {
      "cell_type": "code",
      "metadata": {
        "id": "e1NcOnRFm8cQ"
      },
      "source": [
        "import numpy as np\n",
        "import matplotlib.pyplot as plt\n",
        "\n",
        "import tensorflow as tf\n",
        "from tensorflow.keras import backend as K\n",
        "from tensorflow.keras.models import Sequential\n",
        "from tensorflow.keras.layers import Dense, Flatten, Reshape, Input"
      ],
      "execution_count": 1,
      "outputs": []
    },
    {
      "cell_type": "markdown",
      "metadata": {
        "id": "ukWdSypiCy-H"
      },
      "source": [
        "### Bài tập 1.\n",
        "**Hãy tạo ra một block DoubleConvMaxpool gồm 2 lớp ConvMaxpool có số filters lần lượt là 16, 32 và một block DoubleFC có số hidden nodes lần lượt là 100, 50.**"
      ]
    },
    {
      "cell_type": "code",
      "metadata": {
        "id": "aZn_9IvMsOVl"
      },
      "source": [
        "class Linear(tf.keras.layers.Layer):\n",
        "  def __init__(self, units=32):\n",
        "    super(Linear, self).__init__()\n",
        "    self.units = units\n",
        "\n",
        "  def build(self, input_shape):\n",
        "    self.w = self.add_weight(\n",
        "        shape=(input_shape[-1], self.units),\n",
        "        initializer=tf.random_normal_initializer,\n",
        "        trainable=True\n",
        "    )\n",
        "    self.b = self.add_weight(\n",
        "        shape=(self.units,),\n",
        "        initializer=tf.random_normal_initializer,\n",
        "        trainable=True\n",
        "    )\n",
        "\n",
        "  def call(self, inputs):\n",
        "    return tf.matmul(inputs,self.w) + self.b"
      ],
      "execution_count": 2,
      "outputs": []
    },
    {
      "cell_type": "code",
      "metadata": {
        "id": "CpSRQ4aUvzPK"
      },
      "source": [
        "class DoubleFC(tf.keras.layers.Layer):\n",
        "  def __init__(self, units_1=100, units_2=50, activation_1=None, activation_2=None):\n",
        "    super().__init__()\n",
        "    self.linear_1 = Linear(units_1)\n",
        "    self.linear_2 = Linear(units_2)\n",
        "    self.activation_1 = activation_1\n",
        "    self.activation_2 = activation_2\n",
        "    \n",
        "  def call(self, inputs):\n",
        "    # First FC Layer\n",
        "    if self.activation_1 == None:\n",
        "      result = self.linear_1(inputs)\n",
        "    elif self.activation_1 == 'relu':\n",
        "      result = tf.nn.relu(self.linear_1(inputs))\n",
        "    elif self.activation_1 == 'sigmoid':\n",
        "      result = tf.nn.sigmoid(self.linear_1(inputs))\n",
        "    elif self.activation_1 == 'tanh':\n",
        "      result = tf.nn.tanh(self.linear_1(inputs))\n",
        "    \n",
        "    # Second FC Layer\n",
        "    if self.activation_2 == None:\n",
        "      result = self.linear_2(result)\n",
        "    elif self.activation_2 == 'relu':\n",
        "      result = tf.nn.relu(self.linear_2(result))\n",
        "    elif self.activation_2 == 'sigmoid':\n",
        "      result = tf.nn.sigmoid(self.linear_2(result))\n",
        "    elif self.activation_2 == 'tanh':\n",
        "      result = tf.nn.tanh(self.linear_2(result))\n",
        "    \n",
        "    return result"
      ],
      "execution_count": 3,
      "outputs": []
    },
    {
      "cell_type": "code",
      "metadata": {
        "id": "_ow2vUjuuJz-"
      },
      "source": [
        "class ConvMaxPoolBlock(tf.keras.layers.Layer):\n",
        "  def __init__(self, n_filters=2, filter_size=(3,3), pool_size=(2,2), strides=(2,2), activation=\"relu\"):\n",
        "    super().__init__()\n",
        "    self.filter_size = filter_size\n",
        "    self.n_filters = n_filters\n",
        "    self.pool_size = pool_size\n",
        "    self.strides = strides\n",
        "    self.activation = activation\n",
        "\n",
        "  def build(self, input_shape):\n",
        "    self.kernel = self.add_weight(\n",
        "        name=\"kernel\",\n",
        "        shape=(self.filter_size[0], self.filter_size[1], input_shape[-1], self.n_filters),\n",
        "        initializer=tf.random_normal_initializer,\n",
        "        trainable=True\n",
        "    )\n",
        "    self.bias = self.add_weight(\n",
        "        name=\"bias\",\n",
        "        shape=(1, self.n_filters),\n",
        "        initializer=tf.random_normal_initializer,\n",
        "        trainable=True\n",
        "    )\n",
        "\n",
        "  def call(self, inputs):\n",
        "    conv = K.conv2d(\n",
        "        x=inputs,\n",
        "        kernel=self.kernel,\n",
        "        padding=\"same\"\n",
        "    )\n",
        "    conv = conv + self.bias\n",
        "\n",
        "    if self.activation == 'relu':\n",
        "      conv = tf.nn.relu(conv)\n",
        "    elif self.activation == 'sigmoid':\n",
        "      conv = tf.nn.sigmoid(conv)\n",
        "    elif self.activation == 'tanh':\n",
        "      conv = tf.nn.tanh(conv)\n",
        "\n",
        "    maxpool = K.pool2d(\n",
        "        x=conv,\n",
        "        pool_size=self.pool_size,\n",
        "        strides=self.strides,\n",
        "        pool_mode=\"max\"\n",
        "    )\n",
        "\n",
        "    return maxpool"
      ],
      "execution_count": 4,
      "outputs": []
    },
    {
      "cell_type": "code",
      "metadata": {
        "id": "LCutXGnbiocz"
      },
      "source": [
        "class DoubleConvMaxpoolBlock(tf.keras.layers.Layer):\n",
        "  def __init__(self, \n",
        "               n_filters_1=16, filter_size_1=(3,3), pool_size_1=(2,2), strides_1=(2,2), activation_1='relu', \n",
        "               n_filters_2=32, filter_size_2=(3,3), pool_size_2=(2,2), strides_2=(2,2), activation_2='relu'):\n",
        "    super(DoubleConvMaxpoolBlock, self).__init__()\n",
        "    self.ConvMaxPoolBlock_1 = ConvMaxPoolBlock(\n",
        "        n_filters=n_filters_1,\n",
        "        filter_size=filter_size_1,\n",
        "        pool_size=pool_size_1,\n",
        "        strides=strides_1,\n",
        "        activation=activation_1\n",
        "    )\n",
        "    self.ConvMaxPoolBlock_2 = ConvMaxPoolBlock(\n",
        "        n_filters=n_filters_2,\n",
        "        filter_size=filter_size_2,\n",
        "        pool_size=pool_size_2,\n",
        "        strides=strides_2,\n",
        "        activation=activation_2\n",
        "    )\n",
        "  \n",
        "  def call(self, inputs):\n",
        "    maxpool = self.ConvMaxPoolBlock_1(inputs)\n",
        "    maxpool = self.ConvMaxPoolBlock_2(maxpool)\n",
        "    return maxpool"
      ],
      "execution_count": 5,
      "outputs": []
    },
    {
      "cell_type": "markdown",
      "metadata": {
        "id": "NrUENAA4DV7m"
      },
      "source": [
        "### Bài tập 2.\n",
        "**Tạo ra model, train, và test trên tập mnist như hình bên dưới:**\n",
        "![image.png](data:image/png;base64,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)"
      ]
    },
    {
      "cell_type": "code",
      "metadata": {
        "colab": {
          "base_uri": "https://localhost:8080/"
        },
        "id": "Ouyj49ayPWVE",
        "outputId": "a4be4192-b3ea-4f47-ca72-154a1d5fd28f"
      },
      "source": [
        "inputs = Input(shape=(28,28))\n",
        "\n",
        "input_reshape = Reshape(target_shape=(28,28,1))(inputs)\n",
        "\n",
        "double_conv_maxpool = DoubleConvMaxpoolBlock(\n",
        "    n_filters_1=16,\n",
        "    n_filters_2=32,\n",
        "    filter_size_1=(5,5),\n",
        "    filter_size_2=(3,3)\n",
        ")(input_reshape)\n",
        "\n",
        "flatten = Flatten()(double_conv_maxpool)\n",
        "\n",
        "double_fc = DoubleFC(\n",
        "    units_1=100,\n",
        "    units_2=50,\n",
        "    activation_1=\"relu\",\n",
        "    activation_2=\"relu\"\n",
        ")(flatten)\n",
        "\n",
        "outputs = Dense(units=10, activation=\"softmax\")(double_fc)\n",
        "\n",
        "model = tf.keras.models.Model(inputs=inputs, outputs=outputs)\n",
        "\n",
        "model.summary()"
      ],
      "execution_count": 6,
      "outputs": [
        {
          "output_type": "stream",
          "name": "stdout",
          "text": [
            "Model: \"model\"\n",
            "_________________________________________________________________\n",
            "Layer (type)                 Output Shape              Param #   \n",
            "=================================================================\n",
            "input_1 (InputLayer)         [(None, 28, 28)]          0         \n",
            "_________________________________________________________________\n",
            "reshape (Reshape)            (None, 28, 28, 1)         0         \n",
            "_________________________________________________________________\n",
            "double_conv_maxpool_block (D (None, 7, 7, 32)          5056      \n",
            "_________________________________________________________________\n",
            "flatten (Flatten)            (None, 1568)              0         \n",
            "_________________________________________________________________\n",
            "double_fc (DoubleFC)         (None, 50)                161950    \n",
            "_________________________________________________________________\n",
            "dense (Dense)                (None, 10)                510       \n",
            "=================================================================\n",
            "Total params: 167,516\n",
            "Trainable params: 167,516\n",
            "Non-trainable params: 0\n",
            "_________________________________________________________________\n"
          ]
        }
      ]
    },
    {
      "cell_type": "code",
      "metadata": {
        "colab": {
          "base_uri": "https://localhost:8080/"
        },
        "id": "owUHKgOhWbrV",
        "outputId": "b62ebe77-5693-4e25-aa4c-c09861e707d9"
      },
      "source": [
        "(X_train, y_train), (X_test, y_test) = tf.keras.datasets.mnist.load_data()\n",
        "\n",
        "X_train, X_test = X_train/255.0, X_test/255.0\n",
        "\n",
        "from sklearn.model_selection import train_test_split\n",
        "X_train, X_valid, y_train, y_valid = train_test_split(X_train, y_train, test_size=0.1, random_state=1)\n",
        "\n",
        "print(\"> Shape of training set  : \", X_train.shape)\n",
        "print(\"> Shape of validation set: \", X_valid.shape)\n",
        "print(\"> Shape of testing set   : \", X_test.shape)"
      ],
      "execution_count": 7,
      "outputs": [
        {
          "output_type": "stream",
          "name": "stdout",
          "text": [
            "> Shape of training set  :  (54000, 28, 28)\n",
            "> Shape of validation set:  (6000, 28, 28)\n",
            "> Shape of testing set   :  (10000, 28, 28)\n"
          ]
        }
      ]
    },
    {
      "cell_type": "code",
      "metadata": {
        "colab": {
          "base_uri": "https://localhost:8080/"
        },
        "id": "fVE6imTT9xKP",
        "outputId": "3de13258-302a-4a32-aa27-d020083a837a"
      },
      "source": [
        "# init Adam optimizer\n",
        "optimizer = tf.keras.optimizers.Adam(learning_rate=1e-4, decay=1e-4/100)\n",
        "\n",
        "# compile model\n",
        "model.compile(loss = tf.keras.losses.sparse_categorical_crossentropy,\n",
        "              optimizer=optimizer,\n",
        "              metrics=['accuracy'])\n",
        "\n",
        "# fine-tune the model\n",
        "history = model.fit(X_train, y_train,\n",
        "                    batch_size=128,\n",
        "                    epochs=50,\n",
        "                    steps_per_epoch=X_train.shape[0]//128,\n",
        "                    validation_data=(X_valid, y_valid))"
      ],
      "execution_count": 8,
      "outputs": [
        {
          "output_type": "stream",
          "name": "stdout",
          "text": [
            "Epoch 1/50\n",
            "421/421 [==============================] - 4s 5ms/step - loss: 1.1569 - accuracy: 0.6595 - val_loss: 0.4201 - val_accuracy: 0.8742\n",
            "Epoch 2/50\n",
            "421/421 [==============================] - 2s 4ms/step - loss: 0.3190 - accuracy: 0.9070 - val_loss: 0.2649 - val_accuracy: 0.9185\n",
            "Epoch 3/50\n",
            "421/421 [==============================] - 2s 4ms/step - loss: 0.2170 - accuracy: 0.9372 - val_loss: 0.1940 - val_accuracy: 0.9422\n",
            "Epoch 4/50\n",
            "421/421 [==============================] - 2s 4ms/step - loss: 0.1618 - accuracy: 0.9518 - val_loss: 0.1527 - val_accuracy: 0.9567\n",
            "Epoch 5/50\n",
            "421/421 [==============================] - 2s 4ms/step - loss: 0.1295 - accuracy: 0.9618 - val_loss: 0.1296 - val_accuracy: 0.9618\n",
            "Epoch 6/50\n",
            "421/421 [==============================] - 2s 4ms/step - loss: 0.1070 - accuracy: 0.9681 - val_loss: 0.1098 - val_accuracy: 0.9672\n",
            "Epoch 7/50\n",
            "421/421 [==============================] - 2s 4ms/step - loss: 0.0941 - accuracy: 0.9718 - val_loss: 0.1014 - val_accuracy: 0.9715\n",
            "Epoch 8/50\n",
            "421/421 [==============================] - 2s 4ms/step - loss: 0.0833 - accuracy: 0.9748 - val_loss: 0.0963 - val_accuracy: 0.9715\n",
            "Epoch 9/50\n",
            "421/421 [==============================] - 2s 4ms/step - loss: 0.0766 - accuracy: 0.9771 - val_loss: 0.0883 - val_accuracy: 0.9745\n",
            "Epoch 10/50\n",
            "421/421 [==============================] - 2s 4ms/step - loss: 0.0687 - accuracy: 0.9794 - val_loss: 0.0784 - val_accuracy: 0.9783\n",
            "Epoch 11/50\n",
            "421/421 [==============================] - 2s 4ms/step - loss: 0.0651 - accuracy: 0.9799 - val_loss: 0.0788 - val_accuracy: 0.9780\n",
            "Epoch 12/50\n",
            "421/421 [==============================] - 2s 4ms/step - loss: 0.0601 - accuracy: 0.9817 - val_loss: 0.0744 - val_accuracy: 0.9788\n",
            "Epoch 13/50\n",
            "421/421 [==============================] - 2s 4ms/step - loss: 0.0579 - accuracy: 0.9828 - val_loss: 0.0701 - val_accuracy: 0.9808\n",
            "Epoch 14/50\n",
            "421/421 [==============================] - 2s 4ms/step - loss: 0.0537 - accuracy: 0.9836 - val_loss: 0.0684 - val_accuracy: 0.9815\n",
            "Epoch 15/50\n",
            "421/421 [==============================] - 2s 4ms/step - loss: 0.0512 - accuracy: 0.9844 - val_loss: 0.0648 - val_accuracy: 0.9803\n",
            "Epoch 16/50\n",
            "421/421 [==============================] - 2s 4ms/step - loss: 0.0484 - accuracy: 0.9854 - val_loss: 0.0631 - val_accuracy: 0.9818\n",
            "Epoch 17/50\n",
            "421/421 [==============================] - 2s 4ms/step - loss: 0.0462 - accuracy: 0.9857 - val_loss: 0.0615 - val_accuracy: 0.9830\n",
            "Epoch 18/50\n",
            "421/421 [==============================] - 2s 4ms/step - loss: 0.0447 - accuracy: 0.9862 - val_loss: 0.0617 - val_accuracy: 0.9828\n",
            "Epoch 19/50\n",
            "421/421 [==============================] - 2s 4ms/step - loss: 0.0425 - accuracy: 0.9875 - val_loss: 0.0586 - val_accuracy: 0.9840\n",
            "Epoch 20/50\n",
            "421/421 [==============================] - 2s 4ms/step - loss: 0.0401 - accuracy: 0.9877 - val_loss: 0.0594 - val_accuracy: 0.9832\n",
            "Epoch 21/50\n",
            "421/421 [==============================] - 2s 4ms/step - loss: 0.0385 - accuracy: 0.9883 - val_loss: 0.0582 - val_accuracy: 0.9837\n",
            "Epoch 22/50\n",
            "421/421 [==============================] - 2s 4ms/step - loss: 0.0379 - accuracy: 0.9884 - val_loss: 0.0596 - val_accuracy: 0.9823\n",
            "Epoch 23/50\n",
            "421/421 [==============================] - 2s 4ms/step - loss: 0.0353 - accuracy: 0.9893 - val_loss: 0.0542 - val_accuracy: 0.9837\n",
            "Epoch 24/50\n",
            "421/421 [==============================] - 2s 4ms/step - loss: 0.0346 - accuracy: 0.9895 - val_loss: 0.0542 - val_accuracy: 0.9843\n",
            "Epoch 25/50\n",
            "421/421 [==============================] - 2s 4ms/step - loss: 0.0331 - accuracy: 0.9899 - val_loss: 0.0522 - val_accuracy: 0.9852\n",
            "Epoch 26/50\n",
            "421/421 [==============================] - 2s 4ms/step - loss: 0.0317 - accuracy: 0.9906 - val_loss: 0.0521 - val_accuracy: 0.9860\n",
            "Epoch 27/50\n",
            "421/421 [==============================] - 2s 4ms/step - loss: 0.0308 - accuracy: 0.9906 - val_loss: 0.0516 - val_accuracy: 0.9858\n",
            "Epoch 28/50\n",
            "421/421 [==============================] - 2s 4ms/step - loss: 0.0292 - accuracy: 0.9912 - val_loss: 0.0564 - val_accuracy: 0.9840\n",
            "Epoch 29/50\n",
            "421/421 [==============================] - 2s 4ms/step - loss: 0.0280 - accuracy: 0.9914 - val_loss: 0.0524 - val_accuracy: 0.9855\n",
            "Epoch 30/50\n",
            "421/421 [==============================] - 2s 4ms/step - loss: 0.0270 - accuracy: 0.9920 - val_loss: 0.0523 - val_accuracy: 0.9863\n",
            "Epoch 31/50\n",
            "421/421 [==============================] - 2s 4ms/step - loss: 0.0270 - accuracy: 0.9916 - val_loss: 0.0475 - val_accuracy: 0.9862\n",
            "Epoch 32/50\n",
            "421/421 [==============================] - 2s 4ms/step - loss: 0.0243 - accuracy: 0.9927 - val_loss: 0.0526 - val_accuracy: 0.9855\n",
            "Epoch 33/50\n",
            "421/421 [==============================] - 2s 4ms/step - loss: 0.0242 - accuracy: 0.9927 - val_loss: 0.0510 - val_accuracy: 0.9857\n",
            "Epoch 34/50\n",
            "421/421 [==============================] - 2s 4ms/step - loss: 0.0241 - accuracy: 0.9928 - val_loss: 0.0531 - val_accuracy: 0.9852\n",
            "Epoch 35/50\n",
            "421/421 [==============================] - 2s 4ms/step - loss: 0.0224 - accuracy: 0.9929 - val_loss: 0.0508 - val_accuracy: 0.9865\n",
            "Epoch 36/50\n",
            "421/421 [==============================] - 2s 4ms/step - loss: 0.0221 - accuracy: 0.9931 - val_loss: 0.0487 - val_accuracy: 0.9862\n",
            "Epoch 37/50\n",
            "421/421 [==============================] - 2s 4ms/step - loss: 0.0209 - accuracy: 0.9934 - val_loss: 0.0501 - val_accuracy: 0.9868\n",
            "Epoch 38/50\n",
            "421/421 [==============================] - 2s 4ms/step - loss: 0.0207 - accuracy: 0.9938 - val_loss: 0.0505 - val_accuracy: 0.9865\n",
            "Epoch 39/50\n",
            "421/421 [==============================] - 2s 4ms/step - loss: 0.0186 - accuracy: 0.9945 - val_loss: 0.0556 - val_accuracy: 0.9862\n",
            "Epoch 40/50\n",
            "421/421 [==============================] - 2s 4ms/step - loss: 0.0194 - accuracy: 0.9941 - val_loss: 0.0478 - val_accuracy: 0.9875\n",
            "Epoch 41/50\n",
            "421/421 [==============================] - 2s 4ms/step - loss: 0.0177 - accuracy: 0.9946 - val_loss: 0.0509 - val_accuracy: 0.9853\n",
            "Epoch 42/50\n",
            "421/421 [==============================] - 2s 4ms/step - loss: 0.0166 - accuracy: 0.9952 - val_loss: 0.0543 - val_accuracy: 0.9860\n",
            "Epoch 43/50\n",
            "421/421 [==============================] - 2s 4ms/step - loss: 0.0167 - accuracy: 0.9947 - val_loss: 0.0480 - val_accuracy: 0.9878\n",
            "Epoch 44/50\n",
            "421/421 [==============================] - 2s 4ms/step - loss: 0.0162 - accuracy: 0.9952 - val_loss: 0.0495 - val_accuracy: 0.9862\n",
            "Epoch 45/50\n",
            "421/421 [==============================] - 2s 4ms/step - loss: 0.0151 - accuracy: 0.9954 - val_loss: 0.0509 - val_accuracy: 0.9870\n",
            "Epoch 46/50\n",
            "421/421 [==============================] - 2s 4ms/step - loss: 0.0147 - accuracy: 0.9957 - val_loss: 0.0522 - val_accuracy: 0.9865\n",
            "Epoch 47/50\n",
            "421/421 [==============================] - 2s 4ms/step - loss: 0.0141 - accuracy: 0.9960 - val_loss: 0.0508 - val_accuracy: 0.9872\n",
            "Epoch 48/50\n",
            "421/421 [==============================] - 2s 4ms/step - loss: 0.0133 - accuracy: 0.9963 - val_loss: 0.0542 - val_accuracy: 0.9863\n",
            "Epoch 49/50\n",
            "421/421 [==============================] - 2s 4ms/step - loss: 0.0134 - accuracy: 0.9962 - val_loss: 0.0520 - val_accuracy: 0.9873\n",
            "Epoch 50/50\n",
            "421/421 [==============================] - 2s 4ms/step - loss: 0.0129 - accuracy: 0.9963 - val_loss: 0.0546 - val_accuracy: 0.9853\n"
          ]
        }
      ]
    },
    {
      "cell_type": "code",
      "metadata": {
        "colab": {
          "base_uri": "https://localhost:8080/"
        },
        "id": "hCyQgKS3ARAM",
        "outputId": "ecd5e8d3-a441-4196-8d02-41701faef49a"
      },
      "source": [
        "evaluation = model.evaluate(X_test, y_test)\n",
        "print(\"Accuracy of model on MNIST dataset: {}, and loss: {}.\".format(evaluation[1], evaluation[0]))"
      ],
      "execution_count": 9,
      "outputs": [
        {
          "output_type": "stream",
          "name": "stdout",
          "text": [
            "313/313 [==============================] - 1s 2ms/step - loss: 0.0326 - accuracy: 0.9889\n",
            "Accuracy of model on MNIST dataset: 0.9889000058174133, and loss: 0.03259352967143059.\n"
          ]
        }
      ]
    }
  ]
}